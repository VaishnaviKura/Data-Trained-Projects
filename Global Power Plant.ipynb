{
 "cells": [
  {
   "cell_type": "markdown",
   "metadata": {},
   "source": [
    "Global Power Plant"
   ]
  },
  {
   "cell_type": "code",
   "execution_count": 1,
   "metadata": {},
   "outputs": [],
   "source": [
    "import pandas as pd\n",
    "import numpy as np\n",
    "import seaborn as sns\n",
    "import matplotlib.pyplot as plt\n",
    "import warnings\n",
    "warnings.filterwarnings('ignore')"
   ]
  },
  {
   "cell_type": "code",
   "execution_count": 2,
   "metadata": {},
   "outputs": [
    {
     "data": {
      "text/html": [
       "<div>\n",
       "<style scoped>\n",
       "    .dataframe tbody tr th:only-of-type {\n",
       "        vertical-align: middle;\n",
       "    }\n",
       "\n",
       "    .dataframe tbody tr th {\n",
       "        vertical-align: top;\n",
       "    }\n",
       "\n",
       "    .dataframe thead th {\n",
       "        text-align: right;\n",
       "    }\n",
       "</style>\n",
       "<table border=\"1\" class=\"dataframe\">\n",
       "  <thead>\n",
       "    <tr style=\"text-align: right;\">\n",
       "      <th></th>\n",
       "      <th>country</th>\n",
       "      <th>country_long</th>\n",
       "      <th>name</th>\n",
       "      <th>gppd_idnr</th>\n",
       "      <th>capacity_mw</th>\n",
       "      <th>latitude</th>\n",
       "      <th>longitude</th>\n",
       "      <th>primary_fuel</th>\n",
       "      <th>other_fuel1</th>\n",
       "      <th>other_fuel2</th>\n",
       "      <th>...</th>\n",
       "      <th>geolocation_source</th>\n",
       "      <th>wepp_id</th>\n",
       "      <th>year_of_capacity_data</th>\n",
       "      <th>generation_gwh_2013</th>\n",
       "      <th>generation_gwh_2014</th>\n",
       "      <th>generation_gwh_2015</th>\n",
       "      <th>generation_gwh_2016</th>\n",
       "      <th>generation_gwh_2017</th>\n",
       "      <th>generation_data_source</th>\n",
       "      <th>estimated_generation_gwh</th>\n",
       "    </tr>\n",
       "  </thead>\n",
       "  <tbody>\n",
       "    <tr>\n",
       "      <th>0</th>\n",
       "      <td>IND</td>\n",
       "      <td>India</td>\n",
       "      <td>ACME Solar Tower</td>\n",
       "      <td>WRI1020239</td>\n",
       "      <td>2.5</td>\n",
       "      <td>28.1839</td>\n",
       "      <td>73.2407</td>\n",
       "      <td>Solar</td>\n",
       "      <td>NaN</td>\n",
       "      <td>NaN</td>\n",
       "      <td>...</td>\n",
       "      <td>National Renewable Energy Laboratory</td>\n",
       "      <td>NaN</td>\n",
       "      <td>NaN</td>\n",
       "      <td>NaN</td>\n",
       "      <td>NaN</td>\n",
       "      <td>NaN</td>\n",
       "      <td>NaN</td>\n",
       "      <td>NaN</td>\n",
       "      <td>NaN</td>\n",
       "      <td>NaN</td>\n",
       "    </tr>\n",
       "    <tr>\n",
       "      <th>1</th>\n",
       "      <td>IND</td>\n",
       "      <td>India</td>\n",
       "      <td>ADITYA CEMENT WORKS</td>\n",
       "      <td>WRI1019881</td>\n",
       "      <td>98.0</td>\n",
       "      <td>24.7663</td>\n",
       "      <td>74.6090</td>\n",
       "      <td>Coal</td>\n",
       "      <td>NaN</td>\n",
       "      <td>NaN</td>\n",
       "      <td>...</td>\n",
       "      <td>WRI</td>\n",
       "      <td>NaN</td>\n",
       "      <td>NaN</td>\n",
       "      <td>NaN</td>\n",
       "      <td>NaN</td>\n",
       "      <td>NaN</td>\n",
       "      <td>NaN</td>\n",
       "      <td>NaN</td>\n",
       "      <td>NaN</td>\n",
       "      <td>NaN</td>\n",
       "    </tr>\n",
       "    <tr>\n",
       "      <th>2</th>\n",
       "      <td>IND</td>\n",
       "      <td>India</td>\n",
       "      <td>AES Saurashtra Windfarms</td>\n",
       "      <td>WRI1026669</td>\n",
       "      <td>39.2</td>\n",
       "      <td>21.9038</td>\n",
       "      <td>69.3732</td>\n",
       "      <td>Wind</td>\n",
       "      <td>NaN</td>\n",
       "      <td>NaN</td>\n",
       "      <td>...</td>\n",
       "      <td>WRI</td>\n",
       "      <td>NaN</td>\n",
       "      <td>NaN</td>\n",
       "      <td>NaN</td>\n",
       "      <td>NaN</td>\n",
       "      <td>NaN</td>\n",
       "      <td>NaN</td>\n",
       "      <td>NaN</td>\n",
       "      <td>NaN</td>\n",
       "      <td>NaN</td>\n",
       "    </tr>\n",
       "    <tr>\n",
       "      <th>3</th>\n",
       "      <td>IND</td>\n",
       "      <td>India</td>\n",
       "      <td>AGARTALA GT</td>\n",
       "      <td>IND0000001</td>\n",
       "      <td>135.0</td>\n",
       "      <td>23.8712</td>\n",
       "      <td>91.3602</td>\n",
       "      <td>Gas</td>\n",
       "      <td>NaN</td>\n",
       "      <td>NaN</td>\n",
       "      <td>...</td>\n",
       "      <td>WRI</td>\n",
       "      <td>NaN</td>\n",
       "      <td>2018.0</td>\n",
       "      <td>631.777928</td>\n",
       "      <td>617.789264</td>\n",
       "      <td>843.747000</td>\n",
       "      <td>886.004428</td>\n",
       "      <td>663.774500</td>\n",
       "      <td>Central Electricity Authority</td>\n",
       "      <td>NaN</td>\n",
       "    </tr>\n",
       "    <tr>\n",
       "      <th>4</th>\n",
       "      <td>IND</td>\n",
       "      <td>India</td>\n",
       "      <td>AKALTARA TPP</td>\n",
       "      <td>IND0000002</td>\n",
       "      <td>1800.0</td>\n",
       "      <td>21.9603</td>\n",
       "      <td>82.4091</td>\n",
       "      <td>Coal</td>\n",
       "      <td>Oil</td>\n",
       "      <td>NaN</td>\n",
       "      <td>...</td>\n",
       "      <td>WRI</td>\n",
       "      <td>NaN</td>\n",
       "      <td>2018.0</td>\n",
       "      <td>1668.290000</td>\n",
       "      <td>3035.550000</td>\n",
       "      <td>5916.370000</td>\n",
       "      <td>6243.000000</td>\n",
       "      <td>5385.579736</td>\n",
       "      <td>Central Electricity Authority</td>\n",
       "      <td>NaN</td>\n",
       "    </tr>\n",
       "    <tr>\n",
       "      <th>...</th>\n",
       "      <td>...</td>\n",
       "      <td>...</td>\n",
       "      <td>...</td>\n",
       "      <td>...</td>\n",
       "      <td>...</td>\n",
       "      <td>...</td>\n",
       "      <td>...</td>\n",
       "      <td>...</td>\n",
       "      <td>...</td>\n",
       "      <td>...</td>\n",
       "      <td>...</td>\n",
       "      <td>...</td>\n",
       "      <td>...</td>\n",
       "      <td>...</td>\n",
       "      <td>...</td>\n",
       "      <td>...</td>\n",
       "      <td>...</td>\n",
       "      <td>...</td>\n",
       "      <td>...</td>\n",
       "      <td>...</td>\n",
       "      <td>...</td>\n",
       "    </tr>\n",
       "    <tr>\n",
       "      <th>903</th>\n",
       "      <td>IND</td>\n",
       "      <td>India</td>\n",
       "      <td>YERMARUS TPP</td>\n",
       "      <td>IND0000513</td>\n",
       "      <td>1600.0</td>\n",
       "      <td>16.2949</td>\n",
       "      <td>77.3568</td>\n",
       "      <td>Coal</td>\n",
       "      <td>Oil</td>\n",
       "      <td>NaN</td>\n",
       "      <td>...</td>\n",
       "      <td>WRI</td>\n",
       "      <td>NaN</td>\n",
       "      <td>2018.0</td>\n",
       "      <td>NaN</td>\n",
       "      <td>NaN</td>\n",
       "      <td>0.994875</td>\n",
       "      <td>233.596650</td>\n",
       "      <td>865.400000</td>\n",
       "      <td>Central Electricity Authority</td>\n",
       "      <td>NaN</td>\n",
       "    </tr>\n",
       "    <tr>\n",
       "      <th>904</th>\n",
       "      <td>IND</td>\n",
       "      <td>India</td>\n",
       "      <td>Yelesandra Solar Power Plant</td>\n",
       "      <td>WRI1026222</td>\n",
       "      <td>3.0</td>\n",
       "      <td>12.8932</td>\n",
       "      <td>78.1654</td>\n",
       "      <td>Solar</td>\n",
       "      <td>NaN</td>\n",
       "      <td>NaN</td>\n",
       "      <td>...</td>\n",
       "      <td>Industry About</td>\n",
       "      <td>NaN</td>\n",
       "      <td>NaN</td>\n",
       "      <td>NaN</td>\n",
       "      <td>NaN</td>\n",
       "      <td>NaN</td>\n",
       "      <td>NaN</td>\n",
       "      <td>NaN</td>\n",
       "      <td>NaN</td>\n",
       "      <td>NaN</td>\n",
       "    </tr>\n",
       "    <tr>\n",
       "      <th>905</th>\n",
       "      <td>IND</td>\n",
       "      <td>India</td>\n",
       "      <td>Yelisirur wind power project</td>\n",
       "      <td>WRI1026776</td>\n",
       "      <td>25.5</td>\n",
       "      <td>15.2758</td>\n",
       "      <td>75.5811</td>\n",
       "      <td>Wind</td>\n",
       "      <td>NaN</td>\n",
       "      <td>NaN</td>\n",
       "      <td>...</td>\n",
       "      <td>WRI</td>\n",
       "      <td>NaN</td>\n",
       "      <td>NaN</td>\n",
       "      <td>NaN</td>\n",
       "      <td>NaN</td>\n",
       "      <td>NaN</td>\n",
       "      <td>NaN</td>\n",
       "      <td>NaN</td>\n",
       "      <td>NaN</td>\n",
       "      <td>NaN</td>\n",
       "    </tr>\n",
       "    <tr>\n",
       "      <th>906</th>\n",
       "      <td>IND</td>\n",
       "      <td>India</td>\n",
       "      <td>ZAWAR MINES</td>\n",
       "      <td>WRI1019901</td>\n",
       "      <td>80.0</td>\n",
       "      <td>24.3500</td>\n",
       "      <td>73.7477</td>\n",
       "      <td>Coal</td>\n",
       "      <td>NaN</td>\n",
       "      <td>NaN</td>\n",
       "      <td>...</td>\n",
       "      <td>WRI</td>\n",
       "      <td>NaN</td>\n",
       "      <td>NaN</td>\n",
       "      <td>NaN</td>\n",
       "      <td>NaN</td>\n",
       "      <td>NaN</td>\n",
       "      <td>NaN</td>\n",
       "      <td>NaN</td>\n",
       "      <td>NaN</td>\n",
       "      <td>NaN</td>\n",
       "    </tr>\n",
       "    <tr>\n",
       "      <th>907</th>\n",
       "      <td>IND</td>\n",
       "      <td>India</td>\n",
       "      <td>iEnergy Theni Wind Farm</td>\n",
       "      <td>WRI1026761</td>\n",
       "      <td>16.5</td>\n",
       "      <td>9.9344</td>\n",
       "      <td>77.4768</td>\n",
       "      <td>Wind</td>\n",
       "      <td>NaN</td>\n",
       "      <td>NaN</td>\n",
       "      <td>...</td>\n",
       "      <td>WRI</td>\n",
       "      <td>NaN</td>\n",
       "      <td>NaN</td>\n",
       "      <td>NaN</td>\n",
       "      <td>NaN</td>\n",
       "      <td>NaN</td>\n",
       "      <td>NaN</td>\n",
       "      <td>NaN</td>\n",
       "      <td>NaN</td>\n",
       "      <td>NaN</td>\n",
       "    </tr>\n",
       "  </tbody>\n",
       "</table>\n",
       "<p>908 rows × 25 columns</p>\n",
       "</div>"
      ],
      "text/plain": [
       "    country country_long                          name   gppd_idnr  \\\n",
       "0       IND        India              ACME Solar Tower  WRI1020239   \n",
       "1       IND        India           ADITYA CEMENT WORKS  WRI1019881   \n",
       "2       IND        India      AES Saurashtra Windfarms  WRI1026669   \n",
       "3       IND        India                   AGARTALA GT  IND0000001   \n",
       "4       IND        India                  AKALTARA TPP  IND0000002   \n",
       "..      ...          ...                           ...         ...   \n",
       "903     IND        India                  YERMARUS TPP  IND0000513   \n",
       "904     IND        India  Yelesandra Solar Power Plant  WRI1026222   \n",
       "905     IND        India  Yelisirur wind power project  WRI1026776   \n",
       "906     IND        India                   ZAWAR MINES  WRI1019901   \n",
       "907     IND        India       iEnergy Theni Wind Farm  WRI1026761   \n",
       "\n",
       "     capacity_mw  latitude  longitude primary_fuel other_fuel1 other_fuel2  \\\n",
       "0            2.5   28.1839    73.2407        Solar         NaN         NaN   \n",
       "1           98.0   24.7663    74.6090         Coal         NaN         NaN   \n",
       "2           39.2   21.9038    69.3732         Wind         NaN         NaN   \n",
       "3          135.0   23.8712    91.3602          Gas         NaN         NaN   \n",
       "4         1800.0   21.9603    82.4091         Coal         Oil         NaN   \n",
       "..           ...       ...        ...          ...         ...         ...   \n",
       "903       1600.0   16.2949    77.3568         Coal         Oil         NaN   \n",
       "904          3.0   12.8932    78.1654        Solar         NaN         NaN   \n",
       "905         25.5   15.2758    75.5811         Wind         NaN         NaN   \n",
       "906         80.0   24.3500    73.7477         Coal         NaN         NaN   \n",
       "907         16.5    9.9344    77.4768         Wind         NaN         NaN   \n",
       "\n",
       "     ...                    geolocation_source  wepp_id year_of_capacity_data  \\\n",
       "0    ...  National Renewable Energy Laboratory      NaN                   NaN   \n",
       "1    ...                                   WRI      NaN                   NaN   \n",
       "2    ...                                   WRI      NaN                   NaN   \n",
       "3    ...                                   WRI      NaN                2018.0   \n",
       "4    ...                                   WRI      NaN                2018.0   \n",
       "..   ...                                   ...      ...                   ...   \n",
       "903  ...                                   WRI      NaN                2018.0   \n",
       "904  ...                        Industry About      NaN                   NaN   \n",
       "905  ...                                   WRI      NaN                   NaN   \n",
       "906  ...                                   WRI      NaN                   NaN   \n",
       "907  ...                                   WRI      NaN                   NaN   \n",
       "\n",
       "    generation_gwh_2013 generation_gwh_2014 generation_gwh_2015  \\\n",
       "0                   NaN                 NaN                 NaN   \n",
       "1                   NaN                 NaN                 NaN   \n",
       "2                   NaN                 NaN                 NaN   \n",
       "3            631.777928          617.789264          843.747000   \n",
       "4           1668.290000         3035.550000         5916.370000   \n",
       "..                  ...                 ...                 ...   \n",
       "903                 NaN                 NaN            0.994875   \n",
       "904                 NaN                 NaN                 NaN   \n",
       "905                 NaN                 NaN                 NaN   \n",
       "906                 NaN                 NaN                 NaN   \n",
       "907                 NaN                 NaN                 NaN   \n",
       "\n",
       "     generation_gwh_2016  generation_gwh_2017         generation_data_source  \\\n",
       "0                    NaN                  NaN                            NaN   \n",
       "1                    NaN                  NaN                            NaN   \n",
       "2                    NaN                  NaN                            NaN   \n",
       "3             886.004428           663.774500  Central Electricity Authority   \n",
       "4            6243.000000          5385.579736  Central Electricity Authority   \n",
       "..                   ...                  ...                            ...   \n",
       "903           233.596650           865.400000  Central Electricity Authority   \n",
       "904                  NaN                  NaN                            NaN   \n",
       "905                  NaN                  NaN                            NaN   \n",
       "906                  NaN                  NaN                            NaN   \n",
       "907                  NaN                  NaN                            NaN   \n",
       "\n",
       "     estimated_generation_gwh  \n",
       "0                         NaN  \n",
       "1                         NaN  \n",
       "2                         NaN  \n",
       "3                         NaN  \n",
       "4                         NaN  \n",
       "..                        ...  \n",
       "903                       NaN  \n",
       "904                       NaN  \n",
       "905                       NaN  \n",
       "906                       NaN  \n",
       "907                       NaN  \n",
       "\n",
       "[908 rows x 25 columns]"
      ]
     },
     "execution_count": 2,
     "metadata": {},
     "output_type": "execute_result"
    }
   ],
   "source": [
    "data= pd.read_csv(\"https://raw.githubusercontent.com/wri/global-power-plant-database/master/source_databases_csv/database_IND.csv\")\n",
    "data"
   ]
  },
  {
   "cell_type": "code",
   "execution_count": 3,
   "metadata": {
    "scrolled": true
   },
   "outputs": [
    {
     "data": {
      "text/html": [
       "<div>\n",
       "<style scoped>\n",
       "    .dataframe tbody tr th:only-of-type {\n",
       "        vertical-align: middle;\n",
       "    }\n",
       "\n",
       "    .dataframe tbody tr th {\n",
       "        vertical-align: top;\n",
       "    }\n",
       "\n",
       "    .dataframe thead th {\n",
       "        text-align: right;\n",
       "    }\n",
       "</style>\n",
       "<table border=\"1\" class=\"dataframe\">\n",
       "  <thead>\n",
       "    <tr style=\"text-align: right;\">\n",
       "      <th></th>\n",
       "      <th>country</th>\n",
       "      <th>country_long</th>\n",
       "      <th>name</th>\n",
       "      <th>gppd_idnr</th>\n",
       "      <th>capacity_mw</th>\n",
       "      <th>latitude</th>\n",
       "      <th>longitude</th>\n",
       "      <th>primary_fuel</th>\n",
       "      <th>other_fuel1</th>\n",
       "      <th>other_fuel2</th>\n",
       "      <th>...</th>\n",
       "      <th>geolocation_source</th>\n",
       "      <th>wepp_id</th>\n",
       "      <th>year_of_capacity_data</th>\n",
       "      <th>generation_gwh_2013</th>\n",
       "      <th>generation_gwh_2014</th>\n",
       "      <th>generation_gwh_2015</th>\n",
       "      <th>generation_gwh_2016</th>\n",
       "      <th>generation_gwh_2017</th>\n",
       "      <th>generation_data_source</th>\n",
       "      <th>estimated_generation_gwh</th>\n",
       "    </tr>\n",
       "  </thead>\n",
       "  <tbody>\n",
       "    <tr>\n",
       "      <th>0</th>\n",
       "      <td>IND</td>\n",
       "      <td>India</td>\n",
       "      <td>ACME Solar Tower</td>\n",
       "      <td>WRI1020239</td>\n",
       "      <td>2.5</td>\n",
       "      <td>28.1839</td>\n",
       "      <td>73.2407</td>\n",
       "      <td>Solar</td>\n",
       "      <td>NaN</td>\n",
       "      <td>NaN</td>\n",
       "      <td>...</td>\n",
       "      <td>National Renewable Energy Laboratory</td>\n",
       "      <td>NaN</td>\n",
       "      <td>NaN</td>\n",
       "      <td>NaN</td>\n",
       "      <td>NaN</td>\n",
       "      <td>NaN</td>\n",
       "      <td>NaN</td>\n",
       "      <td>NaN</td>\n",
       "      <td>NaN</td>\n",
       "      <td>NaN</td>\n",
       "    </tr>\n",
       "    <tr>\n",
       "      <th>1</th>\n",
       "      <td>IND</td>\n",
       "      <td>India</td>\n",
       "      <td>ADITYA CEMENT WORKS</td>\n",
       "      <td>WRI1019881</td>\n",
       "      <td>98.0</td>\n",
       "      <td>24.7663</td>\n",
       "      <td>74.6090</td>\n",
       "      <td>Coal</td>\n",
       "      <td>NaN</td>\n",
       "      <td>NaN</td>\n",
       "      <td>...</td>\n",
       "      <td>WRI</td>\n",
       "      <td>NaN</td>\n",
       "      <td>NaN</td>\n",
       "      <td>NaN</td>\n",
       "      <td>NaN</td>\n",
       "      <td>NaN</td>\n",
       "      <td>NaN</td>\n",
       "      <td>NaN</td>\n",
       "      <td>NaN</td>\n",
       "      <td>NaN</td>\n",
       "    </tr>\n",
       "    <tr>\n",
       "      <th>2</th>\n",
       "      <td>IND</td>\n",
       "      <td>India</td>\n",
       "      <td>AES Saurashtra Windfarms</td>\n",
       "      <td>WRI1026669</td>\n",
       "      <td>39.2</td>\n",
       "      <td>21.9038</td>\n",
       "      <td>69.3732</td>\n",
       "      <td>Wind</td>\n",
       "      <td>NaN</td>\n",
       "      <td>NaN</td>\n",
       "      <td>...</td>\n",
       "      <td>WRI</td>\n",
       "      <td>NaN</td>\n",
       "      <td>NaN</td>\n",
       "      <td>NaN</td>\n",
       "      <td>NaN</td>\n",
       "      <td>NaN</td>\n",
       "      <td>NaN</td>\n",
       "      <td>NaN</td>\n",
       "      <td>NaN</td>\n",
       "      <td>NaN</td>\n",
       "    </tr>\n",
       "    <tr>\n",
       "      <th>3</th>\n",
       "      <td>IND</td>\n",
       "      <td>India</td>\n",
       "      <td>AGARTALA GT</td>\n",
       "      <td>IND0000001</td>\n",
       "      <td>135.0</td>\n",
       "      <td>23.8712</td>\n",
       "      <td>91.3602</td>\n",
       "      <td>Gas</td>\n",
       "      <td>NaN</td>\n",
       "      <td>NaN</td>\n",
       "      <td>...</td>\n",
       "      <td>WRI</td>\n",
       "      <td>NaN</td>\n",
       "      <td>2018.0</td>\n",
       "      <td>631.777928</td>\n",
       "      <td>617.789264</td>\n",
       "      <td>843.747</td>\n",
       "      <td>886.004428</td>\n",
       "      <td>663.774500</td>\n",
       "      <td>Central Electricity Authority</td>\n",
       "      <td>NaN</td>\n",
       "    </tr>\n",
       "    <tr>\n",
       "      <th>4</th>\n",
       "      <td>IND</td>\n",
       "      <td>India</td>\n",
       "      <td>AKALTARA TPP</td>\n",
       "      <td>IND0000002</td>\n",
       "      <td>1800.0</td>\n",
       "      <td>21.9603</td>\n",
       "      <td>82.4091</td>\n",
       "      <td>Coal</td>\n",
       "      <td>Oil</td>\n",
       "      <td>NaN</td>\n",
       "      <td>...</td>\n",
       "      <td>WRI</td>\n",
       "      <td>NaN</td>\n",
       "      <td>2018.0</td>\n",
       "      <td>1668.290000</td>\n",
       "      <td>3035.550000</td>\n",
       "      <td>5916.370</td>\n",
       "      <td>6243.000000</td>\n",
       "      <td>5385.579736</td>\n",
       "      <td>Central Electricity Authority</td>\n",
       "      <td>NaN</td>\n",
       "    </tr>\n",
       "  </tbody>\n",
       "</table>\n",
       "<p>5 rows × 25 columns</p>\n",
       "</div>"
      ],
      "text/plain": [
       "  country country_long                      name   gppd_idnr  capacity_mw  \\\n",
       "0     IND        India          ACME Solar Tower  WRI1020239          2.5   \n",
       "1     IND        India       ADITYA CEMENT WORKS  WRI1019881         98.0   \n",
       "2     IND        India  AES Saurashtra Windfarms  WRI1026669         39.2   \n",
       "3     IND        India               AGARTALA GT  IND0000001        135.0   \n",
       "4     IND        India              AKALTARA TPP  IND0000002       1800.0   \n",
       "\n",
       "   latitude  longitude primary_fuel other_fuel1 other_fuel2  ...  \\\n",
       "0   28.1839    73.2407        Solar         NaN         NaN  ...   \n",
       "1   24.7663    74.6090         Coal         NaN         NaN  ...   \n",
       "2   21.9038    69.3732         Wind         NaN         NaN  ...   \n",
       "3   23.8712    91.3602          Gas         NaN         NaN  ...   \n",
       "4   21.9603    82.4091         Coal         Oil         NaN  ...   \n",
       "\n",
       "                     geolocation_source  wepp_id year_of_capacity_data  \\\n",
       "0  National Renewable Energy Laboratory      NaN                   NaN   \n",
       "1                                   WRI      NaN                   NaN   \n",
       "2                                   WRI      NaN                   NaN   \n",
       "3                                   WRI      NaN                2018.0   \n",
       "4                                   WRI      NaN                2018.0   \n",
       "\n",
       "  generation_gwh_2013 generation_gwh_2014 generation_gwh_2015  \\\n",
       "0                 NaN                 NaN                 NaN   \n",
       "1                 NaN                 NaN                 NaN   \n",
       "2                 NaN                 NaN                 NaN   \n",
       "3          631.777928          617.789264             843.747   \n",
       "4         1668.290000         3035.550000            5916.370   \n",
       "\n",
       "   generation_gwh_2016  generation_gwh_2017         generation_data_source  \\\n",
       "0                  NaN                  NaN                            NaN   \n",
       "1                  NaN                  NaN                            NaN   \n",
       "2                  NaN                  NaN                            NaN   \n",
       "3           886.004428           663.774500  Central Electricity Authority   \n",
       "4          6243.000000          5385.579736  Central Electricity Authority   \n",
       "\n",
       "   estimated_generation_gwh  \n",
       "0                       NaN  \n",
       "1                       NaN  \n",
       "2                       NaN  \n",
       "3                       NaN  \n",
       "4                       NaN  \n",
       "\n",
       "[5 rows x 25 columns]"
      ]
     },
     "execution_count": 3,
     "metadata": {},
     "output_type": "execute_result"
    }
   ],
   "source": [
    "data.head()"
   ]
  },
  {
   "cell_type": "markdown",
   "metadata": {},
   "source": [
    "In this particular problem we have two targets & have to find out predictions for Fuel type and capacity_mw.\n",
    "\n",
    "a) If we consider Fuel type as target then i have to take classification models to predict.\n",
    "\n",
    "b) If we consider capacity_mw as target then i have to take Regression models to predict."
   ]
  },
  {
   "cell_type": "code",
   "execution_count": 4,
   "metadata": {},
   "outputs": [],
   "source": [
    "# now let us consider fuel name as Fuel type as we have predict Fuel type as per problem\n",
    "data.rename(columns={'primary_fuel':'Fuel_type'},inplace=True)"
   ]
  },
  {
   "cell_type": "code",
   "execution_count": 5,
   "metadata": {},
   "outputs": [
    {
     "data": {
      "text/plain": [
       "(908, 25)"
      ]
     },
     "execution_count": 5,
     "metadata": {},
     "output_type": "execute_result"
    }
   ],
   "source": [
    "# EDA\n",
    "\n",
    "data.shape #Shape of the data set"
   ]
  },
  {
   "cell_type": "code",
   "execution_count": 6,
   "metadata": {},
   "outputs": [
    {
     "data": {
      "text/plain": [
       "Index(['country', 'country_long', 'name', 'gppd_idnr', 'capacity_mw',\n",
       "       'latitude', 'longitude', 'Fuel_type', 'other_fuel1', 'other_fuel2',\n",
       "       'other_fuel3', 'commissioning_year', 'owner', 'source', 'url',\n",
       "       'geolocation_source', 'wepp_id', 'year_of_capacity_data',\n",
       "       'generation_gwh_2013', 'generation_gwh_2014', 'generation_gwh_2015',\n",
       "       'generation_gwh_2016', 'generation_gwh_2017', 'generation_data_source',\n",
       "       'estimated_generation_gwh'],\n",
       "      dtype='object')"
      ]
     },
     "execution_count": 6,
     "metadata": {},
     "output_type": "execute_result"
    }
   ],
   "source": [
    "data.columns"
   ]
  },
  {
   "cell_type": "code",
   "execution_count": 7,
   "metadata": {},
   "outputs": [
    {
     "data": {
      "text/plain": [
       "country                      object\n",
       "country_long                 object\n",
       "name                         object\n",
       "gppd_idnr                    object\n",
       "capacity_mw                 float64\n",
       "latitude                    float64\n",
       "longitude                   float64\n",
       "Fuel_type                    object\n",
       "other_fuel1                  object\n",
       "other_fuel2                  object\n",
       "other_fuel3                 float64\n",
       "commissioning_year          float64\n",
       "owner                        object\n",
       "source                       object\n",
       "url                          object\n",
       "geolocation_source           object\n",
       "wepp_id                     float64\n",
       "year_of_capacity_data       float64\n",
       "generation_gwh_2013         float64\n",
       "generation_gwh_2014         float64\n",
       "generation_gwh_2015         float64\n",
       "generation_gwh_2016         float64\n",
       "generation_gwh_2017         float64\n",
       "generation_data_source       object\n",
       "estimated_generation_gwh    float64\n",
       "dtype: object"
      ]
     },
     "execution_count": 7,
     "metadata": {},
     "output_type": "execute_result"
    }
   ],
   "source": [
    "data.dtypes"
   ]
  },
  {
   "cell_type": "code",
   "execution_count": 8,
   "metadata": {},
   "outputs": [
    {
     "name": "stdout",
     "output_type": "stream",
     "text": [
      "<class 'pandas.core.frame.DataFrame'>\n",
      "RangeIndex: 908 entries, 0 to 907\n",
      "Data columns (total 25 columns):\n",
      " #   Column                    Non-Null Count  Dtype  \n",
      "---  ------                    --------------  -----  \n",
      " 0   country                   908 non-null    object \n",
      " 1   country_long              908 non-null    object \n",
      " 2   name                      908 non-null    object \n",
      " 3   gppd_idnr                 908 non-null    object \n",
      " 4   capacity_mw               908 non-null    float64\n",
      " 5   latitude                  862 non-null    float64\n",
      " 6   longitude                 862 non-null    float64\n",
      " 7   Fuel_type                 908 non-null    object \n",
      " 8   other_fuel1               199 non-null    object \n",
      " 9   other_fuel2               1 non-null      object \n",
      " 10  other_fuel3               0 non-null      float64\n",
      " 11  commissioning_year        528 non-null    float64\n",
      " 12  owner                     342 non-null    object \n",
      " 13  source                    908 non-null    object \n",
      " 14  url                       908 non-null    object \n",
      " 15  geolocation_source        889 non-null    object \n",
      " 16  wepp_id                   0 non-null      float64\n",
      " 17  year_of_capacity_data     520 non-null    float64\n",
      " 18  generation_gwh_2013       384 non-null    float64\n",
      " 19  generation_gwh_2014       401 non-null    float64\n",
      " 20  generation_gwh_2015       425 non-null    float64\n",
      " 21  generation_gwh_2016       437 non-null    float64\n",
      " 22  generation_gwh_2017       443 non-null    float64\n",
      " 23  generation_data_source    450 non-null    object \n",
      " 24  estimated_generation_gwh  0 non-null      float64\n",
      "dtypes: float64(13), object(12)\n",
      "memory usage: 177.5+ KB\n"
     ]
    }
   ],
   "source": [
    "data.info()"
   ]
  },
  {
   "cell_type": "code",
   "execution_count": 9,
   "metadata": {},
   "outputs": [
    {
     "data": {
      "text/plain": [
       "country                       0\n",
       "country_long                  0\n",
       "name                          0\n",
       "gppd_idnr                     0\n",
       "capacity_mw                   0\n",
       "latitude                     46\n",
       "longitude                    46\n",
       "Fuel_type                     0\n",
       "other_fuel1                 709\n",
       "other_fuel2                 907\n",
       "other_fuel3                 908\n",
       "commissioning_year          380\n",
       "owner                       566\n",
       "source                        0\n",
       "url                           0\n",
       "geolocation_source           19\n",
       "wepp_id                     908\n",
       "year_of_capacity_data       388\n",
       "generation_gwh_2013         524\n",
       "generation_gwh_2014         507\n",
       "generation_gwh_2015         483\n",
       "generation_gwh_2016         471\n",
       "generation_gwh_2017         465\n",
       "generation_data_source      458\n",
       "estimated_generation_gwh    908\n",
       "dtype: int64"
      ]
     },
     "execution_count": 9,
     "metadata": {},
     "output_type": "execute_result"
    }
   ],
   "source": [
    "data.isnull().sum()"
   ]
  },
  {
   "cell_type": "code",
   "execution_count": 10,
   "metadata": {},
   "outputs": [],
   "source": [
    "#Droping unnecessary columns\n",
    "data = data.drop([\"other_fuel3\"],axis=1)\n",
    "data = data.drop([\"wepp_id\"],axis=1)\n",
    "data = data.drop([\"estimated_generation_gwh\"],axis=1)\n",
    "data = data.drop([\"other_fuel2\"],axis=1)"
   ]
  },
  {
   "cell_type": "code",
   "execution_count": 11,
   "metadata": {},
   "outputs": [],
   "source": [
    "#Droping unnecessary columns\n",
    "data = data.drop([\"country\"],axis=1)\n",
    "data = data.drop([\"country_long\"],axis=1)\n",
    "data= data.drop([\"year_of_capacity_data\"],axis=1)\n",
    "data = data.drop([\"generation_data_source\"],axis=1)"
   ]
  },
  {
   "cell_type": "code",
   "execution_count": 13,
   "metadata": {},
   "outputs": [
    {
     "data": {
      "text/html": [
       "<div>\n",
       "<style scoped>\n",
       "    .dataframe tbody tr th:only-of-type {\n",
       "        vertical-align: middle;\n",
       "    }\n",
       "\n",
       "    .dataframe tbody tr th {\n",
       "        vertical-align: top;\n",
       "    }\n",
       "\n",
       "    .dataframe thead th {\n",
       "        text-align: right;\n",
       "    }\n",
       "</style>\n",
       "<table border=\"1\" class=\"dataframe\">\n",
       "  <thead>\n",
       "    <tr style=\"text-align: right;\">\n",
       "      <th></th>\n",
       "      <th>name</th>\n",
       "      <th>gppd_idnr</th>\n",
       "      <th>capacity_mw</th>\n",
       "      <th>latitude</th>\n",
       "      <th>longitude</th>\n",
       "      <th>Fuel_type</th>\n",
       "      <th>other_fuel1</th>\n",
       "      <th>commissioning_year</th>\n",
       "      <th>owner</th>\n",
       "      <th>source</th>\n",
       "      <th>url</th>\n",
       "      <th>geolocation_source</th>\n",
       "      <th>generation_gwh_2013</th>\n",
       "      <th>generation_gwh_2014</th>\n",
       "      <th>generation_gwh_2015</th>\n",
       "      <th>generation_gwh_2016</th>\n",
       "      <th>generation_gwh_2017</th>\n",
       "    </tr>\n",
       "  </thead>\n",
       "  <tbody>\n",
       "    <tr>\n",
       "      <th>0</th>\n",
       "      <td>ACME Solar Tower</td>\n",
       "      <td>WRI1020239</td>\n",
       "      <td>2.5</td>\n",
       "      <td>28.1839</td>\n",
       "      <td>73.2407</td>\n",
       "      <td>Solar</td>\n",
       "      <td>NaN</td>\n",
       "      <td>2011.0</td>\n",
       "      <td>Solar Paces</td>\n",
       "      <td>National Renewable Energy Laboratory</td>\n",
       "      <td>http://www.nrel.gov/csp/solarpaces/project_det...</td>\n",
       "      <td>National Renewable Energy Laboratory</td>\n",
       "      <td>NaN</td>\n",
       "      <td>NaN</td>\n",
       "      <td>NaN</td>\n",
       "      <td>NaN</td>\n",
       "      <td>NaN</td>\n",
       "    </tr>\n",
       "    <tr>\n",
       "      <th>1</th>\n",
       "      <td>ADITYA CEMENT WORKS</td>\n",
       "      <td>WRI1019881</td>\n",
       "      <td>98.0</td>\n",
       "      <td>24.7663</td>\n",
       "      <td>74.6090</td>\n",
       "      <td>Coal</td>\n",
       "      <td>NaN</td>\n",
       "      <td>NaN</td>\n",
       "      <td>Ultratech Cement ltd</td>\n",
       "      <td>Ultratech Cement ltd</td>\n",
       "      <td>http://www.ultratechcement.com/</td>\n",
       "      <td>WRI</td>\n",
       "      <td>NaN</td>\n",
       "      <td>NaN</td>\n",
       "      <td>NaN</td>\n",
       "      <td>NaN</td>\n",
       "      <td>NaN</td>\n",
       "    </tr>\n",
       "    <tr>\n",
       "      <th>2</th>\n",
       "      <td>AES Saurashtra Windfarms</td>\n",
       "      <td>WRI1026669</td>\n",
       "      <td>39.2</td>\n",
       "      <td>21.9038</td>\n",
       "      <td>69.3732</td>\n",
       "      <td>Wind</td>\n",
       "      <td>NaN</td>\n",
       "      <td>NaN</td>\n",
       "      <td>AES</td>\n",
       "      <td>CDM</td>\n",
       "      <td>https://cdm.unfccc.int/Projects/DB/DNV-CUK1328...</td>\n",
       "      <td>WRI</td>\n",
       "      <td>NaN</td>\n",
       "      <td>NaN</td>\n",
       "      <td>NaN</td>\n",
       "      <td>NaN</td>\n",
       "      <td>NaN</td>\n",
       "    </tr>\n",
       "    <tr>\n",
       "      <th>3</th>\n",
       "      <td>AGARTALA GT</td>\n",
       "      <td>IND0000001</td>\n",
       "      <td>135.0</td>\n",
       "      <td>23.8712</td>\n",
       "      <td>91.3602</td>\n",
       "      <td>Gas</td>\n",
       "      <td>NaN</td>\n",
       "      <td>2004.0</td>\n",
       "      <td>NaN</td>\n",
       "      <td>Central Electricity Authority</td>\n",
       "      <td>http://www.cea.nic.in/</td>\n",
       "      <td>WRI</td>\n",
       "      <td>631.777928</td>\n",
       "      <td>617.789264</td>\n",
       "      <td>843.747</td>\n",
       "      <td>886.004428</td>\n",
       "      <td>663.774500</td>\n",
       "    </tr>\n",
       "    <tr>\n",
       "      <th>4</th>\n",
       "      <td>AKALTARA TPP</td>\n",
       "      <td>IND0000002</td>\n",
       "      <td>1800.0</td>\n",
       "      <td>21.9603</td>\n",
       "      <td>82.4091</td>\n",
       "      <td>Coal</td>\n",
       "      <td>Oil</td>\n",
       "      <td>2015.0</td>\n",
       "      <td>NaN</td>\n",
       "      <td>Central Electricity Authority</td>\n",
       "      <td>http://www.cea.nic.in/</td>\n",
       "      <td>WRI</td>\n",
       "      <td>1668.290000</td>\n",
       "      <td>3035.550000</td>\n",
       "      <td>5916.370</td>\n",
       "      <td>6243.000000</td>\n",
       "      <td>5385.579736</td>\n",
       "    </tr>\n",
       "  </tbody>\n",
       "</table>\n",
       "</div>"
      ],
      "text/plain": [
       "                       name   gppd_idnr  capacity_mw  latitude  longitude  \\\n",
       "0          ACME Solar Tower  WRI1020239          2.5   28.1839    73.2407   \n",
       "1       ADITYA CEMENT WORKS  WRI1019881         98.0   24.7663    74.6090   \n",
       "2  AES Saurashtra Windfarms  WRI1026669         39.2   21.9038    69.3732   \n",
       "3               AGARTALA GT  IND0000001        135.0   23.8712    91.3602   \n",
       "4              AKALTARA TPP  IND0000002       1800.0   21.9603    82.4091   \n",
       "\n",
       "  Fuel_type other_fuel1  commissioning_year                 owner  \\\n",
       "0     Solar         NaN              2011.0           Solar Paces   \n",
       "1      Coal         NaN                 NaN  Ultratech Cement ltd   \n",
       "2      Wind         NaN                 NaN                   AES   \n",
       "3       Gas         NaN              2004.0                   NaN   \n",
       "4      Coal         Oil              2015.0                   NaN   \n",
       "\n",
       "                                 source  \\\n",
       "0  National Renewable Energy Laboratory   \n",
       "1                  Ultratech Cement ltd   \n",
       "2                                   CDM   \n",
       "3         Central Electricity Authority   \n",
       "4         Central Electricity Authority   \n",
       "\n",
       "                                                 url  \\\n",
       "0  http://www.nrel.gov/csp/solarpaces/project_det...   \n",
       "1                    http://www.ultratechcement.com/   \n",
       "2  https://cdm.unfccc.int/Projects/DB/DNV-CUK1328...   \n",
       "3                             http://www.cea.nic.in/   \n",
       "4                             http://www.cea.nic.in/   \n",
       "\n",
       "                     geolocation_source  generation_gwh_2013  \\\n",
       "0  National Renewable Energy Laboratory                  NaN   \n",
       "1                                   WRI                  NaN   \n",
       "2                                   WRI                  NaN   \n",
       "3                                   WRI           631.777928   \n",
       "4                                   WRI          1668.290000   \n",
       "\n",
       "   generation_gwh_2014  generation_gwh_2015  generation_gwh_2016  \\\n",
       "0                  NaN                  NaN                  NaN   \n",
       "1                  NaN                  NaN                  NaN   \n",
       "2                  NaN                  NaN                  NaN   \n",
       "3           617.789264              843.747           886.004428   \n",
       "4          3035.550000             5916.370          6243.000000   \n",
       "\n",
       "   generation_gwh_2017  \n",
       "0                  NaN  \n",
       "1                  NaN  \n",
       "2                  NaN  \n",
       "3           663.774500  \n",
       "4          5385.579736  "
      ]
     },
     "execution_count": 13,
     "metadata": {},
     "output_type": "execute_result"
    }
   ],
   "source": [
    "data.head()"
   ]
  },
  {
   "cell_type": "code",
   "execution_count": 14,
   "metadata": {},
   "outputs": [
    {
     "data": {
      "text/plain": [
       "(908, 17)"
      ]
     },
     "execution_count": 14,
     "metadata": {},
     "output_type": "execute_result"
    }
   ],
   "source": [
    "data.shape"
   ]
  },
  {
   "cell_type": "code",
   "execution_count": 15,
   "metadata": {},
   "outputs": [
    {
     "data": {
      "text/plain": [
       "array(['ACME Solar Tower', 'ADITYA CEMENT WORKS',\n",
       "       'AES Saurashtra Windfarms', 'AGARTALA GT', 'AKALTARA TPP',\n",
       "       'AKRIMOTA LIG', 'ALIYAR', 'ALLAIN DUHANGAN', 'ALMATTI DAM',\n",
       "       'AMAR KANTAK', 'AMARAVATI TPP', 'ANANDPUR SAHIB ST-I&II',\n",
       "       'ANAPARA \"C\"', 'ANDHRA', 'ANOOPGARH ST I&II', 'ANPARA', 'ANTA GT',\n",
       "       'ANUPPUR', 'ANUPUR TPP', 'ARVINDNAGAR SUGAR', 'ASHOKNAGAR MILL',\n",
       "       'ATHANI SUGAR', 'AURAIYA GT', 'AVANTHA BHANDAR TPP',\n",
       "       'AWARPUR CEMENT PLANT', 'Abhijeet', 'Amarsar Solar Power Plant',\n",
       "       'Anabura Wind Farm', 'Ananthapur - Meil Solar Power Plant',\n",
       "       'Andrha Lake Wind Farm', 'Anikkadavu Wind Farm',\n",
       "       'Arasinagundi Wind Farm', 'Askandra - DREPL Solar Power Plant',\n",
       "       'Askandra - Electromech Maritech Solar Power Plant',\n",
       "       'Askandra - Finehope Solar Power Plant',\n",
       "       'Askandra - Khaya Solar Power Plant',\n",
       "       'Askandra - Newton Solar Power Plant',\n",
       "       'Askandra - Saidham Solar Power Plant',\n",
       "       'Askandra - Vasavi Solar Power Plant', 'B. BRIDGE D.G', 'BADARPUR',\n",
       "       'BAGALKOT ICP', 'BAGLIHAR HEP', 'BAGLIHAR HEP-II', 'BAIRA SIUL',\n",
       "       'BAKRESWAR', 'BALCO TPP', 'BALIMELA', 'BALLARPUR BILT POWER',\n",
       "       'BAMANIA CEMENT', 'BANDAKHAR TPP', 'BANDEL', 'BANER',\n",
       "       'BANSAGAR (I)', 'BANSAGAR (II)', 'BANSAGAR (III)', 'BANSAGAR (IV)',\n",
       "       'BANSWARA CEMENT', 'BARADARHA TPP', 'BARAMURA', 'BARAUNI', 'BARGI',\n",
       "       'BARH STPP II', 'BARKHERA TPP', 'BARSINGAR LIGNITE',\n",
       "       'BASIN BRIDGE GT', 'BASPA', 'BASSI', 'BCPL Wind Farm',\n",
       "       'BEL Chikhalhol Wind Farm', 'BELA NAGPUR', 'BELGAUM UGAR',\n",
       "       'BELLAD-BAGEWADI', 'BELLARY DG', 'BELLARY HOTHUR', 'BELLARY JANKI',\n",
       "       'BELLARY TPS', 'BHADRA', 'BHADRAVATI MILL', 'BHAKRA',\n",
       "       'BHANDARA STEEL MILL', 'BHANDARA VARAM', 'BHANDARDHARA',\n",
       "       'BHATGARH', 'BHATSA', 'BHAVNAGAR TPP', 'BHAWANI KATTALAI -II',\n",
       "       'BHAWANI KATTALAI -III', 'BHAWANI KATTALAI BARRAGE',\n",
       "       'BHIGWAN MILL', 'BHILAI TPP', 'BHIRA', 'BHIRA TAIL RACE',\n",
       "       'BHIVPURI', 'BHUSAWAL', 'BILIYAKALAN PLANT', 'BINA REFINERY',\n",
       "       'BINA TPP', 'BINANI CEMENT PLANT', 'BINJKOTE', 'BINWA',\n",
       "       'BIRSINGHPUR', \"BOKARO A ''EXP''\", 'BOKARO B', 'BONGAIGAON TPP',\n",
       "       'BP Brahmanvel Wind Farm', 'BRAMHAPURAM DG', 'BSES Kerala CCGT',\n",
       "       'BUDGE BUDGE', 'BUDHIL', 'BUTIBORI PLANT', 'BUTIBORI TPP -II',\n",
       "       'Bamani Solar Power Plant', 'Bamanwali Solar Power Plant',\n",
       "       'Bannari Amman Spinning Mills Wind Power Project',\n",
       "       'Bap - GIS 1-2 Solar Power Plant', 'Bap - GIS 3 Solar Power Plant',\n",
       "       'Bap - OPG Solar Power Plant',\n",
       "       'Bap - Punj Lloyd Solar Power Plant',\n",
       "       'Bapodar - Hiraco Solar Power Plant',\n",
       "       'Bapodar - MBEDL Solar Power Plant',\n",
       "       'Bavadi Barsingha - Giriraj Solar Power Plant',\n",
       "       'Bavadi Barsingha - LEPL Solar Power Plant', 'Belagau Wind Farm',\n",
       "       'Belagwi Wind Turbines', 'Belgaum Gadag Wind Farm',\n",
       "       'Belgaum Wind farm', 'Bera Wind Farm',\n",
       "       'Bhadrada Solar Power Plant', 'Bhat Khedi Wind Farm',\n",
       "       'Bhatkota Solar Power Plant', 'Bitta Solar Power Plant',\n",
       "       'Boha Solar Power Plant', 'Bonada Solar Power Plant',\n",
       "       'CHAKABURA TPP', 'CHAMERA II', 'CHAMERA-I', 'CHAMERA-III',\n",
       "       'CHANDA CEMENT WORKS', 'CHANDERIA CEMENT WORKS',\n",
       "       'CHANDERIA SMELTER', 'CHANDRAPUR GUPTA', 'CHANDRAPUR MANIKGHAR',\n",
       "       'CHANDRAPURA', 'CHANDRAPUR_Coal', 'CHANJU-I', 'CHEMBUKADAVU-II',\n",
       "       'CHENANI I to III', 'CHHABRA TPS', 'CHIBRO (YAMUNA)', 'CHILLA',\n",
       "       'CHUTAK', 'CHUZACHEN', 'CORE GREEN SUGAR',\n",
       "       'Chandrapur Solar Power Plant', 'Charanka Solar Power Plant',\n",
       "       'Chhadavada Wind Farm', 'Chingerbandh Solar Power Plant', 'D.P.L.',\n",
       "       'DADRI (NCTPP)', 'DADRI GT', 'DAE RAJASTHAN', 'DAHANU FRESNEL',\n",
       "       'DAMODARAM SANJEEVAIAH', 'DANAPUR BMM', 'DAUND SUGAR',\n",
       "       'DAVANGERE MILL', 'DEHAR', 'DERANG', 'DGEN MEGA CCCP', 'DHAKRANI',\n",
       "       'DHALIPUR', 'DHANU', 'DHARIWAL INF TPP', 'DHAULI GANGA', 'DHOLPUR',\n",
       "       'DHUVARAN CCPP', 'DIGHE WORKS', 'DIKCHU', 'DIMBE', 'DLF',\n",
       "       'DNYANESHWAR MILL', 'DOLVI ISPAT', 'DONKARAYI', 'DOYANG',\n",
       "       'DUDH GANGA', 'DUGGAVATHI MILL', 'DULHASTI', 'DURG SPONGE IRON',\n",
       "       'DURGAPUR', 'DURGAPUR STEEL TPS', 'Dadri Solar Power Plant',\n",
       "       'Dandeli Mill', 'Davangere Wind Farm', 'Deh Solar Power Plant',\n",
       "       'Devgarh Wind Farm', 'Dhabla Sondhya Solar Power Plant',\n",
       "       'Dhanera Solar Power Plant', 'Dhank - Aravali Solar Power Plant',\n",
       "       'Dhursar', 'Diwakar', 'Dugar Solar Power Plant', 'E.G. CANAL',\n",
       "       'ELDARI', 'EMCO Sonurle Wind Farm', 'ESSAR GT IMP.',\n",
       "       'Enercon Babarzar Wind Farm', 'Enercon Chitradurga Wind Farm',\n",
       "       'Enercon Sonoshi Wind Farm', 'Essel Mining Wind Farm',\n",
       "       'FARAKKA STPS', 'F_BAD CCGT',\n",
       "       'Frost International Palankottai Wind Farm', 'G.I.P.C.L. GT',\n",
       "       'GACL Kutch Wind Farm', 'GADEPAN WORKS', 'GAJ',\n",
       "       'GAMA CCPP  Module - 1', 'GANDHAR GT', 'GANDHARBAL',\n",
       "       'GANDHI NAGAR', 'GANDHI SAGAR', 'GANGUWAL', 'GAUTAMI CCCP', 'GEPL',\n",
       "       'GFL Gudhepanchgani', 'GHANVI', 'GHAT PRABHA', 'GHATGHAR PSS',\n",
       "       'GHTP (LEH.MOH.)', 'GHUGUS LMEL', 'GIRI BATA', 'GIWPP Telagi',\n",
       "       'GMR WARORA TPP', 'GNDTP(BHATINDA)', 'GODAVARI GT',\n",
       "       'GOINDWAL SAHIB TPP', 'GRACE INDUSTRIES', 'GREL CCPP (RAJAMUNDRY)',\n",
       "       'GULBARGA CEMENT', 'GUMTI', 'Gadag Wind Farm',\n",
       "       'Gadna 1 Solar Power Plant', 'Gadna 2 Solar Power Plant',\n",
       "       'Gandhinagar Solar Power Plant', 'Garacharma Solar Power Plant',\n",
       "       'Godawari', 'Godelai Solar Power Plant',\n",
       "       'Gondri Solar Power Plant', 'Gorsar Wind Farm',\n",
       "       'Grewal Solar Power Plant', 'Gujurat Solar On',\n",
       "       'Gulabpura Solar Power Plant', 'Gwal Pahari Solar Power Plant',\n",
       "       'HALDIA', 'HAMPI', 'HAPURI MILL', 'HASDEOBANGO', 'HAVALGA SUGAR',\n",
       "       'HAZIRA CCCP', 'HAZIRA-GSECL', 'HINGOLI MILL', 'HIRAKUD I&II',\n",
       "       'HIRIYUR BIOMASS', 'HZL Gadag Wind Farm',\n",
       "       'HZL Nandurbar Maharashtra', 'HZL Palladum Wind Farm',\n",
       "       'HZL Parewar Wind Farm', 'HZL Samana Wind Farm', 'H_GANJ B',\n",
       "       'Hirewaddatti Wind Farm', 'Horti Solar Power Plant', 'I.B.VALLEY',\n",
       "       'I.P.GT', 'IDAMALAYAR', 'IDUKKI', 'IEPL  BELA TPP',\n",
       "       'IL&FS Kaladeh Wind Farm', 'IND BARATH TPP',\n",
       "       'INDIA POWER TPP(HALDIA  HIRANMAYE )', 'INDIRA SAGAR',\n",
       "       'INDRA GANDHI STPP', 'ITPCL TPP', 'Ingaleshwar Wind Farm',\n",
       "       'Isanpur Solar Power Plant', 'Itnal Solar Power Plant', 'J.SAGAR',\n",
       "       'JAISALMER GODAWARI', 'JALDHAKA I&II', 'JALLIPPA KAPURDI TPP',\n",
       "       'JAYKAYPURAM PLANT', 'JAYPEE BELA CEMENT', 'JAYPEE REWA CEMENT',\n",
       "       'JAYPEE SIDHI CEMENT', 'JEGURUPADU GT', 'JOG', 'JOJBERA',\n",
       "       'JORETHANG LOOP', 'JSW RATNAGIRI TPP',\n",
       "       'Jafrabad Solar Power Plant', 'Jamuria Solar Power Plant',\n",
       "       'Jangi Wind Farm', 'Jangi village wind farm', 'Jeloo Wind Farm',\n",
       "       'Jodiya Wind Farm', 'K.N. Ram Kaltek Wind Farm', 'KADAMPARI',\n",
       "       'KADANA', 'KADRA', 'KAHALGAON', 'KAIGA', 'KAKATIYA TPP', 'KAKKAD',\n",
       "       'KAKRAPARA', 'KALINADI', 'KALINADI SUPA', 'KALISINDH', 'KALLADA',\n",
       "       'KALLUR GRINDING', 'KAMAL SPONGE', 'KAMALANGA', 'KANHER',\n",
       "       'KARAD MILL', 'KARAIKAL', 'KARBI LANGPI', 'KARCHAM WANGTOO',\n",
       "       'KARGIL', 'KARUPPUR GT', 'KASAIPALLI', 'KASARGODE DG',\n",
       "       'KASHANG INTEGRATED', 'KASHIPUR CCPP', 'KASRAWAD FACTORY',\n",
       "       'KATGHORA TPP', 'KATHALGURI GT', 'KAWAI TPP', 'KAWAS GT',\n",
       "       'KAYAM KULAM GT', 'KCSF SANGUR', 'KHADAVASLA I&II',\n",
       "       'KHAMBERKHERA IPP', 'KHANDONG', 'KHARA', 'KHATIMA', 'KHODRI',\n",
       "       'KHOPOLI', 'KHOPOLI WORKS', 'KISHENGANGA', 'KM DODDI SUGAR',\n",
       "       'KODASALI', 'KODAYAR-I&II', 'KODERMA', 'KOJIKODE DG', 'KOLAGHAT',\n",
       "       'KOLDAM', 'KOLHAPUR HEMARUS', 'KOLHAPUR KAGAL', 'KOLHAPUR KUMBHI',\n",
       "       'KOLLEGAL SUGAR', 'KONASEEMA CCCP', 'KONDAPALLI GT', 'KOPILI',\n",
       "       'KOPPA SUGAR', 'KOPPAL HKMP', 'KORADI', 'KORBA STPS', 'KORBA-EAST',\n",
       "       'KORBA-WEST', 'KOSI', 'KOTA', 'KOTA COMPLEX', 'KOTESHWAR', 'KOTLA',\n",
       "       'KOVILKALAPPAL', 'KOYNA COMPLEX', 'KS Oils Chinnakuyili Wind Farm',\n",
       "       'KUDGI', 'KULHAL', 'KUNDAH I-V', 'KUNDANKULAM', 'KUNDARGI MILL',\n",
       "       'KUNDARKI TPP', 'KUTCH LIG.', 'KUTHUNGAL', 'KUTTALAM GT',\n",
       "       'KUTTIADI', 'KUTTIYADI Add ext', 'KVK Energy Solar Project',\n",
       "       'KYMORE', 'KYREDEMKULAI', 'K_GUDEM', 'K_GUDEM NEW', 'K_KHEDA II',\n",
       "       'Kaladonger Wind Farm', 'Kamuthi Solar Power Plant',\n",
       "       'Karmaria Solar Power Plant', 'Karur Textile Park Wind Farm',\n",
       "       'Kathauti 1 Solar Power Plant', 'Kathauti 2 Solar Power Plant',\n",
       "       'Katol - Citra Solar Power Plant',\n",
       "       'Katol - Sepset Solar Power Plant', 'Khadoda Solar Power Plant',\n",
       "       'Khandala Solar Power Plant',\n",
       "       'Khetusar - Northern Solar Power Plant',\n",
       "       'Khetusar - Suryauday Solar Power Plant',\n",
       "       'Khilchipur Solar Power Plant',\n",
       "       'Khirsara - Unity Solar Power Plant',\n",
       "       'Khirsara - Welspun Solar Power Plant', 'Khirwa Solar Power Plant',\n",
       "       'Khori Wind Farm', 'Kohinoor Wind Farm',\n",
       "       'Komal West Solar Power Plant', 'Kosa Wind Farm',\n",
       "       'Kottamangalam Wind Farm', 'Kottathara Village Wind Farm',\n",
       "       'Kudankulam', 'LAKHERI CEMENT PLANT', 'LAKWA GT', 'LALITPUR TPP',\n",
       "       'LARA', 'LARGI', 'LEIMAKHONG DG', 'LIGANAMAKKI', 'LIKIM RO',\n",
       "       'LITL Uthumalai', 'LNJP Bahla Basti Wind Farm', 'LODHIVALI',\n",
       "       'LOKMANGAL SUGAR ETHANOL', 'LOKTAK', 'LOWER JHELUM',\n",
       "       'LOWER JURALA', 'LOWER LAGYAP', 'LOWER METTUR', 'LOWER PERIYAR',\n",
       "       'LOWER SILERU', 'LTML Wind Energy Project in Tamil Nadu',\n",
       "       'LVS POWER DG', 'Lakhewali Solar Power Plant',\n",
       "       'Lakhmirwala Solar Power Plant', 'Lallian Kalan Solar Power Plant',\n",
       "       'Lalpur Wind Farm', 'Landewadi Wind Farm',\n",
       "       'Lathi Solar Power Plant', 'Liberty Oil Satara Wind Farm',\n",
       "       'M.A.P.P.', 'MACHKUND', 'MADHAVAMANTRI', 'MADHIKHEDA',\n",
       "       'MAHADEV PRASAD STPP', 'MAHAN TPP', 'MAHATMA GANDHI TPP',\n",
       "       'MAHATMA SUGAR', 'MAHI BAJAJ I&II', 'MAHUL REFINERY',\n",
       "       'MAIHAR CEMENT PLANT', 'MAITHON', 'MAITHON RB TPP', 'MALANA',\n",
       "       'MALLARPUR', 'MANERI BHALI', 'MANGALORE REFINERY', 'MANGAON CCPP',\n",
       "       'MANGLAM CEMENT', 'MANI DPH', 'MANIKDOH', 'MANIKGARH CEMENT',\n",
       "       'MANIYAR', 'MAQSOODPUR  IPP', 'MARATHA CEMENT PLANT', 'MARWA TPP',\n",
       "       'MATATILLA', 'MEJA STPP', 'MEJIA', 'MEJIA TPS EXT',\n",
       "       'MELAMARUTHUR (MUTHIARA)', 'METTUR', 'METTUR DAM',\n",
       "       'METTUR TPS EXT', 'MIHAN TPP', 'MOHAMAD PUR', 'MOHARA',\n",
       "       'MONARCHAK CCPP', 'MORDI PLANT', 'MOUDA STPS', 'MOYAGCHU', 'MOYAR',\n",
       "       'MRMPL Mudari Wind Farm', 'MSPL Wind Farm', 'MUDHOL CEMENT',\n",
       "       'MUKERIAN I -IV', 'MUL GRETA', 'MUMBAI BPCL', 'MUMBAI JINDAL',\n",
       "       'MUMBAI ONGC', 'MUNDRA TPP', 'MUNDRA UMPP', 'MUNIRABAD',\n",
       "       'MUNOLI DISTILLERY', 'MURBAD PLANT', 'MUZAFFARPUR', 'MYNTDU',\n",
       "       'Maloshi Wind Farm', 'Mandrup - Giriraj Solar Power Plant',\n",
       "       'Megha Solar Plant', 'Mirpur Kalan - Alianz Eco Solar Power Plant',\n",
       "       'Mirpur Kalan - Nexgen Solux Solar Power Plant',\n",
       "       'Mithapur Solar Power Plant', 'Mokal Wind Farm', 'Mokla Wind farm',\n",
       "       'Mulshi Solar Power Plant',\n",
       "       'Muradwala Dal Singh Solar Power Plant', 'N.A.P.S',\n",
       "       'NABI NAGAR TPP', 'NAGARJUNA SAGAR', 'NAGARJUNA SAGAR   TPD',\n",
       "       'NAGDA GRASIM', 'NAGOTHANE COMPLEX', 'NAGPUR GMT', 'NAGPUR MILL',\n",
       "       'NAGPUR SPONGE IRON', 'NAMRUP GT', 'NARASINGPUR', 'NARAYANPUR',\n",
       "       'NARIMANGLAM', 'NASIK', 'NASIK SINNAR', 'NASIK TPP  PH 1',\n",
       "       'NATHPA JHAKRI', 'NAWAPARA', 'NEPANAGAR MILL', 'NEW UMTRU',\n",
       "       'NEYVELI FST EXT', 'NEYVELI ST I', 'NEYVELI ST II',\n",
       "       'NEYVELI TPS EXP -II', 'NEYVELI TPS(Z)', 'NIGRI',\n",
       "       'NIMBAHERA JK CEMENT', 'NIMOO BAZGO', 'NIRGAJANI(Ganga Canal)',\n",
       "       'NITIN PLANT', 'NIWARI TPP', 'NIZAM SAGAR',\n",
       "       'NMDC Anehalu Wind Farm', 'NORTH CHENNAI',\n",
       "       'NORTH CHENNAI EXTENSION', 'NSL Wind Farm', 'NURANANG',\n",
       "       'N_SAGAR LBC', 'N_SAGAR RBC', 'Nagda Hills Wind Energy project',\n",
       "       'Nagercoli Wind Farm', 'Naini Solar Power Plant',\n",
       "       'Nallakonda Wind Farm', 'Nargund Wind Farm',\n",
       "       'Nokh - GGEL Solar Power Plant',\n",
       "       'Nokh - Precision Technik Solar Power Plant',\n",
       "       'Nokha Daiya Solar Power Plant', 'NuPower Tirunelveli Wind Farm',\n",
       "       'OBRA', 'OBRA-A', 'OMKARESHWAR', 'ONGC Jerat Wind Farm',\n",
       "       'ONGC Kutch Wind Farm', 'P.NALLUR CCGT', 'PAGUTHAN', 'PAINAMPURAM',\n",
       "       'PAITHON', 'PALATANA CCPP', 'PALLIVASAL', 'PAMPORE GT', 'PANCHET',\n",
       "       'PANIPAT', 'PANKI', 'PANNIAR', 'PAPANASAM', 'PARAS', 'PARBATI-III',\n",
       "       'PARBHANI GANGAKHED', 'PARICHA', 'PARLI', 'PARSEN_S VALLE',\n",
       "       'PATALGANGA', 'PATHADI TPS PH -I', 'PATHRI', 'PAWANA',\n",
       "       'PEDDAPURAM CCGT(Samalkot)', 'PENCH', 'PENNA AHOBELAM', 'PERIYAR',\n",
       "       'PIPAVAV CCCP', 'POCHAMPAD', 'PONG', 'PORINGALKUTTU',\n",
       "       'PORINGALKUTTU L', 'PRAGATI CCCP -III', 'PRAGATI CCGT',\n",
       "       'PRIYADARSHNI JURALA', 'PRYAGRAJ (BARA) TPP', 'PULICHINTALA',\n",
       "       'PUNE MILL', 'PURULIA PSS', 'PYKARA', 'PYKARA ALIMATE',\n",
       "       'Panandhro Solar Power Plant', 'Patan Taluka Wind Farm',\n",
       "       'Patnaik Hatti Wind Farm', 'Patnaik Jamnagar Wind Farm',\n",
       "       'Patodi Solar Power Plant', 'Phagi Solar Power Plant',\n",
       "       'Pokhran FVE Solar Power Plant', 'Pokhran THE Solar Power Plant',\n",
       "       'Powerica Jangi Vandjiya', 'Powerica Kutch Wind Farm',\n",
       "       'Powerica Theni Wind Farm', 'Powerica Tirunelveli Wind Farm',\n",
       "       'Pratapgarh Solar Power Plant', 'Precious Solar Power Plant',\n",
       "       'Punjawa - Sikh Wala Solar Power Plant', 'R.A.P.S.', 'R.P.SAGAR',\n",
       "       'RABRIYAWAS CEMENT', 'RADHANAGRI', 'RAGHUNATHPUR TPP PH-I',\n",
       "       'RAICHUR', 'RAICHUR STEEL', 'RAIGARH TPP', 'RAIKHEDA',\n",
       "       'RAJASHREE CEMENT', 'RAJGHAT', 'RAJGHAT (MP)',\n",
       "       'RAJIV GANDHI  TPS HISAR', 'RAJPURA DARIBA MINE', 'RAJPURA TPP',\n",
       "       'RAMANAGARAM MILL', 'RAMGANGA', 'RAMGARH GT', 'RAMMAM', 'RAMPUR',\n",
       "       'RANGANADI', 'RANGIT-III', 'RANJANI MILL', 'RANJIT SAGAR',\n",
       "       'RAS CEMENT PLANT', 'RATIJA TPP', 'RATNAGIRI GAS', 'RAYAL SEEMA',\n",
       "       'RELIANCE ENERGY', 'RENGALI', 'RIHAND', 'RIHAND_Hydro',\n",
       "       'RITHALA CCCP', 'RMC MANGROL', 'ROKHIA GT', 'ROPAR',\n",
       "       'ROSA TPP PH - 1', 'RSMNL Wind Farm', 'R_GUNDEM - B',\n",
       "       'R_GUNDEM STPS', 'Rajgarh - NTPC Solar Power Plant',\n",
       "       'Rajgarh - Ujaas Solar Power Plant', 'Raksa Solar Power Plant',\n",
       "       'Ram Tirath Jaga Solar Power Plant',\n",
       "       'Ramagundam Solar Power Plant', 'Rapar Khokhara Solar Power Plant',\n",
       "       'Rasulpur Solar Power Plant', 'Ratedi Mondri Wind Farm',\n",
       "       'Ravra - IOC Solar Power Plant', 'Ravra - NWEPL Solar Power Plant',\n",
       "       'Ravra - SEI Solar Power Plant',\n",
       "       'Ravra - Welspun Solar Power Plant',\n",
       "       'Relaxo Footwear Kui Inda Wind Farm',\n",
       "       'Roaring 40s Wind Farms (Khandke) Private Limited - Phase II',\n",
       "       'Rojhani Solar Power Plant', 'Rucha Soya Wind Farm',\n",
       "       'Ruchi Soya Palsodi Wind Farm', 'S.SAROVAR CHPH', 'S.SAROVAR RBPH',\n",
       "       'SABARIGIRI', 'SAGARDIGHI TPP', 'SAHAKAR SHIROMANI', 'SAINJ',\n",
       "       'SALAL I & II', 'SALAYA TPP', 'SALORA', 'SAMALPATTI DG',\n",
       "       'SAMAYANALLUR DG', 'SAMEERWADI MILL', 'SANGLI KRANTI',\n",
       "       'SANGLI MIRAJ BIOMASS', 'SANGLI VASANTDADA', 'SANJAY BHABA',\n",
       "       'SANJAY GANDHI', 'SANKESHWAR MILL', 'SANTALDIH', 'SARKARPATHY',\n",
       "       'SASAN UMPP', 'SATNA CEMENT PLANT', 'SATPURA', 'SBT SUGAR',\n",
       "       'SEIONI TPP', 'SEMBCORP GAYATRI', 'SENGULAM', 'SERVALAR',\n",
       "       'SEWA-II', 'SEWA-III', 'SHAHPUR', 'SHANAN', 'SHARAVATHY',\n",
       "       'SHARAVATHY TAIL RACE (Gerusupa)', 'SHIMSAPURA', 'SHIROL MILL',\n",
       "       'SHIRPUR', 'SHIVAPURA', 'SHOLAYAR', 'SHOLAYAR I&II',\n",
       "       'SHREE MEGA POWER', 'SHRI MALAPRABHA', 'SHRI SHANKAR',\n",
       "       'SHRIRAM RAYONS PLANT', 'SIIL Jaibhim Wind Farm', 'SIKKA REP.',\n",
       "       'SIMHADRI', 'SIMHAPURI TPP', 'SINGARENI TPP', 'SINGRAULI STPS',\n",
       "       'SINGUR', 'SIPAT STPS', 'SITAPURAM POWER LIMITED', 'SIVASAMUNDRUM',\n",
       "       'SOLAPUR STPP', 'SONAI MILL', 'SONE EAST CANAL', 'SONE WEST CANAL',\n",
       "       'SOUTHERN REPL.', 'SRINAGAR', 'SRISAILAM', 'SRISAILAM LBPH',\n",
       "       'STAKNA', 'STERLITE TPP', 'SUBERNREKHA I&II', 'SUGEN CCCP',\n",
       "       'SURAT GARH', 'SURAT LIG.', 'SURATGARH', 'SURULIYAR', 'SURYA',\n",
       "       'SVPL', 'SWASTIK KORBA', 'SWPPL Madhavakurichi',\n",
       "       'SWPPL Manurpalayam', 'SWPPL Vadakkupanavadali',\n",
       "       'Sadeipali - ASPL Solar Power Plant',\n",
       "       'Sadeipali - REHPL Solar Power Plant', 'Sai Sulphonates Wind Mill',\n",
       "       'Sakri 1A Solar Power Plant', 'Sakri 1B Solar Power Plant',\n",
       "       'Sangatpura Solar Power Plant', 'Satara Wind Farm',\n",
       "       'Shiloj Solar Power Plant', 'Shirsoli Solar Power Plant',\n",
       "       'Shivasamundra Solar Power Plant',\n",
       "       'Shivlakha - Backbone Solar Power Plant',\n",
       "       'Shivlakha - CPEC Solar Power Plant',\n",
       "       'Shivlakha - Konark Solar Power Plant', 'Shree Nashik Wind Farm',\n",
       "       'Shree Sangli Wind Farm', 'Shree Southern Wind Farm',\n",
       "       'Shri Singaji MALWA TPP', 'Singrauli Solar Power Plant',\n",
       "       'Sivaganga Solar Power Plant', 'Sivalaperi Wind Farm',\n",
       "       'Solitaire Solar Power Plant', 'Sonu Wind Farm',\n",
       "       'Sterling Agro Akal Wind Farm', 'Sterling Agro Mokla Wind Farm',\n",
       "       'Sterling Karnataka site', 'Sterling Madhya Pradesh site',\n",
       "       'Sumilon Shikarpur Wind Farm', 'Sumilon Vershamedi Wind Farm',\n",
       "       'Supe Solar Power Plant', 'Surajbari Creek Wind Farm', 'T.B. DAM',\n",
       "       'TADALI', 'TADALI SPONGE IRON', 'TAGO', 'TALCHER', 'TALCHER STPS',\n",
       "       'TALWANDI SABO', 'TAMNAR TPP', 'TANAKPUR', 'TANDA', 'TANIR BAVI',\n",
       "       'TARAPUR', 'TASHIDING', 'TAWA', 'TEESTA  I-III', 'TEESTA -V',\n",
       "       'TEESTA LOW DAM -IV', 'TEESTA LOW DAM-III', 'TEESTA-III',\n",
       "       'TEHRI ST -1', 'TENUGHAT', 'THAL WORKS', 'THAMMINAPATNAM TPP',\n",
       "       'THANE PLANT', 'THIROT', 'TILLARI', 'TILLAYA', 'TIRORA TPP',\n",
       "       'TITAGARH', 'TORANGALLU EXT', 'TORANGALLU IMP', 'TORR POWER SAB.',\n",
       "       'TROMBAY', 'TROMBAY GT', 'TROMBAY WORKS', 'TROMBAY_Coal',\n",
       "       'TROMBAY_Oil', 'TUIRIAL', 'TUNGABHADRA SUGAR', 'TUTICORIN',\n",
       "       'TUTICORIN JV', 'TUTICORIN- IND BARATH', 'TVS Kunnur Wind Farm',\n",
       "       'TVS Tirunelveli Wind Farm', 'TVS Virali Wind Farm',\n",
       "       'Tadas wind farm', 'Talcher Kaniha Solar Power Plant',\n",
       "       'Tamilnadu Wind Farm',\n",
       "       'Tata BP - Electronics City Solar Panel Plant',\n",
       "       'Tata Power Gadag Plains Wind Farm', 'Tata Wind Farm',\n",
       "       'Teona Pujarian Solar Power Plant', 'Theni Wind Farm',\n",
       "       'Thimmapuram Wind Farm', 'Tinwari - MB Solar Power Plant',\n",
       "       'Tiruppur', 'Tiruppur 2', 'Torrent Gujurat Wind Farm',\n",
       "       'U.B.D.C. ST.-I& II', 'U.ROGNICHU', 'UCHPINDA TPP', 'UDUPI TPP',\n",
       "       'UJJAINI', 'UKAI LBC', 'UKAI_Coal', 'UKAI_Hydro', 'UMIAM I II &IV',\n",
       "       'UMTRU (NEW)', 'UNCHAHAR', 'UNO SUGEN', 'UPL Dharapuram Wind Farm',\n",
       "       'UPPAR INDRAVATI', 'UPPER KOLAB', 'UPPER SILERU I&II',\n",
       "       'UPPER SINDH I& II', 'URAN GT', 'URAN ONGC', 'URI', 'URI -II',\n",
       "       'URUMI', 'UTRAN CCCP EXT', 'UTRAULA TPP', 'Udumalpet Wind Farm',\n",
       "       'VAIGAI DAM', 'VAITARNA', 'VALANTHARVI GT', 'VALLUR ntpc/ntecl',\n",
       "       'VALUTHUR GT', 'VARAHI', 'VARDHAM BUDNI', 'VARDHAM SATLAPUR',\n",
       "       'VASAVADATTA CEMENT', 'VEMAGIRI CCCP', 'VENUNAGAR SUGAR',\n",
       "       'VIJAIPUR WORKS', 'VIJAYWADA', 'VIJAYWADA TPP-IV', 'VIJESWARAM GT',\n",
       "       'VIKRAM CEMENT', 'VINDH_CHAL STPS', 'VIR', 'VISHNU PRAYAG',\n",
       "       'VIZAG TPP', 'VRL Wind Farm', 'Vaayu Ashti Wind Farm',\n",
       "       'Vankuswade Wind Farm', 'Vastan Solar Power Plant',\n",
       "       'WADI CEMENT PLANT', 'WANAKBORI',\n",
       "       'WARDHA WARORA(Sai Wardha Power)', 'WARDHA WORKS', 'WARNA',\n",
       "       'WY.CANAL A -D', 'Wadgam Solar Power Plant',\n",
       "       'Warora Solar Power Plant', 'Weizzmann Forex Idukki Wind Farm',\n",
       "       'Wind power project by Riddhi Siddhi Gluco Biols Limited (RSGBL)',\n",
       "       'Wind power project in Rajasthan', 'YAMUNANAGAR TPP',\n",
       "       'YASHWANTRAO MOHITE', 'YELHANKA (DG)', 'YERMARUS TPP',\n",
       "       'Yelesandra Solar Power Plant', 'Yelisirur wind power project',\n",
       "       'ZAWAR MINES', 'iEnergy Theni Wind Farm'], dtype=object)"
      ]
     },
     "execution_count": 15,
     "metadata": {},
     "output_type": "execute_result"
    }
   ],
   "source": [
    "data['name'].unique() #checking for this columns having unique values"
   ]
  },
  {
   "cell_type": "code",
   "execution_count": 16,
   "metadata": {},
   "outputs": [
    {
     "data": {
      "text/plain": [
       "KM DODDI SUGAR                        1\n",
       "N.A.P.S                               1\n",
       "CHUTAK                                1\n",
       "TUTICORIN JV                          1\n",
       "DUDH GANGA                            1\n",
       "                                     ..\n",
       "BELLARY DG                            1\n",
       "Bap - Punj Lloyd Solar Power Plant    1\n",
       "NEPANAGAR MILL                        1\n",
       "Enercon Chitradurga Wind Farm         1\n",
       "Phagi Solar Power Plant               1\n",
       "Name: name, Length: 908, dtype: int64"
      ]
     },
     "execution_count": 16,
     "metadata": {},
     "output_type": "execute_result"
    }
   ],
   "source": [
    "data['name'].value_counts() # similarly checking value_counts"
   ]
  },
  {
   "cell_type": "code",
   "execution_count": 17,
   "metadata": {},
   "outputs": [
    {
     "data": {
      "text/plain": [
       "WRI1026169    1\n",
       "IND0000508    1\n",
       "WRI1026183    1\n",
       "WRI1019885    1\n",
       "WRI1026189    1\n",
       "             ..\n",
       "WRI1026077    1\n",
       "WRI1019898    1\n",
       "IND0000348    1\n",
       "IND0000366    1\n",
       "IND0000183    1\n",
       "Name: gppd_idnr, Length: 908, dtype: int64"
      ]
     },
     "execution_count": 17,
     "metadata": {},
     "output_type": "execute_result"
    }
   ],
   "source": [
    "data['gppd_idnr'].value_counts()"
   ]
  },
  {
   "cell_type": "code",
   "execution_count": 18,
   "metadata": {},
   "outputs": [
    {
     "data": {
      "text/plain": [
       "http://www.cea.nic.in/                                                              520\n",
       "http://www.lancosolar.com/pdfs/rajasthan-pv-project-details.pdf                       7\n",
       "http://www.ntpc.co.in                                                                 6\n",
       "http://viainfotech.biz/Biomass/theme5/document/green_market/REC-project-list.pdf      5\n",
       "http://www.mahaurja.com/PDF/PG2_GridConnSPPCommissioned.pdf                           4\n",
       "                                                                                   ... \n",
       "http://www.madhavcorp.com                                                             1\n",
       "http://www.westcoastpaper.com/infrastructure/                                         1\n",
       "https://cdm.unfccc.int/Projects/DB/LRQA%20Ltd1355495522.4/view                        1\n",
       "https://cdm.unfccc.int/Projects/DB/SGS-UKL1374760004.52/view                          1\n",
       "http://www.meil.in/power-projects                                                     1\n",
       "Name: url, Length: 304, dtype: int64"
      ]
     },
     "execution_count": 18,
     "metadata": {},
     "output_type": "execute_result"
    }
   ],
   "source": [
    "data['url'].value_counts()"
   ]
  },
  {
   "cell_type": "code",
   "execution_count": 19,
   "metadata": {},
   "outputs": [
    {
     "data": {
      "text/plain": [
       "Central Electricity Authority                520\n",
       "CDM                                          124\n",
       "Lancosola                                     10\n",
       "National Renewable Energy Laboratory           8\n",
       "National Thermal Power Corporation (NTPC)      6\n",
       "                                            ... \n",
       "Vishwanath Sugars ltd                          1\n",
       "Precision Technik Private Limited              1\n",
       "Manglam Cement ltd                             1\n",
       "Bharat Refinery ltd                            1\n",
       "Indo Synthetics ltd                            1\n",
       "Name: source, Length: 191, dtype: int64"
      ]
     },
     "execution_count": 19,
     "metadata": {},
     "output_type": "execute_result"
    }
   ],
   "source": [
    "data['source'].value_counts()"
   ]
  },
  {
   "cell_type": "code",
   "execution_count": 20,
   "metadata": {
    "scrolled": true
   },
   "outputs": [
    {
     "data": {
      "text/plain": [
       "Jk Cement ltd                    4\n",
       "Sterling Agro Industries ltd.    4\n",
       "Acc Acc ltd                      4\n",
       "Powerica Limited                 3\n",
       "Jaypee Ltd jccl)                 3\n",
       "                                ..\n",
       "Bhilwara Energy Limited          1\n",
       "KVK Energy Ventures Ltd          1\n",
       "Videocon Industries Limited      1\n",
       "Lokmangal Lokmangal group        1\n",
       "TVS Energy limited               1\n",
       "Name: owner, Length: 280, dtype: int64"
      ]
     },
     "execution_count": 20,
     "metadata": {},
     "output_type": "execute_result"
    }
   ],
   "source": [
    "data['owner'].value_counts()"
   ]
  },
  {
   "cell_type": "markdown",
   "metadata": {},
   "source": [
    "By checking all these 4 columns: 'Name','gppd_idnr','url','owner'. There all columns are unique & also these columns are of no releation with predicted/Target column so it will not impact on the model to predict. So i will drop/remove these columns."
   ]
  },
  {
   "cell_type": "code",
   "execution_count": 25,
   "metadata": {},
   "outputs": [
    {
     "data": {
      "text/plain": [
       "Index(['capacity_mw', 'latitude', 'longitude', 'Fuel_type', 'other_fuel1',\n",
       "       'commissioning_year', 'source', 'geolocation_source',\n",
       "       'generation_gwh_2013', 'generation_gwh_2014', 'generation_gwh_2015',\n",
       "       'generation_gwh_2016', 'generation_gwh_2017'],\n",
       "      dtype='object')"
      ]
     },
     "execution_count": 25,
     "metadata": {},
     "output_type": "execute_result"
    }
   ],
   "source": [
    "data.columns"
   ]
  },
  {
   "cell_type": "code",
   "execution_count": 26,
   "metadata": {},
   "outputs": [
    {
     "data": {
      "text/plain": [
       "(908, 13)"
      ]
     },
     "execution_count": 26,
     "metadata": {},
     "output_type": "execute_result"
    }
   ],
   "source": [
    "data.shape"
   ]
  },
  {
   "cell_type": "code",
   "execution_count": 27,
   "metadata": {},
   "outputs": [
    {
     "data": {
      "text/plain": [
       "capacity_mw              0\n",
       "latitude                46\n",
       "longitude               46\n",
       "Fuel_type                0\n",
       "other_fuel1            709\n",
       "commissioning_year     380\n",
       "source                   0\n",
       "geolocation_source      19\n",
       "generation_gwh_2013    524\n",
       "generation_gwh_2014    507\n",
       "generation_gwh_2015    483\n",
       "generation_gwh_2016    471\n",
       "generation_gwh_2017    465\n",
       "dtype: int64"
      ]
     },
     "execution_count": 27,
     "metadata": {},
     "output_type": "execute_result"
    }
   ],
   "source": [
    "data.isnull().sum()"
   ]
  },
  {
   "cell_type": "code",
   "execution_count": 28,
   "metadata": {
    "scrolled": true
   },
   "outputs": [
    {
     "data": {
      "text/plain": [
       "capacity_mw            float64\n",
       "latitude               float64\n",
       "longitude              float64\n",
       "Fuel_type               object\n",
       "other_fuel1             object\n",
       "commissioning_year     float64\n",
       "source                  object\n",
       "geolocation_source      object\n",
       "generation_gwh_2013    float64\n",
       "generation_gwh_2014    float64\n",
       "generation_gwh_2015    float64\n",
       "generation_gwh_2016    float64\n",
       "generation_gwh_2017    float64\n",
       "dtype: object"
      ]
     },
     "execution_count": 28,
     "metadata": {},
     "output_type": "execute_result"
    }
   ],
   "source": [
    "\n",
    "data.dtypes"
   ]
  },
  {
   "cell_type": "markdown",
   "metadata": {},
   "source": [
    "Instead of commissioning_year the present_power_plant_year will give better model. So am subtrating with this year i.e 2021"
   ]
  },
  {
   "cell_type": "code",
   "execution_count": 29,
   "metadata": {},
   "outputs": [],
   "source": [
    "data['Present_Power_plant_year'] = 2021 - data['commissioning_year']"
   ]
  },
  {
   "cell_type": "code",
   "execution_count": 30,
   "metadata": {},
   "outputs": [
    {
     "data": {
      "text/html": [
       "<div>\n",
       "<style scoped>\n",
       "    .dataframe tbody tr th:only-of-type {\n",
       "        vertical-align: middle;\n",
       "    }\n",
       "\n",
       "    .dataframe tbody tr th {\n",
       "        vertical-align: top;\n",
       "    }\n",
       "\n",
       "    .dataframe thead th {\n",
       "        text-align: right;\n",
       "    }\n",
       "</style>\n",
       "<table border=\"1\" class=\"dataframe\">\n",
       "  <thead>\n",
       "    <tr style=\"text-align: right;\">\n",
       "      <th></th>\n",
       "      <th>capacity_mw</th>\n",
       "      <th>latitude</th>\n",
       "      <th>longitude</th>\n",
       "      <th>Fuel_type</th>\n",
       "      <th>other_fuel1</th>\n",
       "      <th>commissioning_year</th>\n",
       "      <th>source</th>\n",
       "      <th>geolocation_source</th>\n",
       "      <th>generation_gwh_2013</th>\n",
       "      <th>generation_gwh_2014</th>\n",
       "      <th>generation_gwh_2015</th>\n",
       "      <th>generation_gwh_2016</th>\n",
       "      <th>generation_gwh_2017</th>\n",
       "      <th>Present_Power_plant_year</th>\n",
       "    </tr>\n",
       "  </thead>\n",
       "  <tbody>\n",
       "    <tr>\n",
       "      <th>0</th>\n",
       "      <td>2.5</td>\n",
       "      <td>28.1839</td>\n",
       "      <td>73.2407</td>\n",
       "      <td>Solar</td>\n",
       "      <td>NaN</td>\n",
       "      <td>2011.0</td>\n",
       "      <td>National Renewable Energy Laboratory</td>\n",
       "      <td>National Renewable Energy Laboratory</td>\n",
       "      <td>NaN</td>\n",
       "      <td>NaN</td>\n",
       "      <td>NaN</td>\n",
       "      <td>NaN</td>\n",
       "      <td>NaN</td>\n",
       "      <td>10.0</td>\n",
       "    </tr>\n",
       "    <tr>\n",
       "      <th>1</th>\n",
       "      <td>98.0</td>\n",
       "      <td>24.7663</td>\n",
       "      <td>74.6090</td>\n",
       "      <td>Coal</td>\n",
       "      <td>NaN</td>\n",
       "      <td>NaN</td>\n",
       "      <td>Ultratech Cement ltd</td>\n",
       "      <td>WRI</td>\n",
       "      <td>NaN</td>\n",
       "      <td>NaN</td>\n",
       "      <td>NaN</td>\n",
       "      <td>NaN</td>\n",
       "      <td>NaN</td>\n",
       "      <td>NaN</td>\n",
       "    </tr>\n",
       "    <tr>\n",
       "      <th>2</th>\n",
       "      <td>39.2</td>\n",
       "      <td>21.9038</td>\n",
       "      <td>69.3732</td>\n",
       "      <td>Wind</td>\n",
       "      <td>NaN</td>\n",
       "      <td>NaN</td>\n",
       "      <td>CDM</td>\n",
       "      <td>WRI</td>\n",
       "      <td>NaN</td>\n",
       "      <td>NaN</td>\n",
       "      <td>NaN</td>\n",
       "      <td>NaN</td>\n",
       "      <td>NaN</td>\n",
       "      <td>NaN</td>\n",
       "    </tr>\n",
       "    <tr>\n",
       "      <th>3</th>\n",
       "      <td>135.0</td>\n",
       "      <td>23.8712</td>\n",
       "      <td>91.3602</td>\n",
       "      <td>Gas</td>\n",
       "      <td>NaN</td>\n",
       "      <td>2004.0</td>\n",
       "      <td>Central Electricity Authority</td>\n",
       "      <td>WRI</td>\n",
       "      <td>631.777928</td>\n",
       "      <td>617.789264</td>\n",
       "      <td>843.747</td>\n",
       "      <td>886.004428</td>\n",
       "      <td>663.774500</td>\n",
       "      <td>17.0</td>\n",
       "    </tr>\n",
       "    <tr>\n",
       "      <th>4</th>\n",
       "      <td>1800.0</td>\n",
       "      <td>21.9603</td>\n",
       "      <td>82.4091</td>\n",
       "      <td>Coal</td>\n",
       "      <td>Oil</td>\n",
       "      <td>2015.0</td>\n",
       "      <td>Central Electricity Authority</td>\n",
       "      <td>WRI</td>\n",
       "      <td>1668.290000</td>\n",
       "      <td>3035.550000</td>\n",
       "      <td>5916.370</td>\n",
       "      <td>6243.000000</td>\n",
       "      <td>5385.579736</td>\n",
       "      <td>6.0</td>\n",
       "    </tr>\n",
       "  </tbody>\n",
       "</table>\n",
       "</div>"
      ],
      "text/plain": [
       "   capacity_mw  latitude  longitude Fuel_type other_fuel1  commissioning_year  \\\n",
       "0          2.5   28.1839    73.2407     Solar         NaN              2011.0   \n",
       "1         98.0   24.7663    74.6090      Coal         NaN                 NaN   \n",
       "2         39.2   21.9038    69.3732      Wind         NaN                 NaN   \n",
       "3        135.0   23.8712    91.3602       Gas         NaN              2004.0   \n",
       "4       1800.0   21.9603    82.4091      Coal         Oil              2015.0   \n",
       "\n",
       "                                 source                    geolocation_source  \\\n",
       "0  National Renewable Energy Laboratory  National Renewable Energy Laboratory   \n",
       "1                  Ultratech Cement ltd                                   WRI   \n",
       "2                                   CDM                                   WRI   \n",
       "3         Central Electricity Authority                                   WRI   \n",
       "4         Central Electricity Authority                                   WRI   \n",
       "\n",
       "   generation_gwh_2013  generation_gwh_2014  generation_gwh_2015  \\\n",
       "0                  NaN                  NaN                  NaN   \n",
       "1                  NaN                  NaN                  NaN   \n",
       "2                  NaN                  NaN                  NaN   \n",
       "3           631.777928           617.789264              843.747   \n",
       "4          1668.290000          3035.550000             5916.370   \n",
       "\n",
       "   generation_gwh_2016  generation_gwh_2017  Present_Power_plant_year  \n",
       "0                  NaN                  NaN                      10.0  \n",
       "1                  NaN                  NaN                       NaN  \n",
       "2                  NaN                  NaN                       NaN  \n",
       "3           886.004428           663.774500                      17.0  \n",
       "4          6243.000000          5385.579736                       6.0  "
      ]
     },
     "execution_count": 30,
     "metadata": {},
     "output_type": "execute_result"
    }
   ],
   "source": [
    "data.head()"
   ]
  },
  {
   "cell_type": "code",
   "execution_count": 31,
   "metadata": {},
   "outputs": [],
   "source": [
    "data.drop(columns=[\"commissioning_year\"],inplace=True)"
   ]
  },
  {
   "cell_type": "code",
   "execution_count": 32,
   "metadata": {},
   "outputs": [
    {
     "data": {
      "text/plain": [
       "capacity_mw                   0\n",
       "latitude                     46\n",
       "longitude                    46\n",
       "Fuel_type                     0\n",
       "other_fuel1                 709\n",
       "source                        0\n",
       "geolocation_source           19\n",
       "generation_gwh_2013         524\n",
       "generation_gwh_2014         507\n",
       "generation_gwh_2015         483\n",
       "generation_gwh_2016         471\n",
       "generation_gwh_2017         465\n",
       "Present_Power_plant_year    380\n",
       "dtype: int64"
      ]
     },
     "execution_count": 32,
     "metadata": {},
     "output_type": "execute_result"
    }
   ],
   "source": [
    "data.isnull().sum()"
   ]
  },
  {
   "cell_type": "code",
   "execution_count": 33,
   "metadata": {},
   "outputs": [],
   "source": [
    "#Replacing NaN values in numerical columns\n",
    "\n",
    "data[\"latitude\"] = data[\"latitude\"].fillna(data[\"latitude\"].median())\n",
    "data[\"longitude\"] = data[\"longitude\"].fillna(data[\"longitude\"].median())\n",
    "data[\"Present_Power_plant_year\"] = data[\"Present_Power_plant_year\"].fillna(data[\"Present_Power_plant_year\"].median())\n",
    "data[\"generation_gwh_2013\"] = data[\"generation_gwh_2013\"].fillna(data[\"generation_gwh_2013\"].median())\n",
    "data[\"generation_gwh_2014\"] = data[\"generation_gwh_2014\"].fillna(data[\"generation_gwh_2014\"].median())\n",
    "data[\"generation_gwh_2015\"] = data[\"generation_gwh_2015\"].fillna(data[\"generation_gwh_2015\"].median())\n",
    "data[\"generation_gwh_2016\"] = data[\"generation_gwh_2016\"].fillna(data[\"generation_gwh_2016\"].median())\n",
    "data[\"generation_gwh_2017\"] = data[\"generation_gwh_2017\"].fillna(data[\"generation_gwh_2017\"].median())"
   ]
  },
  {
   "cell_type": "code",
   "execution_count": 34,
   "metadata": {},
   "outputs": [],
   "source": [
    "#Replacing NaN values in categorical columns\n",
    "\n",
    "data[\"other_fuel1\"] = data[\"other_fuel1\"].fillna(data[\"other_fuel1\"].mode()[0])\n",
    "data[\"geolocation_source\"] = data[\"geolocation_source\"].fillna(data[\"geolocation_source\"].mode()[0])"
   ]
  },
  {
   "cell_type": "code",
   "execution_count": 35,
   "metadata": {},
   "outputs": [
    {
     "data": {
      "text/plain": [
       "capacity_mw                 0\n",
       "latitude                    0\n",
       "longitude                   0\n",
       "Fuel_type                   0\n",
       "other_fuel1                 0\n",
       "source                      0\n",
       "geolocation_source          0\n",
       "generation_gwh_2013         0\n",
       "generation_gwh_2014         0\n",
       "generation_gwh_2015         0\n",
       "generation_gwh_2016         0\n",
       "generation_gwh_2017         0\n",
       "Present_Power_plant_year    0\n",
       "dtype: int64"
      ]
     },
     "execution_count": 35,
     "metadata": {},
     "output_type": "execute_result"
    }
   ],
   "source": [
    "# Now checking again Null values after this replacement.\n",
    "data.isnull().sum()"
   ]
  },
  {
   "cell_type": "code",
   "execution_count": 36,
   "metadata": {},
   "outputs": [
    {
     "data": {
      "image/png": "[encoded data removed]",
      "text/plain": [
       "<Figure size 432x288 with 2 Axes>"
      ]
     },
     "metadata": {
      "needs_background": "light"
     },
     "output_type": "display_data"
    },
    {
     "data": {
      "text/plain": [
       "<Figure size 864x288 with 0 Axes>"
      ]
     },
     "metadata": {},
     "output_type": "display_data"
    }
   ],
   "source": [
    "# Now again checking with visulization Heat map\n",
    "sns.heatmap(data.isnull())\n",
    "plt.figure(figsize=[12,4])\n",
    "plt.show()"
   ]
  },
  {
   "cell_type": "code",
   "execution_count": 37,
   "metadata": {},
   "outputs": [
    {
     "data": {
      "text/plain": [
       "capacity_mw                 3.193257\n",
       "latitude                   -0.161811\n",
       "longitude                   1.150963\n",
       "generation_gwh_2013         5.535740\n",
       "generation_gwh_2014         5.325540\n",
       "generation_gwh_2015         5.565770\n",
       "generation_gwh_2016         5.278233\n",
       "generation_gwh_2017         5.312975\n",
       "Present_Power_plant_year    1.650230\n",
       "dtype: float64"
      ]
     },
     "execution_count": 37,
     "metadata": {},
     "output_type": "execute_result"
    }
   ],
   "source": [
    "# Now checking the skwennes of the data set.\n",
    "data.skew()"
   ]
  },
  {
   "cell_type": "code",
   "execution_count": 38,
   "metadata": {},
   "outputs": [
    {
     "data": {
      "text/plain": [
       "<AxesSubplot:ylabel='Frequency'>"
      ]
     },
     "execution_count": 38,
     "metadata": {},
     "output_type": "execute_result"
    },
    {
     "data": {
      "image/png": "[encoded data removed]",
      "text/plain": [
       "<Figure size 432x288 with 1 Axes>"
      ]
     },
     "metadata": {
      "needs_background": "light"
     },
     "output_type": "display_data"
    }
   ],
   "source": [
    "# skewness visulization for each column done by\n",
    "data['capacity_mw'].plot.hist()"
   ]
  },
  {
   "cell_type": "code",
   "execution_count": 39,
   "metadata": {},
   "outputs": [
    {
     "data": {
      "text/plain": [
       "<AxesSubplot:ylabel='Frequency'>"
      ]
     },
     "execution_count": 39,
     "metadata": {},
     "output_type": "execute_result"
    },
    {
     "data": {
      "image/png": "[encoded data removed]",
      "text/plain": [
       "<Figure size 432x288 with 1 Axes>"
      ]
     },
     "metadata": {
      "needs_background": "light"
     },
     "output_type": "display_data"
    }
   ],
   "source": [
    "data['latitude'].plot.hist()"
   ]
  },
  {
   "cell_type": "code",
   "execution_count": 40,
   "metadata": {},
   "outputs": [
    {
     "data": {
      "text/plain": [
       "<AxesSubplot:ylabel='Frequency'>"
      ]
     },
     "execution_count": 40,
     "metadata": {},
     "output_type": "execute_result"
    },
    {
     "data": {
      "image/png": "[encoded data removed]",
      "text/plain": [
       "<Figure size 432x288 with 1 Axes>"
      ]
     },
     "metadata": {
      "needs_background": "light"
     },
     "output_type": "display_data"
    }
   ],
   "source": [
    "data['longitude'].plot.hist()"
   ]
  },
  {
   "cell_type": "code",
   "execution_count": 41,
   "metadata": {},
   "outputs": [
    {
     "data": {
      "text/plain": [
       "<AxesSubplot:ylabel='Frequency'>"
      ]
     },
     "execution_count": 41,
     "metadata": {},
     "output_type": "execute_result"
    },
    {
     "data": {
      "image/png": "[encoded data removed]",
      "text/plain": [
       "<Figure size 432x288 with 1 Axes>"
      ]
     },
     "metadata": {
      "needs_background": "light"
     },
     "output_type": "display_data"
    }
   ],
   "source": [
    "data['generation_gwh_2013'].plot.hist()"
   ]
  },
  {
   "cell_type": "code",
   "execution_count": 42,
   "metadata": {},
   "outputs": [
    {
     "data": {
      "text/plain": [
       "<AxesSubplot:ylabel='Frequency'>"
      ]
     },
     "execution_count": 42,
     "metadata": {},
     "output_type": "execute_result"
    },
    {
     "data": {
      "image/png": "[encoded data removed]",
      "text/plain": [
       "<Figure size 432x288 with 1 Axes>"
      ]
     },
     "metadata": {
      "needs_background": "light"
     },
     "output_type": "display_data"
    }
   ],
   "source": [
    "data['generation_gwh_2014'].plot.hist()"
   ]
  },
  {
   "cell_type": "code",
   "execution_count": 43,
   "metadata": {},
   "outputs": [
    {
     "data": {
      "text/plain": [
       "<AxesSubplot:ylabel='Frequency'>"
      ]
     },
     "execution_count": 43,
     "metadata": {},
     "output_type": "execute_result"
    },
    {
     "data": {
      "image/png": "[encoded data removed]",
      "text/plain": [
       "<Figure size 432x288 with 1 Axes>"
      ]
     },
     "metadata": {
      "needs_background": "light"
     },
     "output_type": "display_data"
    }
   ],
   "source": [
    "data['generation_gwh_2015'].plot.hist()"
   ]
  },
  {
   "cell_type": "code",
   "execution_count": 44,
   "metadata": {},
   "outputs": [
    {
     "data": {
      "text/plain": [
       "<AxesSubplot:ylabel='Frequency'>"
      ]
     },
     "execution_count": 44,
     "metadata": {},
     "output_type": "execute_result"
    },
    {
     "data": {
      "image/png": "[encoded data removed]",
      "text/plain": [
       "<Figure size 432x288 with 1 Axes>"
      ]
     },
     "metadata": {
      "needs_background": "light"
     },
     "output_type": "display_data"
    }
   ],
   "source": [
    "data['generation_gwh_2016'].plot.hist()"
   ]
  },
  {
   "cell_type": "code",
   "execution_count": 45,
   "metadata": {},
   "outputs": [
    {
     "data": {
      "text/plain": [
       "<AxesSubplot:ylabel='Frequency'>"
      ]
     },
     "execution_count": 45,
     "metadata": {},
     "output_type": "execute_result"
    },
    {
     "data": {
      "image/png": "[encoded data removed]",
      "text/plain": [
       "<Figure size 432x288 with 1 Axes>"
      ]
     },
     "metadata": {
      "needs_background": "light"
     },
     "output_type": "display_data"
    }
   ],
   "source": [
    "data['generation_gwh_2017'].plot.hist()"
   ]
  },
  {
   "cell_type": "code",
   "execution_count": 46,
   "metadata": {},
   "outputs": [
    {
     "data": {
      "text/plain": [
       "<AxesSubplot:ylabel='Frequency'>"
      ]
     },
     "execution_count": 46,
     "metadata": {},
     "output_type": "execute_result"
    },
    {
     "data": {
      "image/png": "[encoded data removed]",
      "text/plain": [
       "<Figure size 432x288 with 1 Axes>"
      ]
     },
     "metadata": {
      "needs_background": "light"
     },
     "output_type": "display_data"
    }
   ],
   "source": [
    "data['Present_Power_plant_year'].plot.hist()"
   ]
  },
  {
   "cell_type": "code",
   "execution_count": 47,
   "metadata": {},
   "outputs": [
    {
     "data": {
      "text/plain": [
       "\"\\nparameters:\\nmethod = 'box-cox' or 'yeo-johnson'\\n\""
      ]
     },
     "execution_count": 47,
     "metadata": {},
     "output_type": "execute_result"
    }
   ],
   "source": [
    "# Making the skew less than or equal to +0.5 and -0.5 for better prediction using yeo-johnson method\n",
    "\n",
    "skew = ['capacity_mw','longitude','generation_gwh_2013','generation_gwh_2014','generation_gwh_2015','generation_gwh_2016','generation_gwh_2017','Present_Power_plant_year']\n",
    "\n",
    "from sklearn.preprocessing import PowerTransformer\n",
    "scaler = PowerTransformer(method='yeo-johnson')\n",
    "'''\n",
    "parameters:\n",
    "method = 'box-cox' or 'yeo-johnson'\n",
    "'''"
   ]
  },
  {
   "cell_type": "code",
   "execution_count": 48,
   "metadata": {},
   "outputs": [
    {
     "data": {
      "text/html": [
       "<div>\n",
       "<style scoped>\n",
       "    .dataframe tbody tr th:only-of-type {\n",
       "        vertical-align: middle;\n",
       "    }\n",
       "\n",
       "    .dataframe tbody tr th {\n",
       "        vertical-align: top;\n",
       "    }\n",
       "\n",
       "    .dataframe thead th {\n",
       "        text-align: right;\n",
       "    }\n",
       "</style>\n",
       "<table border=\"1\" class=\"dataframe\">\n",
       "  <thead>\n",
       "    <tr style=\"text-align: right;\">\n",
       "      <th></th>\n",
       "      <th>capacity_mw</th>\n",
       "      <th>longitude</th>\n",
       "      <th>generation_gwh_2013</th>\n",
       "      <th>generation_gwh_2014</th>\n",
       "      <th>generation_gwh_2015</th>\n",
       "      <th>generation_gwh_2016</th>\n",
       "      <th>generation_gwh_2017</th>\n",
       "      <th>Present_Power_plant_year</th>\n",
       "    </tr>\n",
       "  </thead>\n",
       "  <tbody>\n",
       "    <tr>\n",
       "      <th>0</th>\n",
       "      <td>-1.695723</td>\n",
       "      <td>-0.945660</td>\n",
       "      <td>-0.046712</td>\n",
       "      <td>-0.045486</td>\n",
       "      <td>-0.053637</td>\n",
       "      <td>-0.054984</td>\n",
       "      <td>-0.038673</td>\n",
       "      <td>-1.143845</td>\n",
       "    </tr>\n",
       "    <tr>\n",
       "      <th>1</th>\n",
       "      <td>0.192511</td>\n",
       "      <td>-0.534583</td>\n",
       "      <td>-0.046712</td>\n",
       "      <td>-0.045486</td>\n",
       "      <td>-0.053637</td>\n",
       "      <td>-0.054984</td>\n",
       "      <td>-0.038673</td>\n",
       "      <td>0.050961</td>\n",
       "    </tr>\n",
       "    <tr>\n",
       "      <th>2</th>\n",
       "      <td>-0.294920</td>\n",
       "      <td>-2.390876</td>\n",
       "      <td>-0.046712</td>\n",
       "      <td>-0.045486</td>\n",
       "      <td>-0.053637</td>\n",
       "      <td>-0.054984</td>\n",
       "      <td>-0.038673</td>\n",
       "      <td>0.050961</td>\n",
       "    </tr>\n",
       "    <tr>\n",
       "      <th>3</th>\n",
       "      <td>0.360587</td>\n",
       "      <td>2.181487</td>\n",
       "      <td>-0.234814</td>\n",
       "      <td>-0.246450</td>\n",
       "      <td>0.081323</td>\n",
       "      <td>0.097738</td>\n",
       "      <td>-0.175277</td>\n",
       "      <td>-0.315269</td>\n",
       "    </tr>\n",
       "    <tr>\n",
       "      <th>4</th>\n",
       "      <td>1.660257</td>\n",
       "      <td>1.132342</td>\n",
       "      <td>0.615682</td>\n",
       "      <td>1.151206</td>\n",
       "      <td>1.837256</td>\n",
       "      <td>1.845609</td>\n",
       "      <td>1.623273</td>\n",
       "      <td>-1.824023</td>\n",
       "    </tr>\n",
       "  </tbody>\n",
       "</table>\n",
       "</div>"
      ],
      "text/plain": [
       "   capacity_mw  longitude  generation_gwh_2013  generation_gwh_2014  \\\n",
       "0    -1.695723  -0.945660            -0.046712            -0.045486   \n",
       "1     0.192511  -0.534583            -0.046712            -0.045486   \n",
       "2    -0.294920  -2.390876            -0.046712            -0.045486   \n",
       "3     0.360587   2.181487            -0.234814            -0.246450   \n",
       "4     1.660257   1.132342             0.615682             1.151206   \n",
       "\n",
       "   generation_gwh_2015  generation_gwh_2016  generation_gwh_2017  \\\n",
       "0            -0.053637            -0.054984            -0.038673   \n",
       "1            -0.053637            -0.054984            -0.038673   \n",
       "2            -0.053637            -0.054984            -0.038673   \n",
       "3             0.081323             0.097738            -0.175277   \n",
       "4             1.837256             1.845609             1.623273   \n",
       "\n",
       "   Present_Power_plant_year  \n",
       "0                 -1.143845  \n",
       "1                  0.050961  \n",
       "2                  0.050961  \n",
       "3                 -0.315269  \n",
       "4                 -1.824023  "
      ]
     },
     "execution_count": 48,
     "metadata": {},
     "output_type": "execute_result"
    }
   ],
   "source": [
    "data[skew] = scaler.fit_transform(data[skew].values)\n",
    "data[skew].head()"
   ]
  },
  {
   "cell_type": "code",
   "execution_count": 49,
   "metadata": {},
   "outputs": [
    {
     "data": {
      "text/plain": [
       "capacity_mw                 0.020461\n",
       "latitude                   -0.161811\n",
       "longitude                   0.002567\n",
       "generation_gwh_2013         0.313991\n",
       "generation_gwh_2014         0.286606\n",
       "generation_gwh_2015         0.220431\n",
       "generation_gwh_2016         0.201832\n",
       "generation_gwh_2017         0.194047\n",
       "Present_Power_plant_year    0.023976\n",
       "dtype: float64"
      ]
     },
     "execution_count": 49,
     "metadata": {},
     "output_type": "execute_result"
    }
   ],
   "source": [
    "\n",
    "data.skew()"
   ]
  },
  {
   "cell_type": "code",
   "execution_count": null,
   "metadata": {},
   "outputs": [],
   "source": [
    "# Skewness is within the range of -0.5 to +0.5"
   ]
  },
  {
   "cell_type": "code",
   "execution_count": 50,
   "metadata": {},
   "outputs": [
    {
     "data": {
      "text/plain": [
       "<AxesSubplot:ylabel='Frequency'>"
      ]
     },
     "execution_count": 50,
     "metadata": {},
     "output_type": "execute_result"
    },
    {
     "data": {
      "image/png": "[encoded data removed]",
      "text/plain": [
       "<Figure size 432x288 with 1 Axes>"
      ]
     },
     "metadata": {
      "needs_background": "light"
     },
     "output_type": "display_data"
    }
   ],
   "source": [
    "data['capacity_mw'].plot.hist()"
   ]
  },
  {
   "cell_type": "code",
   "execution_count": 51,
   "metadata": {},
   "outputs": [
    {
     "data": {
      "text/plain": [
       "<AxesSubplot:xlabel='capacity_mw', ylabel='Density'>"
      ]
     },
     "execution_count": 51,
     "metadata": {},
     "output_type": "execute_result"
    },
    {
     "data": {
      "image/png": "[encoded data removed]",
      "text/plain": [
       "<Figure size 432x288 with 1 Axes>"
      ]
     },
     "metadata": {
      "needs_background": "light"
     },
     "output_type": "display_data"
    }
   ],
   "source": [
    "# Distribution Plot\n",
    "\n",
    "sns.distplot(data['capacity_mw'])"
   ]
  },
  {
   "cell_type": "code",
   "execution_count": 52,
   "metadata": {},
   "outputs": [
    {
     "data": {
      "text/plain": [
       "<AxesSubplot:xlabel='latitude', ylabel='Density'>"
      ]
     },
     "execution_count": 52,
     "metadata": {},
     "output_type": "execute_result"
    },
    {
     "data": {
      "image/png": "[encoded data removed]",
      "text/plain": [
       "<Figure size 432x288 with 1 Axes>"
      ]
     },
     "metadata": {
      "needs_background": "light"
     },
     "output_type": "display_data"
    }
   ],
   "source": [
    "sns.distplot(data['latitude'])"
   ]
  },
  {
   "cell_type": "code",
   "execution_count": 53,
   "metadata": {},
   "outputs": [
    {
     "data": {
      "text/plain": [
       "<AxesSubplot:xlabel='longitude', ylabel='Density'>"
      ]
     },
     "execution_count": 53,
     "metadata": {},
     "output_type": "execute_result"
    },
    {
     "data": {
      "image/png": "[encoded data removed]",
      "text/plain": [
       "<Figure size 432x288 with 1 Axes>"
      ]
     },
     "metadata": {
      "needs_background": "light"
     },
     "output_type": "display_data"
    }
   ],
   "source": [
    "sns.distplot(data['longitude'])"
   ]
  },
  {
   "cell_type": "code",
   "execution_count": 54,
   "metadata": {},
   "outputs": [
    {
     "data": {
      "text/plain": [
       "<AxesSubplot:xlabel='generation_gwh_2014', ylabel='Density'>"
      ]
     },
     "execution_count": 54,
     "metadata": {},
     "output_type": "execute_result"
    },
    {
     "data": {
      "image/png": "[encoded data removed]",
      "text/plain": [
       "<Figure size 432x288 with 1 Axes>"
      ]
     },
     "metadata": {
      "needs_background": "light"
     },
     "output_type": "display_data"
    }
   ],
   "source": [
    "sns.distplot(data['generation_gwh_2014'])"
   ]
  },
  {
   "cell_type": "code",
   "execution_count": 55,
   "metadata": {},
   "outputs": [
    {
     "data": {
      "text/plain": [
       "<AxesSubplot:xlabel='generation_gwh_2015', ylabel='Density'>"
      ]
     },
     "execution_count": 55,
     "metadata": {},
     "output_type": "execute_result"
    },
    {
     "data": {
      "image/png": "[encoded data removed]",
      "text/plain": [
       "<Figure size 432x288 with 1 Axes>"
      ]
     },
     "metadata": {
      "needs_background": "light"
     },
     "output_type": "display_data"
    }
   ],
   "source": [
    "sns.distplot(data['generation_gwh_2015'])"
   ]
  },
  {
   "cell_type": "code",
   "execution_count": 56,
   "metadata": {},
   "outputs": [
    {
     "data": {
      "text/plain": [
       "<AxesSubplot:xlabel='generation_gwh_2016', ylabel='Density'>"
      ]
     },
     "execution_count": 56,
     "metadata": {},
     "output_type": "execute_result"
    },
    {
     "data": {
      "image/png": "[encoded data removed]",
      "text/plain": [
       "<Figure size 432x288 with 1 Axes>"
      ]
     },
     "metadata": {
      "needs_background": "light"
     },
     "output_type": "display_data"
    }
   ],
   "source": [
    "sns.distplot(data['generation_gwh_2016'])"
   ]
  },
  {
   "cell_type": "code",
   "execution_count": 57,
   "metadata": {},
   "outputs": [
    {
     "data": {
      "text/plain": [
       "<AxesSubplot:xlabel='generation_gwh_2017', ylabel='Density'>"
      ]
     },
     "execution_count": 57,
     "metadata": {},
     "output_type": "execute_result"
    },
    {
     "data": {
      "image/png": "[encoded data removed]",
      "text/plain": [
       "<Figure size 432x288 with 1 Axes>"
      ]
     },
     "metadata": {
      "needs_background": "light"
     },
     "output_type": "display_data"
    }
   ],
   "source": [
    "sns.distplot(data['generation_gwh_2017'])"
   ]
  },
  {
   "cell_type": "code",
   "execution_count": 58,
   "metadata": {},
   "outputs": [
    {
     "data": {
      "text/plain": [
       "<AxesSubplot:xlabel='Present_Power_plant_year', ylabel='Density'>"
      ]
     },
     "execution_count": 58,
     "metadata": {},
     "output_type": "execute_result"
    },
    {
     "data": {
      "image/png": "[encoded data removed]",
      "text/plain": [
       "<Figure size 432x288 with 1 Axes>"
      ]
     },
     "metadata": {
      "needs_background": "light"
     },
     "output_type": "display_data"
    }
   ],
   "source": [
    "sns.distplot(data['Present_Power_plant_year'])"
   ]
  },
  {
   "cell_type": "code",
   "execution_count": 59,
   "metadata": {},
   "outputs": [
    {
     "data": {
      "text/html": [
       "<div>\n",
       "<style scoped>\n",
       "    .dataframe tbody tr th:only-of-type {\n",
       "        vertical-align: middle;\n",
       "    }\n",
       "\n",
       "    .dataframe tbody tr th {\n",
       "        vertical-align: top;\n",
       "    }\n",
       "\n",
       "    .dataframe thead th {\n",
       "        text-align: right;\n",
       "    }\n",
       "</style>\n",
       "<table border=\"1\" class=\"dataframe\">\n",
       "  <thead>\n",
       "    <tr style=\"text-align: right;\">\n",
       "      <th></th>\n",
       "      <th>capacity_mw</th>\n",
       "      <th>latitude</th>\n",
       "      <th>longitude</th>\n",
       "      <th>generation_gwh_2013</th>\n",
       "      <th>generation_gwh_2014</th>\n",
       "      <th>generation_gwh_2015</th>\n",
       "      <th>generation_gwh_2016</th>\n",
       "      <th>generation_gwh_2017</th>\n",
       "      <th>Present_Power_plant_year</th>\n",
       "    </tr>\n",
       "  </thead>\n",
       "  <tbody>\n",
       "    <tr>\n",
       "      <th>count</th>\n",
       "      <td>9.080000e+02</td>\n",
       "      <td>908.000000</td>\n",
       "      <td>908.000000</td>\n",
       "      <td>9.080000e+02</td>\n",
       "      <td>9.080000e+02</td>\n",
       "      <td>9.080000e+02</td>\n",
       "      <td>9.080000e+02</td>\n",
       "      <td>9.080000e+02</td>\n",
       "      <td>9.080000e+02</td>\n",
       "    </tr>\n",
       "    <tr>\n",
       "      <th>mean</th>\n",
       "      <td>-1.809615e-17</td>\n",
       "      <td>21.225679</td>\n",
       "      <td>0.000001</td>\n",
       "      <td>-1.184350e-16</td>\n",
       "      <td>-3.302700e-16</td>\n",
       "      <td>8.866195e-17</td>\n",
       "      <td>-6.694351e-16</td>\n",
       "      <td>-2.698832e-16</td>\n",
       "      <td>2.493264e-16</td>\n",
       "    </tr>\n",
       "    <tr>\n",
       "      <th>std</th>\n",
       "      <td>1.000551e+00</td>\n",
       "      <td>6.089450</td>\n",
       "      <td>1.000551</td>\n",
       "      <td>1.000551e+00</td>\n",
       "      <td>1.000551e+00</td>\n",
       "      <td>1.000551e+00</td>\n",
       "      <td>1.000551e+00</td>\n",
       "      <td>1.000551e+00</td>\n",
       "      <td>1.000551e+00</td>\n",
       "    </tr>\n",
       "    <tr>\n",
       "      <th>min</th>\n",
       "      <td>-2.462841e+00</td>\n",
       "      <td>8.168900</td>\n",
       "      <td>-2.719831</td>\n",
       "      <td>-3.040344e+00</td>\n",
       "      <td>-2.801534e+00</td>\n",
       "      <td>-2.710369e+00</td>\n",
       "      <td>-2.674396e+00</td>\n",
       "      <td>-2.585412e+00</td>\n",
       "      <td>-2.571587e+00</td>\n",
       "    </tr>\n",
       "    <tr>\n",
       "      <th>25%</th>\n",
       "      <td>-7.479067e-01</td>\n",
       "      <td>17.057825</td>\n",
       "      <td>-0.597316</td>\n",
       "      <td>-4.671209e-02</td>\n",
       "      <td>-4.548588e-02</td>\n",
       "      <td>-5.363672e-02</td>\n",
       "      <td>-5.498394e-02</td>\n",
       "      <td>-3.867305e-02</td>\n",
       "      <td>-2.182960e-01</td>\n",
       "    </tr>\n",
       "    <tr>\n",
       "      <th>50%</th>\n",
       "      <td>-6.745980e-02</td>\n",
       "      <td>21.778300</td>\n",
       "      <td>0.018127</td>\n",
       "      <td>-4.671209e-02</td>\n",
       "      <td>-4.548588e-02</td>\n",
       "      <td>-5.363672e-02</td>\n",
       "      <td>-5.498394e-02</td>\n",
       "      <td>-3.867305e-02</td>\n",
       "      <td>5.096106e-02</td>\n",
       "    </tr>\n",
       "    <tr>\n",
       "      <th>75%</th>\n",
       "      <td>9.037772e-01</td>\n",
       "      <td>25.183775</td>\n",
       "      <td>0.564832</td>\n",
       "      <td>-4.671209e-02</td>\n",
       "      <td>-4.548588e-02</td>\n",
       "      <td>-5.363672e-02</td>\n",
       "      <td>-5.498394e-02</td>\n",
       "      <td>-3.867305e-02</td>\n",
       "      <td>2.934703e-01</td>\n",
       "    </tr>\n",
       "    <tr>\n",
       "      <th>max</th>\n",
       "      <td>2.119435e+00</td>\n",
       "      <td>34.649000</td>\n",
       "      <td>2.485881</td>\n",
       "      <td>4.306772e+00</td>\n",
       "      <td>4.121080e+00</td>\n",
       "      <td>3.930232e+00</td>\n",
       "      <td>3.822979e+00</td>\n",
       "      <td>4.073100e+00</td>\n",
       "      <td>3.315672e+00</td>\n",
       "    </tr>\n",
       "  </tbody>\n",
       "</table>\n",
       "</div>"
      ],
      "text/plain": [
       "        capacity_mw    latitude   longitude  generation_gwh_2013  \\\n",
       "count  9.080000e+02  908.000000  908.000000         9.080000e+02   \n",
       "mean  -1.809615e-17   21.225679    0.000001        -1.184350e-16   \n",
       "std    1.000551e+00    6.089450    1.000551         1.000551e+00   \n",
       "min   -2.462841e+00    8.168900   -2.719831        -3.040344e+00   \n",
       "25%   -7.479067e-01   17.057825   -0.597316        -4.671209e-02   \n",
       "50%   -6.745980e-02   21.778300    0.018127        -4.671209e-02   \n",
       "75%    9.037772e-01   25.183775    0.564832        -4.671209e-02   \n",
       "max    2.119435e+00   34.649000    2.485881         4.306772e+00   \n",
       "\n",
       "       generation_gwh_2014  generation_gwh_2015  generation_gwh_2016  \\\n",
       "count         9.080000e+02         9.080000e+02         9.080000e+02   \n",
       "mean         -3.302700e-16         8.866195e-17        -6.694351e-16   \n",
       "std           1.000551e+00         1.000551e+00         1.000551e+00   \n",
       "min          -2.801534e+00        -2.710369e+00        -2.674396e+00   \n",
       "25%          -4.548588e-02        -5.363672e-02        -5.498394e-02   \n",
       "50%          -4.548588e-02        -5.363672e-02        -5.498394e-02   \n",
       "75%          -4.548588e-02        -5.363672e-02        -5.498394e-02   \n",
       "max           4.121080e+00         3.930232e+00         3.822979e+00   \n",
       "\n",
       "       generation_gwh_2017  Present_Power_plant_year  \n",
       "count         9.080000e+02              9.080000e+02  \n",
       "mean         -2.698832e-16              2.493264e-16  \n",
       "std           1.000551e+00              1.000551e+00  \n",
       "min          -2.585412e+00             -2.571587e+00  \n",
       "25%          -3.867305e-02             -2.182960e-01  \n",
       "50%          -3.867305e-02              5.096106e-02  \n",
       "75%          -3.867305e-02              2.934703e-01  \n",
       "max           4.073100e+00              3.315672e+00  "
      ]
     },
     "execution_count": 59,
     "metadata": {},
     "output_type": "execute_result"
    }
   ],
   "source": [
    "data.describe()"
   ]
  },
  {
   "cell_type": "code",
   "execution_count": 62,
   "metadata": {},
   "outputs": [
    {
     "name": "stdout",
     "output_type": "stream",
     "text": [
      "['Fuel_type', 'other_fuel1', 'source', 'geolocation_source']\n"
     ]
    }
   ],
   "source": [
    "categorical_col=[]\n",
    "for i in data.dtypes.index:\n",
    "    if data.dtypes[i]=='object':\n",
    "        categorical_col.append(i)\n",
    "print(categorical_col)\n",
    "\n",
    "\n"
   ]
  },
  {
   "cell_type": "code",
   "execution_count": 63,
   "metadata": {},
   "outputs": [
    {
     "name": "stdout",
     "output_type": "stream",
     "text": [
      "['capacity_mw', 'latitude', 'longitude', 'generation_gwh_2013', 'generation_gwh_2014', 'generation_gwh_2015', 'generation_gwh_2016', 'generation_gwh_2017', 'Present_Power_plant_year']\n"
     ]
    }
   ],
   "source": [
    "\n",
    "numerical_col=[]\n",
    "for i in data.dtypes.index:\n",
    "    if data.dtypes[i]!='object':\n",
    "        numerical_col.append(i)\n",
    "print(numerical_col)"
   ]
  },
  {
   "cell_type": "code",
   "execution_count": 64,
   "metadata": {},
   "outputs": [
    {
     "data": {
      "text/plain": [
       "<AxesSubplot:>"
      ]
     },
     "execution_count": 64,
     "metadata": {},
     "output_type": "execute_result"
    },
    {
     "data": {
      "image/png": "[encoded data removed]",
      "text/plain": [
       "<Figure size 432x288 with 1 Axes>"
      ]
     },
     "metadata": {
      "needs_background": "light"
     },
     "output_type": "display_data"
    }
   ],
   "source": [
    "# Outliers\n",
    "\n",
    "data['capacity_mw'].plot.box()"
   ]
  },
  {
   "cell_type": "code",
   "execution_count": 65,
   "metadata": {},
   "outputs": [
    {
     "data": {
      "text/plain": [
       "<AxesSubplot:>"
      ]
     },
     "execution_count": 65,
     "metadata": {},
     "output_type": "execute_result"
    },
    {
     "data": {
      "image/png": "[encoded data removed]",
      "text/plain": [
       "<Figure size 432x288 with 1 Axes>"
      ]
     },
     "metadata": {
      "needs_background": "light"
     },
     "output_type": "display_data"
    }
   ],
   "source": [
    "data['longitude'].plot.box()"
   ]
  },
  {
   "cell_type": "code",
   "execution_count": 66,
   "metadata": {},
   "outputs": [
    {
     "data": {
      "text/plain": [
       "<AxesSubplot:>"
      ]
     },
     "execution_count": 66,
     "metadata": {},
     "output_type": "execute_result"
    },
    {
     "data": {
      "image/png": "[encoded data removed]",
      "text/plain": [
       "<Figure size 432x288 with 1 Axes>"
      ]
     },
     "metadata": {
      "needs_background": "light"
     },
     "output_type": "display_data"
    }
   ],
   "source": [
    "data['latitude'].plot.box()"
   ]
  },
  {
   "cell_type": "code",
   "execution_count": 67,
   "metadata": {},
   "outputs": [
    {
     "data": {
      "text/plain": [
       "<AxesSubplot:>"
      ]
     },
     "execution_count": 67,
     "metadata": {},
     "output_type": "execute_result"
    },
    {
     "data": {
      "image/png": "[encoded data removed]",
      "text/plain": [
       "<Figure size 432x288 with 1 Axes>"
      ]
     },
     "metadata": {
      "needs_background": "light"
     },
     "output_type": "display_data"
    }
   ],
   "source": [
    "data['generation_gwh_2014'].plot.box()"
   ]
  },
  {
   "cell_type": "code",
   "execution_count": 68,
   "metadata": {},
   "outputs": [
    {
     "data": {
      "text/plain": [
       "<AxesSubplot:>"
      ]
     },
     "execution_count": 68,
     "metadata": {},
     "output_type": "execute_result"
    },
    {
     "data": {
      "image/png": "[encoded data removed]",
      "text/plain": [
       "<Figure size 432x288 with 1 Axes>"
      ]
     },
     "metadata": {
      "needs_background": "light"
     },
     "output_type": "display_data"
    }
   ],
   "source": [
    "data['generation_gwh_2013'].plot.box()"
   ]
  },
  {
   "cell_type": "code",
   "execution_count": 69,
   "metadata": {},
   "outputs": [
    {
     "data": {
      "text/plain": [
       "<AxesSubplot:>"
      ]
     },
     "execution_count": 69,
     "metadata": {},
     "output_type": "execute_result"
    },
    {
     "data": {
      "image/png": "[encoded data removed]",
      "text/plain": [
       "<Figure size 432x288 with 1 Axes>"
      ]
     },
     "metadata": {
      "needs_background": "light"
     },
     "output_type": "display_data"
    }
   ],
   "source": [
    "data['generation_gwh_2015'].plot.box()"
   ]
  },
  {
   "cell_type": "code",
   "execution_count": 70,
   "metadata": {},
   "outputs": [
    {
     "data": {
      "text/plain": [
       "<AxesSubplot:>"
      ]
     },
     "execution_count": 70,
     "metadata": {},
     "output_type": "execute_result"
    },
    {
     "data": {
      "image/png": "[encoded data removed]",
      "text/plain": [
       "<Figure size 432x288 with 1 Axes>"
      ]
     },
     "metadata": {
      "needs_background": "light"
     },
     "output_type": "display_data"
    }
   ],
   "source": [
    "data['Present_Power_plant_year'].plot.box()"
   ]
  },
  {
   "cell_type": "code",
   "execution_count": 71,
   "metadata": {},
   "outputs": [
    {
     "data": {
      "text/plain": [
       "<AxesSubplot:>"
      ]
     },
     "execution_count": 71,
     "metadata": {},
     "output_type": "execute_result"
    },
    {
     "data": {
      "image/png": "[encoded data removed]",
      "text/plain": [
       "<Figure size 432x288 with 1 Axes>"
      ]
     },
     "metadata": {
      "needs_background": "light"
     },
     "output_type": "display_data"
    }
   ],
   "source": [
    "data['generation_gwh_2016'].plot.box()"
   ]
  },
  {
   "cell_type": "code",
   "execution_count": 72,
   "metadata": {},
   "outputs": [
    {
     "data": {
      "text/plain": [
       "<AxesSubplot:>"
      ]
     },
     "execution_count": 72,
     "metadata": {},
     "output_type": "execute_result"
    },
    {
     "data": {
      "image/png": "[encoded data removed]",
      "text/plain": [
       "<Figure size 432x288 with 1 Axes>"
      ]
     },
     "metadata": {
      "needs_background": "light"
     },
     "output_type": "display_data"
    }
   ],
   "source": [
    "data['generation_gwh_2017'].plot.box()"
   ]
  },
  {
   "cell_type": "code",
   "execution_count": 73,
   "metadata": {},
   "outputs": [],
   "source": [
    "# Removing outliers by z-score\n",
    "\n",
    "columns = data[['longitude', 'generation_gwh_2013', 'generation_gwh_2014', 'generation_gwh_2015', 'generation_gwh_2016', 'generation_gwh_2017', 'Present_Power_plant_year']]"
   ]
  },
  {
   "cell_type": "code",
   "execution_count": 74,
   "metadata": {},
   "outputs": [
    {
     "data": {
      "text/plain": [
       "array([[0.94566101, 0.04671209, 0.04548588, ..., 0.05498394, 0.03867305,\n",
       "        1.14384466],\n",
       "       [0.53458397, 0.04671209, 0.04548588, ..., 0.05498394, 0.03867305,\n",
       "        0.05096106],\n",
       "       [2.39087749, 0.04671209, 0.04548588, ..., 0.05498394, 0.03867305,\n",
       "        0.05096106],\n",
       "       ...,\n",
       "       [0.2685914 , 0.04671209, 0.04548588, ..., 0.05498394, 0.03867305,\n",
       "        0.05096106],\n",
       "       [0.78805285, 0.04671209, 0.04548588, ..., 0.05498394, 0.03867305,\n",
       "        0.05096106],\n",
       "       [0.19542302, 0.04671209, 0.04548588, ..., 0.05498394, 0.03867305,\n",
       "        0.05096106]])"
      ]
     },
     "execution_count": 74,
     "metadata": {},
     "output_type": "execute_result"
    }
   ],
   "source": [
    "from scipy.stats import zscore\n",
    "z=np.abs(zscore(columns))\n",
    "z"
   ]
  },
  {
   "cell_type": "code",
   "execution_count": 75,
   "metadata": {},
   "outputs": [
    {
     "data": {
      "text/html": [
       "<div>\n",
       "<style scoped>\n",
       "    .dataframe tbody tr th:only-of-type {\n",
       "        vertical-align: middle;\n",
       "    }\n",
       "\n",
       "    .dataframe tbody tr th {\n",
       "        vertical-align: top;\n",
       "    }\n",
       "\n",
       "    .dataframe thead th {\n",
       "        text-align: right;\n",
       "    }\n",
       "</style>\n",
       "<table border=\"1\" class=\"dataframe\">\n",
       "  <thead>\n",
       "    <tr style=\"text-align: right;\">\n",
       "      <th></th>\n",
       "      <th>capacity_mw</th>\n",
       "      <th>latitude</th>\n",
       "      <th>longitude</th>\n",
       "      <th>Fuel_type</th>\n",
       "      <th>other_fuel1</th>\n",
       "      <th>source</th>\n",
       "      <th>geolocation_source</th>\n",
       "      <th>generation_gwh_2013</th>\n",
       "      <th>generation_gwh_2014</th>\n",
       "      <th>generation_gwh_2015</th>\n",
       "      <th>generation_gwh_2016</th>\n",
       "      <th>generation_gwh_2017</th>\n",
       "      <th>Present_Power_plant_year</th>\n",
       "    </tr>\n",
       "  </thead>\n",
       "  <tbody>\n",
       "    <tr>\n",
       "      <th>0</th>\n",
       "      <td>-1.695723</td>\n",
       "      <td>28.1839</td>\n",
       "      <td>-0.945660</td>\n",
       "      <td>Solar</td>\n",
       "      <td>Oil</td>\n",
       "      <td>National Renewable Energy Laboratory</td>\n",
       "      <td>National Renewable Energy Laboratory</td>\n",
       "      <td>-0.046712</td>\n",
       "      <td>-0.045486</td>\n",
       "      <td>-0.053637</td>\n",
       "      <td>-0.054984</td>\n",
       "      <td>-0.038673</td>\n",
       "      <td>-1.143845</td>\n",
       "    </tr>\n",
       "    <tr>\n",
       "      <th>1</th>\n",
       "      <td>0.192511</td>\n",
       "      <td>24.7663</td>\n",
       "      <td>-0.534583</td>\n",
       "      <td>Coal</td>\n",
       "      <td>Oil</td>\n",
       "      <td>Ultratech Cement ltd</td>\n",
       "      <td>WRI</td>\n",
       "      <td>-0.046712</td>\n",
       "      <td>-0.045486</td>\n",
       "      <td>-0.053637</td>\n",
       "      <td>-0.054984</td>\n",
       "      <td>-0.038673</td>\n",
       "      <td>0.050961</td>\n",
       "    </tr>\n",
       "    <tr>\n",
       "      <th>2</th>\n",
       "      <td>-0.294920</td>\n",
       "      <td>21.9038</td>\n",
       "      <td>-2.390876</td>\n",
       "      <td>Wind</td>\n",
       "      <td>Oil</td>\n",
       "      <td>CDM</td>\n",
       "      <td>WRI</td>\n",
       "      <td>-0.046712</td>\n",
       "      <td>-0.045486</td>\n",
       "      <td>-0.053637</td>\n",
       "      <td>-0.054984</td>\n",
       "      <td>-0.038673</td>\n",
       "      <td>0.050961</td>\n",
       "    </tr>\n",
       "    <tr>\n",
       "      <th>3</th>\n",
       "      <td>0.360587</td>\n",
       "      <td>23.8712</td>\n",
       "      <td>2.181487</td>\n",
       "      <td>Gas</td>\n",
       "      <td>Oil</td>\n",
       "      <td>Central Electricity Authority</td>\n",
       "      <td>WRI</td>\n",
       "      <td>-0.234814</td>\n",
       "      <td>-0.246450</td>\n",
       "      <td>0.081323</td>\n",
       "      <td>0.097738</td>\n",
       "      <td>-0.175277</td>\n",
       "      <td>-0.315269</td>\n",
       "    </tr>\n",
       "    <tr>\n",
       "      <th>4</th>\n",
       "      <td>1.660257</td>\n",
       "      <td>21.9603</td>\n",
       "      <td>1.132342</td>\n",
       "      <td>Coal</td>\n",
       "      <td>Oil</td>\n",
       "      <td>Central Electricity Authority</td>\n",
       "      <td>WRI</td>\n",
       "      <td>0.615682</td>\n",
       "      <td>1.151206</td>\n",
       "      <td>1.837256</td>\n",
       "      <td>1.845609</td>\n",
       "      <td>1.623273</td>\n",
       "      <td>-1.824023</td>\n",
       "    </tr>\n",
       "    <tr>\n",
       "      <th>...</th>\n",
       "      <td>...</td>\n",
       "      <td>...</td>\n",
       "      <td>...</td>\n",
       "      <td>...</td>\n",
       "      <td>...</td>\n",
       "      <td>...</td>\n",
       "      <td>...</td>\n",
       "      <td>...</td>\n",
       "      <td>...</td>\n",
       "      <td>...</td>\n",
       "      <td>...</td>\n",
       "      <td>...</td>\n",
       "      <td>...</td>\n",
       "    </tr>\n",
       "    <tr>\n",
       "      <th>903</th>\n",
       "      <td>1.603578</td>\n",
       "      <td>16.2949</td>\n",
       "      <td>0.168021</td>\n",
       "      <td>Coal</td>\n",
       "      <td>Oil</td>\n",
       "      <td>Central Electricity Authority</td>\n",
       "      <td>WRI</td>\n",
       "      <td>-0.046712</td>\n",
       "      <td>-0.045486</td>\n",
       "      <td>-2.561939</td>\n",
       "      <td>-0.764834</td>\n",
       "      <td>0.010848</td>\n",
       "      <td>-2.039894</td>\n",
       "    </tr>\n",
       "    <tr>\n",
       "      <th>904</th>\n",
       "      <td>-1.615938</td>\n",
       "      <td>12.8932</td>\n",
       "      <td>0.347894</td>\n",
       "      <td>Solar</td>\n",
       "      <td>Oil</td>\n",
       "      <td>Karnataka Power Corporation Limited</td>\n",
       "      <td>Industry About</td>\n",
       "      <td>-0.046712</td>\n",
       "      <td>-0.045486</td>\n",
       "      <td>-0.053637</td>\n",
       "      <td>-0.054984</td>\n",
       "      <td>-0.038673</td>\n",
       "      <td>0.050961</td>\n",
       "    </tr>\n",
       "    <tr>\n",
       "      <th>905</th>\n",
       "      <td>-0.525593</td>\n",
       "      <td>15.2758</td>\n",
       "      <td>-0.268590</td>\n",
       "      <td>Wind</td>\n",
       "      <td>Oil</td>\n",
       "      <td>CDM</td>\n",
       "      <td>WRI</td>\n",
       "      <td>-0.046712</td>\n",
       "      <td>-0.045486</td>\n",
       "      <td>-0.053637</td>\n",
       "      <td>-0.054984</td>\n",
       "      <td>-0.038673</td>\n",
       "      <td>0.050961</td>\n",
       "    </tr>\n",
       "    <tr>\n",
       "      <th>906</th>\n",
       "      <td>0.085318</td>\n",
       "      <td>24.3500</td>\n",
       "      <td>-0.788052</td>\n",
       "      <td>Coal</td>\n",
       "      <td>Oil</td>\n",
       "      <td>Hindustan Zinc ltd</td>\n",
       "      <td>WRI</td>\n",
       "      <td>-0.046712</td>\n",
       "      <td>-0.045486</td>\n",
       "      <td>-0.053637</td>\n",
       "      <td>-0.054984</td>\n",
       "      <td>-0.038673</td>\n",
       "      <td>0.050961</td>\n",
       "    </tr>\n",
       "    <tr>\n",
       "      <th>907</th>\n",
       "      <td>-0.758677</td>\n",
       "      <td>9.9344</td>\n",
       "      <td>0.195424</td>\n",
       "      <td>Wind</td>\n",
       "      <td>Oil</td>\n",
       "      <td>CDM</td>\n",
       "      <td>WRI</td>\n",
       "      <td>-0.046712</td>\n",
       "      <td>-0.045486</td>\n",
       "      <td>-0.053637</td>\n",
       "      <td>-0.054984</td>\n",
       "      <td>-0.038673</td>\n",
       "      <td>0.050961</td>\n",
       "    </tr>\n",
       "  </tbody>\n",
       "</table>\n",
       "<p>869 rows × 13 columns</p>\n",
       "</div>"
      ],
      "text/plain": [
       "     capacity_mw  latitude  longitude Fuel_type other_fuel1  \\\n",
       "0      -1.695723   28.1839  -0.945660     Solar         Oil   \n",
       "1       0.192511   24.7663  -0.534583      Coal         Oil   \n",
       "2      -0.294920   21.9038  -2.390876      Wind         Oil   \n",
       "3       0.360587   23.8712   2.181487       Gas         Oil   \n",
       "4       1.660257   21.9603   1.132342      Coal         Oil   \n",
       "..           ...       ...        ...       ...         ...   \n",
       "903     1.603578   16.2949   0.168021      Coal         Oil   \n",
       "904    -1.615938   12.8932   0.347894     Solar         Oil   \n",
       "905    -0.525593   15.2758  -0.268590      Wind         Oil   \n",
       "906     0.085318   24.3500  -0.788052      Coal         Oil   \n",
       "907    -0.758677    9.9344   0.195424      Wind         Oil   \n",
       "\n",
       "                                   source  \\\n",
       "0    National Renewable Energy Laboratory   \n",
       "1                    Ultratech Cement ltd   \n",
       "2                                     CDM   \n",
       "3           Central Electricity Authority   \n",
       "4           Central Electricity Authority   \n",
       "..                                    ...   \n",
       "903         Central Electricity Authority   \n",
       "904   Karnataka Power Corporation Limited   \n",
       "905                                   CDM   \n",
       "906                    Hindustan Zinc ltd   \n",
       "907                                   CDM   \n",
       "\n",
       "                       geolocation_source  generation_gwh_2013  \\\n",
       "0    National Renewable Energy Laboratory            -0.046712   \n",
       "1                                     WRI            -0.046712   \n",
       "2                                     WRI            -0.046712   \n",
       "3                                     WRI            -0.234814   \n",
       "4                                     WRI             0.615682   \n",
       "..                                    ...                  ...   \n",
       "903                                   WRI            -0.046712   \n",
       "904                        Industry About            -0.046712   \n",
       "905                                   WRI            -0.046712   \n",
       "906                                   WRI            -0.046712   \n",
       "907                                   WRI            -0.046712   \n",
       "\n",
       "     generation_gwh_2014  generation_gwh_2015  generation_gwh_2016  \\\n",
       "0              -0.045486            -0.053637            -0.054984   \n",
       "1              -0.045486            -0.053637            -0.054984   \n",
       "2              -0.045486            -0.053637            -0.054984   \n",
       "3              -0.246450             0.081323             0.097738   \n",
       "4               1.151206             1.837256             1.845609   \n",
       "..                   ...                  ...                  ...   \n",
       "903            -0.045486            -2.561939            -0.764834   \n",
       "904            -0.045486            -0.053637            -0.054984   \n",
       "905            -0.045486            -0.053637            -0.054984   \n",
       "906            -0.045486            -0.053637            -0.054984   \n",
       "907            -0.045486            -0.053637            -0.054984   \n",
       "\n",
       "     generation_gwh_2017  Present_Power_plant_year  \n",
       "0              -0.038673                 -1.143845  \n",
       "1              -0.038673                  0.050961  \n",
       "2              -0.038673                  0.050961  \n",
       "3              -0.175277                 -0.315269  \n",
       "4               1.623273                 -1.824023  \n",
       "..                   ...                       ...  \n",
       "903             0.010848                 -2.039894  \n",
       "904            -0.038673                  0.050961  \n",
       "905            -0.038673                  0.050961  \n",
       "906            -0.038673                  0.050961  \n",
       "907            -0.038673                  0.050961  \n",
       "\n",
       "[869 rows x 13 columns]"
      ]
     },
     "execution_count": 75,
     "metadata": {},
     "output_type": "execute_result"
    }
   ],
   "source": [
    "d1=data[(z<3).all(axis=1)]\n",
    "d1"
   ]
  },
  {
   "cell_type": "code",
   "execution_count": 76,
   "metadata": {},
   "outputs": [
    {
     "data": {
      "text/plain": [
       "(869, 13)"
      ]
     },
     "execution_count": 76,
     "metadata": {},
     "output_type": "execute_result"
    }
   ],
   "source": [
    "d1.shape"
   ]
  },
  {
   "cell_type": "code",
   "execution_count": 77,
   "metadata": {},
   "outputs": [
    {
     "data": {
      "text/plain": [
       "(908, 13)"
      ]
     },
     "execution_count": 77,
     "metadata": {},
     "output_type": "execute_result"
    }
   ],
   "source": [
    "data.shape"
   ]
  },
  {
   "cell_type": "code",
   "execution_count": 78,
   "metadata": {},
   "outputs": [
    {
     "data": {
      "text/plain": [
       "4.295154185022026"
      ]
     },
     "execution_count": 78,
     "metadata": {},
     "output_type": "execute_result"
    }
   ],
   "source": [
    "#checking how much data has been lossed\n",
    "data_loss= (908-869)/908*100\n",
    "data_loss"
   ]
  },
  {
   "cell_type": "code",
   "execution_count": 79,
   "metadata": {},
   "outputs": [],
   "source": [
    "# Encoding\n",
    "\n",
    "categorical_col = ['Fuel_type', 'other_fuel1', 'source', 'geolocation_source']"
   ]
  },
  {
   "cell_type": "code",
   "execution_count": 82,
   "metadata": {},
   "outputs": [],
   "source": [
    "from sklearn.preprocessing import LabelEncoder\n",
    "LE=LabelEncoder()\n",
    "d1[categorical_col]= d1[categorical_col].apply(LE.fit_transform)"
   ]
  },
  {
   "cell_type": "code",
   "execution_count": 83,
   "metadata": {},
   "outputs": [
    {
     "data": {
      "text/html": [
       "<div>\n",
       "<style scoped>\n",
       "    .dataframe tbody tr th:only-of-type {\n",
       "        vertical-align: middle;\n",
       "    }\n",
       "\n",
       "    .dataframe tbody tr th {\n",
       "        vertical-align: top;\n",
       "    }\n",
       "\n",
       "    .dataframe thead th {\n",
       "        text-align: right;\n",
       "    }\n",
       "</style>\n",
       "<table border=\"1\" class=\"dataframe\">\n",
       "  <thead>\n",
       "    <tr style=\"text-align: right;\">\n",
       "      <th></th>\n",
       "      <th>Fuel_type</th>\n",
       "      <th>other_fuel1</th>\n",
       "      <th>source</th>\n",
       "      <th>geolocation_source</th>\n",
       "    </tr>\n",
       "  </thead>\n",
       "  <tbody>\n",
       "    <tr>\n",
       "      <th>0</th>\n",
       "      <td>6</td>\n",
       "      <td>2</td>\n",
       "      <td>109</td>\n",
       "      <td>1</td>\n",
       "    </tr>\n",
       "    <tr>\n",
       "      <th>1</th>\n",
       "      <td>1</td>\n",
       "      <td>2</td>\n",
       "      <td>174</td>\n",
       "      <td>2</td>\n",
       "    </tr>\n",
       "    <tr>\n",
       "      <th>2</th>\n",
       "      <td>7</td>\n",
       "      <td>2</td>\n",
       "      <td>21</td>\n",
       "      <td>2</td>\n",
       "    </tr>\n",
       "    <tr>\n",
       "      <th>3</th>\n",
       "      <td>2</td>\n",
       "      <td>2</td>\n",
       "      <td>22</td>\n",
       "      <td>2</td>\n",
       "    </tr>\n",
       "    <tr>\n",
       "      <th>4</th>\n",
       "      <td>1</td>\n",
       "      <td>2</td>\n",
       "      <td>22</td>\n",
       "      <td>2</td>\n",
       "    </tr>\n",
       "    <tr>\n",
       "      <th>...</th>\n",
       "      <td>...</td>\n",
       "      <td>...</td>\n",
       "      <td>...</td>\n",
       "      <td>...</td>\n",
       "    </tr>\n",
       "    <tr>\n",
       "      <th>903</th>\n",
       "      <td>1</td>\n",
       "      <td>2</td>\n",
       "      <td>22</td>\n",
       "      <td>2</td>\n",
       "    </tr>\n",
       "    <tr>\n",
       "      <th>904</th>\n",
       "      <td>6</td>\n",
       "      <td>2</td>\n",
       "      <td>77</td>\n",
       "      <td>0</td>\n",
       "    </tr>\n",
       "    <tr>\n",
       "      <th>905</th>\n",
       "      <td>7</td>\n",
       "      <td>2</td>\n",
       "      <td>21</td>\n",
       "      <td>2</td>\n",
       "    </tr>\n",
       "    <tr>\n",
       "      <th>906</th>\n",
       "      <td>1</td>\n",
       "      <td>2</td>\n",
       "      <td>59</td>\n",
       "      <td>2</td>\n",
       "    </tr>\n",
       "    <tr>\n",
       "      <th>907</th>\n",
       "      <td>7</td>\n",
       "      <td>2</td>\n",
       "      <td>21</td>\n",
       "      <td>2</td>\n",
       "    </tr>\n",
       "  </tbody>\n",
       "</table>\n",
       "<p>869 rows × 4 columns</p>\n",
       "</div>"
      ],
      "text/plain": [
       "     Fuel_type  other_fuel1  source  geolocation_source\n",
       "0            6            2     109                   1\n",
       "1            1            2     174                   2\n",
       "2            7            2      21                   2\n",
       "3            2            2      22                   2\n",
       "4            1            2      22                   2\n",
       "..         ...          ...     ...                 ...\n",
       "903          1            2      22                   2\n",
       "904          6            2      77                   0\n",
       "905          7            2      21                   2\n",
       "906          1            2      59                   2\n",
       "907          7            2      21                   2\n",
       "\n",
       "[869 rows x 4 columns]"
      ]
     },
     "execution_count": 83,
     "metadata": {},
     "output_type": "execute_result"
    }
   ],
   "source": [
    "d1[categorical_col]"
   ]
  },
  {
   "cell_type": "code",
   "execution_count": 84,
   "metadata": {},
   "outputs": [
    {
     "data": {
      "text/html": [
       "<div>\n",
       "<style scoped>\n",
       "    .dataframe tbody tr th:only-of-type {\n",
       "        vertical-align: middle;\n",
       "    }\n",
       "\n",
       "    .dataframe tbody tr th {\n",
       "        vertical-align: top;\n",
       "    }\n",
       "\n",
       "    .dataframe thead th {\n",
       "        text-align: right;\n",
       "    }\n",
       "</style>\n",
       "<table border=\"1\" class=\"dataframe\">\n",
       "  <thead>\n",
       "    <tr style=\"text-align: right;\">\n",
       "      <th></th>\n",
       "      <th>capacity_mw</th>\n",
       "      <th>latitude</th>\n",
       "      <th>longitude</th>\n",
       "      <th>Fuel_type</th>\n",
       "      <th>other_fuel1</th>\n",
       "      <th>source</th>\n",
       "      <th>geolocation_source</th>\n",
       "      <th>generation_gwh_2013</th>\n",
       "      <th>generation_gwh_2014</th>\n",
       "      <th>generation_gwh_2015</th>\n",
       "      <th>generation_gwh_2016</th>\n",
       "      <th>generation_gwh_2017</th>\n",
       "      <th>Present_Power_plant_year</th>\n",
       "    </tr>\n",
       "  </thead>\n",
       "  <tbody>\n",
       "    <tr>\n",
       "      <th>capacity_mw</th>\n",
       "      <td>1.000000</td>\n",
       "      <td>0.050811</td>\n",
       "      <td>0.326560</td>\n",
       "      <td>-0.523335</td>\n",
       "      <td>-0.039800</td>\n",
       "      <td>-0.390475</td>\n",
       "      <td>0.473651</td>\n",
       "      <td>0.369628</td>\n",
       "      <td>0.358084</td>\n",
       "      <td>0.346800</td>\n",
       "      <td>0.374825</td>\n",
       "      <td>0.348861</td>\n",
       "      <td>-0.264159</td>\n",
       "    </tr>\n",
       "    <tr>\n",
       "      <th>latitude</th>\n",
       "      <td>0.050811</td>\n",
       "      <td>1.000000</td>\n",
       "      <td>-0.045218</td>\n",
       "      <td>-0.008068</td>\n",
       "      <td>0.035085</td>\n",
       "      <td>0.058263</td>\n",
       "      <td>-0.187282</td>\n",
       "      <td>0.076695</td>\n",
       "      <td>0.107101</td>\n",
       "      <td>0.104929</td>\n",
       "      <td>0.132419</td>\n",
       "      <td>0.107988</td>\n",
       "      <td>-0.094910</td>\n",
       "    </tr>\n",
       "    <tr>\n",
       "      <th>longitude</th>\n",
       "      <td>0.326560</td>\n",
       "      <td>-0.045218</td>\n",
       "      <td>1.000000</td>\n",
       "      <td>-0.399964</td>\n",
       "      <td>0.015376</td>\n",
       "      <td>-0.247654</td>\n",
       "      <td>0.298503</td>\n",
       "      <td>0.027163</td>\n",
       "      <td>0.010302</td>\n",
       "      <td>0.012792</td>\n",
       "      <td>0.069433</td>\n",
       "      <td>0.047254</td>\n",
       "      <td>-0.111517</td>\n",
       "    </tr>\n",
       "    <tr>\n",
       "      <th>Fuel_type</th>\n",
       "      <td>-0.523335</td>\n",
       "      <td>-0.008068</td>\n",
       "      <td>-0.399964</td>\n",
       "      <td>1.000000</td>\n",
       "      <td>0.018399</td>\n",
       "      <td>0.042576</td>\n",
       "      <td>-0.481733</td>\n",
       "      <td>-0.168452</td>\n",
       "      <td>-0.157926</td>\n",
       "      <td>-0.160915</td>\n",
       "      <td>-0.181264</td>\n",
       "      <td>-0.159474</td>\n",
       "      <td>0.135736</td>\n",
       "    </tr>\n",
       "    <tr>\n",
       "      <th>other_fuel1</th>\n",
       "      <td>-0.039800</td>\n",
       "      <td>0.035085</td>\n",
       "      <td>0.015376</td>\n",
       "      <td>0.018399</td>\n",
       "      <td>1.000000</td>\n",
       "      <td>0.022912</td>\n",
       "      <td>-0.018413</td>\n",
       "      <td>-0.020853</td>\n",
       "      <td>-0.026924</td>\n",
       "      <td>0.006508</td>\n",
       "      <td>0.027172</td>\n",
       "      <td>0.028244</td>\n",
       "      <td>-0.015521</td>\n",
       "    </tr>\n",
       "    <tr>\n",
       "      <th>source</th>\n",
       "      <td>-0.390475</td>\n",
       "      <td>0.058263</td>\n",
       "      <td>-0.247654</td>\n",
       "      <td>0.042576</td>\n",
       "      <td>0.022912</td>\n",
       "      <td>1.000000</td>\n",
       "      <td>-0.501614</td>\n",
       "      <td>-0.043325</td>\n",
       "      <td>-0.032814</td>\n",
       "      <td>-0.026821</td>\n",
       "      <td>-0.028185</td>\n",
       "      <td>-0.014949</td>\n",
       "      <td>-0.009915</td>\n",
       "    </tr>\n",
       "    <tr>\n",
       "      <th>geolocation_source</th>\n",
       "      <td>0.473651</td>\n",
       "      <td>-0.187282</td>\n",
       "      <td>0.298503</td>\n",
       "      <td>-0.481733</td>\n",
       "      <td>-0.018413</td>\n",
       "      <td>-0.501614</td>\n",
       "      <td>1.000000</td>\n",
       "      <td>0.034817</td>\n",
       "      <td>0.026371</td>\n",
       "      <td>0.021554</td>\n",
       "      <td>0.022650</td>\n",
       "      <td>0.012014</td>\n",
       "      <td>-0.004798</td>\n",
       "    </tr>\n",
       "    <tr>\n",
       "      <th>generation_gwh_2013</th>\n",
       "      <td>0.369628</td>\n",
       "      <td>0.076695</td>\n",
       "      <td>0.027163</td>\n",
       "      <td>-0.168452</td>\n",
       "      <td>-0.020853</td>\n",
       "      <td>-0.043325</td>\n",
       "      <td>0.034817</td>\n",
       "      <td>1.000000</td>\n",
       "      <td>0.869258</td>\n",
       "      <td>0.755007</td>\n",
       "      <td>0.712953</td>\n",
       "      <td>0.647658</td>\n",
       "      <td>-0.076602</td>\n",
       "    </tr>\n",
       "    <tr>\n",
       "      <th>generation_gwh_2014</th>\n",
       "      <td>0.358084</td>\n",
       "      <td>0.107101</td>\n",
       "      <td>0.010302</td>\n",
       "      <td>-0.157926</td>\n",
       "      <td>-0.026924</td>\n",
       "      <td>-0.032814</td>\n",
       "      <td>0.026371</td>\n",
       "      <td>0.869258</td>\n",
       "      <td>1.000000</td>\n",
       "      <td>0.814102</td>\n",
       "      <td>0.761489</td>\n",
       "      <td>0.684697</td>\n",
       "      <td>-0.107175</td>\n",
       "    </tr>\n",
       "    <tr>\n",
       "      <th>generation_gwh_2015</th>\n",
       "      <td>0.346800</td>\n",
       "      <td>0.104929</td>\n",
       "      <td>0.012792</td>\n",
       "      <td>-0.160915</td>\n",
       "      <td>0.006508</td>\n",
       "      <td>-0.026821</td>\n",
       "      <td>0.021554</td>\n",
       "      <td>0.755007</td>\n",
       "      <td>0.814102</td>\n",
       "      <td>1.000000</td>\n",
       "      <td>0.878689</td>\n",
       "      <td>0.756313</td>\n",
       "      <td>-0.128037</td>\n",
       "    </tr>\n",
       "    <tr>\n",
       "      <th>generation_gwh_2016</th>\n",
       "      <td>0.374825</td>\n",
       "      <td>0.132419</td>\n",
       "      <td>0.069433</td>\n",
       "      <td>-0.181264</td>\n",
       "      <td>0.027172</td>\n",
       "      <td>-0.028185</td>\n",
       "      <td>0.022650</td>\n",
       "      <td>0.712953</td>\n",
       "      <td>0.761489</td>\n",
       "      <td>0.878689</td>\n",
       "      <td>1.000000</td>\n",
       "      <td>0.884052</td>\n",
       "      <td>-0.216481</td>\n",
       "    </tr>\n",
       "    <tr>\n",
       "      <th>generation_gwh_2017</th>\n",
       "      <td>0.348861</td>\n",
       "      <td>0.107988</td>\n",
       "      <td>0.047254</td>\n",
       "      <td>-0.159474</td>\n",
       "      <td>0.028244</td>\n",
       "      <td>-0.014949</td>\n",
       "      <td>0.012014</td>\n",
       "      <td>0.647658</td>\n",
       "      <td>0.684697</td>\n",
       "      <td>0.756313</td>\n",
       "      <td>0.884052</td>\n",
       "      <td>1.000000</td>\n",
       "      <td>-0.190290</td>\n",
       "    </tr>\n",
       "    <tr>\n",
       "      <th>Present_Power_plant_year</th>\n",
       "      <td>-0.264159</td>\n",
       "      <td>-0.094910</td>\n",
       "      <td>-0.111517</td>\n",
       "      <td>0.135736</td>\n",
       "      <td>-0.015521</td>\n",
       "      <td>-0.009915</td>\n",
       "      <td>-0.004798</td>\n",
       "      <td>-0.076602</td>\n",
       "      <td>-0.107175</td>\n",
       "      <td>-0.128037</td>\n",
       "      <td>-0.216481</td>\n",
       "      <td>-0.190290</td>\n",
       "      <td>1.000000</td>\n",
       "    </tr>\n",
       "  </tbody>\n",
       "</table>\n",
       "</div>"
      ],
      "text/plain": [
       "                          capacity_mw  latitude  longitude  Fuel_type  \\\n",
       "capacity_mw                  1.000000  0.050811   0.326560  -0.523335   \n",
       "latitude                     0.050811  1.000000  -0.045218  -0.008068   \n",
       "longitude                    0.326560 -0.045218   1.000000  -0.399964   \n",
       "Fuel_type                   -0.523335 -0.008068  -0.399964   1.000000   \n",
       "other_fuel1                 -0.039800  0.035085   0.015376   0.018399   \n",
       "source                      -0.390475  0.058263  -0.247654   0.042576   \n",
       "geolocation_source           0.473651 -0.187282   0.298503  -0.481733   \n",
       "generation_gwh_2013          0.369628  0.076695   0.027163  -0.168452   \n",
       "generation_gwh_2014          0.358084  0.107101   0.010302  -0.157926   \n",
       "generation_gwh_2015          0.346800  0.104929   0.012792  -0.160915   \n",
       "generation_gwh_2016          0.374825  0.132419   0.069433  -0.181264   \n",
       "generation_gwh_2017          0.348861  0.107988   0.047254  -0.159474   \n",
       "Present_Power_plant_year    -0.264159 -0.094910  -0.111517   0.135736   \n",
       "\n",
       "                          other_fuel1    source  geolocation_source  \\\n",
       "capacity_mw                 -0.039800 -0.390475            0.473651   \n",
       "latitude                     0.035085  0.058263           -0.187282   \n",
       "longitude                    0.015376 -0.247654            0.298503   \n",
       "Fuel_type                    0.018399  0.042576           -0.481733   \n",
       "other_fuel1                  1.000000  0.022912           -0.018413   \n",
       "source                       0.022912  1.000000           -0.501614   \n",
       "geolocation_source          -0.018413 -0.501614            1.000000   \n",
       "generation_gwh_2013         -0.020853 -0.043325            0.034817   \n",
       "generation_gwh_2014         -0.026924 -0.032814            0.026371   \n",
       "generation_gwh_2015          0.006508 -0.026821            0.021554   \n",
       "generation_gwh_2016          0.027172 -0.028185            0.022650   \n",
       "generation_gwh_2017          0.028244 -0.014949            0.012014   \n",
       "Present_Power_plant_year    -0.015521 -0.009915           -0.004798   \n",
       "\n",
       "                          generation_gwh_2013  generation_gwh_2014  \\\n",
       "capacity_mw                          0.369628             0.358084   \n",
       "latitude                             0.076695             0.107101   \n",
       "longitude                            0.027163             0.010302   \n",
       "Fuel_type                           -0.168452            -0.157926   \n",
       "other_fuel1                         -0.020853            -0.026924   \n",
       "source                              -0.043325            -0.032814   \n",
       "geolocation_source                   0.034817             0.026371   \n",
       "generation_gwh_2013                  1.000000             0.869258   \n",
       "generation_gwh_2014                  0.869258             1.000000   \n",
       "generation_gwh_2015                  0.755007             0.814102   \n",
       "generation_gwh_2016                  0.712953             0.761489   \n",
       "generation_gwh_2017                  0.647658             0.684697   \n",
       "Present_Power_plant_year            -0.076602            -0.107175   \n",
       "\n",
       "                          generation_gwh_2015  generation_gwh_2016  \\\n",
       "capacity_mw                          0.346800             0.374825   \n",
       "latitude                             0.104929             0.132419   \n",
       "longitude                            0.012792             0.069433   \n",
       "Fuel_type                           -0.160915            -0.181264   \n",
       "other_fuel1                          0.006508             0.027172   \n",
       "source                              -0.026821            -0.028185   \n",
       "geolocation_source                   0.021554             0.022650   \n",
       "generation_gwh_2013                  0.755007             0.712953   \n",
       "generation_gwh_2014                  0.814102             0.761489   \n",
       "generation_gwh_2015                  1.000000             0.878689   \n",
       "generation_gwh_2016                  0.878689             1.000000   \n",
       "generation_gwh_2017                  0.756313             0.884052   \n",
       "Present_Power_plant_year            -0.128037            -0.216481   \n",
       "\n",
       "                          generation_gwh_2017  Present_Power_plant_year  \n",
       "capacity_mw                          0.348861                 -0.264159  \n",
       "latitude                             0.107988                 -0.094910  \n",
       "longitude                            0.047254                 -0.111517  \n",
       "Fuel_type                           -0.159474                  0.135736  \n",
       "other_fuel1                          0.028244                 -0.015521  \n",
       "source                              -0.014949                 -0.009915  \n",
       "geolocation_source                   0.012014                 -0.004798  \n",
       "generation_gwh_2013                  0.647658                 -0.076602  \n",
       "generation_gwh_2014                  0.684697                 -0.107175  \n",
       "generation_gwh_2015                  0.756313                 -0.128037  \n",
       "generation_gwh_2016                  0.884052                 -0.216481  \n",
       "generation_gwh_2017                  1.000000                 -0.190290  \n",
       "Present_Power_plant_year            -0.190290                  1.000000  "
      ]
     },
     "execution_count": 84,
     "metadata": {},
     "output_type": "execute_result"
    }
   ],
   "source": [
    "# Corelation\n",
    "\n",
    "d1.corr()"
   ]
  },
  {
   "cell_type": "code",
   "execution_count": 89,
   "metadata": {},
   "outputs": [
    {
     "data": {
      "image/png": "[encoded data removed]",
      "text/plain": [
       "<Figure size 1440x360 with 2 Axes>"
      ]
     },
     "metadata": {
      "needs_background": "light"
     },
     "output_type": "display_data"
    }
   ],
   "source": [
    "plt.figure(figsize=(20,5))\n",
    "sns.heatmap(d1.corr(),linewidths=.1,vmin=-1, vmax=1, fmt='.2g', annot = True,annot_kws={'size':10})\n",
    "plt.yticks(rotation=0);"
   ]
  },
  {
   "cell_type": "code",
   "execution_count": 92,
   "metadata": {},
   "outputs": [
    {
     "data": {
      "image/png": "[encoded data removed]",
      "text/plain": [
       "<Figure size 1440x360 with 1 Axes>"
      ]
     },
     "metadata": {
      "needs_background": "light"
     },
     "output_type": "display_data"
    }
   ],
   "source": [
    "#Correlation B/W fuel tpe & features\n",
    "\n",
    "plt.figure(figsize=(20,5))\n",
    "d1.corr()['capacity_mw'].sort_values(ascending=False).drop(['capacity_mw']).plot(kind='bar')\n",
    "plt.xlabel('Feature')\n",
    "plt.ylabel('column with target names')\n",
    "plt.title('correlation')\n",
    "plt.show()"
   ]
  },
  {
   "cell_type": "code",
   "execution_count": 93,
   "metadata": {},
   "outputs": [
    {
     "data": {
      "image/png": "[encoded data removed]",
      "text/plain": [
       "<Figure size 1440x360 with 1 Axes>"
      ]
     },
     "metadata": {
      "needs_background": "light"
     },
     "output_type": "display_data"
    }
   ],
   "source": [
    "plt.figure(figsize=(20,5))\n",
    "d1.corr()['capacity_mw'].sort_values(ascending=False).drop(['Fuel_type']).plot(kind='bar')\n",
    "plt.xlabel('Feature')\n",
    "plt.ylabel('column with target names')\n",
    "plt.title('correlation')\n",
    "plt.show()"
   ]
  },
  {
   "cell_type": "code",
   "execution_count": 96,
   "metadata": {},
   "outputs": [],
   "source": [
    "#Droping less correlated column\n",
    "d1 = d1.drop([\"other_fuel1\"],axis=1)\n",
    "d1 = d1.drop([\"latitude\"],axis=1)"
   ]
  },
  {
   "cell_type": "code",
   "execution_count": 99,
   "metadata": {},
   "outputs": [
    {
     "data": {
      "text/html": [
       "<div>\n",
       "<style scoped>\n",
       "    .dataframe tbody tr th:only-of-type {\n",
       "        vertical-align: middle;\n",
       "    }\n",
       "\n",
       "    .dataframe tbody tr th {\n",
       "        vertical-align: top;\n",
       "    }\n",
       "\n",
       "    .dataframe thead th {\n",
       "        text-align: right;\n",
       "    }\n",
       "</style>\n",
       "<table border=\"1\" class=\"dataframe\">\n",
       "  <thead>\n",
       "    <tr style=\"text-align: right;\">\n",
       "      <th></th>\n",
       "      <th>capacity_mw</th>\n",
       "      <th>longitude</th>\n",
       "      <th>Fuel_type</th>\n",
       "      <th>source</th>\n",
       "      <th>geolocation_source</th>\n",
       "      <th>generation_gwh_2013</th>\n",
       "      <th>generation_gwh_2014</th>\n",
       "      <th>generation_gwh_2015</th>\n",
       "      <th>generation_gwh_2016</th>\n",
       "      <th>generation_gwh_2017</th>\n",
       "      <th>Present_Power_plant_year</th>\n",
       "    </tr>\n",
       "  </thead>\n",
       "  <tbody>\n",
       "    <tr>\n",
       "      <th>0</th>\n",
       "      <td>-1.684285</td>\n",
       "      <td>-0.938531</td>\n",
       "      <td>1.191981</td>\n",
       "      <td>1.415781</td>\n",
       "      <td>-1.047102</td>\n",
       "      <td>-0.086150</td>\n",
       "      <td>-0.065251</td>\n",
       "      <td>-0.053333</td>\n",
       "      <td>-0.056045</td>\n",
       "      <td>-0.029726</td>\n",
       "      <td>-1.175900</td>\n",
       "    </tr>\n",
       "    <tr>\n",
       "      <th>1</th>\n",
       "      <td>0.243005</td>\n",
       "      <td>-0.524406</td>\n",
       "      <td>-0.984136</td>\n",
       "      <td>2.849277</td>\n",
       "      <td>0.404145</td>\n",
       "      <td>-0.086150</td>\n",
       "      <td>-0.065251</td>\n",
       "      <td>-0.053333</td>\n",
       "      <td>-0.056045</td>\n",
       "      <td>-0.029726</td>\n",
       "      <td>0.036563</td>\n",
       "    </tr>\n",
       "    <tr>\n",
       "      <th>2</th>\n",
       "      <td>-0.254508</td>\n",
       "      <td>-2.394462</td>\n",
       "      <td>1.627205</td>\n",
       "      <td>-0.524951</td>\n",
       "      <td>0.404145</td>\n",
       "      <td>-0.086150</td>\n",
       "      <td>-0.065251</td>\n",
       "      <td>-0.053333</td>\n",
       "      <td>-0.056045</td>\n",
       "      <td>-0.029726</td>\n",
       "      <td>0.036563</td>\n",
       "    </tr>\n",
       "    <tr>\n",
       "      <th>3</th>\n",
       "      <td>0.414557</td>\n",
       "      <td>2.211800</td>\n",
       "      <td>-0.548912</td>\n",
       "      <td>-0.502897</td>\n",
       "      <td>0.404145</td>\n",
       "      <td>-0.327703</td>\n",
       "      <td>-0.312589</td>\n",
       "      <td>0.104273</td>\n",
       "      <td>0.120564</td>\n",
       "      <td>-0.185635</td>\n",
       "      <td>-0.335080</td>\n",
       "    </tr>\n",
       "    <tr>\n",
       "      <th>4</th>\n",
       "      <td>1.741109</td>\n",
       "      <td>1.154877</td>\n",
       "      <td>-0.984136</td>\n",
       "      <td>-0.502897</td>\n",
       "      <td>0.404145</td>\n",
       "      <td>0.764470</td>\n",
       "      <td>1.407588</td>\n",
       "      <td>2.154857</td>\n",
       "      <td>2.141815</td>\n",
       "      <td>1.867088</td>\n",
       "      <td>-1.866131</td>\n",
       "    </tr>\n",
       "    <tr>\n",
       "      <th>...</th>\n",
       "      <td>...</td>\n",
       "      <td>...</td>\n",
       "      <td>...</td>\n",
       "      <td>...</td>\n",
       "      <td>...</td>\n",
       "      <td>...</td>\n",
       "      <td>...</td>\n",
       "      <td>...</td>\n",
       "      <td>...</td>\n",
       "      <td>...</td>\n",
       "      <td>...</td>\n",
       "    </tr>\n",
       "    <tr>\n",
       "      <th>864</th>\n",
       "      <td>1.683258</td>\n",
       "      <td>0.183407</td>\n",
       "      <td>-0.984136</td>\n",
       "      <td>-0.502897</td>\n",
       "      <td>0.404145</td>\n",
       "      <td>-0.086150</td>\n",
       "      <td>-0.065251</td>\n",
       "      <td>-2.982534</td>\n",
       "      <td>-0.876921</td>\n",
       "      <td>0.026792</td>\n",
       "      <td>-2.085192</td>\n",
       "    </tr>\n",
       "    <tr>\n",
       "      <th>865</th>\n",
       "      <td>-1.602850</td>\n",
       "      <td>0.364613</td>\n",
       "      <td>1.191981</td>\n",
       "      <td>0.710060</td>\n",
       "      <td>-2.498349</td>\n",
       "      <td>-0.086150</td>\n",
       "      <td>-0.065251</td>\n",
       "      <td>-0.053333</td>\n",
       "      <td>-0.056045</td>\n",
       "      <td>-0.029726</td>\n",
       "      <td>0.036563</td>\n",
       "    </tr>\n",
       "    <tr>\n",
       "      <th>866</th>\n",
       "      <td>-0.489952</td>\n",
       "      <td>-0.256442</td>\n",
       "      <td>1.627205</td>\n",
       "      <td>-0.524951</td>\n",
       "      <td>0.404145</td>\n",
       "      <td>-0.086150</td>\n",
       "      <td>-0.065251</td>\n",
       "      <td>-0.053333</td>\n",
       "      <td>-0.056045</td>\n",
       "      <td>-0.029726</td>\n",
       "      <td>0.036563</td>\n",
       "    </tr>\n",
       "    <tr>\n",
       "      <th>867</th>\n",
       "      <td>0.133595</td>\n",
       "      <td>-0.779754</td>\n",
       "      <td>-0.984136</td>\n",
       "      <td>0.313093</td>\n",
       "      <td>0.404145</td>\n",
       "      <td>-0.086150</td>\n",
       "      <td>-0.065251</td>\n",
       "      <td>-0.053333</td>\n",
       "      <td>-0.056045</td>\n",
       "      <td>-0.029726</td>\n",
       "      <td>0.036563</td>\n",
       "    </tr>\n",
       "    <tr>\n",
       "      <th>868</th>\n",
       "      <td>-0.727857</td>\n",
       "      <td>0.211013</td>\n",
       "      <td>1.627205</td>\n",
       "      <td>-0.524951</td>\n",
       "      <td>0.404145</td>\n",
       "      <td>-0.086150</td>\n",
       "      <td>-0.065251</td>\n",
       "      <td>-0.053333</td>\n",
       "      <td>-0.056045</td>\n",
       "      <td>-0.029726</td>\n",
       "      <td>0.036563</td>\n",
       "    </tr>\n",
       "  </tbody>\n",
       "</table>\n",
       "<p>869 rows × 11 columns</p>\n",
       "</div>"
      ],
      "text/plain": [
       "     capacity_mw  longitude  Fuel_type    source  geolocation_source  \\\n",
       "0      -1.684285  -0.938531   1.191981  1.415781           -1.047102   \n",
       "1       0.243005  -0.524406  -0.984136  2.849277            0.404145   \n",
       "2      -0.254508  -2.394462   1.627205 -0.524951            0.404145   \n",
       "3       0.414557   2.211800  -0.548912 -0.502897            0.404145   \n",
       "4       1.741109   1.154877  -0.984136 -0.502897            0.404145   \n",
       "..           ...        ...        ...       ...                 ...   \n",
       "864     1.683258   0.183407  -0.984136 -0.502897            0.404145   \n",
       "865    -1.602850   0.364613   1.191981  0.710060           -2.498349   \n",
       "866    -0.489952  -0.256442   1.627205 -0.524951            0.404145   \n",
       "867     0.133595  -0.779754  -0.984136  0.313093            0.404145   \n",
       "868    -0.727857   0.211013   1.627205 -0.524951            0.404145   \n",
       "\n",
       "     generation_gwh_2013  generation_gwh_2014  generation_gwh_2015  \\\n",
       "0              -0.086150            -0.065251            -0.053333   \n",
       "1              -0.086150            -0.065251            -0.053333   \n",
       "2              -0.086150            -0.065251            -0.053333   \n",
       "3              -0.327703            -0.312589             0.104273   \n",
       "4               0.764470             1.407588             2.154857   \n",
       "..                   ...                  ...                  ...   \n",
       "864            -0.086150            -0.065251            -2.982534   \n",
       "865            -0.086150            -0.065251            -0.053333   \n",
       "866            -0.086150            -0.065251            -0.053333   \n",
       "867            -0.086150            -0.065251            -0.053333   \n",
       "868            -0.086150            -0.065251            -0.053333   \n",
       "\n",
       "     generation_gwh_2016  generation_gwh_2017  Present_Power_plant_year  \n",
       "0              -0.056045            -0.029726                 -1.175900  \n",
       "1              -0.056045            -0.029726                  0.036563  \n",
       "2              -0.056045            -0.029726                  0.036563  \n",
       "3               0.120564            -0.185635                 -0.335080  \n",
       "4               2.141815             1.867088                 -1.866131  \n",
       "..                   ...                  ...                       ...  \n",
       "864            -0.876921             0.026792                 -2.085192  \n",
       "865            -0.056045            -0.029726                  0.036563  \n",
       "866            -0.056045            -0.029726                  0.036563  \n",
       "867            -0.056045            -0.029726                  0.036563  \n",
       "868            -0.056045            -0.029726                  0.036563  \n",
       "\n",
       "[869 rows x 11 columns]"
      ]
     },
     "execution_count": 99,
     "metadata": {},
     "output_type": "execute_result"
    }
   ],
   "source": [
    "# Feature Scaling\n",
    "\n",
    "#Using Standard Scalarization\n",
    "\n",
    "from sklearn.preprocessing import StandardScaler\n",
    "\n",
    "scaler = StandardScaler()\n",
    "d1 = pd.DataFrame(scaler.fit_transform(d1), columns=d1.columns)\n",
    "d1"
   ]
  },
  {
   "cell_type": "code",
   "execution_count": 101,
   "metadata": {},
   "outputs": [],
   "source": [
    "x = d1.drop(\"capacity_mw\",axis=1)\n",
    "y = d1[\"capacity_mw\"]"
   ]
  },
  {
   "cell_type": "code",
   "execution_count": 102,
   "metadata": {},
   "outputs": [
    {
     "data": {
      "text/plain": [
       "longitude                   0.031907\n",
       "Fuel_type                   0.428812\n",
       "source                      1.758892\n",
       "geolocation_source         -2.087658\n",
       "generation_gwh_2013         0.574102\n",
       "generation_gwh_2014         0.141381\n",
       "generation_gwh_2015        -0.099889\n",
       "generation_gwh_2016        -0.071387\n",
       "generation_gwh_2017        -0.128588\n",
       "Present_Power_plant_year   -0.042046\n",
       "dtype: float64"
      ]
     },
     "execution_count": 102,
     "metadata": {},
     "output_type": "execute_result"
    }
   ],
   "source": [
    "x.skew()"
   ]
  },
  {
   "cell_type": "code",
   "execution_count": 103,
   "metadata": {},
   "outputs": [
    {
     "data": {
      "text/plain": [
       "\"\\nparameters:\\nmethod = 'box_cox' or 'yeo-johnson'\\n\""
      ]
     },
     "execution_count": 103,
     "metadata": {},
     "output_type": "execute_result"
    }
   ],
   "source": [
    "from sklearn.preprocessing import PowerTransformer\n",
    "scaler = PowerTransformer(method='yeo-johnson')\n",
    "'''\n",
    "parameters:\n",
    "method = 'box_cox' or 'yeo-johnson'\n",
    "'''"
   ]
  },
  {
   "cell_type": "code",
   "execution_count": 108,
   "metadata": {},
   "outputs": [],
   "source": [
    "feature=['longitude','generation_gwh_2013','generation_gwh_2014','generation_gwh_2015','generation_gwh_2016','generation_gwh_2017']"
   ]
  },
  {
   "cell_type": "code",
   "execution_count": 109,
   "metadata": {},
   "outputs": [
    {
     "data": {
      "text/plain": [
       "longitude              0.031907\n",
       "generation_gwh_2013    0.574102\n",
       "generation_gwh_2014    0.141381\n",
       "generation_gwh_2015   -0.099889\n",
       "generation_gwh_2016   -0.071387\n",
       "generation_gwh_2017   -0.128588\n",
       "dtype: float64"
      ]
     },
     "execution_count": 109,
     "metadata": {},
     "output_type": "execute_result"
    }
   ],
   "source": [
    "x[feature].skew()"
   ]
  },
  {
   "cell_type": "code",
   "execution_count": 110,
   "metadata": {},
   "outputs": [
    {
     "data": {
      "text/plain": [
       "<AxesSubplot:xlabel='longitude', ylabel='Density'>"
      ]
     },
     "execution_count": 110,
     "metadata": {},
     "output_type": "execute_result"
    },
    {
     "data": {
      "image/png": "[encoded data removed]",
      "text/plain": [
       "<Figure size 432x288 with 1 Axes>"
      ]
     },
     "metadata": {
      "needs_background": "light"
     },
     "output_type": "display_data"
    }
   ],
   "source": [
    "sns.distplot(x['longitude'])"
   ]
  },
  {
   "cell_type": "code",
   "execution_count": 111,
   "metadata": {},
   "outputs": [
    {
     "data": {
      "text/plain": [
       "<AxesSubplot:xlabel='generation_gwh_2013', ylabel='Density'>"
      ]
     },
     "execution_count": 111,
     "metadata": {},
     "output_type": "execute_result"
    },
    {
     "data": {
      "image/png": "[encoded data removed]",
      "text/plain": [
       "<Figure size 432x288 with 1 Axes>"
      ]
     },
     "metadata": {
      "needs_background": "light"
     },
     "output_type": "display_data"
    }
   ],
   "source": [
    "sns.distplot(x['generation_gwh_2013'])"
   ]
  },
  {
   "cell_type": "code",
   "execution_count": 112,
   "metadata": {},
   "outputs": [
    {
     "data": {
      "text/plain": [
       "<AxesSubplot:xlabel='generation_gwh_2014', ylabel='Density'>"
      ]
     },
     "execution_count": 112,
     "metadata": {},
     "output_type": "execute_result"
    },
    {
     "data": {
      "image/png": "[encoded data removed]",
      "text/plain": [
       "<Figure size 432x288 with 1 Axes>"
      ]
     },
     "metadata": {
      "needs_background": "light"
     },
     "output_type": "display_data"
    }
   ],
   "source": [
    "sns.distplot(x['generation_gwh_2014'])"
   ]
  },
  {
   "cell_type": "code",
   "execution_count": 113,
   "metadata": {},
   "outputs": [
    {
     "data": {
      "text/plain": [
       "<AxesSubplot:xlabel='generation_gwh_2015', ylabel='Density'>"
      ]
     },
     "execution_count": 113,
     "metadata": {},
     "output_type": "execute_result"
    },
    {
     "data": {
      "image/png": "[encoded data removed]",
      "text/plain": [
       "<Figure size 432x288 with 1 Axes>"
      ]
     },
     "metadata": {
      "needs_background": "light"
     },
     "output_type": "display_data"
    }
   ],
   "source": [
    "sns.distplot(x['generation_gwh_2015'])"
   ]
  },
  {
   "cell_type": "code",
   "execution_count": 114,
   "metadata": {},
   "outputs": [
    {
     "data": {
      "text/plain": [
       "<AxesSubplot:xlabel='generation_gwh_2016', ylabel='Density'>"
      ]
     },
     "execution_count": 114,
     "metadata": {},
     "output_type": "execute_result"
    },
    {
     "data": {
      "image/png": "[encoded data removed]",
      "text/plain": [
       "<Figure size 432x288 with 1 Axes>"
      ]
     },
     "metadata": {
      "needs_background": "light"
     },
     "output_type": "display_data"
    }
   ],
   "source": [
    "sns.distplot(x['generation_gwh_2016'])"
   ]
  },
  {
   "cell_type": "code",
   "execution_count": 116,
   "metadata": {},
   "outputs": [],
   "source": [
    "# Scaling\n",
    "\n",
    "from sklearn.preprocessing import StandardScaler\n",
    "ssc=StandardScaler()\n",
    "X = pd.DataFrame(ssc.fit_transform(x), columns=x.columns)"
   ]
  },
  {
   "cell_type": "code",
   "execution_count": 117,
   "metadata": {},
   "outputs": [
    {
     "data": {
      "text/html": [
       "<div>\n",
       "<style scoped>\n",
       "    .dataframe tbody tr th:only-of-type {\n",
       "        vertical-align: middle;\n",
       "    }\n",
       "\n",
       "    .dataframe tbody tr th {\n",
       "        vertical-align: top;\n",
       "    }\n",
       "\n",
       "    .dataframe thead th {\n",
       "        text-align: right;\n",
       "    }\n",
       "</style>\n",
       "<table border=\"1\" class=\"dataframe\">\n",
       "  <thead>\n",
       "    <tr style=\"text-align: right;\">\n",
       "      <th></th>\n",
       "      <th>vif_Features</th>\n",
       "      <th>Features</th>\n",
       "    </tr>\n",
       "  </thead>\n",
       "  <tbody>\n",
       "    <tr>\n",
       "      <th>0</th>\n",
       "      <td>1.296806</td>\n",
       "      <td>longitude</td>\n",
       "    </tr>\n",
       "    <tr>\n",
       "      <th>1</th>\n",
       "      <td>1.687367</td>\n",
       "      <td>Fuel_type</td>\n",
       "    </tr>\n",
       "    <tr>\n",
       "      <th>2</th>\n",
       "      <td>1.518789</td>\n",
       "      <td>source</td>\n",
       "    </tr>\n",
       "    <tr>\n",
       "      <th>3</th>\n",
       "      <td>1.893000</td>\n",
       "      <td>geolocation_source</td>\n",
       "    </tr>\n",
       "    <tr>\n",
       "      <th>4</th>\n",
       "      <td>4.268942</td>\n",
       "      <td>generation_gwh_2013</td>\n",
       "    </tr>\n",
       "    <tr>\n",
       "      <th>5</th>\n",
       "      <td>5.415737</td>\n",
       "      <td>generation_gwh_2014</td>\n",
       "    </tr>\n",
       "    <tr>\n",
       "      <th>6</th>\n",
       "      <td>5.845521</td>\n",
       "      <td>generation_gwh_2015</td>\n",
       "    </tr>\n",
       "    <tr>\n",
       "      <th>7</th>\n",
       "      <td>9.051502</td>\n",
       "      <td>generation_gwh_2016</td>\n",
       "    </tr>\n",
       "    <tr>\n",
       "      <th>8</th>\n",
       "      <td>4.675604</td>\n",
       "      <td>generation_gwh_2017</td>\n",
       "    </tr>\n",
       "    <tr>\n",
       "      <th>9</th>\n",
       "      <td>1.093084</td>\n",
       "      <td>Present_Power_plant_year</td>\n",
       "    </tr>\n",
       "  </tbody>\n",
       "</table>\n",
       "</div>"
      ],
      "text/plain": [
       "   vif_Features                  Features\n",
       "0      1.296806                 longitude\n",
       "1      1.687367                 Fuel_type\n",
       "2      1.518789                    source\n",
       "3      1.893000        geolocation_source\n",
       "4      4.268942       generation_gwh_2013\n",
       "5      5.415737       generation_gwh_2014\n",
       "6      5.845521       generation_gwh_2015\n",
       "7      9.051502       generation_gwh_2016\n",
       "8      4.675604       generation_gwh_2017\n",
       "9      1.093084  Present_Power_plant_year"
      ]
     },
     "execution_count": 117,
     "metadata": {},
     "output_type": "execute_result"
    }
   ],
   "source": [
    "# Using VIF to remove multicollinearity\n",
    "\n",
    "from statsmodels.stats.outliers_influence import variance_inflation_factor\n",
    "vif=pd.DataFrame()\n",
    "vif[\"vif_Features\"]=[variance_inflation_factor(X.values, i) for i in range(X.shape[1])]\n",
    "vif[\"Features\"]=X.columns\n",
    "vif"
   ]
  },
  {
   "cell_type": "code",
   "execution_count": null,
   "metadata": {},
   "outputs": [],
   "source": [
    "# Above output Looks good"
   ]
  },
  {
   "cell_type": "code",
   "execution_count": 118,
   "metadata": {},
   "outputs": [],
   "source": [
    "from sklearn.metrics import accuracy_score\n",
    "from sklearn.metrics import r2_score\n",
    "from sklearn.model_selection import train_test_split"
   ]
  },
  {
   "cell_type": "code",
   "execution_count": 119,
   "metadata": {},
   "outputs": [
    {
     "name": "stdout",
     "output_type": "stream",
     "text": [
      "Best accuracy is  0.8424864469104496  on Random_state  145\n"
     ]
    }
   ],
   "source": [
    "from sklearn.ensemble import RandomForestRegressor\n",
    "maxAccu=0\n",
    "maxRS=0\n",
    "for i in range(1,200):\n",
    "    X_train,X_test,y_train,y_test = train_test_split(X,y,test_size=.30, random_state =i)\n",
    "    mod = RandomForestRegressor()\n",
    "    mod.fit(X_train, y_train)\n",
    "    pred = mod.predict(X_test)\n",
    "    acc=r2_score(y_test, pred)\n",
    "    if acc>maxAccu:\n",
    "        maxAccu=acc\n",
    "        maxRS=i\n",
    "print(\"Best accuracy is \",maxAccu,\" on Random_state \",maxRS)"
   ]
  },
  {
   "cell_type": "code",
   "execution_count": 120,
   "metadata": {},
   "outputs": [],
   "source": [
    "X_train,X_test,y_train,y_test=train_test_split(X,y,test_size=.30,random_state=maxRS)"
   ]
  },
  {
   "cell_type": "code",
   "execution_count": 126,
   "metadata": {},
   "outputs": [],
   "source": [
    "from sklearn.svm import SVR\n",
    "from sklearn.linear_model import LinearRegression\n",
    "from sklearn.neighbors import KNeighborsRegressor as KNN\n",
    "from sklearn.linear_model import SGDRegressor\n",
    "from sklearn.metrics import classification_report\n",
    "from sklearn.ensemble import GradientBoostingRegressor\n",
    "from sklearn.model_selection import cross_val_score\n",
    "from sklearn.ensemble import BaggingRegressor\n",
    "from sklearn import metrics"
   ]
  },
  {
   "cell_type": "code",
   "execution_count": 125,
   "metadata": {},
   "outputs": [
    {
     "name": "stdout",
     "output_type": "stream",
     "text": [
      "R2_score: 0.6942070795846775\n"
     ]
    }
   ],
   "source": [
    "# Decision TreeRegressor\n",
    "\n",
    "from sklearn.tree import DecisionTreeRegressor\n",
    "DTR=DecisionTreeRegressor()\n",
    "DTR.fit(X_train,y_train)\n",
    "pred=DTR.predict(X_test)\n",
    "print('R2_score:',r2_score(y_test,pred))\n"
   ]
  },
  {
   "cell_type": "code",
   "execution_count": 133,
   "metadata": {},
   "outputs": [
    {
     "name": "stdout",
     "output_type": "stream",
     "text": [
      "0.5926773393410374\n"
     ]
    }
   ],
   "source": [
    "print(cross_val_score(DTR,X,y,cv=5).mean())"
   ]
  },
  {
   "cell_type": "code",
   "execution_count": 128,
   "metadata": {},
   "outputs": [
    {
     "name": "stdout",
     "output_type": "stream",
     "text": [
      "R2_score: 0.8363256969203969\n"
     ]
    }
   ],
   "source": [
    "# Random Forest Regressor\n",
    "\n",
    "RFR=RandomForestRegressor()\n",
    "RFR.fit(X_train,y_train)\n",
    "pred=RFR.predict(X_test)\n",
    "print('R2_score:',r2_score(y_test,pred))"
   ]
  },
  {
   "cell_type": "code",
   "execution_count": 132,
   "metadata": {},
   "outputs": [
    {
     "name": "stdout",
     "output_type": "stream",
     "text": [
      "0.7692126476370778\n"
     ]
    }
   ],
   "source": [
    "print(cross_val_score(RFR,X,y,cv=5).mean())"
   ]
  },
  {
   "cell_type": "code",
   "execution_count": 129,
   "metadata": {},
   "outputs": [
    {
     "name": "stdout",
     "output_type": "stream",
     "text": [
      "R2_score: 0.834158221278729\n"
     ]
    }
   ],
   "source": [
    "# Gradient Boosting\n",
    "\n",
    "GBR=GradientBoostingRegressor()\n",
    "GBR.fit(X_train,y_train)\n",
    "pred=GBR.predict(X_test)\n",
    "print('R2_score:',r2_score(y_test,pred))"
   ]
  },
  {
   "cell_type": "code",
   "execution_count": 134,
   "metadata": {},
   "outputs": [
    {
     "name": "stdout",
     "output_type": "stream",
     "text": [
      "0.7884512889341854\n"
     ]
    }
   ],
   "source": [
    "print(cross_val_score(GBR,X,y,cv=5).mean())"
   ]
  },
  {
   "cell_type": "code",
   "execution_count": 130,
   "metadata": {
    "scrolled": true
   },
   "outputs": [
    {
     "name": "stdout",
     "output_type": "stream",
     "text": [
      "R2_score: 0.7523765295776152\n"
     ]
    }
   ],
   "source": [
    "knn=KNN()\n",
    "knn.fit(X_train,y_train)\n",
    "pred=knn.predict(X_test)\n",
    "print('R2_score:',r2_score(y_test,pred))"
   ]
  },
  {
   "cell_type": "code",
   "execution_count": 135,
   "metadata": {
    "scrolled": true
   },
   "outputs": [
    {
     "name": "stdout",
     "output_type": "stream",
     "text": [
      "0.7047658706501456\n"
     ]
    }
   ],
   "source": [
    "print(cross_val_score(knn,X,y,cv=5).mean())"
   ]
  },
  {
   "cell_type": "code",
   "execution_count": null,
   "metadata": {},
   "outputs": [],
   "source": [
    "#Hyper Parameter Tuning"
   ]
  },
  {
   "cell_type": "code",
   "execution_count": 136,
   "metadata": {},
   "outputs": [],
   "source": [
    "from sklearn.model_selection import GridSearchCV"
   ]
  },
  {
   "cell_type": "code",
   "execution_count": 137,
   "metadata": {},
   "outputs": [],
   "source": [
    "parameter = {'criterion': ['mse','mae'],\n",
    "            'n_estimators':[100,200,300,400],\n",
    "            'max_depth': [5,6,7,8],\n",
    "            'max_features':['auto','sqrt','log2'],\n",
    "            'bootstrap': [True, False]}"
   ]
  },
  {
   "cell_type": "code",
   "execution_count": 138,
   "metadata": {},
   "outputs": [],
   "source": [
    "GCV=GridSearchCV(RandomForestRegressor(),parameter,cv=5)"
   ]
  },
  {
   "cell_type": "code",
   "execution_count": 139,
   "metadata": {},
   "outputs": [
    {
     "name": "stdout",
     "output_type": "stream",
     "text": [
      "R2_Score: 85.11743748479915\n"
     ]
    }
   ],
   "source": [
    "F_mod=RandomForestRegressor(bootstrap=True,criterion='mse',max_depth=8,max_features='log2',n_estimators=400,)\n",
    "F_mod.fit(X_train,y_train)\n",
    "pred=F_mod.predict(X_test)\n",
    "print('R2_Score:',r2_score(y_test,pred)*100)"
   ]
  },
  {
   "cell_type": "code",
   "execution_count": 140,
   "metadata": {},
   "outputs": [
    {
     "data": {
      "text/plain": [
       "['Capacity.pk']"
      ]
     },
     "execution_count": 140,
     "metadata": {},
     "output_type": "execute_result"
    }
   ],
   "source": [
    "import joblib\n",
    "joblib.dump(F_mod,\"Capacity.pk\")"
   ]
  },
  {
   "cell_type": "code",
   "execution_count": null,
   "metadata": {},
   "outputs": [],
   "source": []
  },
  {
   "cell_type": "code",
   "execution_count": null,
   "metadata": {},
   "outputs": [],
   "source": []
  },
  {
   "cell_type": "code",
   "execution_count": null,
   "metadata": {},
   "outputs": [],
   "source": []
  },
  {
   "cell_type": "code",
   "execution_count": null,
   "metadata": {},
   "outputs": [],
   "source": []
  },
  {
   "cell_type": "code",
   "execution_count": null,
   "metadata": {},
   "outputs": [],
   "source": []
  },
  {
   "cell_type": "code",
   "execution_count": null,
   "metadata": {},
   "outputs": [],
   "source": []
  },
  {
   "cell_type": "code",
   "execution_count": null,
   "metadata": {},
   "outputs": [],
   "source": []
  },
  {
   "cell_type": "code",
   "execution_count": null,
   "metadata": {},
   "outputs": [],
   "source": []
  },
  {
   "cell_type": "code",
   "execution_count": null,
   "metadata": {},
   "outputs": [],
   "source": []
  },
  {
   "cell_type": "code",
   "execution_count": null,
   "metadata": {},
   "outputs": [],
   "source": []
  },
  {
   "cell_type": "code",
   "execution_count": null,
   "metadata": {},
   "outputs": [],
   "source": []
  },
  {
   "cell_type": "code",
   "execution_count": null,
   "metadata": {},
   "outputs": [],
   "source": []
  },
  {
   "cell_type": "code",
   "execution_count": null,
   "metadata": {},
   "outputs": [],
   "source": []
  },
  {
   "cell_type": "code",
   "execution_count": null,
   "metadata": {},
   "outputs": [],
   "source": []
  },
  {
   "cell_type": "code",
   "execution_count": null,
   "metadata": {},
   "outputs": [],
   "source": []
  },
  {
   "cell_type": "code",
   "execution_count": null,
   "metadata": {},
   "outputs": [],
   "source": []
  },
  {
   "cell_type": "code",
   "execution_count": null,
   "metadata": {},
   "outputs": [],
   "source": []
  },
  {
   "cell_type": "code",
   "execution_count": null,
   "metadata": {},
   "outputs": [],
   "source": []
  },
  {
   "cell_type": "code",
   "execution_count": null,
   "metadata": {},
   "outputs": [],
   "source": []
  },
  {
   "cell_type": "code",
   "execution_count": null,
   "metadata": {},
   "outputs": [],
   "source": []
  },
  {
   "cell_type": "code",
   "execution_count": null,
   "metadata": {},
   "outputs": [],
   "source": []
  },
  {
   "cell_type": "code",
   "execution_count": null,
   "metadata": {},
   "outputs": [],
   "source": []
  },
  {
   "cell_type": "code",
   "execution_count": null,
   "metadata": {},
   "outputs": [],
   "source": []
  }
 ],
 "metadata": {
  "kernelspec": {
   "display_name": "Python 3",
   "language": "python",
   "name": "python3"
  },
  "language_info": {
   "codemirror_mode": {
    "name": "ipython",
    "version": 3
   },
   "file_extension": ".py",
   "mimetype": "text/x-python",
   "name": "python",
   "nbconvert_exporter": "python",
   "pygments_lexer": "ipython3",
   "version": "3.8.5"
  }
 },
 "nbformat": 4,
 "nbformat_minor": 4
}

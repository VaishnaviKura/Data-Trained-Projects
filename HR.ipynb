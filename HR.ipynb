{
 "cells": [
  {
   "cell_type": "markdown",
   "metadata": {},
   "source": [
    "HR Analytics"
   ]
  },
  {
   "cell_type": "code",
   "execution_count": 1,
   "metadata": {},
   "outputs": [],
   "source": [
    "import numpy as np\n",
    "import pandas as pd\n",
    "import sklearn"
   ]
  },
  {
   "cell_type": "code",
   "execution_count": 2,
   "metadata": {},
   "outputs": [],
   "source": [
    "import scipy\n",
    "from sklearn.preprocessing import LabelEncoder\n",
    "from sklearn.preprocessing import StandardScaler\n",
    "import seaborn as sns\n",
    "import matplotlib.pyplot as plt\n",
    "from sklearn.model_selection import train_test_split\n",
    "from sklearn.naive_bayes import MultinomialNB\n",
    "from sklearn.linear_model import LogisticRegression\n",
    "from sklearn.svm import SVC\n",
    "from sklearn.tree import DecisionTreeClassifier\n",
    "from sklearn.neighbors import KNeighborsClassifier\n",
    "from sklearn.metrics import accuracy_score,confusion_matrix,classification_report"
   ]
  },
  {
   "cell_type": "code",
   "execution_count": 4,
   "metadata": {},
   "outputs": [
    {
     "data": {
      "text/html": [
       "<div>\n",
       "<style scoped>\n",
       "    .dataframe tbody tr th:only-of-type {\n",
       "        vertical-align: middle;\n",
       "    }\n",
       "\n",
       "    .dataframe tbody tr th {\n",
       "        vertical-align: top;\n",
       "    }\n",
       "\n",
       "    .dataframe thead th {\n",
       "        text-align: right;\n",
       "    }\n",
       "</style>\n",
       "<table border=\"1\" class=\"dataframe\">\n",
       "  <thead>\n",
       "    <tr style=\"text-align: right;\">\n",
       "      <th></th>\n",
       "      <th>Age</th>\n",
       "      <th>Attrition</th>\n",
       "      <th>BusinessTravel</th>\n",
       "      <th>DailyRate</th>\n",
       "      <th>Department</th>\n",
       "      <th>DistanceFromHome</th>\n",
       "      <th>Education</th>\n",
       "      <th>EducationField</th>\n",
       "      <th>EmployeeCount</th>\n",
       "      <th>EmployeeNumber</th>\n",
       "      <th>...</th>\n",
       "      <th>RelationshipSatisfaction</th>\n",
       "      <th>StandardHours</th>\n",
       "      <th>StockOptionLevel</th>\n",
       "      <th>TotalWorkingYears</th>\n",
       "      <th>TrainingTimesLastYear</th>\n",
       "      <th>WorkLifeBalance</th>\n",
       "      <th>YearsAtCompany</th>\n",
       "      <th>YearsInCurrentRole</th>\n",
       "      <th>YearsSinceLastPromotion</th>\n",
       "      <th>YearsWithCurrManager</th>\n",
       "    </tr>\n",
       "  </thead>\n",
       "  <tbody>\n",
       "    <tr>\n",
       "      <th>0</th>\n",
       "      <td>41</td>\n",
       "      <td>Yes</td>\n",
       "      <td>Travel_Rarely</td>\n",
       "      <td>1102</td>\n",
       "      <td>Sales</td>\n",
       "      <td>1</td>\n",
       "      <td>2</td>\n",
       "      <td>Life Sciences</td>\n",
       "      <td>1</td>\n",
       "      <td>1</td>\n",
       "      <td>...</td>\n",
       "      <td>1</td>\n",
       "      <td>80</td>\n",
       "      <td>0</td>\n",
       "      <td>8</td>\n",
       "      <td>0</td>\n",
       "      <td>1</td>\n",
       "      <td>6</td>\n",
       "      <td>4</td>\n",
       "      <td>0</td>\n",
       "      <td>5</td>\n",
       "    </tr>\n",
       "    <tr>\n",
       "      <th>1</th>\n",
       "      <td>49</td>\n",
       "      <td>No</td>\n",
       "      <td>Travel_Frequently</td>\n",
       "      <td>279</td>\n",
       "      <td>Research &amp; Development</td>\n",
       "      <td>8</td>\n",
       "      <td>1</td>\n",
       "      <td>Life Sciences</td>\n",
       "      <td>1</td>\n",
       "      <td>2</td>\n",
       "      <td>...</td>\n",
       "      <td>4</td>\n",
       "      <td>80</td>\n",
       "      <td>1</td>\n",
       "      <td>10</td>\n",
       "      <td>3</td>\n",
       "      <td>3</td>\n",
       "      <td>10</td>\n",
       "      <td>7</td>\n",
       "      <td>1</td>\n",
       "      <td>7</td>\n",
       "    </tr>\n",
       "    <tr>\n",
       "      <th>2</th>\n",
       "      <td>37</td>\n",
       "      <td>Yes</td>\n",
       "      <td>Travel_Rarely</td>\n",
       "      <td>1373</td>\n",
       "      <td>Research &amp; Development</td>\n",
       "      <td>2</td>\n",
       "      <td>2</td>\n",
       "      <td>Other</td>\n",
       "      <td>1</td>\n",
       "      <td>4</td>\n",
       "      <td>...</td>\n",
       "      <td>2</td>\n",
       "      <td>80</td>\n",
       "      <td>0</td>\n",
       "      <td>7</td>\n",
       "      <td>3</td>\n",
       "      <td>3</td>\n",
       "      <td>0</td>\n",
       "      <td>0</td>\n",
       "      <td>0</td>\n",
       "      <td>0</td>\n",
       "    </tr>\n",
       "    <tr>\n",
       "      <th>3</th>\n",
       "      <td>33</td>\n",
       "      <td>No</td>\n",
       "      <td>Travel_Frequently</td>\n",
       "      <td>1392</td>\n",
       "      <td>Research &amp; Development</td>\n",
       "      <td>3</td>\n",
       "      <td>4</td>\n",
       "      <td>Life Sciences</td>\n",
       "      <td>1</td>\n",
       "      <td>5</td>\n",
       "      <td>...</td>\n",
       "      <td>3</td>\n",
       "      <td>80</td>\n",
       "      <td>0</td>\n",
       "      <td>8</td>\n",
       "      <td>3</td>\n",
       "      <td>3</td>\n",
       "      <td>8</td>\n",
       "      <td>7</td>\n",
       "      <td>3</td>\n",
       "      <td>0</td>\n",
       "    </tr>\n",
       "    <tr>\n",
       "      <th>4</th>\n",
       "      <td>27</td>\n",
       "      <td>No</td>\n",
       "      <td>Travel_Rarely</td>\n",
       "      <td>591</td>\n",
       "      <td>Research &amp; Development</td>\n",
       "      <td>2</td>\n",
       "      <td>1</td>\n",
       "      <td>Medical</td>\n",
       "      <td>1</td>\n",
       "      <td>7</td>\n",
       "      <td>...</td>\n",
       "      <td>4</td>\n",
       "      <td>80</td>\n",
       "      <td>1</td>\n",
       "      <td>6</td>\n",
       "      <td>3</td>\n",
       "      <td>3</td>\n",
       "      <td>2</td>\n",
       "      <td>2</td>\n",
       "      <td>2</td>\n",
       "      <td>2</td>\n",
       "    </tr>\n",
       "  </tbody>\n",
       "</table>\n",
       "<p>5 rows × 35 columns</p>\n",
       "</div>"
      ],
      "text/plain": [
       "   Age Attrition     BusinessTravel  DailyRate              Department  \\\n",
       "0   41       Yes      Travel_Rarely       1102                   Sales   \n",
       "1   49        No  Travel_Frequently        279  Research & Development   \n",
       "2   37       Yes      Travel_Rarely       1373  Research & Development   \n",
       "3   33        No  Travel_Frequently       1392  Research & Development   \n",
       "4   27        No      Travel_Rarely        591  Research & Development   \n",
       "\n",
       "   DistanceFromHome  Education EducationField  EmployeeCount  EmployeeNumber  \\\n",
       "0                 1          2  Life Sciences              1               1   \n",
       "1                 8          1  Life Sciences              1               2   \n",
       "2                 2          2          Other              1               4   \n",
       "3                 3          4  Life Sciences              1               5   \n",
       "4                 2          1        Medical              1               7   \n",
       "\n",
       "   ...  RelationshipSatisfaction StandardHours  StockOptionLevel  \\\n",
       "0  ...                         1            80                 0   \n",
       "1  ...                         4            80                 1   \n",
       "2  ...                         2            80                 0   \n",
       "3  ...                         3            80                 0   \n",
       "4  ...                         4            80                 1   \n",
       "\n",
       "   TotalWorkingYears  TrainingTimesLastYear WorkLifeBalance  YearsAtCompany  \\\n",
       "0                  8                      0               1               6   \n",
       "1                 10                      3               3              10   \n",
       "2                  7                      3               3               0   \n",
       "3                  8                      3               3               8   \n",
       "4                  6                      3               3               2   \n",
       "\n",
       "  YearsInCurrentRole  YearsSinceLastPromotion  YearsWithCurrManager  \n",
       "0                  4                        0                     5  \n",
       "1                  7                        1                     7  \n",
       "2                  0                        0                     0  \n",
       "3                  7                        3                     0  \n",
       "4                  2                        2                     2  \n",
       "\n",
       "[5 rows x 35 columns]"
      ]
     },
     "execution_count": 4,
     "metadata": {},
     "output_type": "execute_result"
    }
   ],
   "source": [
    "data=pd.read_csv(\"HR-Employee-Attrition.csv\")\n",
    "data.head()"
   ]
  },
  {
   "cell_type": "code",
   "execution_count": 6,
   "metadata": {},
   "outputs": [
    {
     "data": {
      "text/plain": [
       "(1470, 35)"
      ]
     },
     "execution_count": 6,
     "metadata": {},
     "output_type": "execute_result"
    }
   ],
   "source": [
    "data.shape"
   ]
  },
  {
   "cell_type": "code",
   "execution_count": 8,
   "metadata": {},
   "outputs": [
    {
     "data": {
      "text/plain": [
       "Age                         0\n",
       "Attrition                   0\n",
       "BusinessTravel              0\n",
       "DailyRate                   0\n",
       "Department                  0\n",
       "DistanceFromHome            0\n",
       "Education                   0\n",
       "EducationField              0\n",
       "EmployeeCount               0\n",
       "EmployeeNumber              0\n",
       "EnvironmentSatisfaction     0\n",
       "Gender                      0\n",
       "HourlyRate                  0\n",
       "JobInvolvement              0\n",
       "JobLevel                    0\n",
       "JobRole                     0\n",
       "JobSatisfaction             0\n",
       "MaritalStatus               0\n",
       "MonthlyIncome               0\n",
       "MonthlyRate                 0\n",
       "NumCompaniesWorked          0\n",
       "Over18                      0\n",
       "OverTime                    0\n",
       "PercentSalaryHike           0\n",
       "PerformanceRating           0\n",
       "RelationshipSatisfaction    0\n",
       "StandardHours               0\n",
       "StockOptionLevel            0\n",
       "TotalWorkingYears           0\n",
       "TrainingTimesLastYear       0\n",
       "WorkLifeBalance             0\n",
       "YearsAtCompany              0\n",
       "YearsInCurrentRole          0\n",
       "YearsSinceLastPromotion     0\n",
       "YearsWithCurrManager        0\n",
       "dtype: int64"
      ]
     },
     "execution_count": 8,
     "metadata": {},
     "output_type": "execute_result"
    }
   ],
   "source": [
    "# Checking null values\n",
    "\n",
    "data.isnull().sum()"
   ]
  },
  {
   "cell_type": "code",
   "execution_count": 10,
   "metadata": {},
   "outputs": [
    {
     "data": {
      "text/plain": [
       "Index(['Age', 'Attrition', 'BusinessTravel', 'DailyRate', 'Department',\n",
       "       'DistanceFromHome', 'Education', 'EducationField', 'EmployeeCount',\n",
       "       'EmployeeNumber', 'EnvironmentSatisfaction', 'Gender', 'HourlyRate',\n",
       "       'JobInvolvement', 'JobLevel', 'JobRole', 'JobSatisfaction',\n",
       "       'MaritalStatus', 'MonthlyIncome', 'MonthlyRate', 'NumCompaniesWorked',\n",
       "       'Over18', 'OverTime', 'PercentSalaryHike', 'PerformanceRating',\n",
       "       'RelationshipSatisfaction', 'StandardHours', 'StockOptionLevel',\n",
       "       'TotalWorkingYears', 'TrainingTimesLastYear', 'WorkLifeBalance',\n",
       "       'YearsAtCompany', 'YearsInCurrentRole', 'YearsSinceLastPromotion',\n",
       "       'YearsWithCurrManager'],\n",
       "      dtype='object')"
      ]
     },
     "execution_count": 10,
     "metadata": {},
     "output_type": "execute_result"
    }
   ],
   "source": [
    "data.columns"
   ]
  },
  {
   "cell_type": "code",
   "execution_count": 12,
   "metadata": {},
   "outputs": [
    {
     "name": "stdout",
     "output_type": "stream",
     "text": [
      "35    78\n",
      "34    77\n",
      "31    69\n",
      "36    69\n",
      "29    68\n",
      "32    61\n",
      "30    60\n",
      "33    58\n",
      "38    58\n",
      "40    57\n",
      "37    50\n",
      "27    48\n",
      "28    48\n",
      "42    46\n",
      "39    42\n",
      "45    41\n",
      "41    40\n",
      "26    39\n",
      "46    33\n",
      "44    33\n",
      "43    32\n",
      "50    30\n",
      "24    26\n",
      "25    26\n",
      "47    24\n",
      "49    24\n",
      "55    22\n",
      "48    19\n",
      "51    19\n",
      "53    19\n",
      "52    18\n",
      "54    18\n",
      "22    16\n",
      "56    14\n",
      "58    14\n",
      "23    14\n",
      "21    13\n",
      "20    11\n",
      "59    10\n",
      "19     9\n",
      "18     8\n",
      "60     5\n",
      "57     4\n",
      "Name: Age, dtype: int64\n"
     ]
    },
    {
     "name": "stderr",
     "output_type": "stream",
     "text": [
      "C:\\Users\\Vaishnavi\\anaconda3\\lib\\site-packages\\seaborn\\_decorators.py:36: FutureWarning: Pass the following variable as a keyword arg: x. From version 0.12, the only valid positional argument will be `data`, and passing other arguments without an explicit keyword will result in an error or misinterpretation.\n",
      "  warnings.warn(\n"
     ]
    },
    {
     "data": {
      "text/plain": [
       "<AxesSubplot:xlabel='Age', ylabel='count'>"
      ]
     },
     "execution_count": 12,
     "metadata": {},
     "output_type": "execute_result"
    },
    {
     "data": {
      "image/png": "[encoded data removed]",
      "text/plain": [
       "<Figure size 1584x504 with 1 Axes>"
      ]
     },
     "metadata": {
      "needs_background": "light"
     },
     "output_type": "display_data"
    }
   ],
   "source": [
    "# Data Visualization\n",
    "\n",
    "ax=data['Age'].value_counts()\n",
    "print(ax)\n",
    "plt.figure(figsize=(22,7))\n",
    "sns.countplot(data['Age'])"
   ]
  },
  {
   "cell_type": "code",
   "execution_count": 13,
   "metadata": {},
   "outputs": [
    {
     "name": "stdout",
     "output_type": "stream",
     "text": [
      "No     1233\n",
      "Yes     237\n",
      "Name: Attrition, dtype: int64\n"
     ]
    },
    {
     "name": "stderr",
     "output_type": "stream",
     "text": [
      "C:\\Users\\Vaishnavi\\anaconda3\\lib\\site-packages\\seaborn\\_decorators.py:36: FutureWarning: Pass the following variable as a keyword arg: x. From version 0.12, the only valid positional argument will be `data`, and passing other arguments without an explicit keyword will result in an error or misinterpretation.\n",
      "  warnings.warn(\n"
     ]
    },
    {
     "data": {
      "text/plain": [
       "<AxesSubplot:xlabel='Attrition', ylabel='count'>"
      ]
     },
     "execution_count": 13,
     "metadata": {},
     "output_type": "execute_result"
    },
    {
     "data": {
      "image/png": "[encoded data removed]",
      "text/plain": [
       "<Figure size 432x288 with 1 Axes>"
      ]
     },
     "metadata": {
      "needs_background": "light"
     },
     "output_type": "display_data"
    }
   ],
   "source": [
    "# Employee age is from 18 to 60 and max age range of employee is from 28 to 38\n",
    "\n",
    "ax=data['Attrition'].value_counts()\n",
    "print(ax)\n",
    "#plt.figure(figsize=(22,7))\n",
    "sns.countplot(data['Attrition'])"
   ]
  },
  {
   "cell_type": "code",
   "execution_count": 14,
   "metadata": {},
   "outputs": [
    {
     "name": "stdout",
     "output_type": "stream",
     "text": [
      "Travel_Rarely        1043\n",
      "Travel_Frequently     277\n",
      "Non-Travel            150\n",
      "Name: BusinessTravel, dtype: int64\n"
     ]
    },
    {
     "name": "stderr",
     "output_type": "stream",
     "text": [
      "C:\\Users\\Vaishnavi\\anaconda3\\lib\\site-packages\\seaborn\\_decorators.py:36: FutureWarning: Pass the following variable as a keyword arg: x. From version 0.12, the only valid positional argument will be `data`, and passing other arguments without an explicit keyword will result in an error or misinterpretation.\n",
      "  warnings.warn(\n"
     ]
    },
    {
     "data": {
      "text/plain": [
       "<AxesSubplot:xlabel='BusinessTravel', ylabel='count'>"
      ]
     },
     "execution_count": 14,
     "metadata": {},
     "output_type": "execute_result"
    },
    {
     "data": {
      "image/png": "[encoded data removed]",
      "text/plain": [
       "<Figure size 432x288 with 1 Axes>"
      ]
     },
     "metadata": {
      "needs_background": "light"
     },
     "output_type": "display_data"
    }
   ],
   "source": [
    "ax=data['BusinessTravel'].value_counts()\n",
    "print(ax)\n",
    "#plt.figure(figsize=(22,7))\n",
    "sns.countplot(data['BusinessTravel'])"
   ]
  },
  {
   "cell_type": "code",
   "execution_count": 15,
   "metadata": {},
   "outputs": [
    {
     "name": "stdout",
     "output_type": "stream",
     "text": [
      "691     6\n",
      "1082    5\n",
      "329     5\n",
      "1329    5\n",
      "530     5\n",
      "       ..\n",
      "897     1\n",
      "891     1\n",
      "889     1\n",
      "888     1\n",
      "102     1\n",
      "Name: DailyRate, Length: 886, dtype: int64\n"
     ]
    },
    {
     "name": "stderr",
     "output_type": "stream",
     "text": [
      "C:\\Users\\Vaishnavi\\anaconda3\\lib\\site-packages\\seaborn\\_decorators.py:36: FutureWarning: Pass the following variable as a keyword arg: x. From version 0.12, the only valid positional argument will be `data`, and passing other arguments without an explicit keyword will result in an error or misinterpretation.\n",
      "  warnings.warn(\n"
     ]
    },
    {
     "data": {
      "text/plain": [
       "<AxesSubplot:xlabel='DailyRate', ylabel='count'>"
      ]
     },
     "execution_count": 15,
     "metadata": {},
     "output_type": "execute_result"
    },
    {
     "data": {
      "image/png": "[encoded data removed]",
      "text/plain": [
       "<Figure size 1584x504 with 1 Axes>"
      ]
     },
     "metadata": {
      "needs_background": "light"
     },
     "output_type": "display_data"
    }
   ],
   "source": [
    "ax=data['DailyRate'].value_counts()\n",
    "print(ax)\n",
    "plt.figure(figsize=(22,7))\n",
    "sns.countplot(data['DailyRate'])"
   ]
  },
  {
   "cell_type": "code",
   "execution_count": 17,
   "metadata": {},
   "outputs": [
    {
     "name": "stdout",
     "output_type": "stream",
     "text": [
      "Research & Development    961\n",
      "Sales                     446\n",
      "Human Resources            63\n",
      "Name: Department, dtype: int64\n"
     ]
    },
    {
     "name": "stderr",
     "output_type": "stream",
     "text": [
      "C:\\Users\\Vaishnavi\\anaconda3\\lib\\site-packages\\seaborn\\_decorators.py:36: FutureWarning: Pass the following variable as a keyword arg: x. From version 0.12, the only valid positional argument will be `data`, and passing other arguments without an explicit keyword will result in an error or misinterpretation.\n",
      "  warnings.warn(\n"
     ]
    },
    {
     "data": {
      "text/plain": [
       "<AxesSubplot:xlabel='Department', ylabel='count'>"
      ]
     },
     "execution_count": 17,
     "metadata": {},
     "output_type": "execute_result"
    },
    {
     "data": {
      "image/png": "[encoded data removed]",
      "text/plain": [
       "<Figure size 432x288 with 1 Axes>"
      ]
     },
     "metadata": {
      "needs_background": "light"
     },
     "output_type": "display_data"
    }
   ],
   "source": [
    "#It can be seen that it is scattered \n",
    "\n",
    "ax=data['Department'].value_counts()\n",
    "print(ax)\n",
    "#plt.figure(figsize=(22,7))\n",
    "sns.countplot(data['Department'])"
   ]
  },
  {
   "cell_type": "code",
   "execution_count": 18,
   "metadata": {},
   "outputs": [
    {
     "name": "stdout",
     "output_type": "stream",
     "text": [
      "2     211\n",
      "1     208\n",
      "10     86\n",
      "9      85\n",
      "3      84\n",
      "7      84\n",
      "8      80\n",
      "5      65\n",
      "4      64\n",
      "6      59\n",
      "16     32\n",
      "11     29\n",
      "24     28\n",
      "29     27\n",
      "23     27\n",
      "18     26\n",
      "15     26\n",
      "20     25\n",
      "25     25\n",
      "26     25\n",
      "28     23\n",
      "19     22\n",
      "14     21\n",
      "12     20\n",
      "17     20\n",
      "13     19\n",
      "22     19\n",
      "21     18\n",
      "27     12\n",
      "Name: DistanceFromHome, dtype: int64\n"
     ]
    },
    {
     "name": "stderr",
     "output_type": "stream",
     "text": [
      "C:\\Users\\Vaishnavi\\anaconda3\\lib\\site-packages\\seaborn\\_decorators.py:36: FutureWarning: Pass the following variable as a keyword arg: x. From version 0.12, the only valid positional argument will be `data`, and passing other arguments without an explicit keyword will result in an error or misinterpretation.\n",
      "  warnings.warn(\n"
     ]
    },
    {
     "data": {
      "text/plain": [
       "<AxesSubplot:xlabel='DistanceFromHome', ylabel='count'>"
      ]
     },
     "execution_count": 18,
     "metadata": {},
     "output_type": "execute_result"
    },
    {
     "data": {
      "image/png": "[encoded data removed]",
      "text/plain": [
       "<Figure size 432x288 with 1 Axes>"
      ]
     },
     "metadata": {
      "needs_background": "light"
     },
     "output_type": "display_data"
    }
   ],
   "source": [
    "ax=data['DistanceFromHome'].value_counts()\n",
    "print(ax)\n",
    "#plt.figure(figsize=(22,7))\n",
    "sns.countplot(data['DistanceFromHome'])"
   ]
  },
  {
   "cell_type": "code",
   "execution_count": 20,
   "metadata": {},
   "outputs": [
    {
     "name": "stdout",
     "output_type": "stream",
     "text": [
      "3    572\n",
      "4    398\n",
      "2    282\n",
      "1    170\n",
      "5     48\n",
      "Name: Education, dtype: int64\n"
     ]
    },
    {
     "name": "stderr",
     "output_type": "stream",
     "text": [
      "C:\\Users\\Vaishnavi\\anaconda3\\lib\\site-packages\\seaborn\\_decorators.py:36: FutureWarning: Pass the following variable as a keyword arg: x. From version 0.12, the only valid positional argument will be `data`, and passing other arguments without an explicit keyword will result in an error or misinterpretation.\n",
      "  warnings.warn(\n"
     ]
    },
    {
     "data": {
      "text/plain": [
       "<AxesSubplot:xlabel='Education', ylabel='count'>"
      ]
     },
     "execution_count": 20,
     "metadata": {},
     "output_type": "execute_result"
    },
    {
     "data": {
      "image/png": "[encoded data removed]",
      "text/plain": [
       "<Figure size 432x288 with 1 Axes>"
      ]
     },
     "metadata": {
      "needs_background": "light"
     },
     "output_type": "display_data"
    }
   ],
   "source": [
    "ax=data['Education'].value_counts()\n",
    "print(ax)\n",
    "#plt.figure(figsize=(22,7))\n",
    "sns.countplot(data['Education'])"
   ]
  },
  {
   "cell_type": "code",
   "execution_count": 21,
   "metadata": {},
   "outputs": [
    {
     "name": "stdout",
     "output_type": "stream",
     "text": [
      "Life Sciences       606\n",
      "Medical             464\n",
      "Marketing           159\n",
      "Technical Degree    132\n",
      "Other                82\n",
      "Human Resources      27\n",
      "Name: EducationField, dtype: int64\n"
     ]
    },
    {
     "name": "stderr",
     "output_type": "stream",
     "text": [
      "C:\\Users\\Vaishnavi\\anaconda3\\lib\\site-packages\\seaborn\\_decorators.py:36: FutureWarning: Pass the following variable as a keyword arg: x. From version 0.12, the only valid positional argument will be `data`, and passing other arguments without an explicit keyword will result in an error or misinterpretation.\n",
      "  warnings.warn(\n"
     ]
    },
    {
     "data": {
      "text/plain": [
       "<AxesSubplot:xlabel='EducationField', ylabel='count'>"
      ]
     },
     "execution_count": 21,
     "metadata": {},
     "output_type": "execute_result"
    },
    {
     "data": {
      "image/png": "[encoded data removed]",
      "text/plain": [
       "<Figure size 1080x504 with 1 Axes>"
      ]
     },
     "metadata": {
      "needs_background": "light"
     },
     "output_type": "display_data"
    }
   ],
   "source": [
    "ax=data['EducationField'].value_counts()\n",
    "print(ax)\n",
    "plt.figure(figsize=(15,7))\n",
    "sns.countplot(data['EducationField'])"
   ]
  },
  {
   "cell_type": "code",
   "execution_count": 22,
   "metadata": {},
   "outputs": [
    {
     "name": "stdout",
     "output_type": "stream",
     "text": [
      "1    1470\n",
      "Name: EmployeeCount, dtype: int64\n"
     ]
    },
    {
     "name": "stderr",
     "output_type": "stream",
     "text": [
      "C:\\Users\\Vaishnavi\\anaconda3\\lib\\site-packages\\seaborn\\_decorators.py:36: FutureWarning: Pass the following variable as a keyword arg: x. From version 0.12, the only valid positional argument will be `data`, and passing other arguments without an explicit keyword will result in an error or misinterpretation.\n",
      "  warnings.warn(\n"
     ]
    },
    {
     "data": {
      "text/plain": [
       "<AxesSubplot:xlabel='EmployeeCount', ylabel='count'>"
      ]
     },
     "execution_count": 22,
     "metadata": {},
     "output_type": "execute_result"
    },
    {
     "data": {
      "image/png": "[encoded data removed]",
      "text/plain": [
       "<Figure size 432x288 with 1 Axes>"
      ]
     },
     "metadata": {
      "needs_background": "light"
     },
     "output_type": "display_data"
    }
   ],
   "source": [
    "ax=data['EmployeeCount'].value_counts()\n",
    "print(ax)\n",
    "#plt.figure(figsize=(15,7))\n",
    "sns.countplot(data['EmployeeCount'])"
   ]
  },
  {
   "cell_type": "code",
   "execution_count": 24,
   "metadata": {},
   "outputs": [],
   "source": [
    "# We drop this column since there is only one type present\n",
    "\n",
    "data.drop([\"EmployeeCount\"],axis=1,inplace=True)"
   ]
  },
  {
   "cell_type": "code",
   "execution_count": 25,
   "metadata": {},
   "outputs": [
    {
     "name": "stdout",
     "output_type": "stream",
     "text": [
      "2046    1\n",
      "641     1\n",
      "644     1\n",
      "645     1\n",
      "647     1\n",
      "       ..\n",
      "1364    1\n",
      "1367    1\n",
      "1368    1\n",
      "1369    1\n",
      "2048    1\n",
      "Name: EmployeeNumber, Length: 1470, dtype: int64\n"
     ]
    },
    {
     "name": "stderr",
     "output_type": "stream",
     "text": [
      "C:\\Users\\Vaishnavi\\anaconda3\\lib\\site-packages\\seaborn\\_decorators.py:36: FutureWarning: Pass the following variable as a keyword arg: x. From version 0.12, the only valid positional argument will be `data`, and passing other arguments without an explicit keyword will result in an error or misinterpretation.\n",
      "  warnings.warn(\n"
     ]
    },
    {
     "data": {
      "text/plain": [
       "<AxesSubplot:xlabel='EmployeeNumber', ylabel='count'>"
      ]
     },
     "execution_count": 25,
     "metadata": {},
     "output_type": "execute_result"
    },
    {
     "data": {
      "image/png": "[encoded data removed]",
      "text/plain": [
       "<Figure size 432x288 with 1 Axes>"
      ]
     },
     "metadata": {
      "needs_background": "light"
     },
     "output_type": "display_data"
    }
   ],
   "source": [
    "ax=data['EmployeeNumber'].value_counts()\n",
    "print(ax)\n",
    "#plt.figure(figsize=(15,7))\n",
    "sns.countplot(data['EmployeeNumber'])"
   ]
  },
  {
   "cell_type": "code",
   "execution_count": 27,
   "metadata": {},
   "outputs": [
    {
     "name": "stdout",
     "output_type": "stream",
     "text": [
      "3    453\n",
      "4    446\n",
      "2    287\n",
      "1    284\n",
      "Name: EnvironmentSatisfaction, dtype: int64\n"
     ]
    },
    {
     "name": "stderr",
     "output_type": "stream",
     "text": [
      "C:\\Users\\Vaishnavi\\anaconda3\\lib\\site-packages\\seaborn\\_decorators.py:36: FutureWarning: Pass the following variable as a keyword arg: x. From version 0.12, the only valid positional argument will be `data`, and passing other arguments without an explicit keyword will result in an error or misinterpretation.\n",
      "  warnings.warn(\n"
     ]
    },
    {
     "data": {
      "text/plain": [
       "<AxesSubplot:xlabel='EnvironmentSatisfaction', ylabel='count'>"
      ]
     },
     "execution_count": 27,
     "metadata": {},
     "output_type": "execute_result"
    },
    {
     "data": {
      "image/png": "[encoded data removed]",
      "text/plain": [
       "<Figure size 432x288 with 1 Axes>"
      ]
     },
     "metadata": {
      "needs_background": "light"
     },
     "output_type": "display_data"
    }
   ],
   "source": [
    "ax=data['EnvironmentSatisfaction'].value_counts()\n",
    "print(ax)\n",
    "#plt.figure(figsize=(15,7))\n",
    "sns.countplot(data['EnvironmentSatisfaction'])"
   ]
  },
  {
   "cell_type": "code",
   "execution_count": 29,
   "metadata": {},
   "outputs": [
    {
     "name": "stdout",
     "output_type": "stream",
     "text": [
      "Male      882\n",
      "Female    588\n",
      "Name: Gender, dtype: int64\n"
     ]
    },
    {
     "name": "stderr",
     "output_type": "stream",
     "text": [
      "C:\\Users\\Vaishnavi\\anaconda3\\lib\\site-packages\\seaborn\\_decorators.py:36: FutureWarning: Pass the following variable as a keyword arg: x. From version 0.12, the only valid positional argument will be `data`, and passing other arguments without an explicit keyword will result in an error or misinterpretation.\n",
      "  warnings.warn(\n"
     ]
    },
    {
     "data": {
      "text/plain": [
       "<AxesSubplot:xlabel='Gender', ylabel='count'>"
      ]
     },
     "execution_count": 29,
     "metadata": {},
     "output_type": "execute_result"
    },
    {
     "data": {
      "image/png": "[encoded data removed]",
      "text/plain": [
       "<Figure size 432x288 with 1 Axes>"
      ]
     },
     "metadata": {
      "needs_background": "light"
     },
     "output_type": "display_data"
    }
   ],
   "source": [
    "ax=data['Gender'].value_counts()\n",
    "print(ax)\n",
    "#plt.figure(figsize=(15,7))\n",
    "sns.countplot(data['Gender'])"
   ]
  },
  {
   "cell_type": "code",
   "execution_count": 30,
   "metadata": {},
   "outputs": [
    {
     "name": "stdout",
     "output_type": "stream",
     "text": [
      "66    29\n",
      "42    28\n",
      "98    28\n",
      "48    28\n",
      "84    28\n",
      "      ..\n",
      "31    15\n",
      "68    14\n",
      "53    14\n",
      "38    13\n",
      "34    12\n",
      "Name: HourlyRate, Length: 71, dtype: int64\n"
     ]
    },
    {
     "name": "stderr",
     "output_type": "stream",
     "text": [
      "C:\\Users\\Vaishnavi\\anaconda3\\lib\\site-packages\\seaborn\\_decorators.py:36: FutureWarning: Pass the following variable as a keyword arg: x. From version 0.12, the only valid positional argument will be `data`, and passing other arguments without an explicit keyword will result in an error or misinterpretation.\n",
      "  warnings.warn(\n"
     ]
    },
    {
     "data": {
      "text/plain": [
       "<AxesSubplot:xlabel='HourlyRate', ylabel='count'>"
      ]
     },
     "execution_count": 30,
     "metadata": {},
     "output_type": "execute_result"
    },
    {
     "data": {
      "image/png": "[encoded data removed]",
      "text/plain": [
       "<Figure size 1080x504 with 1 Axes>"
      ]
     },
     "metadata": {
      "needs_background": "light"
     },
     "output_type": "display_data"
    }
   ],
   "source": [
    "ax=data['HourlyRate'].value_counts()\n",
    "print(ax)\n",
    "plt.figure(figsize=(15,7))\n",
    "sns.countplot(data['HourlyRate'])"
   ]
  },
  {
   "cell_type": "code",
   "execution_count": null,
   "metadata": {},
   "outputs": [],
   "source": [
    "#Hourly rate is from 30 - 100"
   ]
  },
  {
   "cell_type": "code",
   "execution_count": 32,
   "metadata": {},
   "outputs": [
    {
     "name": "stdout",
     "output_type": "stream",
     "text": [
      "3    868\n",
      "2    375\n",
      "4    144\n",
      "1     83\n",
      "Name: JobInvolvement, dtype: int64\n"
     ]
    },
    {
     "name": "stderr",
     "output_type": "stream",
     "text": [
      "C:\\Users\\Vaishnavi\\anaconda3\\lib\\site-packages\\seaborn\\_decorators.py:36: FutureWarning: Pass the following variable as a keyword arg: x. From version 0.12, the only valid positional argument will be `data`, and passing other arguments without an explicit keyword will result in an error or misinterpretation.\n",
      "  warnings.warn(\n"
     ]
    },
    {
     "data": {
      "text/plain": [
       "<AxesSubplot:xlabel='JobInvolvement', ylabel='count'>"
      ]
     },
     "execution_count": 32,
     "metadata": {},
     "output_type": "execute_result"
    },
    {
     "data": {
      "image/png": "[encoded data removed]",
      "text/plain": [
       "<Figure size 432x288 with 1 Axes>"
      ]
     },
     "metadata": {
      "needs_background": "light"
     },
     "output_type": "display_data"
    }
   ],
   "source": [
    "\n",
    "ax=data['JobInvolvement'].value_counts()\n",
    "print(ax)\n",
    "#plt.figure(figsize=(15,7))\n",
    "sns.countplot(data['JobInvolvement'])"
   ]
  },
  {
   "cell_type": "code",
   "execution_count": 34,
   "metadata": {},
   "outputs": [
    {
     "name": "stdout",
     "output_type": "stream",
     "text": [
      "1    543\n",
      "2    534\n",
      "3    218\n",
      "4    106\n",
      "5     69\n",
      "Name: JobLevel, dtype: int64\n"
     ]
    },
    {
     "name": "stderr",
     "output_type": "stream",
     "text": [
      "C:\\Users\\Vaishnavi\\anaconda3\\lib\\site-packages\\seaborn\\_decorators.py:36: FutureWarning: Pass the following variable as a keyword arg: x. From version 0.12, the only valid positional argument will be `data`, and passing other arguments without an explicit keyword will result in an error or misinterpretation.\n",
      "  warnings.warn(\n"
     ]
    },
    {
     "data": {
      "text/plain": [
       "<AxesSubplot:xlabel='JobLevel', ylabel='count'>"
      ]
     },
     "execution_count": 34,
     "metadata": {},
     "output_type": "execute_result"
    },
    {
     "data": {
      "image/png": "[encoded data removed]",
      "text/plain": [
       "<Figure size 432x288 with 1 Axes>"
      ]
     },
     "metadata": {
      "needs_background": "light"
     },
     "output_type": "display_data"
    }
   ],
   "source": [
    "ax=data['JobLevel'].value_counts()\n",
    "print(ax)\n",
    "#plt.figure(figsize=(15,7))\n",
    "sns.countplot(data['JobLevel'])"
   ]
  },
  {
   "cell_type": "code",
   "execution_count": 35,
   "metadata": {},
   "outputs": [
    {
     "name": "stdout",
     "output_type": "stream",
     "text": [
      "Sales Executive              326\n",
      "Research Scientist           292\n",
      "Laboratory Technician        259\n",
      "Manufacturing Director       145\n",
      "Healthcare Representative    131\n",
      "Manager                      102\n",
      "Sales Representative          83\n",
      "Research Director             80\n",
      "Human Resources               52\n",
      "Name: JobRole, dtype: int64\n"
     ]
    },
    {
     "name": "stderr",
     "output_type": "stream",
     "text": [
      "C:\\Users\\Vaishnavi\\anaconda3\\lib\\site-packages\\seaborn\\_decorators.py:36: FutureWarning: Pass the following variable as a keyword arg: x. From version 0.12, the only valid positional argument will be `data`, and passing other arguments without an explicit keyword will result in an error or misinterpretation.\n",
      "  warnings.warn(\n"
     ]
    },
    {
     "data": {
      "text/plain": [
       "<AxesSubplot:xlabel='JobRole', ylabel='count'>"
      ]
     },
     "execution_count": 35,
     "metadata": {},
     "output_type": "execute_result"
    },
    {
     "data": {
      "image/png": "[encoded data removed]",
      "text/plain": [
       "<Figure size 432x288 with 1 Axes>"
      ]
     },
     "metadata": {
      "needs_background": "light"
     },
     "output_type": "display_data"
    }
   ],
   "source": [
    "ax=data['JobRole'].value_counts()\n",
    "print(ax)\n",
    "#plt.figure(figsize=(15,7))\n",
    "sns.countplot(data['JobRole'])"
   ]
  },
  {
   "cell_type": "code",
   "execution_count": 37,
   "metadata": {},
   "outputs": [
    {
     "name": "stdout",
     "output_type": "stream",
     "text": [
      "4    459\n",
      "3    442\n",
      "1    289\n",
      "2    280\n",
      "Name: JobSatisfaction, dtype: int64\n"
     ]
    },
    {
     "name": "stderr",
     "output_type": "stream",
     "text": [
      "C:\\Users\\Vaishnavi\\anaconda3\\lib\\site-packages\\seaborn\\_decorators.py:36: FutureWarning: Pass the following variable as a keyword arg: x. From version 0.12, the only valid positional argument will be `data`, and passing other arguments without an explicit keyword will result in an error or misinterpretation.\n",
      "  warnings.warn(\n"
     ]
    },
    {
     "data": {
      "text/plain": [
       "<AxesSubplot:xlabel='JobSatisfaction', ylabel='count'>"
      ]
     },
     "execution_count": 37,
     "metadata": {},
     "output_type": "execute_result"
    },
    {
     "data": {
      "image/png": "[encoded data removed]",
      "text/plain": [
       "<Figure size 432x288 with 1 Axes>"
      ]
     },
     "metadata": {
      "needs_background": "light"
     },
     "output_type": "display_data"
    }
   ],
   "source": [
    "ax=data['JobSatisfaction'].value_counts()\n",
    "print(ax)\n",
    "#plt.figure(figsize=(15,7))\n",
    "sns.countplot(data['JobSatisfaction'])"
   ]
  },
  {
   "cell_type": "code",
   "execution_count": 38,
   "metadata": {},
   "outputs": [
    {
     "name": "stdout",
     "output_type": "stream",
     "text": [
      "Married     673\n",
      "Single      470\n",
      "Divorced    327\n",
      "Name: MaritalStatus, dtype: int64\n"
     ]
    },
    {
     "name": "stderr",
     "output_type": "stream",
     "text": [
      "C:\\Users\\Vaishnavi\\anaconda3\\lib\\site-packages\\seaborn\\_decorators.py:36: FutureWarning: Pass the following variable as a keyword arg: x. From version 0.12, the only valid positional argument will be `data`, and passing other arguments without an explicit keyword will result in an error or misinterpretation.\n",
      "  warnings.warn(\n"
     ]
    },
    {
     "data": {
      "text/plain": [
       "<AxesSubplot:xlabel='MaritalStatus', ylabel='count'>"
      ]
     },
     "execution_count": 38,
     "metadata": {},
     "output_type": "execute_result"
    },
    {
     "data": {
      "image/png": "[encoded data removed]",
      "text/plain": [
       "<Figure size 432x288 with 1 Axes>"
      ]
     },
     "metadata": {
      "needs_background": "light"
     },
     "output_type": "display_data"
    }
   ],
   "source": [
    "ax=data['MaritalStatus'].value_counts()\n",
    "print(ax)\n",
    "#plt.figure(figsize=(15,7))\n",
    "sns.countplot(data['MaritalStatus'])"
   ]
  },
  {
   "cell_type": "code",
   "execution_count": 40,
   "metadata": {},
   "outputs": [
    {
     "name": "stdout",
     "output_type": "stream",
     "text": [
      "2342     4\n",
      "5562     3\n",
      "2741     3\n",
      "2451     3\n",
      "2610     3\n",
      "        ..\n",
      "5381     1\n",
      "13577    1\n",
      "12965    1\n",
      "3339     1\n",
      "14336    1\n",
      "Name: MonthlyIncome, Length: 1349, dtype: int64\n"
     ]
    },
    {
     "name": "stderr",
     "output_type": "stream",
     "text": [
      "C:\\Users\\Vaishnavi\\anaconda3\\lib\\site-packages\\seaborn\\_decorators.py:36: FutureWarning: Pass the following variable as a keyword arg: x. From version 0.12, the only valid positional argument will be `data`, and passing other arguments without an explicit keyword will result in an error or misinterpretation.\n",
      "  warnings.warn(\n"
     ]
    },
    {
     "data": {
      "text/plain": [
       "<AxesSubplot:xlabel='MonthlyIncome', ylabel='count'>"
      ]
     },
     "execution_count": 40,
     "metadata": {},
     "output_type": "execute_result"
    },
    {
     "data": {
      "image/png": "[encoded data removed]",
      "text/plain": [
       "<Figure size 432x288 with 1 Axes>"
      ]
     },
     "metadata": {
      "needs_background": "light"
     },
     "output_type": "display_data"
    }
   ],
   "source": [
    "ax=data['MonthlyIncome'].value_counts()\n",
    "print(ax)\n",
    "#plt.figure(figsize=(15,7))\n",
    "sns.countplot(data['MonthlyIncome'])"
   ]
  },
  {
   "cell_type": "code",
   "execution_count": 41,
   "metadata": {},
   "outputs": [
    {
     "name": "stdout",
     "output_type": "stream",
     "text": [
      "4223     3\n",
      "9150     3\n",
      "6670     2\n",
      "7324     2\n",
      "4658     2\n",
      "        ..\n",
      "11585    1\n",
      "15682    1\n",
      "3395     1\n",
      "9541     1\n",
      "8192     1\n",
      "Name: MonthlyRate, Length: 1427, dtype: int64\n"
     ]
    },
    {
     "name": "stderr",
     "output_type": "stream",
     "text": [
      "C:\\Users\\Vaishnavi\\anaconda3\\lib\\site-packages\\seaborn\\_decorators.py:36: FutureWarning: Pass the following variable as a keyword arg: x. From version 0.12, the only valid positional argument will be `data`, and passing other arguments without an explicit keyword will result in an error or misinterpretation.\n",
      "  warnings.warn(\n"
     ]
    },
    {
     "data": {
      "text/plain": [
       "<AxesSubplot:xlabel='MonthlyRate', ylabel='count'>"
      ]
     },
     "execution_count": 41,
     "metadata": {},
     "output_type": "execute_result"
    },
    {
     "data": {
      "image/png": "[encoded data removed]",
      "text/plain": [
       "<Figure size 432x288 with 1 Axes>"
      ]
     },
     "metadata": {
      "needs_background": "light"
     },
     "output_type": "display_data"
    }
   ],
   "source": [
    "ax=data['MonthlyRate'].value_counts()\n",
    "print(ax)\n",
    "#plt.figure(figsize=(15,7))\n",
    "sns.countplot(data['MonthlyRate'])"
   ]
  },
  {
   "cell_type": "code",
   "execution_count": 42,
   "metadata": {},
   "outputs": [
    {
     "name": "stdout",
     "output_type": "stream",
     "text": [
      "1    521\n",
      "0    197\n",
      "3    159\n",
      "2    146\n",
      "4    139\n",
      "7     74\n",
      "6     70\n",
      "5     63\n",
      "9     52\n",
      "8     49\n",
      "Name: NumCompaniesWorked, dtype: int64\n"
     ]
    },
    {
     "name": "stderr",
     "output_type": "stream",
     "text": [
      "C:\\Users\\Vaishnavi\\anaconda3\\lib\\site-packages\\seaborn\\_decorators.py:36: FutureWarning: Pass the following variable as a keyword arg: x. From version 0.12, the only valid positional argument will be `data`, and passing other arguments without an explicit keyword will result in an error or misinterpretation.\n",
      "  warnings.warn(\n"
     ]
    },
    {
     "data": {
      "text/plain": [
       "<AxesSubplot:xlabel='NumCompaniesWorked', ylabel='count'>"
      ]
     },
     "execution_count": 42,
     "metadata": {},
     "output_type": "execute_result"
    },
    {
     "data": {
      "image/png": "[encoded data removed]",
      "text/plain": [
       "<Figure size 432x288 with 1 Axes>"
      ]
     },
     "metadata": {
      "needs_background": "light"
     },
     "output_type": "display_data"
    }
   ],
   "source": [
    "ax=data['NumCompaniesWorked'].value_counts()\n",
    "print(ax)\n",
    "\n",
    "sns.countplot(data['NumCompaniesWorked'])"
   ]
  },
  {
   "cell_type": "code",
   "execution_count": 43,
   "metadata": {},
   "outputs": [
    {
     "name": "stdout",
     "output_type": "stream",
     "text": [
      "Y    1470\n",
      "Name: Over18, dtype: int64\n"
     ]
    },
    {
     "name": "stderr",
     "output_type": "stream",
     "text": [
      "C:\\Users\\Vaishnavi\\anaconda3\\lib\\site-packages\\seaborn\\_decorators.py:36: FutureWarning: Pass the following variable as a keyword arg: x. From version 0.12, the only valid positional argument will be `data`, and passing other arguments without an explicit keyword will result in an error or misinterpretation.\n",
      "  warnings.warn(\n"
     ]
    },
    {
     "data": {
      "text/plain": [
       "<AxesSubplot:xlabel='Over18', ylabel='count'>"
      ]
     },
     "execution_count": 43,
     "metadata": {},
     "output_type": "execute_result"
    },
    {
     "data": {
      "image/png": "[encoded data removed]",
      "text/plain": [
       "<Figure size 432x288 with 1 Axes>"
      ]
     },
     "metadata": {
      "needs_background": "light"
     },
     "output_type": "display_data"
    }
   ],
   "source": [
    "ax=data['Over18'].value_counts()\n",
    "print(ax)\n",
    "\n",
    "sns.countplot(data['Over18'])"
   ]
  },
  {
   "cell_type": "code",
   "execution_count": 44,
   "metadata": {},
   "outputs": [],
   "source": [
    "data.drop([\"Over18\"],axis=1,inplace=True)"
   ]
  },
  {
   "cell_type": "code",
   "execution_count": 46,
   "metadata": {},
   "outputs": [
    {
     "name": "stdout",
     "output_type": "stream",
     "text": [
      "No     1054\n",
      "Yes     416\n",
      "Name: OverTime, dtype: int64\n"
     ]
    },
    {
     "name": "stderr",
     "output_type": "stream",
     "text": [
      "C:\\Users\\Vaishnavi\\anaconda3\\lib\\site-packages\\seaborn\\_decorators.py:36: FutureWarning: Pass the following variable as a keyword arg: x. From version 0.12, the only valid positional argument will be `data`, and passing other arguments without an explicit keyword will result in an error or misinterpretation.\n",
      "  warnings.warn(\n"
     ]
    },
    {
     "data": {
      "text/plain": [
       "<AxesSubplot:xlabel='OverTime', ylabel='count'>"
      ]
     },
     "execution_count": 46,
     "metadata": {},
     "output_type": "execute_result"
    },
    {
     "data": {
      "image/png": "[encoded data removed]",
      "text/plain": [
       "<Figure size 432x288 with 1 Axes>"
      ]
     },
     "metadata": {
      "needs_background": "light"
     },
     "output_type": "display_data"
    }
   ],
   "source": [
    "ax=data['OverTime'].value_counts()\n",
    "print(ax)\n",
    "\n",
    "sns.countplot(data['OverTime'])"
   ]
  },
  {
   "cell_type": "code",
   "execution_count": 47,
   "metadata": {},
   "outputs": [
    {
     "name": "stdout",
     "output_type": "stream",
     "text": [
      "11    210\n",
      "13    209\n",
      "14    201\n",
      "12    198\n",
      "15    101\n",
      "18     89\n",
      "17     82\n",
      "16     78\n",
      "19     76\n",
      "22     56\n",
      "20     55\n",
      "21     48\n",
      "23     28\n",
      "24     21\n",
      "25     18\n",
      "Name: PercentSalaryHike, dtype: int64\n"
     ]
    },
    {
     "name": "stderr",
     "output_type": "stream",
     "text": [
      "C:\\Users\\Vaishnavi\\anaconda3\\lib\\site-packages\\seaborn\\_decorators.py:36: FutureWarning: Pass the following variable as a keyword arg: x. From version 0.12, the only valid positional argument will be `data`, and passing other arguments without an explicit keyword will result in an error or misinterpretation.\n",
      "  warnings.warn(\n"
     ]
    },
    {
     "data": {
      "text/plain": [
       "<AxesSubplot:xlabel='PercentSalaryHike', ylabel='count'>"
      ]
     },
     "execution_count": 47,
     "metadata": {},
     "output_type": "execute_result"
    },
    {
     "data": {
      "image/png": "[encoded data removed]",
      "text/plain": [
       "<Figure size 432x288 with 1 Axes>"
      ]
     },
     "metadata": {
      "needs_background": "light"
     },
     "output_type": "display_data"
    }
   ],
   "source": [
    "ax=data['PercentSalaryHike'].value_counts()\n",
    "print(ax)\n",
    "\n",
    "sns.countplot(data['PercentSalaryHike'])"
   ]
  },
  {
   "cell_type": "code",
   "execution_count": 48,
   "metadata": {},
   "outputs": [
    {
     "name": "stdout",
     "output_type": "stream",
     "text": [
      "3    1244\n",
      "4     226\n",
      "Name: PerformanceRating, dtype: int64\n"
     ]
    },
    {
     "name": "stderr",
     "output_type": "stream",
     "text": [
      "C:\\Users\\Vaishnavi\\anaconda3\\lib\\site-packages\\seaborn\\_decorators.py:36: FutureWarning: Pass the following variable as a keyword arg: x. From version 0.12, the only valid positional argument will be `data`, and passing other arguments without an explicit keyword will result in an error or misinterpretation.\n",
      "  warnings.warn(\n"
     ]
    },
    {
     "data": {
      "text/plain": [
       "<AxesSubplot:xlabel='PerformanceRating', ylabel='count'>"
      ]
     },
     "execution_count": 48,
     "metadata": {},
     "output_type": "execute_result"
    },
    {
     "data": {
      "image/png": "[encoded data removed]",
      "text/plain": [
       "<Figure size 432x288 with 1 Axes>"
      ]
     },
     "metadata": {
      "needs_background": "light"
     },
     "output_type": "display_data"
    }
   ],
   "source": [
    "ax=data['PerformanceRating'].value_counts()\n",
    "print(ax)\n",
    "\n",
    "sns.countplot(data['PerformanceRating'])"
   ]
  },
  {
   "cell_type": "code",
   "execution_count": 50,
   "metadata": {},
   "outputs": [
    {
     "name": "stdout",
     "output_type": "stream",
     "text": [
      "80    1470\n",
      "Name: StandardHours, dtype: int64\n"
     ]
    },
    {
     "name": "stderr",
     "output_type": "stream",
     "text": [
      "C:\\Users\\Vaishnavi\\anaconda3\\lib\\site-packages\\seaborn\\_decorators.py:36: FutureWarning: Pass the following variable as a keyword arg: x. From version 0.12, the only valid positional argument will be `data`, and passing other arguments without an explicit keyword will result in an error or misinterpretation.\n",
      "  warnings.warn(\n"
     ]
    },
    {
     "data": {
      "text/plain": [
       "<AxesSubplot:xlabel='StandardHours', ylabel='count'>"
      ]
     },
     "execution_count": 50,
     "metadata": {},
     "output_type": "execute_result"
    },
    {
     "data": {
      "image/png": "[encoded data removed]",
      "text/plain": [
       "<Figure size 432x288 with 1 Axes>"
      ]
     },
     "metadata": {
      "needs_background": "light"
     },
     "output_type": "display_data"
    }
   ],
   "source": [
    "ax=data['StandardHours'].value_counts()\n",
    "print(ax)\n",
    "\n",
    "sns.countplot(data['StandardHours'])\n"
   ]
  },
  {
   "cell_type": "code",
   "execution_count": 52,
   "metadata": {},
   "outputs": [],
   "source": [
    "data.drop([\"StandardHours\"],axis=1,inplace=True)"
   ]
  },
  {
   "cell_type": "code",
   "execution_count": 54,
   "metadata": {},
   "outputs": [
    {
     "name": "stdout",
     "output_type": "stream",
     "text": [
      "3    893\n",
      "2    344\n",
      "4    153\n",
      "1     80\n",
      "Name: WorkLifeBalance, dtype: int64\n"
     ]
    },
    {
     "name": "stderr",
     "output_type": "stream",
     "text": [
      "C:\\Users\\Vaishnavi\\anaconda3\\lib\\site-packages\\seaborn\\_decorators.py:36: FutureWarning: Pass the following variable as a keyword arg: x. From version 0.12, the only valid positional argument will be `data`, and passing other arguments without an explicit keyword will result in an error or misinterpretation.\n",
      "  warnings.warn(\n"
     ]
    },
    {
     "data": {
      "text/plain": [
       "<AxesSubplot:xlabel='WorkLifeBalance', ylabel='count'>"
      ]
     },
     "execution_count": 54,
     "metadata": {},
     "output_type": "execute_result"
    },
    {
     "data": {
      "image/png": "[encoded data removed]",
      "text/plain": [
       "<Figure size 432x288 with 1 Axes>"
      ]
     },
     "metadata": {
      "needs_background": "light"
     },
     "output_type": "display_data"
    }
   ],
   "source": [
    "ax=data['WorkLifeBalance'].value_counts()\n",
    "print(ax)\n",
    "\n",
    "sns.countplot(data['WorkLifeBalance'])\n",
    "\n"
   ]
  },
  {
   "cell_type": "code",
   "execution_count": 55,
   "metadata": {},
   "outputs": [
    {
     "name": "stdout",
     "output_type": "stream",
     "text": [
      "5     196\n",
      "1     171\n",
      "3     128\n",
      "2     127\n",
      "10    120\n",
      "4     110\n",
      "7      90\n",
      "9      82\n",
      "8      80\n",
      "6      76\n",
      "0      44\n",
      "11     32\n",
      "20     27\n",
      "13     24\n",
      "15     20\n",
      "14     18\n",
      "22     15\n",
      "12     14\n",
      "21     14\n",
      "18     13\n",
      "16     12\n",
      "19     11\n",
      "17      9\n",
      "24      6\n",
      "33      5\n",
      "25      4\n",
      "26      4\n",
      "31      3\n",
      "32      3\n",
      "36      2\n",
      "27      2\n",
      "29      2\n",
      "23      2\n",
      "30      1\n",
      "34      1\n",
      "37      1\n",
      "40      1\n",
      "Name: YearsAtCompany, dtype: int64\n"
     ]
    },
    {
     "name": "stderr",
     "output_type": "stream",
     "text": [
      "C:\\Users\\Vaishnavi\\anaconda3\\lib\\site-packages\\seaborn\\_decorators.py:36: FutureWarning: Pass the following variable as a keyword arg: x. From version 0.12, the only valid positional argument will be `data`, and passing other arguments without an explicit keyword will result in an error or misinterpretation.\n",
      "  warnings.warn(\n"
     ]
    },
    {
     "data": {
      "text/plain": [
       "<AxesSubplot:xlabel='YearsAtCompany', ylabel='count'>"
      ]
     },
     "execution_count": 55,
     "metadata": {},
     "output_type": "execute_result"
    },
    {
     "data": {
      "image/png": "[encoded data removed]",
      "text/plain": [
       "<Figure size 1080x504 with 1 Axes>"
      ]
     },
     "metadata": {
      "needs_background": "light"
     },
     "output_type": "display_data"
    }
   ],
   "source": [
    "ax=data['YearsAtCompany'].value_counts()\n",
    "print(ax)\n",
    "plt.figure(figsize=(15,7))\n",
    "sns.countplot(data['YearsAtCompany'])"
   ]
  },
  {
   "cell_type": "code",
   "execution_count": 57,
   "metadata": {},
   "outputs": [
    {
     "data": {
      "text/html": [
       "<div>\n",
       "<style scoped>\n",
       "    .dataframe tbody tr th:only-of-type {\n",
       "        vertical-align: middle;\n",
       "    }\n",
       "\n",
       "    .dataframe tbody tr th {\n",
       "        vertical-align: top;\n",
       "    }\n",
       "\n",
       "    .dataframe thead th {\n",
       "        text-align: right;\n",
       "    }\n",
       "</style>\n",
       "<table border=\"1\" class=\"dataframe\">\n",
       "  <thead>\n",
       "    <tr style=\"text-align: right;\">\n",
       "      <th></th>\n",
       "      <th>Age</th>\n",
       "      <th>Attrition</th>\n",
       "      <th>BusinessTravel</th>\n",
       "      <th>DailyRate</th>\n",
       "      <th>Department</th>\n",
       "      <th>DistanceFromHome</th>\n",
       "      <th>Education</th>\n",
       "      <th>EducationField</th>\n",
       "      <th>EmployeeNumber</th>\n",
       "      <th>EnvironmentSatisfaction</th>\n",
       "      <th>...</th>\n",
       "      <th>PerformanceRating</th>\n",
       "      <th>RelationshipSatisfaction</th>\n",
       "      <th>StockOptionLevel</th>\n",
       "      <th>TotalWorkingYears</th>\n",
       "      <th>TrainingTimesLastYear</th>\n",
       "      <th>WorkLifeBalance</th>\n",
       "      <th>YearsAtCompany</th>\n",
       "      <th>YearsInCurrentRole</th>\n",
       "      <th>YearsSinceLastPromotion</th>\n",
       "      <th>YearsWithCurrManager</th>\n",
       "    </tr>\n",
       "  </thead>\n",
       "  <tbody>\n",
       "    <tr>\n",
       "      <th>0</th>\n",
       "      <td>41</td>\n",
       "      <td>1</td>\n",
       "      <td>2</td>\n",
       "      <td>1102</td>\n",
       "      <td>2</td>\n",
       "      <td>1</td>\n",
       "      <td>2</td>\n",
       "      <td>1</td>\n",
       "      <td>1</td>\n",
       "      <td>2</td>\n",
       "      <td>...</td>\n",
       "      <td>3</td>\n",
       "      <td>1</td>\n",
       "      <td>0</td>\n",
       "      <td>8</td>\n",
       "      <td>0</td>\n",
       "      <td>1</td>\n",
       "      <td>6</td>\n",
       "      <td>4</td>\n",
       "      <td>0</td>\n",
       "      <td>5</td>\n",
       "    </tr>\n",
       "    <tr>\n",
       "      <th>1</th>\n",
       "      <td>49</td>\n",
       "      <td>0</td>\n",
       "      <td>1</td>\n",
       "      <td>279</td>\n",
       "      <td>1</td>\n",
       "      <td>8</td>\n",
       "      <td>1</td>\n",
       "      <td>1</td>\n",
       "      <td>2</td>\n",
       "      <td>3</td>\n",
       "      <td>...</td>\n",
       "      <td>4</td>\n",
       "      <td>4</td>\n",
       "      <td>1</td>\n",
       "      <td>10</td>\n",
       "      <td>3</td>\n",
       "      <td>3</td>\n",
       "      <td>10</td>\n",
       "      <td>7</td>\n",
       "      <td>1</td>\n",
       "      <td>7</td>\n",
       "    </tr>\n",
       "    <tr>\n",
       "      <th>2</th>\n",
       "      <td>37</td>\n",
       "      <td>1</td>\n",
       "      <td>2</td>\n",
       "      <td>1373</td>\n",
       "      <td>1</td>\n",
       "      <td>2</td>\n",
       "      <td>2</td>\n",
       "      <td>4</td>\n",
       "      <td>4</td>\n",
       "      <td>4</td>\n",
       "      <td>...</td>\n",
       "      <td>3</td>\n",
       "      <td>2</td>\n",
       "      <td>0</td>\n",
       "      <td>7</td>\n",
       "      <td>3</td>\n",
       "      <td>3</td>\n",
       "      <td>0</td>\n",
       "      <td>0</td>\n",
       "      <td>0</td>\n",
       "      <td>0</td>\n",
       "    </tr>\n",
       "    <tr>\n",
       "      <th>3</th>\n",
       "      <td>33</td>\n",
       "      <td>0</td>\n",
       "      <td>1</td>\n",
       "      <td>1392</td>\n",
       "      <td>1</td>\n",
       "      <td>3</td>\n",
       "      <td>4</td>\n",
       "      <td>1</td>\n",
       "      <td>5</td>\n",
       "      <td>4</td>\n",
       "      <td>...</td>\n",
       "      <td>3</td>\n",
       "      <td>3</td>\n",
       "      <td>0</td>\n",
       "      <td>8</td>\n",
       "      <td>3</td>\n",
       "      <td>3</td>\n",
       "      <td>8</td>\n",
       "      <td>7</td>\n",
       "      <td>3</td>\n",
       "      <td>0</td>\n",
       "    </tr>\n",
       "    <tr>\n",
       "      <th>4</th>\n",
       "      <td>27</td>\n",
       "      <td>0</td>\n",
       "      <td>2</td>\n",
       "      <td>591</td>\n",
       "      <td>1</td>\n",
       "      <td>2</td>\n",
       "      <td>1</td>\n",
       "      <td>3</td>\n",
       "      <td>7</td>\n",
       "      <td>1</td>\n",
       "      <td>...</td>\n",
       "      <td>3</td>\n",
       "      <td>4</td>\n",
       "      <td>1</td>\n",
       "      <td>6</td>\n",
       "      <td>3</td>\n",
       "      <td>3</td>\n",
       "      <td>2</td>\n",
       "      <td>2</td>\n",
       "      <td>2</td>\n",
       "      <td>2</td>\n",
       "    </tr>\n",
       "  </tbody>\n",
       "</table>\n",
       "<p>5 rows × 32 columns</p>\n",
       "</div>"
      ],
      "text/plain": [
       "   Age  Attrition  BusinessTravel  DailyRate  Department  DistanceFromHome  \\\n",
       "0   41          1               2       1102           2                 1   \n",
       "1   49          0               1        279           1                 8   \n",
       "2   37          1               2       1373           1                 2   \n",
       "3   33          0               1       1392           1                 3   \n",
       "4   27          0               2        591           1                 2   \n",
       "\n",
       "   Education  EducationField  EmployeeNumber  EnvironmentSatisfaction  ...  \\\n",
       "0          2               1               1                        2  ...   \n",
       "1          1               1               2                        3  ...   \n",
       "2          2               4               4                        4  ...   \n",
       "3          4               1               5                        4  ...   \n",
       "4          1               3               7                        1  ...   \n",
       "\n",
       "   PerformanceRating  RelationshipSatisfaction  StockOptionLevel  \\\n",
       "0                  3                         1                 0   \n",
       "1                  4                         4                 1   \n",
       "2                  3                         2                 0   \n",
       "3                  3                         3                 0   \n",
       "4                  3                         4                 1   \n",
       "\n",
       "   TotalWorkingYears  TrainingTimesLastYear  WorkLifeBalance  YearsAtCompany  \\\n",
       "0                  8                      0                1               6   \n",
       "1                 10                      3                3              10   \n",
       "2                  7                      3                3               0   \n",
       "3                  8                      3                3               8   \n",
       "4                  6                      3                3               2   \n",
       "\n",
       "   YearsInCurrentRole  YearsSinceLastPromotion  YearsWithCurrManager  \n",
       "0                   4                        0                     5  \n",
       "1                   7                        1                     7  \n",
       "2                   0                        0                     0  \n",
       "3                   7                        3                     0  \n",
       "4                   2                        2                     2  \n",
       "\n",
       "[5 rows x 32 columns]"
      ]
     },
     "execution_count": 57,
     "metadata": {},
     "output_type": "execute_result"
    }
   ],
   "source": [
    "# Encoding Data\n",
    "\n",
    "lencoder=LabelEncoder()\n",
    "data['Attrition']=lencoder.fit_transform(data['Attrition'])\n",
    "data['BusinessTravel']=lencoder.fit_transform(data['BusinessTravel'])\n",
    "data['Department']=lencoder.fit_transform(data['Department'])\n",
    "data['EducationField']=lencoder.fit_transform(data['EducationField'])\n",
    "data['Gender']=lencoder.fit_transform(data['Gender'])\n",
    "data['JobRole']=lencoder.fit_transform(data['JobRole'])\n",
    "data['MaritalStatus']=lencoder.fit_transform(data['MaritalStatus'])\n",
    "data['OverTime']=lencoder.fit_transform(data['OverTime'])\n",
    "data.head()"
   ]
  },
  {
   "cell_type": "code",
   "execution_count": 60,
   "metadata": {},
   "outputs": [
    {
     "data": {
      "image/png": "[encoded data removed]",
      "text/plain": [
       "<Figure size 404.875x360 with 1 Axes>"
      ]
     },
     "metadata": {
      "needs_background": "light"
     },
     "output_type": "display_data"
    }
   ],
   "source": [
    "p=sns.catplot(x='Attrition',y='Department',hue='Gender',data=data,kind='bar')\n",
    "plt.show()"
   ]
  },
  {
   "cell_type": "code",
   "execution_count": 61,
   "metadata": {},
   "outputs": [
    {
     "data": {
      "image/png": "[encoded data removed]",
      "text/plain": [
       "<Figure size 404.875x360 with 1 Axes>"
      ]
     },
     "metadata": {
      "needs_background": "light"
     },
     "output_type": "display_data"
    }
   ],
   "source": [
    "p=sns.catplot(x='Attrition',y='Education',hue='Gender',data=data,kind='bar')\n",
    "plt.show()"
   ]
  },
  {
   "cell_type": "code",
   "execution_count": 62,
   "metadata": {},
   "outputs": [
    {
     "data": {
      "image/png": "[encoded data removed]",
      "text/plain": [
       "<Figure size 404.875x360 with 1 Axes>"
      ]
     },
     "metadata": {
      "needs_background": "light"
     },
     "output_type": "display_data"
    }
   ],
   "source": [
    "p=sns.catplot(x='Attrition',y='MaritalStatus',hue='Gender',data=data,kind='bar')\n",
    "plt.show()"
   ]
  },
  {
   "cell_type": "code",
   "execution_count": 63,
   "metadata": {},
   "outputs": [
    {
     "data": {
      "text/plain": [
       "array([[<AxesSubplot:title={'center':'Age'}>,\n",
       "        <AxesSubplot:title={'center':'Attrition'}>,\n",
       "        <AxesSubplot:title={'center':'BusinessTravel'}>],\n",
       "       [<AxesSubplot:title={'center':'DailyRate'}>,\n",
       "        <AxesSubplot:title={'center':'Department'}>,\n",
       "        <AxesSubplot:title={'center':'DistanceFromHome'}>],\n",
       "       [<AxesSubplot:title={'center':'Education'}>,\n",
       "        <AxesSubplot:title={'center':'EducationField'}>,\n",
       "        <AxesSubplot:title={'center':'EmployeeNumber'}>],\n",
       "       [<AxesSubplot:title={'center':'EnvironmentSatisfaction'}>,\n",
       "        <AxesSubplot:title={'center':'Gender'}>,\n",
       "        <AxesSubplot:title={'center':'HourlyRate'}>],\n",
       "       [<AxesSubplot:title={'center':'JobInvolvement'}>,\n",
       "        <AxesSubplot:title={'center':'JobLevel'}>,\n",
       "        <AxesSubplot:title={'center':'JobRole'}>],\n",
       "       [<AxesSubplot:title={'center':'JobSatisfaction'}>,\n",
       "        <AxesSubplot:title={'center':'MaritalStatus'}>,\n",
       "        <AxesSubplot:title={'center':'MonthlyIncome'}>],\n",
       "       [<AxesSubplot:title={'center':'MonthlyRate'}>,\n",
       "        <AxesSubplot:title={'center':'NumCompaniesWorked'}>,\n",
       "        <AxesSubplot:title={'center':'OverTime'}>],\n",
       "       [<AxesSubplot:title={'center':'PercentSalaryHike'}>,\n",
       "        <AxesSubplot:title={'center':'PerformanceRating'}>,\n",
       "        <AxesSubplot:title={'center':'RelationshipSatisfaction'}>],\n",
       "       [<AxesSubplot:title={'center':'StockOptionLevel'}>,\n",
       "        <AxesSubplot:title={'center':'TotalWorkingYears'}>,\n",
       "        <AxesSubplot:title={'center':'TrainingTimesLastYear'}>],\n",
       "       [<AxesSubplot:title={'center':'WorkLifeBalance'}>,\n",
       "        <AxesSubplot:title={'center':'YearsAtCompany'}>,\n",
       "        <AxesSubplot:title={'center':'YearsInCurrentRole'}>],\n",
       "       [<AxesSubplot:title={'center':'YearsSinceLastPromotion'}>,\n",
       "        <AxesSubplot:title={'center':'YearsWithCurrManager'}>,\n",
       "        <AxesSubplot:>]], dtype=object)"
      ]
     },
     "execution_count": 63,
     "metadata": {},
     "output_type": "execute_result"
    },
    {
     "data": {
      "image/png": "[encoded data removed]",
      "text/plain": [
       "<Figure size 1080x2160 with 33 Axes>"
      ]
     },
     "metadata": {
      "needs_background": "light"
     },
     "output_type": "display_data"
    }
   ],
   "source": [
    "data.hist(figsize=(15,30),layout=(11,3))"
   ]
  },
  {
   "cell_type": "code",
   "execution_count": 65,
   "metadata": {},
   "outputs": [
    {
     "data": {
      "text/html": [
       "<div>\n",
       "<style scoped>\n",
       "    .dataframe tbody tr th:only-of-type {\n",
       "        vertical-align: middle;\n",
       "    }\n",
       "\n",
       "    .dataframe tbody tr th {\n",
       "        vertical-align: top;\n",
       "    }\n",
       "\n",
       "    .dataframe thead th {\n",
       "        text-align: right;\n",
       "    }\n",
       "</style>\n",
       "<table border=\"1\" class=\"dataframe\">\n",
       "  <thead>\n",
       "    <tr style=\"text-align: right;\">\n",
       "      <th></th>\n",
       "      <th>Age</th>\n",
       "      <th>Attrition</th>\n",
       "      <th>BusinessTravel</th>\n",
       "      <th>DailyRate</th>\n",
       "      <th>Department</th>\n",
       "      <th>DistanceFromHome</th>\n",
       "      <th>Education</th>\n",
       "      <th>EducationField</th>\n",
       "      <th>EmployeeNumber</th>\n",
       "      <th>EnvironmentSatisfaction</th>\n",
       "      <th>...</th>\n",
       "      <th>PerformanceRating</th>\n",
       "      <th>RelationshipSatisfaction</th>\n",
       "      <th>StockOptionLevel</th>\n",
       "      <th>TotalWorkingYears</th>\n",
       "      <th>TrainingTimesLastYear</th>\n",
       "      <th>WorkLifeBalance</th>\n",
       "      <th>YearsAtCompany</th>\n",
       "      <th>YearsInCurrentRole</th>\n",
       "      <th>YearsSinceLastPromotion</th>\n",
       "      <th>YearsWithCurrManager</th>\n",
       "    </tr>\n",
       "  </thead>\n",
       "  <tbody>\n",
       "    <tr>\n",
       "      <th>count</th>\n",
       "      <td>1470.000000</td>\n",
       "      <td>1470.000000</td>\n",
       "      <td>1470.000000</td>\n",
       "      <td>1470.000000</td>\n",
       "      <td>1470.000000</td>\n",
       "      <td>1470.000000</td>\n",
       "      <td>1470.000000</td>\n",
       "      <td>1470.000000</td>\n",
       "      <td>1470.000000</td>\n",
       "      <td>1470.000000</td>\n",
       "      <td>...</td>\n",
       "      <td>1470.000000</td>\n",
       "      <td>1470.000000</td>\n",
       "      <td>1470.000000</td>\n",
       "      <td>1470.000000</td>\n",
       "      <td>1470.000000</td>\n",
       "      <td>1470.000000</td>\n",
       "      <td>1470.000000</td>\n",
       "      <td>1470.000000</td>\n",
       "      <td>1470.000000</td>\n",
       "      <td>1470.000000</td>\n",
       "    </tr>\n",
       "    <tr>\n",
       "      <th>mean</th>\n",
       "      <td>36.923810</td>\n",
       "      <td>0.161224</td>\n",
       "      <td>1.607483</td>\n",
       "      <td>802.485714</td>\n",
       "      <td>1.260544</td>\n",
       "      <td>9.192517</td>\n",
       "      <td>2.912925</td>\n",
       "      <td>2.247619</td>\n",
       "      <td>1024.865306</td>\n",
       "      <td>2.721769</td>\n",
       "      <td>...</td>\n",
       "      <td>3.153741</td>\n",
       "      <td>2.712245</td>\n",
       "      <td>0.793878</td>\n",
       "      <td>11.279592</td>\n",
       "      <td>2.799320</td>\n",
       "      <td>2.761224</td>\n",
       "      <td>7.008163</td>\n",
       "      <td>4.229252</td>\n",
       "      <td>2.187755</td>\n",
       "      <td>4.123129</td>\n",
       "    </tr>\n",
       "    <tr>\n",
       "      <th>std</th>\n",
       "      <td>9.135373</td>\n",
       "      <td>0.367863</td>\n",
       "      <td>0.665455</td>\n",
       "      <td>403.509100</td>\n",
       "      <td>0.527792</td>\n",
       "      <td>8.106864</td>\n",
       "      <td>1.024165</td>\n",
       "      <td>1.331369</td>\n",
       "      <td>602.024335</td>\n",
       "      <td>1.093082</td>\n",
       "      <td>...</td>\n",
       "      <td>0.360824</td>\n",
       "      <td>1.081209</td>\n",
       "      <td>0.852077</td>\n",
       "      <td>7.780782</td>\n",
       "      <td>1.289271</td>\n",
       "      <td>0.706476</td>\n",
       "      <td>6.126525</td>\n",
       "      <td>3.623137</td>\n",
       "      <td>3.222430</td>\n",
       "      <td>3.568136</td>\n",
       "    </tr>\n",
       "    <tr>\n",
       "      <th>min</th>\n",
       "      <td>18.000000</td>\n",
       "      <td>0.000000</td>\n",
       "      <td>0.000000</td>\n",
       "      <td>102.000000</td>\n",
       "      <td>0.000000</td>\n",
       "      <td>1.000000</td>\n",
       "      <td>1.000000</td>\n",
       "      <td>0.000000</td>\n",
       "      <td>1.000000</td>\n",
       "      <td>1.000000</td>\n",
       "      <td>...</td>\n",
       "      <td>3.000000</td>\n",
       "      <td>1.000000</td>\n",
       "      <td>0.000000</td>\n",
       "      <td>0.000000</td>\n",
       "      <td>0.000000</td>\n",
       "      <td>1.000000</td>\n",
       "      <td>0.000000</td>\n",
       "      <td>0.000000</td>\n",
       "      <td>0.000000</td>\n",
       "      <td>0.000000</td>\n",
       "    </tr>\n",
       "    <tr>\n",
       "      <th>25%</th>\n",
       "      <td>30.000000</td>\n",
       "      <td>0.000000</td>\n",
       "      <td>1.000000</td>\n",
       "      <td>465.000000</td>\n",
       "      <td>1.000000</td>\n",
       "      <td>2.000000</td>\n",
       "      <td>2.000000</td>\n",
       "      <td>1.000000</td>\n",
       "      <td>491.250000</td>\n",
       "      <td>2.000000</td>\n",
       "      <td>...</td>\n",
       "      <td>3.000000</td>\n",
       "      <td>2.000000</td>\n",
       "      <td>0.000000</td>\n",
       "      <td>6.000000</td>\n",
       "      <td>2.000000</td>\n",
       "      <td>2.000000</td>\n",
       "      <td>3.000000</td>\n",
       "      <td>2.000000</td>\n",
       "      <td>0.000000</td>\n",
       "      <td>2.000000</td>\n",
       "    </tr>\n",
       "    <tr>\n",
       "      <th>50%</th>\n",
       "      <td>36.000000</td>\n",
       "      <td>0.000000</td>\n",
       "      <td>2.000000</td>\n",
       "      <td>802.000000</td>\n",
       "      <td>1.000000</td>\n",
       "      <td>7.000000</td>\n",
       "      <td>3.000000</td>\n",
       "      <td>2.000000</td>\n",
       "      <td>1020.500000</td>\n",
       "      <td>3.000000</td>\n",
       "      <td>...</td>\n",
       "      <td>3.000000</td>\n",
       "      <td>3.000000</td>\n",
       "      <td>1.000000</td>\n",
       "      <td>10.000000</td>\n",
       "      <td>3.000000</td>\n",
       "      <td>3.000000</td>\n",
       "      <td>5.000000</td>\n",
       "      <td>3.000000</td>\n",
       "      <td>1.000000</td>\n",
       "      <td>3.000000</td>\n",
       "    </tr>\n",
       "    <tr>\n",
       "      <th>75%</th>\n",
       "      <td>43.000000</td>\n",
       "      <td>0.000000</td>\n",
       "      <td>2.000000</td>\n",
       "      <td>1157.000000</td>\n",
       "      <td>2.000000</td>\n",
       "      <td>14.000000</td>\n",
       "      <td>4.000000</td>\n",
       "      <td>3.000000</td>\n",
       "      <td>1555.750000</td>\n",
       "      <td>4.000000</td>\n",
       "      <td>...</td>\n",
       "      <td>3.000000</td>\n",
       "      <td>4.000000</td>\n",
       "      <td>1.000000</td>\n",
       "      <td>15.000000</td>\n",
       "      <td>3.000000</td>\n",
       "      <td>3.000000</td>\n",
       "      <td>9.000000</td>\n",
       "      <td>7.000000</td>\n",
       "      <td>3.000000</td>\n",
       "      <td>7.000000</td>\n",
       "    </tr>\n",
       "    <tr>\n",
       "      <th>max</th>\n",
       "      <td>60.000000</td>\n",
       "      <td>1.000000</td>\n",
       "      <td>2.000000</td>\n",
       "      <td>1499.000000</td>\n",
       "      <td>2.000000</td>\n",
       "      <td>29.000000</td>\n",
       "      <td>5.000000</td>\n",
       "      <td>5.000000</td>\n",
       "      <td>2068.000000</td>\n",
       "      <td>4.000000</td>\n",
       "      <td>...</td>\n",
       "      <td>4.000000</td>\n",
       "      <td>4.000000</td>\n",
       "      <td>3.000000</td>\n",
       "      <td>40.000000</td>\n",
       "      <td>6.000000</td>\n",
       "      <td>4.000000</td>\n",
       "      <td>40.000000</td>\n",
       "      <td>18.000000</td>\n",
       "      <td>15.000000</td>\n",
       "      <td>17.000000</td>\n",
       "    </tr>\n",
       "  </tbody>\n",
       "</table>\n",
       "<p>8 rows × 32 columns</p>\n",
       "</div>"
      ],
      "text/plain": [
       "               Age    Attrition  BusinessTravel    DailyRate   Department  \\\n",
       "count  1470.000000  1470.000000     1470.000000  1470.000000  1470.000000   \n",
       "mean     36.923810     0.161224        1.607483   802.485714     1.260544   \n",
       "std       9.135373     0.367863        0.665455   403.509100     0.527792   \n",
       "min      18.000000     0.000000        0.000000   102.000000     0.000000   \n",
       "25%      30.000000     0.000000        1.000000   465.000000     1.000000   \n",
       "50%      36.000000     0.000000        2.000000   802.000000     1.000000   \n",
       "75%      43.000000     0.000000        2.000000  1157.000000     2.000000   \n",
       "max      60.000000     1.000000        2.000000  1499.000000     2.000000   \n",
       "\n",
       "       DistanceFromHome    Education  EducationField  EmployeeNumber  \\\n",
       "count       1470.000000  1470.000000     1470.000000     1470.000000   \n",
       "mean           9.192517     2.912925        2.247619     1024.865306   \n",
       "std            8.106864     1.024165        1.331369      602.024335   \n",
       "min            1.000000     1.000000        0.000000        1.000000   \n",
       "25%            2.000000     2.000000        1.000000      491.250000   \n",
       "50%            7.000000     3.000000        2.000000     1020.500000   \n",
       "75%           14.000000     4.000000        3.000000     1555.750000   \n",
       "max           29.000000     5.000000        5.000000     2068.000000   \n",
       "\n",
       "       EnvironmentSatisfaction  ...  PerformanceRating  \\\n",
       "count              1470.000000  ...        1470.000000   \n",
       "mean                  2.721769  ...           3.153741   \n",
       "std                   1.093082  ...           0.360824   \n",
       "min                   1.000000  ...           3.000000   \n",
       "25%                   2.000000  ...           3.000000   \n",
       "50%                   3.000000  ...           3.000000   \n",
       "75%                   4.000000  ...           3.000000   \n",
       "max                   4.000000  ...           4.000000   \n",
       "\n",
       "       RelationshipSatisfaction  StockOptionLevel  TotalWorkingYears  \\\n",
       "count               1470.000000       1470.000000        1470.000000   \n",
       "mean                   2.712245          0.793878          11.279592   \n",
       "std                    1.081209          0.852077           7.780782   \n",
       "min                    1.000000          0.000000           0.000000   \n",
       "25%                    2.000000          0.000000           6.000000   \n",
       "50%                    3.000000          1.000000          10.000000   \n",
       "75%                    4.000000          1.000000          15.000000   \n",
       "max                    4.000000          3.000000          40.000000   \n",
       "\n",
       "       TrainingTimesLastYear  WorkLifeBalance  YearsAtCompany  \\\n",
       "count            1470.000000      1470.000000     1470.000000   \n",
       "mean                2.799320         2.761224        7.008163   \n",
       "std                 1.289271         0.706476        6.126525   \n",
       "min                 0.000000         1.000000        0.000000   \n",
       "25%                 2.000000         2.000000        3.000000   \n",
       "50%                 3.000000         3.000000        5.000000   \n",
       "75%                 3.000000         3.000000        9.000000   \n",
       "max                 6.000000         4.000000       40.000000   \n",
       "\n",
       "       YearsInCurrentRole  YearsSinceLastPromotion  YearsWithCurrManager  \n",
       "count         1470.000000              1470.000000           1470.000000  \n",
       "mean             4.229252                 2.187755              4.123129  \n",
       "std              3.623137                 3.222430              3.568136  \n",
       "min              0.000000                 0.000000              0.000000  \n",
       "25%              2.000000                 0.000000              2.000000  \n",
       "50%              3.000000                 1.000000              3.000000  \n",
       "75%              7.000000                 3.000000              7.000000  \n",
       "max             18.000000                15.000000             17.000000  \n",
       "\n",
       "[8 rows x 32 columns]"
      ]
     },
     "execution_count": 65,
     "metadata": {},
     "output_type": "execute_result"
    }
   ],
   "source": [
    "data.describe()"
   ]
  },
  {
   "cell_type": "code",
   "execution_count": 66,
   "metadata": {},
   "outputs": [
    {
     "data": {
      "text/plain": [
       "<AxesSubplot:>"
      ]
     },
     "execution_count": 66,
     "metadata": {},
     "output_type": "execute_result"
    },
    {
     "data": {
      "image/png": "[encoded data removed]",
      "text/plain": [
       "<Figure size 1584x504 with 2 Axes>"
      ]
     },
     "metadata": {
      "needs_background": "light"
     },
     "output_type": "display_data"
    }
   ],
   "source": [
    "plt.figure(figsize=(22,7))\n",
    "sns.heatmap(data.describe(),annot=True,linewidth=0.5,linecolor='black',fmt='.2f')"
   ]
  },
  {
   "cell_type": "code",
   "execution_count": 68,
   "metadata": {},
   "outputs": [
    {
     "data": {
      "text/html": [
       "<div>\n",
       "<style scoped>\n",
       "    .dataframe tbody tr th:only-of-type {\n",
       "        vertical-align: middle;\n",
       "    }\n",
       "\n",
       "    .dataframe tbody tr th {\n",
       "        vertical-align: top;\n",
       "    }\n",
       "\n",
       "    .dataframe thead th {\n",
       "        text-align: right;\n",
       "    }\n",
       "</style>\n",
       "<table border=\"1\" class=\"dataframe\">\n",
       "  <thead>\n",
       "    <tr style=\"text-align: right;\">\n",
       "      <th></th>\n",
       "      <th>Age</th>\n",
       "      <th>Attrition</th>\n",
       "      <th>BusinessTravel</th>\n",
       "      <th>DailyRate</th>\n",
       "      <th>Department</th>\n",
       "      <th>DistanceFromHome</th>\n",
       "      <th>Education</th>\n",
       "      <th>EducationField</th>\n",
       "      <th>EmployeeNumber</th>\n",
       "      <th>EnvironmentSatisfaction</th>\n",
       "      <th>...</th>\n",
       "      <th>PerformanceRating</th>\n",
       "      <th>RelationshipSatisfaction</th>\n",
       "      <th>StockOptionLevel</th>\n",
       "      <th>TotalWorkingYears</th>\n",
       "      <th>TrainingTimesLastYear</th>\n",
       "      <th>WorkLifeBalance</th>\n",
       "      <th>YearsAtCompany</th>\n",
       "      <th>YearsInCurrentRole</th>\n",
       "      <th>YearsSinceLastPromotion</th>\n",
       "      <th>YearsWithCurrManager</th>\n",
       "    </tr>\n",
       "  </thead>\n",
       "  <tbody>\n",
       "    <tr>\n",
       "      <th>Age</th>\n",
       "      <td>1.000000</td>\n",
       "      <td>-0.159205</td>\n",
       "      <td>0.024751</td>\n",
       "      <td>0.010661</td>\n",
       "      <td>-0.031882</td>\n",
       "      <td>-0.001686</td>\n",
       "      <td>0.208034</td>\n",
       "      <td>-0.040873</td>\n",
       "      <td>-0.010145</td>\n",
       "      <td>0.010146</td>\n",
       "      <td>...</td>\n",
       "      <td>0.001904</td>\n",
       "      <td>0.053535</td>\n",
       "      <td>0.037510</td>\n",
       "      <td>0.680381</td>\n",
       "      <td>-0.019621</td>\n",
       "      <td>-0.021490</td>\n",
       "      <td>0.311309</td>\n",
       "      <td>0.212901</td>\n",
       "      <td>0.216513</td>\n",
       "      <td>0.202089</td>\n",
       "    </tr>\n",
       "    <tr>\n",
       "      <th>Attrition</th>\n",
       "      <td>-0.159205</td>\n",
       "      <td>1.000000</td>\n",
       "      <td>0.000074</td>\n",
       "      <td>-0.056652</td>\n",
       "      <td>0.063991</td>\n",
       "      <td>0.077924</td>\n",
       "      <td>-0.031373</td>\n",
       "      <td>0.026846</td>\n",
       "      <td>-0.010577</td>\n",
       "      <td>-0.103369</td>\n",
       "      <td>...</td>\n",
       "      <td>0.002889</td>\n",
       "      <td>-0.045872</td>\n",
       "      <td>-0.137145</td>\n",
       "      <td>-0.171063</td>\n",
       "      <td>-0.059478</td>\n",
       "      <td>-0.063939</td>\n",
       "      <td>-0.134392</td>\n",
       "      <td>-0.160545</td>\n",
       "      <td>-0.033019</td>\n",
       "      <td>-0.156199</td>\n",
       "    </tr>\n",
       "    <tr>\n",
       "      <th>BusinessTravel</th>\n",
       "      <td>0.024751</td>\n",
       "      <td>0.000074</td>\n",
       "      <td>1.000000</td>\n",
       "      <td>-0.004086</td>\n",
       "      <td>-0.009044</td>\n",
       "      <td>-0.024469</td>\n",
       "      <td>0.000757</td>\n",
       "      <td>0.023724</td>\n",
       "      <td>-0.015578</td>\n",
       "      <td>0.004174</td>\n",
       "      <td>...</td>\n",
       "      <td>-0.026341</td>\n",
       "      <td>-0.035986</td>\n",
       "      <td>-0.016727</td>\n",
       "      <td>0.034226</td>\n",
       "      <td>0.015240</td>\n",
       "      <td>-0.011256</td>\n",
       "      <td>-0.014575</td>\n",
       "      <td>-0.011497</td>\n",
       "      <td>-0.032591</td>\n",
       "      <td>-0.022636</td>\n",
       "    </tr>\n",
       "    <tr>\n",
       "      <th>DailyRate</th>\n",
       "      <td>0.010661</td>\n",
       "      <td>-0.056652</td>\n",
       "      <td>-0.004086</td>\n",
       "      <td>1.000000</td>\n",
       "      <td>0.007109</td>\n",
       "      <td>-0.004985</td>\n",
       "      <td>-0.016806</td>\n",
       "      <td>0.037709</td>\n",
       "      <td>-0.050990</td>\n",
       "      <td>0.018355</td>\n",
       "      <td>...</td>\n",
       "      <td>0.000473</td>\n",
       "      <td>0.007846</td>\n",
       "      <td>0.042143</td>\n",
       "      <td>0.014515</td>\n",
       "      <td>0.002453</td>\n",
       "      <td>-0.037848</td>\n",
       "      <td>-0.034055</td>\n",
       "      <td>0.009932</td>\n",
       "      <td>-0.033229</td>\n",
       "      <td>-0.026363</td>\n",
       "    </tr>\n",
       "    <tr>\n",
       "      <th>Department</th>\n",
       "      <td>-0.031882</td>\n",
       "      <td>0.063991</td>\n",
       "      <td>-0.009044</td>\n",
       "      <td>0.007109</td>\n",
       "      <td>1.000000</td>\n",
       "      <td>0.017225</td>\n",
       "      <td>0.007996</td>\n",
       "      <td>0.013720</td>\n",
       "      <td>-0.010895</td>\n",
       "      <td>-0.019395</td>\n",
       "      <td>...</td>\n",
       "      <td>-0.024604</td>\n",
       "      <td>-0.022414</td>\n",
       "      <td>-0.012193</td>\n",
       "      <td>-0.015762</td>\n",
       "      <td>0.036875</td>\n",
       "      <td>0.026383</td>\n",
       "      <td>0.022920</td>\n",
       "      <td>0.056315</td>\n",
       "      <td>0.040061</td>\n",
       "      <td>0.034282</td>\n",
       "    </tr>\n",
       "    <tr>\n",
       "      <th>DistanceFromHome</th>\n",
       "      <td>-0.001686</td>\n",
       "      <td>0.077924</td>\n",
       "      <td>-0.024469</td>\n",
       "      <td>-0.004985</td>\n",
       "      <td>0.017225</td>\n",
       "      <td>1.000000</td>\n",
       "      <td>0.021042</td>\n",
       "      <td>0.002013</td>\n",
       "      <td>0.032916</td>\n",
       "      <td>-0.016075</td>\n",
       "      <td>...</td>\n",
       "      <td>0.027110</td>\n",
       "      <td>0.006557</td>\n",
       "      <td>0.044872</td>\n",
       "      <td>0.004628</td>\n",
       "      <td>-0.036942</td>\n",
       "      <td>-0.026556</td>\n",
       "      <td>0.009508</td>\n",
       "      <td>0.018845</td>\n",
       "      <td>0.010029</td>\n",
       "      <td>0.014406</td>\n",
       "    </tr>\n",
       "    <tr>\n",
       "      <th>Education</th>\n",
       "      <td>0.208034</td>\n",
       "      <td>-0.031373</td>\n",
       "      <td>0.000757</td>\n",
       "      <td>-0.016806</td>\n",
       "      <td>0.007996</td>\n",
       "      <td>0.021042</td>\n",
       "      <td>1.000000</td>\n",
       "      <td>-0.039592</td>\n",
       "      <td>0.042070</td>\n",
       "      <td>-0.027128</td>\n",
       "      <td>...</td>\n",
       "      <td>-0.024539</td>\n",
       "      <td>-0.009118</td>\n",
       "      <td>0.018422</td>\n",
       "      <td>0.148280</td>\n",
       "      <td>-0.025100</td>\n",
       "      <td>0.009819</td>\n",
       "      <td>0.069114</td>\n",
       "      <td>0.060236</td>\n",
       "      <td>0.054254</td>\n",
       "      <td>0.069065</td>\n",
       "    </tr>\n",
       "    <tr>\n",
       "      <th>EducationField</th>\n",
       "      <td>-0.040873</td>\n",
       "      <td>0.026846</td>\n",
       "      <td>0.023724</td>\n",
       "      <td>0.037709</td>\n",
       "      <td>0.013720</td>\n",
       "      <td>0.002013</td>\n",
       "      <td>-0.039592</td>\n",
       "      <td>1.000000</td>\n",
       "      <td>-0.002516</td>\n",
       "      <td>0.043163</td>\n",
       "      <td>...</td>\n",
       "      <td>-0.005614</td>\n",
       "      <td>-0.004378</td>\n",
       "      <td>-0.016185</td>\n",
       "      <td>-0.027848</td>\n",
       "      <td>0.049195</td>\n",
       "      <td>0.041191</td>\n",
       "      <td>-0.018692</td>\n",
       "      <td>-0.010506</td>\n",
       "      <td>0.002326</td>\n",
       "      <td>-0.004130</td>\n",
       "    </tr>\n",
       "    <tr>\n",
       "      <th>EmployeeNumber</th>\n",
       "      <td>-0.010145</td>\n",
       "      <td>-0.010577</td>\n",
       "      <td>-0.015578</td>\n",
       "      <td>-0.050990</td>\n",
       "      <td>-0.010895</td>\n",
       "      <td>0.032916</td>\n",
       "      <td>0.042070</td>\n",
       "      <td>-0.002516</td>\n",
       "      <td>1.000000</td>\n",
       "      <td>0.017621</td>\n",
       "      <td>...</td>\n",
       "      <td>-0.020359</td>\n",
       "      <td>-0.069861</td>\n",
       "      <td>0.062227</td>\n",
       "      <td>-0.014365</td>\n",
       "      <td>0.023603</td>\n",
       "      <td>0.010309</td>\n",
       "      <td>-0.011240</td>\n",
       "      <td>-0.008416</td>\n",
       "      <td>-0.009019</td>\n",
       "      <td>-0.009197</td>\n",
       "    </tr>\n",
       "    <tr>\n",
       "      <th>EnvironmentSatisfaction</th>\n",
       "      <td>0.010146</td>\n",
       "      <td>-0.103369</td>\n",
       "      <td>0.004174</td>\n",
       "      <td>0.018355</td>\n",
       "      <td>-0.019395</td>\n",
       "      <td>-0.016075</td>\n",
       "      <td>-0.027128</td>\n",
       "      <td>0.043163</td>\n",
       "      <td>0.017621</td>\n",
       "      <td>1.000000</td>\n",
       "      <td>...</td>\n",
       "      <td>-0.029548</td>\n",
       "      <td>0.007665</td>\n",
       "      <td>0.003432</td>\n",
       "      <td>-0.002693</td>\n",
       "      <td>-0.019359</td>\n",
       "      <td>0.027627</td>\n",
       "      <td>0.001458</td>\n",
       "      <td>0.018007</td>\n",
       "      <td>0.016194</td>\n",
       "      <td>-0.004999</td>\n",
       "    </tr>\n",
       "    <tr>\n",
       "      <th>Gender</th>\n",
       "      <td>-0.036311</td>\n",
       "      <td>0.029453</td>\n",
       "      <td>-0.032981</td>\n",
       "      <td>-0.011716</td>\n",
       "      <td>-0.041583</td>\n",
       "      <td>-0.001851</td>\n",
       "      <td>-0.016547</td>\n",
       "      <td>-0.002504</td>\n",
       "      <td>0.022556</td>\n",
       "      <td>0.000508</td>\n",
       "      <td>...</td>\n",
       "      <td>-0.013859</td>\n",
       "      <td>0.022868</td>\n",
       "      <td>0.012716</td>\n",
       "      <td>-0.046881</td>\n",
       "      <td>-0.038787</td>\n",
       "      <td>-0.002753</td>\n",
       "      <td>-0.029747</td>\n",
       "      <td>-0.041483</td>\n",
       "      <td>-0.026985</td>\n",
       "      <td>-0.030599</td>\n",
       "    </tr>\n",
       "    <tr>\n",
       "      <th>HourlyRate</th>\n",
       "      <td>0.024287</td>\n",
       "      <td>-0.006846</td>\n",
       "      <td>0.026528</td>\n",
       "      <td>0.023381</td>\n",
       "      <td>-0.004144</td>\n",
       "      <td>0.031131</td>\n",
       "      <td>0.016775</td>\n",
       "      <td>-0.021941</td>\n",
       "      <td>0.035179</td>\n",
       "      <td>-0.049857</td>\n",
       "      <td>...</td>\n",
       "      <td>-0.002172</td>\n",
       "      <td>0.001330</td>\n",
       "      <td>0.050263</td>\n",
       "      <td>-0.002334</td>\n",
       "      <td>-0.008548</td>\n",
       "      <td>-0.004607</td>\n",
       "      <td>-0.019582</td>\n",
       "      <td>-0.024106</td>\n",
       "      <td>-0.026716</td>\n",
       "      <td>-0.020123</td>\n",
       "    </tr>\n",
       "    <tr>\n",
       "      <th>JobInvolvement</th>\n",
       "      <td>0.029820</td>\n",
       "      <td>-0.130016</td>\n",
       "      <td>0.039062</td>\n",
       "      <td>0.046135</td>\n",
       "      <td>-0.024586</td>\n",
       "      <td>0.008783</td>\n",
       "      <td>0.042438</td>\n",
       "      <td>-0.002655</td>\n",
       "      <td>-0.006888</td>\n",
       "      <td>-0.008278</td>\n",
       "      <td>...</td>\n",
       "      <td>-0.029071</td>\n",
       "      <td>0.034297</td>\n",
       "      <td>0.021523</td>\n",
       "      <td>-0.005533</td>\n",
       "      <td>-0.015338</td>\n",
       "      <td>-0.014617</td>\n",
       "      <td>-0.021355</td>\n",
       "      <td>0.008717</td>\n",
       "      <td>-0.024184</td>\n",
       "      <td>0.025976</td>\n",
       "    </tr>\n",
       "    <tr>\n",
       "      <th>JobLevel</th>\n",
       "      <td>0.509604</td>\n",
       "      <td>-0.169105</td>\n",
       "      <td>0.019311</td>\n",
       "      <td>0.002966</td>\n",
       "      <td>0.101963</td>\n",
       "      <td>0.005303</td>\n",
       "      <td>0.101589</td>\n",
       "      <td>-0.044933</td>\n",
       "      <td>-0.018519</td>\n",
       "      <td>0.001212</td>\n",
       "      <td>...</td>\n",
       "      <td>-0.021222</td>\n",
       "      <td>0.021642</td>\n",
       "      <td>0.013984</td>\n",
       "      <td>0.782208</td>\n",
       "      <td>-0.018191</td>\n",
       "      <td>0.037818</td>\n",
       "      <td>0.534739</td>\n",
       "      <td>0.389447</td>\n",
       "      <td>0.353885</td>\n",
       "      <td>0.375281</td>\n",
       "    </tr>\n",
       "    <tr>\n",
       "      <th>JobRole</th>\n",
       "      <td>-0.122427</td>\n",
       "      <td>0.067151</td>\n",
       "      <td>0.002724</td>\n",
       "      <td>-0.009472</td>\n",
       "      <td>0.662431</td>\n",
       "      <td>-0.001015</td>\n",
       "      <td>0.004236</td>\n",
       "      <td>0.015599</td>\n",
       "      <td>-0.010336</td>\n",
       "      <td>-0.017321</td>\n",
       "      <td>...</td>\n",
       "      <td>-0.024233</td>\n",
       "      <td>-0.020218</td>\n",
       "      <td>-0.019171</td>\n",
       "      <td>-0.145439</td>\n",
       "      <td>0.001342</td>\n",
       "      <td>0.027764</td>\n",
       "      <td>-0.083657</td>\n",
       "      <td>-0.028354</td>\n",
       "      <td>-0.046384</td>\n",
       "      <td>-0.041150</td>\n",
       "    </tr>\n",
       "    <tr>\n",
       "      <th>JobSatisfaction</th>\n",
       "      <td>-0.004892</td>\n",
       "      <td>-0.103481</td>\n",
       "      <td>-0.033962</td>\n",
       "      <td>0.030571</td>\n",
       "      <td>0.021001</td>\n",
       "      <td>-0.003669</td>\n",
       "      <td>-0.011296</td>\n",
       "      <td>-0.034401</td>\n",
       "      <td>-0.046247</td>\n",
       "      <td>-0.006784</td>\n",
       "      <td>...</td>\n",
       "      <td>0.002297</td>\n",
       "      <td>-0.012454</td>\n",
       "      <td>0.010690</td>\n",
       "      <td>-0.020185</td>\n",
       "      <td>-0.005779</td>\n",
       "      <td>-0.019459</td>\n",
       "      <td>-0.003803</td>\n",
       "      <td>-0.002305</td>\n",
       "      <td>-0.018214</td>\n",
       "      <td>-0.027656</td>\n",
       "    </tr>\n",
       "    <tr>\n",
       "      <th>MaritalStatus</th>\n",
       "      <td>-0.095029</td>\n",
       "      <td>0.162070</td>\n",
       "      <td>0.024001</td>\n",
       "      <td>-0.069586</td>\n",
       "      <td>0.056073</td>\n",
       "      <td>-0.014437</td>\n",
       "      <td>0.004053</td>\n",
       "      <td>0.014420</td>\n",
       "      <td>-0.008155</td>\n",
       "      <td>-0.003593</td>\n",
       "      <td>...</td>\n",
       "      <td>0.005207</td>\n",
       "      <td>0.022549</td>\n",
       "      <td>-0.662577</td>\n",
       "      <td>-0.077886</td>\n",
       "      <td>0.010629</td>\n",
       "      <td>0.014708</td>\n",
       "      <td>-0.059986</td>\n",
       "      <td>-0.065822</td>\n",
       "      <td>-0.030915</td>\n",
       "      <td>-0.038570</td>\n",
       "    </tr>\n",
       "    <tr>\n",
       "      <th>MonthlyIncome</th>\n",
       "      <td>0.497855</td>\n",
       "      <td>-0.159840</td>\n",
       "      <td>0.034319</td>\n",
       "      <td>0.007707</td>\n",
       "      <td>0.053130</td>\n",
       "      <td>-0.017014</td>\n",
       "      <td>0.094961</td>\n",
       "      <td>-0.041070</td>\n",
       "      <td>-0.014829</td>\n",
       "      <td>-0.006259</td>\n",
       "      <td>...</td>\n",
       "      <td>-0.017120</td>\n",
       "      <td>0.025873</td>\n",
       "      <td>0.005408</td>\n",
       "      <td>0.772893</td>\n",
       "      <td>-0.021736</td>\n",
       "      <td>0.030683</td>\n",
       "      <td>0.514285</td>\n",
       "      <td>0.363818</td>\n",
       "      <td>0.344978</td>\n",
       "      <td>0.344079</td>\n",
       "    </tr>\n",
       "    <tr>\n",
       "      <th>MonthlyRate</th>\n",
       "      <td>0.028051</td>\n",
       "      <td>0.015170</td>\n",
       "      <td>-0.014107</td>\n",
       "      <td>-0.032182</td>\n",
       "      <td>0.023642</td>\n",
       "      <td>0.027473</td>\n",
       "      <td>-0.026084</td>\n",
       "      <td>-0.027182</td>\n",
       "      <td>0.012648</td>\n",
       "      <td>0.037600</td>\n",
       "      <td>...</td>\n",
       "      <td>-0.009811</td>\n",
       "      <td>-0.004085</td>\n",
       "      <td>-0.034323</td>\n",
       "      <td>0.026442</td>\n",
       "      <td>0.001467</td>\n",
       "      <td>0.007963</td>\n",
       "      <td>-0.023655</td>\n",
       "      <td>-0.012815</td>\n",
       "      <td>0.001567</td>\n",
       "      <td>-0.036746</td>\n",
       "    </tr>\n",
       "    <tr>\n",
       "      <th>NumCompaniesWorked</th>\n",
       "      <td>0.299635</td>\n",
       "      <td>0.043494</td>\n",
       "      <td>0.020875</td>\n",
       "      <td>0.038153</td>\n",
       "      <td>-0.035882</td>\n",
       "      <td>-0.029251</td>\n",
       "      <td>0.126317</td>\n",
       "      <td>-0.008663</td>\n",
       "      <td>-0.001251</td>\n",
       "      <td>0.012594</td>\n",
       "      <td>...</td>\n",
       "      <td>-0.014095</td>\n",
       "      <td>0.052733</td>\n",
       "      <td>0.030075</td>\n",
       "      <td>0.237639</td>\n",
       "      <td>-0.066054</td>\n",
       "      <td>-0.008366</td>\n",
       "      <td>-0.118421</td>\n",
       "      <td>-0.090754</td>\n",
       "      <td>-0.036814</td>\n",
       "      <td>-0.110319</td>\n",
       "    </tr>\n",
       "    <tr>\n",
       "      <th>OverTime</th>\n",
       "      <td>0.028062</td>\n",
       "      <td>0.246118</td>\n",
       "      <td>0.016543</td>\n",
       "      <td>0.009135</td>\n",
       "      <td>0.007481</td>\n",
       "      <td>0.025514</td>\n",
       "      <td>-0.020322</td>\n",
       "      <td>0.002259</td>\n",
       "      <td>-0.024037</td>\n",
       "      <td>0.070132</td>\n",
       "      <td>...</td>\n",
       "      <td>0.004369</td>\n",
       "      <td>0.048493</td>\n",
       "      <td>-0.000449</td>\n",
       "      <td>0.012754</td>\n",
       "      <td>-0.079113</td>\n",
       "      <td>-0.027092</td>\n",
       "      <td>-0.011687</td>\n",
       "      <td>-0.029758</td>\n",
       "      <td>-0.012239</td>\n",
       "      <td>-0.041586</td>\n",
       "    </tr>\n",
       "    <tr>\n",
       "      <th>PercentSalaryHike</th>\n",
       "      <td>0.003634</td>\n",
       "      <td>-0.013478</td>\n",
       "      <td>-0.029377</td>\n",
       "      <td>0.022704</td>\n",
       "      <td>-0.007840</td>\n",
       "      <td>0.040235</td>\n",
       "      <td>-0.011111</td>\n",
       "      <td>-0.011214</td>\n",
       "      <td>-0.012944</td>\n",
       "      <td>-0.031701</td>\n",
       "      <td>...</td>\n",
       "      <td>0.773550</td>\n",
       "      <td>-0.040490</td>\n",
       "      <td>0.007528</td>\n",
       "      <td>-0.020608</td>\n",
       "      <td>-0.005221</td>\n",
       "      <td>-0.003280</td>\n",
       "      <td>-0.035991</td>\n",
       "      <td>-0.001520</td>\n",
       "      <td>-0.022154</td>\n",
       "      <td>-0.011985</td>\n",
       "    </tr>\n",
       "    <tr>\n",
       "      <th>PerformanceRating</th>\n",
       "      <td>0.001904</td>\n",
       "      <td>0.002889</td>\n",
       "      <td>-0.026341</td>\n",
       "      <td>0.000473</td>\n",
       "      <td>-0.024604</td>\n",
       "      <td>0.027110</td>\n",
       "      <td>-0.024539</td>\n",
       "      <td>-0.005614</td>\n",
       "      <td>-0.020359</td>\n",
       "      <td>-0.029548</td>\n",
       "      <td>...</td>\n",
       "      <td>1.000000</td>\n",
       "      <td>-0.031351</td>\n",
       "      <td>0.003506</td>\n",
       "      <td>0.006744</td>\n",
       "      <td>-0.015579</td>\n",
       "      <td>0.002572</td>\n",
       "      <td>0.003435</td>\n",
       "      <td>0.034986</td>\n",
       "      <td>0.017896</td>\n",
       "      <td>0.022827</td>\n",
       "    </tr>\n",
       "    <tr>\n",
       "      <th>RelationshipSatisfaction</th>\n",
       "      <td>0.053535</td>\n",
       "      <td>-0.045872</td>\n",
       "      <td>-0.035986</td>\n",
       "      <td>0.007846</td>\n",
       "      <td>-0.022414</td>\n",
       "      <td>0.006557</td>\n",
       "      <td>-0.009118</td>\n",
       "      <td>-0.004378</td>\n",
       "      <td>-0.069861</td>\n",
       "      <td>0.007665</td>\n",
       "      <td>...</td>\n",
       "      <td>-0.031351</td>\n",
       "      <td>1.000000</td>\n",
       "      <td>-0.045952</td>\n",
       "      <td>0.024054</td>\n",
       "      <td>0.002497</td>\n",
       "      <td>0.019604</td>\n",
       "      <td>0.019367</td>\n",
       "      <td>-0.015123</td>\n",
       "      <td>0.033493</td>\n",
       "      <td>-0.000867</td>\n",
       "    </tr>\n",
       "    <tr>\n",
       "      <th>StockOptionLevel</th>\n",
       "      <td>0.037510</td>\n",
       "      <td>-0.137145</td>\n",
       "      <td>-0.016727</td>\n",
       "      <td>0.042143</td>\n",
       "      <td>-0.012193</td>\n",
       "      <td>0.044872</td>\n",
       "      <td>0.018422</td>\n",
       "      <td>-0.016185</td>\n",
       "      <td>0.062227</td>\n",
       "      <td>0.003432</td>\n",
       "      <td>...</td>\n",
       "      <td>0.003506</td>\n",
       "      <td>-0.045952</td>\n",
       "      <td>1.000000</td>\n",
       "      <td>0.010136</td>\n",
       "      <td>0.011274</td>\n",
       "      <td>0.004129</td>\n",
       "      <td>0.015058</td>\n",
       "      <td>0.050818</td>\n",
       "      <td>0.014352</td>\n",
       "      <td>0.024698</td>\n",
       "    </tr>\n",
       "    <tr>\n",
       "      <th>TotalWorkingYears</th>\n",
       "      <td>0.680381</td>\n",
       "      <td>-0.171063</td>\n",
       "      <td>0.034226</td>\n",
       "      <td>0.014515</td>\n",
       "      <td>-0.015762</td>\n",
       "      <td>0.004628</td>\n",
       "      <td>0.148280</td>\n",
       "      <td>-0.027848</td>\n",
       "      <td>-0.014365</td>\n",
       "      <td>-0.002693</td>\n",
       "      <td>...</td>\n",
       "      <td>0.006744</td>\n",
       "      <td>0.024054</td>\n",
       "      <td>0.010136</td>\n",
       "      <td>1.000000</td>\n",
       "      <td>-0.035662</td>\n",
       "      <td>0.001008</td>\n",
       "      <td>0.628133</td>\n",
       "      <td>0.460365</td>\n",
       "      <td>0.404858</td>\n",
       "      <td>0.459188</td>\n",
       "    </tr>\n",
       "    <tr>\n",
       "      <th>TrainingTimesLastYear</th>\n",
       "      <td>-0.019621</td>\n",
       "      <td>-0.059478</td>\n",
       "      <td>0.015240</td>\n",
       "      <td>0.002453</td>\n",
       "      <td>0.036875</td>\n",
       "      <td>-0.036942</td>\n",
       "      <td>-0.025100</td>\n",
       "      <td>0.049195</td>\n",
       "      <td>0.023603</td>\n",
       "      <td>-0.019359</td>\n",
       "      <td>...</td>\n",
       "      <td>-0.015579</td>\n",
       "      <td>0.002497</td>\n",
       "      <td>0.011274</td>\n",
       "      <td>-0.035662</td>\n",
       "      <td>1.000000</td>\n",
       "      <td>0.028072</td>\n",
       "      <td>0.003569</td>\n",
       "      <td>-0.005738</td>\n",
       "      <td>-0.002067</td>\n",
       "      <td>-0.004096</td>\n",
       "    </tr>\n",
       "    <tr>\n",
       "      <th>WorkLifeBalance</th>\n",
       "      <td>-0.021490</td>\n",
       "      <td>-0.063939</td>\n",
       "      <td>-0.011256</td>\n",
       "      <td>-0.037848</td>\n",
       "      <td>0.026383</td>\n",
       "      <td>-0.026556</td>\n",
       "      <td>0.009819</td>\n",
       "      <td>0.041191</td>\n",
       "      <td>0.010309</td>\n",
       "      <td>0.027627</td>\n",
       "      <td>...</td>\n",
       "      <td>0.002572</td>\n",
       "      <td>0.019604</td>\n",
       "      <td>0.004129</td>\n",
       "      <td>0.001008</td>\n",
       "      <td>0.028072</td>\n",
       "      <td>1.000000</td>\n",
       "      <td>0.012089</td>\n",
       "      <td>0.049856</td>\n",
       "      <td>0.008941</td>\n",
       "      <td>0.002759</td>\n",
       "    </tr>\n",
       "    <tr>\n",
       "      <th>YearsAtCompany</th>\n",
       "      <td>0.311309</td>\n",
       "      <td>-0.134392</td>\n",
       "      <td>-0.014575</td>\n",
       "      <td>-0.034055</td>\n",
       "      <td>0.022920</td>\n",
       "      <td>0.009508</td>\n",
       "      <td>0.069114</td>\n",
       "      <td>-0.018692</td>\n",
       "      <td>-0.011240</td>\n",
       "      <td>0.001458</td>\n",
       "      <td>...</td>\n",
       "      <td>0.003435</td>\n",
       "      <td>0.019367</td>\n",
       "      <td>0.015058</td>\n",
       "      <td>0.628133</td>\n",
       "      <td>0.003569</td>\n",
       "      <td>0.012089</td>\n",
       "      <td>1.000000</td>\n",
       "      <td>0.758754</td>\n",
       "      <td>0.618409</td>\n",
       "      <td>0.769212</td>\n",
       "    </tr>\n",
       "    <tr>\n",
       "      <th>YearsInCurrentRole</th>\n",
       "      <td>0.212901</td>\n",
       "      <td>-0.160545</td>\n",
       "      <td>-0.011497</td>\n",
       "      <td>0.009932</td>\n",
       "      <td>0.056315</td>\n",
       "      <td>0.018845</td>\n",
       "      <td>0.060236</td>\n",
       "      <td>-0.010506</td>\n",
       "      <td>-0.008416</td>\n",
       "      <td>0.018007</td>\n",
       "      <td>...</td>\n",
       "      <td>0.034986</td>\n",
       "      <td>-0.015123</td>\n",
       "      <td>0.050818</td>\n",
       "      <td>0.460365</td>\n",
       "      <td>-0.005738</td>\n",
       "      <td>0.049856</td>\n",
       "      <td>0.758754</td>\n",
       "      <td>1.000000</td>\n",
       "      <td>0.548056</td>\n",
       "      <td>0.714365</td>\n",
       "    </tr>\n",
       "    <tr>\n",
       "      <th>YearsSinceLastPromotion</th>\n",
       "      <td>0.216513</td>\n",
       "      <td>-0.033019</td>\n",
       "      <td>-0.032591</td>\n",
       "      <td>-0.033229</td>\n",
       "      <td>0.040061</td>\n",
       "      <td>0.010029</td>\n",
       "      <td>0.054254</td>\n",
       "      <td>0.002326</td>\n",
       "      <td>-0.009019</td>\n",
       "      <td>0.016194</td>\n",
       "      <td>...</td>\n",
       "      <td>0.017896</td>\n",
       "      <td>0.033493</td>\n",
       "      <td>0.014352</td>\n",
       "      <td>0.404858</td>\n",
       "      <td>-0.002067</td>\n",
       "      <td>0.008941</td>\n",
       "      <td>0.618409</td>\n",
       "      <td>0.548056</td>\n",
       "      <td>1.000000</td>\n",
       "      <td>0.510224</td>\n",
       "    </tr>\n",
       "    <tr>\n",
       "      <th>YearsWithCurrManager</th>\n",
       "      <td>0.202089</td>\n",
       "      <td>-0.156199</td>\n",
       "      <td>-0.022636</td>\n",
       "      <td>-0.026363</td>\n",
       "      <td>0.034282</td>\n",
       "      <td>0.014406</td>\n",
       "      <td>0.069065</td>\n",
       "      <td>-0.004130</td>\n",
       "      <td>-0.009197</td>\n",
       "      <td>-0.004999</td>\n",
       "      <td>...</td>\n",
       "      <td>0.022827</td>\n",
       "      <td>-0.000867</td>\n",
       "      <td>0.024698</td>\n",
       "      <td>0.459188</td>\n",
       "      <td>-0.004096</td>\n",
       "      <td>0.002759</td>\n",
       "      <td>0.769212</td>\n",
       "      <td>0.714365</td>\n",
       "      <td>0.510224</td>\n",
       "      <td>1.000000</td>\n",
       "    </tr>\n",
       "  </tbody>\n",
       "</table>\n",
       "<p>32 rows × 32 columns</p>\n",
       "</div>"
      ],
      "text/plain": [
       "                               Age  Attrition  BusinessTravel  DailyRate  \\\n",
       "Age                       1.000000  -0.159205        0.024751   0.010661   \n",
       "Attrition                -0.159205   1.000000        0.000074  -0.056652   \n",
       "BusinessTravel            0.024751   0.000074        1.000000  -0.004086   \n",
       "DailyRate                 0.010661  -0.056652       -0.004086   1.000000   \n",
       "Department               -0.031882   0.063991       -0.009044   0.007109   \n",
       "DistanceFromHome         -0.001686   0.077924       -0.024469  -0.004985   \n",
       "Education                 0.208034  -0.031373        0.000757  -0.016806   \n",
       "EducationField           -0.040873   0.026846        0.023724   0.037709   \n",
       "EmployeeNumber           -0.010145  -0.010577       -0.015578  -0.050990   \n",
       "EnvironmentSatisfaction   0.010146  -0.103369        0.004174   0.018355   \n",
       "Gender                   -0.036311   0.029453       -0.032981  -0.011716   \n",
       "HourlyRate                0.024287  -0.006846        0.026528   0.023381   \n",
       "JobInvolvement            0.029820  -0.130016        0.039062   0.046135   \n",
       "JobLevel                  0.509604  -0.169105        0.019311   0.002966   \n",
       "JobRole                  -0.122427   0.067151        0.002724  -0.009472   \n",
       "JobSatisfaction          -0.004892  -0.103481       -0.033962   0.030571   \n",
       "MaritalStatus            -0.095029   0.162070        0.024001  -0.069586   \n",
       "MonthlyIncome             0.497855  -0.159840        0.034319   0.007707   \n",
       "MonthlyRate               0.028051   0.015170       -0.014107  -0.032182   \n",
       "NumCompaniesWorked        0.299635   0.043494        0.020875   0.038153   \n",
       "OverTime                  0.028062   0.246118        0.016543   0.009135   \n",
       "PercentSalaryHike         0.003634  -0.013478       -0.029377   0.022704   \n",
       "PerformanceRating         0.001904   0.002889       -0.026341   0.000473   \n",
       "RelationshipSatisfaction  0.053535  -0.045872       -0.035986   0.007846   \n",
       "StockOptionLevel          0.037510  -0.137145       -0.016727   0.042143   \n",
       "TotalWorkingYears         0.680381  -0.171063        0.034226   0.014515   \n",
       "TrainingTimesLastYear    -0.019621  -0.059478        0.015240   0.002453   \n",
       "WorkLifeBalance          -0.021490  -0.063939       -0.011256  -0.037848   \n",
       "YearsAtCompany            0.311309  -0.134392       -0.014575  -0.034055   \n",
       "YearsInCurrentRole        0.212901  -0.160545       -0.011497   0.009932   \n",
       "YearsSinceLastPromotion   0.216513  -0.033019       -0.032591  -0.033229   \n",
       "YearsWithCurrManager      0.202089  -0.156199       -0.022636  -0.026363   \n",
       "\n",
       "                          Department  DistanceFromHome  Education  \\\n",
       "Age                        -0.031882         -0.001686   0.208034   \n",
       "Attrition                   0.063991          0.077924  -0.031373   \n",
       "BusinessTravel             -0.009044         -0.024469   0.000757   \n",
       "DailyRate                   0.007109         -0.004985  -0.016806   \n",
       "Department                  1.000000          0.017225   0.007996   \n",
       "DistanceFromHome            0.017225          1.000000   0.021042   \n",
       "Education                   0.007996          0.021042   1.000000   \n",
       "EducationField              0.013720          0.002013  -0.039592   \n",
       "EmployeeNumber             -0.010895          0.032916   0.042070   \n",
       "EnvironmentSatisfaction    -0.019395         -0.016075  -0.027128   \n",
       "Gender                     -0.041583         -0.001851  -0.016547   \n",
       "HourlyRate                 -0.004144          0.031131   0.016775   \n",
       "JobInvolvement             -0.024586          0.008783   0.042438   \n",
       "JobLevel                    0.101963          0.005303   0.101589   \n",
       "JobRole                     0.662431         -0.001015   0.004236   \n",
       "JobSatisfaction             0.021001         -0.003669  -0.011296   \n",
       "MaritalStatus               0.056073         -0.014437   0.004053   \n",
       "MonthlyIncome               0.053130         -0.017014   0.094961   \n",
       "MonthlyRate                 0.023642          0.027473  -0.026084   \n",
       "NumCompaniesWorked         -0.035882         -0.029251   0.126317   \n",
       "OverTime                    0.007481          0.025514  -0.020322   \n",
       "PercentSalaryHike          -0.007840          0.040235  -0.011111   \n",
       "PerformanceRating          -0.024604          0.027110  -0.024539   \n",
       "RelationshipSatisfaction   -0.022414          0.006557  -0.009118   \n",
       "StockOptionLevel           -0.012193          0.044872   0.018422   \n",
       "TotalWorkingYears          -0.015762          0.004628   0.148280   \n",
       "TrainingTimesLastYear       0.036875         -0.036942  -0.025100   \n",
       "WorkLifeBalance             0.026383         -0.026556   0.009819   \n",
       "YearsAtCompany              0.022920          0.009508   0.069114   \n",
       "YearsInCurrentRole          0.056315          0.018845   0.060236   \n",
       "YearsSinceLastPromotion     0.040061          0.010029   0.054254   \n",
       "YearsWithCurrManager        0.034282          0.014406   0.069065   \n",
       "\n",
       "                          EducationField  EmployeeNumber  \\\n",
       "Age                            -0.040873       -0.010145   \n",
       "Attrition                       0.026846       -0.010577   \n",
       "BusinessTravel                  0.023724       -0.015578   \n",
       "DailyRate                       0.037709       -0.050990   \n",
       "Department                      0.013720       -0.010895   \n",
       "DistanceFromHome                0.002013        0.032916   \n",
       "Education                      -0.039592        0.042070   \n",
       "EducationField                  1.000000       -0.002516   \n",
       "EmployeeNumber                 -0.002516        1.000000   \n",
       "EnvironmentSatisfaction         0.043163        0.017621   \n",
       "Gender                         -0.002504        0.022556   \n",
       "HourlyRate                     -0.021941        0.035179   \n",
       "JobInvolvement                 -0.002655       -0.006888   \n",
       "JobLevel                       -0.044933       -0.018519   \n",
       "JobRole                         0.015599       -0.010336   \n",
       "JobSatisfaction                -0.034401       -0.046247   \n",
       "MaritalStatus                   0.014420       -0.008155   \n",
       "MonthlyIncome                  -0.041070       -0.014829   \n",
       "MonthlyRate                    -0.027182        0.012648   \n",
       "NumCompaniesWorked             -0.008663       -0.001251   \n",
       "OverTime                        0.002259       -0.024037   \n",
       "PercentSalaryHike              -0.011214       -0.012944   \n",
       "PerformanceRating              -0.005614       -0.020359   \n",
       "RelationshipSatisfaction       -0.004378       -0.069861   \n",
       "StockOptionLevel               -0.016185        0.062227   \n",
       "TotalWorkingYears              -0.027848       -0.014365   \n",
       "TrainingTimesLastYear           0.049195        0.023603   \n",
       "WorkLifeBalance                 0.041191        0.010309   \n",
       "YearsAtCompany                 -0.018692       -0.011240   \n",
       "YearsInCurrentRole             -0.010506       -0.008416   \n",
       "YearsSinceLastPromotion         0.002326       -0.009019   \n",
       "YearsWithCurrManager           -0.004130       -0.009197   \n",
       "\n",
       "                          EnvironmentSatisfaction  ...  PerformanceRating  \\\n",
       "Age                                      0.010146  ...           0.001904   \n",
       "Attrition                               -0.103369  ...           0.002889   \n",
       "BusinessTravel                           0.004174  ...          -0.026341   \n",
       "DailyRate                                0.018355  ...           0.000473   \n",
       "Department                              -0.019395  ...          -0.024604   \n",
       "DistanceFromHome                        -0.016075  ...           0.027110   \n",
       "Education                               -0.027128  ...          -0.024539   \n",
       "EducationField                           0.043163  ...          -0.005614   \n",
       "EmployeeNumber                           0.017621  ...          -0.020359   \n",
       "EnvironmentSatisfaction                  1.000000  ...          -0.029548   \n",
       "Gender                                   0.000508  ...          -0.013859   \n",
       "HourlyRate                              -0.049857  ...          -0.002172   \n",
       "JobInvolvement                          -0.008278  ...          -0.029071   \n",
       "JobLevel                                 0.001212  ...          -0.021222   \n",
       "JobRole                                 -0.017321  ...          -0.024233   \n",
       "JobSatisfaction                         -0.006784  ...           0.002297   \n",
       "MaritalStatus                           -0.003593  ...           0.005207   \n",
       "MonthlyIncome                           -0.006259  ...          -0.017120   \n",
       "MonthlyRate                              0.037600  ...          -0.009811   \n",
       "NumCompaniesWorked                       0.012594  ...          -0.014095   \n",
       "OverTime                                 0.070132  ...           0.004369   \n",
       "PercentSalaryHike                       -0.031701  ...           0.773550   \n",
       "PerformanceRating                       -0.029548  ...           1.000000   \n",
       "RelationshipSatisfaction                 0.007665  ...          -0.031351   \n",
       "StockOptionLevel                         0.003432  ...           0.003506   \n",
       "TotalWorkingYears                       -0.002693  ...           0.006744   \n",
       "TrainingTimesLastYear                   -0.019359  ...          -0.015579   \n",
       "WorkLifeBalance                          0.027627  ...           0.002572   \n",
       "YearsAtCompany                           0.001458  ...           0.003435   \n",
       "YearsInCurrentRole                       0.018007  ...           0.034986   \n",
       "YearsSinceLastPromotion                  0.016194  ...           0.017896   \n",
       "YearsWithCurrManager                    -0.004999  ...           0.022827   \n",
       "\n",
       "                          RelationshipSatisfaction  StockOptionLevel  \\\n",
       "Age                                       0.053535          0.037510   \n",
       "Attrition                                -0.045872         -0.137145   \n",
       "BusinessTravel                           -0.035986         -0.016727   \n",
       "DailyRate                                 0.007846          0.042143   \n",
       "Department                               -0.022414         -0.012193   \n",
       "DistanceFromHome                          0.006557          0.044872   \n",
       "Education                                -0.009118          0.018422   \n",
       "EducationField                           -0.004378         -0.016185   \n",
       "EmployeeNumber                           -0.069861          0.062227   \n",
       "EnvironmentSatisfaction                   0.007665          0.003432   \n",
       "Gender                                    0.022868          0.012716   \n",
       "HourlyRate                                0.001330          0.050263   \n",
       "JobInvolvement                            0.034297          0.021523   \n",
       "JobLevel                                  0.021642          0.013984   \n",
       "JobRole                                  -0.020218         -0.019171   \n",
       "JobSatisfaction                          -0.012454          0.010690   \n",
       "MaritalStatus                             0.022549         -0.662577   \n",
       "MonthlyIncome                             0.025873          0.005408   \n",
       "MonthlyRate                              -0.004085         -0.034323   \n",
       "NumCompaniesWorked                        0.052733          0.030075   \n",
       "OverTime                                  0.048493         -0.000449   \n",
       "PercentSalaryHike                        -0.040490          0.007528   \n",
       "PerformanceRating                        -0.031351          0.003506   \n",
       "RelationshipSatisfaction                  1.000000         -0.045952   \n",
       "StockOptionLevel                         -0.045952          1.000000   \n",
       "TotalWorkingYears                         0.024054          0.010136   \n",
       "TrainingTimesLastYear                     0.002497          0.011274   \n",
       "WorkLifeBalance                           0.019604          0.004129   \n",
       "YearsAtCompany                            0.019367          0.015058   \n",
       "YearsInCurrentRole                       -0.015123          0.050818   \n",
       "YearsSinceLastPromotion                   0.033493          0.014352   \n",
       "YearsWithCurrManager                     -0.000867          0.024698   \n",
       "\n",
       "                          TotalWorkingYears  TrainingTimesLastYear  \\\n",
       "Age                                0.680381              -0.019621   \n",
       "Attrition                         -0.171063              -0.059478   \n",
       "BusinessTravel                     0.034226               0.015240   \n",
       "DailyRate                          0.014515               0.002453   \n",
       "Department                        -0.015762               0.036875   \n",
       "DistanceFromHome                   0.004628              -0.036942   \n",
       "Education                          0.148280              -0.025100   \n",
       "EducationField                    -0.027848               0.049195   \n",
       "EmployeeNumber                    -0.014365               0.023603   \n",
       "EnvironmentSatisfaction           -0.002693              -0.019359   \n",
       "Gender                            -0.046881              -0.038787   \n",
       "HourlyRate                        -0.002334              -0.008548   \n",
       "JobInvolvement                    -0.005533              -0.015338   \n",
       "JobLevel                           0.782208              -0.018191   \n",
       "JobRole                           -0.145439               0.001342   \n",
       "JobSatisfaction                   -0.020185              -0.005779   \n",
       "MaritalStatus                     -0.077886               0.010629   \n",
       "MonthlyIncome                      0.772893              -0.021736   \n",
       "MonthlyRate                        0.026442               0.001467   \n",
       "NumCompaniesWorked                 0.237639              -0.066054   \n",
       "OverTime                           0.012754              -0.079113   \n",
       "PercentSalaryHike                 -0.020608              -0.005221   \n",
       "PerformanceRating                  0.006744              -0.015579   \n",
       "RelationshipSatisfaction           0.024054               0.002497   \n",
       "StockOptionLevel                   0.010136               0.011274   \n",
       "TotalWorkingYears                  1.000000              -0.035662   \n",
       "TrainingTimesLastYear             -0.035662               1.000000   \n",
       "WorkLifeBalance                    0.001008               0.028072   \n",
       "YearsAtCompany                     0.628133               0.003569   \n",
       "YearsInCurrentRole                 0.460365              -0.005738   \n",
       "YearsSinceLastPromotion            0.404858              -0.002067   \n",
       "YearsWithCurrManager               0.459188              -0.004096   \n",
       "\n",
       "                          WorkLifeBalance  YearsAtCompany  YearsInCurrentRole  \\\n",
       "Age                             -0.021490        0.311309            0.212901   \n",
       "Attrition                       -0.063939       -0.134392           -0.160545   \n",
       "BusinessTravel                  -0.011256       -0.014575           -0.011497   \n",
       "DailyRate                       -0.037848       -0.034055            0.009932   \n",
       "Department                       0.026383        0.022920            0.056315   \n",
       "DistanceFromHome                -0.026556        0.009508            0.018845   \n",
       "Education                        0.009819        0.069114            0.060236   \n",
       "EducationField                   0.041191       -0.018692           -0.010506   \n",
       "EmployeeNumber                   0.010309       -0.011240           -0.008416   \n",
       "EnvironmentSatisfaction          0.027627        0.001458            0.018007   \n",
       "Gender                          -0.002753       -0.029747           -0.041483   \n",
       "HourlyRate                      -0.004607       -0.019582           -0.024106   \n",
       "JobInvolvement                  -0.014617       -0.021355            0.008717   \n",
       "JobLevel                         0.037818        0.534739            0.389447   \n",
       "JobRole                          0.027764       -0.083657           -0.028354   \n",
       "JobSatisfaction                 -0.019459       -0.003803           -0.002305   \n",
       "MaritalStatus                    0.014708       -0.059986           -0.065822   \n",
       "MonthlyIncome                    0.030683        0.514285            0.363818   \n",
       "MonthlyRate                      0.007963       -0.023655           -0.012815   \n",
       "NumCompaniesWorked              -0.008366       -0.118421           -0.090754   \n",
       "OverTime                        -0.027092       -0.011687           -0.029758   \n",
       "PercentSalaryHike               -0.003280       -0.035991           -0.001520   \n",
       "PerformanceRating                0.002572        0.003435            0.034986   \n",
       "RelationshipSatisfaction         0.019604        0.019367           -0.015123   \n",
       "StockOptionLevel                 0.004129        0.015058            0.050818   \n",
       "TotalWorkingYears                0.001008        0.628133            0.460365   \n",
       "TrainingTimesLastYear            0.028072        0.003569           -0.005738   \n",
       "WorkLifeBalance                  1.000000        0.012089            0.049856   \n",
       "YearsAtCompany                   0.012089        1.000000            0.758754   \n",
       "YearsInCurrentRole               0.049856        0.758754            1.000000   \n",
       "YearsSinceLastPromotion          0.008941        0.618409            0.548056   \n",
       "YearsWithCurrManager             0.002759        0.769212            0.714365   \n",
       "\n",
       "                          YearsSinceLastPromotion  YearsWithCurrManager  \n",
       "Age                                      0.216513              0.202089  \n",
       "Attrition                               -0.033019             -0.156199  \n",
       "BusinessTravel                          -0.032591             -0.022636  \n",
       "DailyRate                               -0.033229             -0.026363  \n",
       "Department                               0.040061              0.034282  \n",
       "DistanceFromHome                         0.010029              0.014406  \n",
       "Education                                0.054254              0.069065  \n",
       "EducationField                           0.002326             -0.004130  \n",
       "EmployeeNumber                          -0.009019             -0.009197  \n",
       "EnvironmentSatisfaction                  0.016194             -0.004999  \n",
       "Gender                                  -0.026985             -0.030599  \n",
       "HourlyRate                              -0.026716             -0.020123  \n",
       "JobInvolvement                          -0.024184              0.025976  \n",
       "JobLevel                                 0.353885              0.375281  \n",
       "JobRole                                 -0.046384             -0.041150  \n",
       "JobSatisfaction                         -0.018214             -0.027656  \n",
       "MaritalStatus                           -0.030915             -0.038570  \n",
       "MonthlyIncome                            0.344978              0.344079  \n",
       "MonthlyRate                              0.001567             -0.036746  \n",
       "NumCompaniesWorked                      -0.036814             -0.110319  \n",
       "OverTime                                -0.012239             -0.041586  \n",
       "PercentSalaryHike                       -0.022154             -0.011985  \n",
       "PerformanceRating                        0.017896              0.022827  \n",
       "RelationshipSatisfaction                 0.033493             -0.000867  \n",
       "StockOptionLevel                         0.014352              0.024698  \n",
       "TotalWorkingYears                        0.404858              0.459188  \n",
       "TrainingTimesLastYear                   -0.002067             -0.004096  \n",
       "WorkLifeBalance                          0.008941              0.002759  \n",
       "YearsAtCompany                           0.618409              0.769212  \n",
       "YearsInCurrentRole                       0.548056              0.714365  \n",
       "YearsSinceLastPromotion                  1.000000              0.510224  \n",
       "YearsWithCurrManager                     0.510224              1.000000  \n",
       "\n",
       "[32 rows x 32 columns]"
      ]
     },
     "execution_count": 68,
     "metadata": {},
     "output_type": "execute_result"
    }
   ],
   "source": [
    "data.corr()"
   ]
  },
  {
   "cell_type": "code",
   "execution_count": 71,
   "metadata": {},
   "outputs": [
    {
     "data": {
      "image/png": "[encoded data removed]",
      "text/plain": [
       "<Figure size 720x504 with 1 Axes>"
      ]
     },
     "metadata": {
      "needs_background": "light"
     },
     "output_type": "display_data"
    }
   ],
   "source": [
    "plt.figure(figsize=(10,7))\n",
    "data.corr()['Attrition'].sort_values(ascending=False).drop(['Attrition']).plot(kind='bar')\n",
    "plt.xlabel('Feature',fontsize=14)\n",
    "plt.ylabel('Correlation with the target column',fontsize=14)\n",
    "plt.title('Correlation of Features with with the target column',fontsize=18)\n",
    "plt.show()"
   ]
  },
  {
   "cell_type": "code",
   "execution_count": 72,
   "metadata": {},
   "outputs": [],
   "source": [
    "data.drop([\"BusinessTravel\"],axis=1,inplace=True)"
   ]
  },
  {
   "cell_type": "code",
   "execution_count": 75,
   "metadata": {},
   "outputs": [],
   "source": [
    "# Removing outliers\n",
    "\n",
    "data_1=data.copy()\n",
    "data_1.drop(\"Attrition\",axis=1,inplace=True)"
   ]
  },
  {
   "cell_type": "code",
   "execution_count": 76,
   "metadata": {},
   "outputs": [
    {
     "data": {
      "text/html": [
       "<div>\n",
       "<style scoped>\n",
       "    .dataframe tbody tr th:only-of-type {\n",
       "        vertical-align: middle;\n",
       "    }\n",
       "\n",
       "    .dataframe tbody tr th {\n",
       "        vertical-align: top;\n",
       "    }\n",
       "\n",
       "    .dataframe thead th {\n",
       "        text-align: right;\n",
       "    }\n",
       "</style>\n",
       "<table border=\"1\" class=\"dataframe\">\n",
       "  <thead>\n",
       "    <tr style=\"text-align: right;\">\n",
       "      <th></th>\n",
       "      <th>Age</th>\n",
       "      <th>DailyRate</th>\n",
       "      <th>Department</th>\n",
       "      <th>DistanceFromHome</th>\n",
       "      <th>Education</th>\n",
       "      <th>EducationField</th>\n",
       "      <th>EmployeeNumber</th>\n",
       "      <th>EnvironmentSatisfaction</th>\n",
       "      <th>Gender</th>\n",
       "      <th>HourlyRate</th>\n",
       "      <th>...</th>\n",
       "      <th>PerformanceRating</th>\n",
       "      <th>RelationshipSatisfaction</th>\n",
       "      <th>StockOptionLevel</th>\n",
       "      <th>TotalWorkingYears</th>\n",
       "      <th>TrainingTimesLastYear</th>\n",
       "      <th>WorkLifeBalance</th>\n",
       "      <th>YearsAtCompany</th>\n",
       "      <th>YearsInCurrentRole</th>\n",
       "      <th>YearsSinceLastPromotion</th>\n",
       "      <th>YearsWithCurrManager</th>\n",
       "    </tr>\n",
       "  </thead>\n",
       "  <tbody>\n",
       "    <tr>\n",
       "      <th>0</th>\n",
       "      <td>41</td>\n",
       "      <td>1102</td>\n",
       "      <td>2</td>\n",
       "      <td>1</td>\n",
       "      <td>2</td>\n",
       "      <td>1</td>\n",
       "      <td>1</td>\n",
       "      <td>2</td>\n",
       "      <td>0</td>\n",
       "      <td>94</td>\n",
       "      <td>...</td>\n",
       "      <td>3</td>\n",
       "      <td>1</td>\n",
       "      <td>0</td>\n",
       "      <td>8</td>\n",
       "      <td>0</td>\n",
       "      <td>1</td>\n",
       "      <td>6</td>\n",
       "      <td>4</td>\n",
       "      <td>0</td>\n",
       "      <td>5</td>\n",
       "    </tr>\n",
       "    <tr>\n",
       "      <th>1</th>\n",
       "      <td>49</td>\n",
       "      <td>279</td>\n",
       "      <td>1</td>\n",
       "      <td>8</td>\n",
       "      <td>1</td>\n",
       "      <td>1</td>\n",
       "      <td>2</td>\n",
       "      <td>3</td>\n",
       "      <td>1</td>\n",
       "      <td>61</td>\n",
       "      <td>...</td>\n",
       "      <td>4</td>\n",
       "      <td>4</td>\n",
       "      <td>1</td>\n",
       "      <td>10</td>\n",
       "      <td>3</td>\n",
       "      <td>3</td>\n",
       "      <td>10</td>\n",
       "      <td>7</td>\n",
       "      <td>1</td>\n",
       "      <td>7</td>\n",
       "    </tr>\n",
       "    <tr>\n",
       "      <th>2</th>\n",
       "      <td>37</td>\n",
       "      <td>1373</td>\n",
       "      <td>1</td>\n",
       "      <td>2</td>\n",
       "      <td>2</td>\n",
       "      <td>4</td>\n",
       "      <td>4</td>\n",
       "      <td>4</td>\n",
       "      <td>1</td>\n",
       "      <td>92</td>\n",
       "      <td>...</td>\n",
       "      <td>3</td>\n",
       "      <td>2</td>\n",
       "      <td>0</td>\n",
       "      <td>7</td>\n",
       "      <td>3</td>\n",
       "      <td>3</td>\n",
       "      <td>0</td>\n",
       "      <td>0</td>\n",
       "      <td>0</td>\n",
       "      <td>0</td>\n",
       "    </tr>\n",
       "    <tr>\n",
       "      <th>3</th>\n",
       "      <td>33</td>\n",
       "      <td>1392</td>\n",
       "      <td>1</td>\n",
       "      <td>3</td>\n",
       "      <td>4</td>\n",
       "      <td>1</td>\n",
       "      <td>5</td>\n",
       "      <td>4</td>\n",
       "      <td>0</td>\n",
       "      <td>56</td>\n",
       "      <td>...</td>\n",
       "      <td>3</td>\n",
       "      <td>3</td>\n",
       "      <td>0</td>\n",
       "      <td>8</td>\n",
       "      <td>3</td>\n",
       "      <td>3</td>\n",
       "      <td>8</td>\n",
       "      <td>7</td>\n",
       "      <td>3</td>\n",
       "      <td>0</td>\n",
       "    </tr>\n",
       "    <tr>\n",
       "      <th>4</th>\n",
       "      <td>27</td>\n",
       "      <td>591</td>\n",
       "      <td>1</td>\n",
       "      <td>2</td>\n",
       "      <td>1</td>\n",
       "      <td>3</td>\n",
       "      <td>7</td>\n",
       "      <td>1</td>\n",
       "      <td>1</td>\n",
       "      <td>40</td>\n",
       "      <td>...</td>\n",
       "      <td>3</td>\n",
       "      <td>4</td>\n",
       "      <td>1</td>\n",
       "      <td>6</td>\n",
       "      <td>3</td>\n",
       "      <td>3</td>\n",
       "      <td>2</td>\n",
       "      <td>2</td>\n",
       "      <td>2</td>\n",
       "      <td>2</td>\n",
       "    </tr>\n",
       "    <tr>\n",
       "      <th>...</th>\n",
       "      <td>...</td>\n",
       "      <td>...</td>\n",
       "      <td>...</td>\n",
       "      <td>...</td>\n",
       "      <td>...</td>\n",
       "      <td>...</td>\n",
       "      <td>...</td>\n",
       "      <td>...</td>\n",
       "      <td>...</td>\n",
       "      <td>...</td>\n",
       "      <td>...</td>\n",
       "      <td>...</td>\n",
       "      <td>...</td>\n",
       "      <td>...</td>\n",
       "      <td>...</td>\n",
       "      <td>...</td>\n",
       "      <td>...</td>\n",
       "      <td>...</td>\n",
       "      <td>...</td>\n",
       "      <td>...</td>\n",
       "      <td>...</td>\n",
       "    </tr>\n",
       "    <tr>\n",
       "      <th>1465</th>\n",
       "      <td>36</td>\n",
       "      <td>884</td>\n",
       "      <td>1</td>\n",
       "      <td>23</td>\n",
       "      <td>2</td>\n",
       "      <td>3</td>\n",
       "      <td>2061</td>\n",
       "      <td>3</td>\n",
       "      <td>1</td>\n",
       "      <td>41</td>\n",
       "      <td>...</td>\n",
       "      <td>3</td>\n",
       "      <td>3</td>\n",
       "      <td>1</td>\n",
       "      <td>17</td>\n",
       "      <td>3</td>\n",
       "      <td>3</td>\n",
       "      <td>5</td>\n",
       "      <td>2</td>\n",
       "      <td>0</td>\n",
       "      <td>3</td>\n",
       "    </tr>\n",
       "    <tr>\n",
       "      <th>1466</th>\n",
       "      <td>39</td>\n",
       "      <td>613</td>\n",
       "      <td>1</td>\n",
       "      <td>6</td>\n",
       "      <td>1</td>\n",
       "      <td>3</td>\n",
       "      <td>2062</td>\n",
       "      <td>4</td>\n",
       "      <td>1</td>\n",
       "      <td>42</td>\n",
       "      <td>...</td>\n",
       "      <td>3</td>\n",
       "      <td>1</td>\n",
       "      <td>1</td>\n",
       "      <td>9</td>\n",
       "      <td>5</td>\n",
       "      <td>3</td>\n",
       "      <td>7</td>\n",
       "      <td>7</td>\n",
       "      <td>1</td>\n",
       "      <td>7</td>\n",
       "    </tr>\n",
       "    <tr>\n",
       "      <th>1467</th>\n",
       "      <td>27</td>\n",
       "      <td>155</td>\n",
       "      <td>1</td>\n",
       "      <td>4</td>\n",
       "      <td>3</td>\n",
       "      <td>1</td>\n",
       "      <td>2064</td>\n",
       "      <td>2</td>\n",
       "      <td>1</td>\n",
       "      <td>87</td>\n",
       "      <td>...</td>\n",
       "      <td>4</td>\n",
       "      <td>2</td>\n",
       "      <td>1</td>\n",
       "      <td>6</td>\n",
       "      <td>0</td>\n",
       "      <td>3</td>\n",
       "      <td>6</td>\n",
       "      <td>2</td>\n",
       "      <td>0</td>\n",
       "      <td>3</td>\n",
       "    </tr>\n",
       "    <tr>\n",
       "      <th>1468</th>\n",
       "      <td>49</td>\n",
       "      <td>1023</td>\n",
       "      <td>2</td>\n",
       "      <td>2</td>\n",
       "      <td>3</td>\n",
       "      <td>3</td>\n",
       "      <td>2065</td>\n",
       "      <td>4</td>\n",
       "      <td>1</td>\n",
       "      <td>63</td>\n",
       "      <td>...</td>\n",
       "      <td>3</td>\n",
       "      <td>4</td>\n",
       "      <td>0</td>\n",
       "      <td>17</td>\n",
       "      <td>3</td>\n",
       "      <td>2</td>\n",
       "      <td>9</td>\n",
       "      <td>6</td>\n",
       "      <td>0</td>\n",
       "      <td>8</td>\n",
       "    </tr>\n",
       "    <tr>\n",
       "      <th>1469</th>\n",
       "      <td>34</td>\n",
       "      <td>628</td>\n",
       "      <td>1</td>\n",
       "      <td>8</td>\n",
       "      <td>3</td>\n",
       "      <td>3</td>\n",
       "      <td>2068</td>\n",
       "      <td>2</td>\n",
       "      <td>1</td>\n",
       "      <td>82</td>\n",
       "      <td>...</td>\n",
       "      <td>3</td>\n",
       "      <td>1</td>\n",
       "      <td>0</td>\n",
       "      <td>6</td>\n",
       "      <td>3</td>\n",
       "      <td>4</td>\n",
       "      <td>4</td>\n",
       "      <td>3</td>\n",
       "      <td>1</td>\n",
       "      <td>2</td>\n",
       "    </tr>\n",
       "  </tbody>\n",
       "</table>\n",
       "<p>1470 rows × 30 columns</p>\n",
       "</div>"
      ],
      "text/plain": [
       "      Age  DailyRate  Department  DistanceFromHome  Education  EducationField  \\\n",
       "0      41       1102           2                 1          2               1   \n",
       "1      49        279           1                 8          1               1   \n",
       "2      37       1373           1                 2          2               4   \n",
       "3      33       1392           1                 3          4               1   \n",
       "4      27        591           1                 2          1               3   \n",
       "...   ...        ...         ...               ...        ...             ...   \n",
       "1465   36        884           1                23          2               3   \n",
       "1466   39        613           1                 6          1               3   \n",
       "1467   27        155           1                 4          3               1   \n",
       "1468   49       1023           2                 2          3               3   \n",
       "1469   34        628           1                 8          3               3   \n",
       "\n",
       "      EmployeeNumber  EnvironmentSatisfaction  Gender  HourlyRate  ...  \\\n",
       "0                  1                        2       0          94  ...   \n",
       "1                  2                        3       1          61  ...   \n",
       "2                  4                        4       1          92  ...   \n",
       "3                  5                        4       0          56  ...   \n",
       "4                  7                        1       1          40  ...   \n",
       "...              ...                      ...     ...         ...  ...   \n",
       "1465            2061                        3       1          41  ...   \n",
       "1466            2062                        4       1          42  ...   \n",
       "1467            2064                        2       1          87  ...   \n",
       "1468            2065                        4       1          63  ...   \n",
       "1469            2068                        2       1          82  ...   \n",
       "\n",
       "      PerformanceRating  RelationshipSatisfaction  StockOptionLevel  \\\n",
       "0                     3                         1                 0   \n",
       "1                     4                         4                 1   \n",
       "2                     3                         2                 0   \n",
       "3                     3                         3                 0   \n",
       "4                     3                         4                 1   \n",
       "...                 ...                       ...               ...   \n",
       "1465                  3                         3                 1   \n",
       "1466                  3                         1                 1   \n",
       "1467                  4                         2                 1   \n",
       "1468                  3                         4                 0   \n",
       "1469                  3                         1                 0   \n",
       "\n",
       "      TotalWorkingYears  TrainingTimesLastYear  WorkLifeBalance  \\\n",
       "0                     8                      0                1   \n",
       "1                    10                      3                3   \n",
       "2                     7                      3                3   \n",
       "3                     8                      3                3   \n",
       "4                     6                      3                3   \n",
       "...                 ...                    ...              ...   \n",
       "1465                 17                      3                3   \n",
       "1466                  9                      5                3   \n",
       "1467                  6                      0                3   \n",
       "1468                 17                      3                2   \n",
       "1469                  6                      3                4   \n",
       "\n",
       "      YearsAtCompany  YearsInCurrentRole  YearsSinceLastPromotion  \\\n",
       "0                  6                   4                        0   \n",
       "1                 10                   7                        1   \n",
       "2                  0                   0                        0   \n",
       "3                  8                   7                        3   \n",
       "4                  2                   2                        2   \n",
       "...              ...                 ...                      ...   \n",
       "1465               5                   2                        0   \n",
       "1466               7                   7                        1   \n",
       "1467               6                   2                        0   \n",
       "1468               9                   6                        0   \n",
       "1469               4                   3                        1   \n",
       "\n",
       "      YearsWithCurrManager  \n",
       "0                        5  \n",
       "1                        7  \n",
       "2                        0  \n",
       "3                        0  \n",
       "4                        2  \n",
       "...                    ...  \n",
       "1465                     3  \n",
       "1466                     7  \n",
       "1467                     3  \n",
       "1468                     8  \n",
       "1469                     2  \n",
       "\n",
       "[1470 rows x 30 columns]"
      ]
     },
     "execution_count": 76,
     "metadata": {},
     "output_type": "execute_result"
    }
   ],
   "source": [
    "data_1"
   ]
  },
  {
   "cell_type": "code",
   "execution_count": 77,
   "metadata": {},
   "outputs": [],
   "source": [
    "import statsmodels.api as sm\n",
    "from scipy import stats\n",
    "from statsmodels.stats.outliers_influence import variance_inflation_factor"
   ]
  },
  {
   "cell_type": "code",
   "execution_count": 78,
   "metadata": {},
   "outputs": [],
   "source": [
    "def calc_vif(dfx):\n",
    "    vif=pd.DataFrame()\n",
    "    vif['variables']=dfx.columns\n",
    "    vif['VIF_Factor']=[variance_inflation_factor(dfx.values,i) for i in range(dfx.shape[1])]\n",
    "    return(vif)"
   ]
  },
  {
   "cell_type": "code",
   "execution_count": 80,
   "metadata": {},
   "outputs": [
    {
     "data": {
      "text/html": [
       "<div>\n",
       "<style scoped>\n",
       "    .dataframe tbody tr th:only-of-type {\n",
       "        vertical-align: middle;\n",
       "    }\n",
       "\n",
       "    .dataframe tbody tr th {\n",
       "        vertical-align: top;\n",
       "    }\n",
       "\n",
       "    .dataframe thead th {\n",
       "        text-align: right;\n",
       "    }\n",
       "</style>\n",
       "<table border=\"1\" class=\"dataframe\">\n",
       "  <thead>\n",
       "    <tr style=\"text-align: right;\">\n",
       "      <th></th>\n",
       "      <th>variables</th>\n",
       "      <th>VIF_Factor</th>\n",
       "    </tr>\n",
       "  </thead>\n",
       "  <tbody>\n",
       "    <tr>\n",
       "      <th>0</th>\n",
       "      <td>Age</td>\n",
       "      <td>33.264759</td>\n",
       "    </tr>\n",
       "    <tr>\n",
       "      <th>1</th>\n",
       "      <td>DailyRate</td>\n",
       "      <td>4.977640</td>\n",
       "    </tr>\n",
       "    <tr>\n",
       "      <th>2</th>\n",
       "      <td>Department</td>\n",
       "      <td>12.973655</td>\n",
       "    </tr>\n",
       "    <tr>\n",
       "      <th>3</th>\n",
       "      <td>DistanceFromHome</td>\n",
       "      <td>2.320296</td>\n",
       "    </tr>\n",
       "    <tr>\n",
       "      <th>4</th>\n",
       "      <td>Education</td>\n",
       "      <td>9.483556</td>\n",
       "    </tr>\n",
       "    <tr>\n",
       "      <th>5</th>\n",
       "      <td>EducationField</td>\n",
       "      <td>3.860220</td>\n",
       "    </tr>\n",
       "    <tr>\n",
       "      <th>6</th>\n",
       "      <td>EmployeeNumber</td>\n",
       "      <td>3.927929</td>\n",
       "    </tr>\n",
       "    <tr>\n",
       "      <th>7</th>\n",
       "      <td>EnvironmentSatisfaction</td>\n",
       "      <td>7.114278</td>\n",
       "    </tr>\n",
       "    <tr>\n",
       "      <th>8</th>\n",
       "      <td>Gender</td>\n",
       "      <td>2.510378</td>\n",
       "    </tr>\n",
       "    <tr>\n",
       "      <th>9</th>\n",
       "      <td>HourlyRate</td>\n",
       "      <td>11.238199</td>\n",
       "    </tr>\n",
       "    <tr>\n",
       "      <th>10</th>\n",
       "      <td>JobInvolvement</td>\n",
       "      <td>14.996205</td>\n",
       "    </tr>\n",
       "    <tr>\n",
       "      <th>11</th>\n",
       "      <td>JobLevel</td>\n",
       "      <td>52.537490</td>\n",
       "    </tr>\n",
       "    <tr>\n",
       "      <th>12</th>\n",
       "      <td>JobRole</td>\n",
       "      <td>8.075355</td>\n",
       "    </tr>\n",
       "    <tr>\n",
       "      <th>13</th>\n",
       "      <td>JobSatisfaction</td>\n",
       "      <td>7.027031</td>\n",
       "    </tr>\n",
       "    <tr>\n",
       "      <th>14</th>\n",
       "      <td>MaritalStatus</td>\n",
       "      <td>5.793022</td>\n",
       "    </tr>\n",
       "    <tr>\n",
       "      <th>15</th>\n",
       "      <td>MonthlyIncome</td>\n",
       "      <td>32.046834</td>\n",
       "    </tr>\n",
       "    <tr>\n",
       "      <th>16</th>\n",
       "      <td>MonthlyRate</td>\n",
       "      <td>5.016552</td>\n",
       "    </tr>\n",
       "    <tr>\n",
       "      <th>17</th>\n",
       "      <td>NumCompaniesWorked</td>\n",
       "      <td>2.726007</td>\n",
       "    </tr>\n",
       "    <tr>\n",
       "      <th>18</th>\n",
       "      <td>OverTime</td>\n",
       "      <td>1.432959</td>\n",
       "    </tr>\n",
       "    <tr>\n",
       "      <th>19</th>\n",
       "      <td>PercentSalaryHike</td>\n",
       "      <td>42.119974</td>\n",
       "    </tr>\n",
       "    <tr>\n",
       "      <th>20</th>\n",
       "      <td>PerformanceRating</td>\n",
       "      <td>121.064579</td>\n",
       "    </tr>\n",
       "    <tr>\n",
       "      <th>21</th>\n",
       "      <td>RelationshipSatisfaction</td>\n",
       "      <td>7.287505</td>\n",
       "    </tr>\n",
       "    <tr>\n",
       "      <th>22</th>\n",
       "      <td>StockOptionLevel</td>\n",
       "      <td>3.347988</td>\n",
       "    </tr>\n",
       "    <tr>\n",
       "      <th>23</th>\n",
       "      <td>TotalWorkingYears</td>\n",
       "      <td>14.601929</td>\n",
       "    </tr>\n",
       "    <tr>\n",
       "      <th>24</th>\n",
       "      <td>TrainingTimesLastYear</td>\n",
       "      <td>5.717148</td>\n",
       "    </tr>\n",
       "    <tr>\n",
       "      <th>25</th>\n",
       "      <td>WorkLifeBalance</td>\n",
       "      <td>15.603836</td>\n",
       "    </tr>\n",
       "    <tr>\n",
       "      <th>26</th>\n",
       "      <td>YearsAtCompany</td>\n",
       "      <td>10.580152</td>\n",
       "    </tr>\n",
       "    <tr>\n",
       "      <th>27</th>\n",
       "      <td>YearsInCurrentRole</td>\n",
       "      <td>6.439555</td>\n",
       "    </tr>\n",
       "    <tr>\n",
       "      <th>28</th>\n",
       "      <td>YearsSinceLastPromotion</td>\n",
       "      <td>2.448043</td>\n",
       "    </tr>\n",
       "    <tr>\n",
       "      <th>29</th>\n",
       "      <td>YearsWithCurrManager</td>\n",
       "      <td>6.494979</td>\n",
       "    </tr>\n",
       "  </tbody>\n",
       "</table>\n",
       "</div>"
      ],
      "text/plain": [
       "                   variables  VIF_Factor\n",
       "0                        Age   33.264759\n",
       "1                  DailyRate    4.977640\n",
       "2                 Department   12.973655\n",
       "3           DistanceFromHome    2.320296\n",
       "4                  Education    9.483556\n",
       "5             EducationField    3.860220\n",
       "6             EmployeeNumber    3.927929\n",
       "7    EnvironmentSatisfaction    7.114278\n",
       "8                     Gender    2.510378\n",
       "9                 HourlyRate   11.238199\n",
       "10            JobInvolvement   14.996205\n",
       "11                  JobLevel   52.537490\n",
       "12                   JobRole    8.075355\n",
       "13           JobSatisfaction    7.027031\n",
       "14             MaritalStatus    5.793022\n",
       "15             MonthlyIncome   32.046834\n",
       "16               MonthlyRate    5.016552\n",
       "17        NumCompaniesWorked    2.726007\n",
       "18                  OverTime    1.432959\n",
       "19         PercentSalaryHike   42.119974\n",
       "20         PerformanceRating  121.064579\n",
       "21  RelationshipSatisfaction    7.287505\n",
       "22          StockOptionLevel    3.347988\n",
       "23         TotalWorkingYears   14.601929\n",
       "24     TrainingTimesLastYear    5.717148\n",
       "25           WorkLifeBalance   15.603836\n",
       "26            YearsAtCompany   10.580152\n",
       "27        YearsInCurrentRole    6.439555\n",
       "28   YearsSinceLastPromotion    2.448043\n",
       "29      YearsWithCurrManager    6.494979"
      ]
     },
     "execution_count": 80,
     "metadata": {},
     "output_type": "execute_result"
    }
   ],
   "source": [
    "calc_vif(data_1)"
   ]
  },
  {
   "cell_type": "code",
   "execution_count": 81,
   "metadata": {},
   "outputs": [],
   "source": [
    "data_1.drop([\"PerformanceRating\"],axis=1,inplace=True)"
   ]
  },
  {
   "cell_type": "code",
   "execution_count": 82,
   "metadata": {},
   "outputs": [
    {
     "data": {
      "text/html": [
       "<div>\n",
       "<style scoped>\n",
       "    .dataframe tbody tr th:only-of-type {\n",
       "        vertical-align: middle;\n",
       "    }\n",
       "\n",
       "    .dataframe tbody tr th {\n",
       "        vertical-align: top;\n",
       "    }\n",
       "\n",
       "    .dataframe thead th {\n",
       "        text-align: right;\n",
       "    }\n",
       "</style>\n",
       "<table border=\"1\" class=\"dataframe\">\n",
       "  <thead>\n",
       "    <tr style=\"text-align: right;\">\n",
       "      <th></th>\n",
       "      <th>Age</th>\n",
       "      <th>DailyRate</th>\n",
       "      <th>Department</th>\n",
       "      <th>DistanceFromHome</th>\n",
       "      <th>Education</th>\n",
       "      <th>EducationField</th>\n",
       "      <th>EmployeeNumber</th>\n",
       "      <th>EnvironmentSatisfaction</th>\n",
       "      <th>Gender</th>\n",
       "      <th>HourlyRate</th>\n",
       "      <th>...</th>\n",
       "      <th>PercentSalaryHike</th>\n",
       "      <th>RelationshipSatisfaction</th>\n",
       "      <th>StockOptionLevel</th>\n",
       "      <th>TotalWorkingYears</th>\n",
       "      <th>TrainingTimesLastYear</th>\n",
       "      <th>WorkLifeBalance</th>\n",
       "      <th>YearsAtCompany</th>\n",
       "      <th>YearsInCurrentRole</th>\n",
       "      <th>YearsSinceLastPromotion</th>\n",
       "      <th>YearsWithCurrManager</th>\n",
       "    </tr>\n",
       "  </thead>\n",
       "  <tbody>\n",
       "    <tr>\n",
       "      <th>0</th>\n",
       "      <td>41</td>\n",
       "      <td>1102</td>\n",
       "      <td>2</td>\n",
       "      <td>1</td>\n",
       "      <td>2</td>\n",
       "      <td>1</td>\n",
       "      <td>1</td>\n",
       "      <td>2</td>\n",
       "      <td>0</td>\n",
       "      <td>94</td>\n",
       "      <td>...</td>\n",
       "      <td>11</td>\n",
       "      <td>1</td>\n",
       "      <td>0</td>\n",
       "      <td>8</td>\n",
       "      <td>0</td>\n",
       "      <td>1</td>\n",
       "      <td>6</td>\n",
       "      <td>4</td>\n",
       "      <td>0</td>\n",
       "      <td>5</td>\n",
       "    </tr>\n",
       "    <tr>\n",
       "      <th>1</th>\n",
       "      <td>49</td>\n",
       "      <td>279</td>\n",
       "      <td>1</td>\n",
       "      <td>8</td>\n",
       "      <td>1</td>\n",
       "      <td>1</td>\n",
       "      <td>2</td>\n",
       "      <td>3</td>\n",
       "      <td>1</td>\n",
       "      <td>61</td>\n",
       "      <td>...</td>\n",
       "      <td>23</td>\n",
       "      <td>4</td>\n",
       "      <td>1</td>\n",
       "      <td>10</td>\n",
       "      <td>3</td>\n",
       "      <td>3</td>\n",
       "      <td>10</td>\n",
       "      <td>7</td>\n",
       "      <td>1</td>\n",
       "      <td>7</td>\n",
       "    </tr>\n",
       "    <tr>\n",
       "      <th>2</th>\n",
       "      <td>37</td>\n",
       "      <td>1373</td>\n",
       "      <td>1</td>\n",
       "      <td>2</td>\n",
       "      <td>2</td>\n",
       "      <td>4</td>\n",
       "      <td>4</td>\n",
       "      <td>4</td>\n",
       "      <td>1</td>\n",
       "      <td>92</td>\n",
       "      <td>...</td>\n",
       "      <td>15</td>\n",
       "      <td>2</td>\n",
       "      <td>0</td>\n",
       "      <td>7</td>\n",
       "      <td>3</td>\n",
       "      <td>3</td>\n",
       "      <td>0</td>\n",
       "      <td>0</td>\n",
       "      <td>0</td>\n",
       "      <td>0</td>\n",
       "    </tr>\n",
       "    <tr>\n",
       "      <th>3</th>\n",
       "      <td>33</td>\n",
       "      <td>1392</td>\n",
       "      <td>1</td>\n",
       "      <td>3</td>\n",
       "      <td>4</td>\n",
       "      <td>1</td>\n",
       "      <td>5</td>\n",
       "      <td>4</td>\n",
       "      <td>0</td>\n",
       "      <td>56</td>\n",
       "      <td>...</td>\n",
       "      <td>11</td>\n",
       "      <td>3</td>\n",
       "      <td>0</td>\n",
       "      <td>8</td>\n",
       "      <td>3</td>\n",
       "      <td>3</td>\n",
       "      <td>8</td>\n",
       "      <td>7</td>\n",
       "      <td>3</td>\n",
       "      <td>0</td>\n",
       "    </tr>\n",
       "    <tr>\n",
       "      <th>4</th>\n",
       "      <td>27</td>\n",
       "      <td>591</td>\n",
       "      <td>1</td>\n",
       "      <td>2</td>\n",
       "      <td>1</td>\n",
       "      <td>3</td>\n",
       "      <td>7</td>\n",
       "      <td>1</td>\n",
       "      <td>1</td>\n",
       "      <td>40</td>\n",
       "      <td>...</td>\n",
       "      <td>12</td>\n",
       "      <td>4</td>\n",
       "      <td>1</td>\n",
       "      <td>6</td>\n",
       "      <td>3</td>\n",
       "      <td>3</td>\n",
       "      <td>2</td>\n",
       "      <td>2</td>\n",
       "      <td>2</td>\n",
       "      <td>2</td>\n",
       "    </tr>\n",
       "    <tr>\n",
       "      <th>...</th>\n",
       "      <td>...</td>\n",
       "      <td>...</td>\n",
       "      <td>...</td>\n",
       "      <td>...</td>\n",
       "      <td>...</td>\n",
       "      <td>...</td>\n",
       "      <td>...</td>\n",
       "      <td>...</td>\n",
       "      <td>...</td>\n",
       "      <td>...</td>\n",
       "      <td>...</td>\n",
       "      <td>...</td>\n",
       "      <td>...</td>\n",
       "      <td>...</td>\n",
       "      <td>...</td>\n",
       "      <td>...</td>\n",
       "      <td>...</td>\n",
       "      <td>...</td>\n",
       "      <td>...</td>\n",
       "      <td>...</td>\n",
       "      <td>...</td>\n",
       "    </tr>\n",
       "    <tr>\n",
       "      <th>1465</th>\n",
       "      <td>36</td>\n",
       "      <td>884</td>\n",
       "      <td>1</td>\n",
       "      <td>23</td>\n",
       "      <td>2</td>\n",
       "      <td>3</td>\n",
       "      <td>2061</td>\n",
       "      <td>3</td>\n",
       "      <td>1</td>\n",
       "      <td>41</td>\n",
       "      <td>...</td>\n",
       "      <td>17</td>\n",
       "      <td>3</td>\n",
       "      <td>1</td>\n",
       "      <td>17</td>\n",
       "      <td>3</td>\n",
       "      <td>3</td>\n",
       "      <td>5</td>\n",
       "      <td>2</td>\n",
       "      <td>0</td>\n",
       "      <td>3</td>\n",
       "    </tr>\n",
       "    <tr>\n",
       "      <th>1466</th>\n",
       "      <td>39</td>\n",
       "      <td>613</td>\n",
       "      <td>1</td>\n",
       "      <td>6</td>\n",
       "      <td>1</td>\n",
       "      <td>3</td>\n",
       "      <td>2062</td>\n",
       "      <td>4</td>\n",
       "      <td>1</td>\n",
       "      <td>42</td>\n",
       "      <td>...</td>\n",
       "      <td>15</td>\n",
       "      <td>1</td>\n",
       "      <td>1</td>\n",
       "      <td>9</td>\n",
       "      <td>5</td>\n",
       "      <td>3</td>\n",
       "      <td>7</td>\n",
       "      <td>7</td>\n",
       "      <td>1</td>\n",
       "      <td>7</td>\n",
       "    </tr>\n",
       "    <tr>\n",
       "      <th>1467</th>\n",
       "      <td>27</td>\n",
       "      <td>155</td>\n",
       "      <td>1</td>\n",
       "      <td>4</td>\n",
       "      <td>3</td>\n",
       "      <td>1</td>\n",
       "      <td>2064</td>\n",
       "      <td>2</td>\n",
       "      <td>1</td>\n",
       "      <td>87</td>\n",
       "      <td>...</td>\n",
       "      <td>20</td>\n",
       "      <td>2</td>\n",
       "      <td>1</td>\n",
       "      <td>6</td>\n",
       "      <td>0</td>\n",
       "      <td>3</td>\n",
       "      <td>6</td>\n",
       "      <td>2</td>\n",
       "      <td>0</td>\n",
       "      <td>3</td>\n",
       "    </tr>\n",
       "    <tr>\n",
       "      <th>1468</th>\n",
       "      <td>49</td>\n",
       "      <td>1023</td>\n",
       "      <td>2</td>\n",
       "      <td>2</td>\n",
       "      <td>3</td>\n",
       "      <td>3</td>\n",
       "      <td>2065</td>\n",
       "      <td>4</td>\n",
       "      <td>1</td>\n",
       "      <td>63</td>\n",
       "      <td>...</td>\n",
       "      <td>14</td>\n",
       "      <td>4</td>\n",
       "      <td>0</td>\n",
       "      <td>17</td>\n",
       "      <td>3</td>\n",
       "      <td>2</td>\n",
       "      <td>9</td>\n",
       "      <td>6</td>\n",
       "      <td>0</td>\n",
       "      <td>8</td>\n",
       "    </tr>\n",
       "    <tr>\n",
       "      <th>1469</th>\n",
       "      <td>34</td>\n",
       "      <td>628</td>\n",
       "      <td>1</td>\n",
       "      <td>8</td>\n",
       "      <td>3</td>\n",
       "      <td>3</td>\n",
       "      <td>2068</td>\n",
       "      <td>2</td>\n",
       "      <td>1</td>\n",
       "      <td>82</td>\n",
       "      <td>...</td>\n",
       "      <td>12</td>\n",
       "      <td>1</td>\n",
       "      <td>0</td>\n",
       "      <td>6</td>\n",
       "      <td>3</td>\n",
       "      <td>4</td>\n",
       "      <td>4</td>\n",
       "      <td>3</td>\n",
       "      <td>1</td>\n",
       "      <td>2</td>\n",
       "    </tr>\n",
       "  </tbody>\n",
       "</table>\n",
       "<p>1470 rows × 29 columns</p>\n",
       "</div>"
      ],
      "text/plain": [
       "      Age  DailyRate  Department  DistanceFromHome  Education  EducationField  \\\n",
       "0      41       1102           2                 1          2               1   \n",
       "1      49        279           1                 8          1               1   \n",
       "2      37       1373           1                 2          2               4   \n",
       "3      33       1392           1                 3          4               1   \n",
       "4      27        591           1                 2          1               3   \n",
       "...   ...        ...         ...               ...        ...             ...   \n",
       "1465   36        884           1                23          2               3   \n",
       "1466   39        613           1                 6          1               3   \n",
       "1467   27        155           1                 4          3               1   \n",
       "1468   49       1023           2                 2          3               3   \n",
       "1469   34        628           1                 8          3               3   \n",
       "\n",
       "      EmployeeNumber  EnvironmentSatisfaction  Gender  HourlyRate  ...  \\\n",
       "0                  1                        2       0          94  ...   \n",
       "1                  2                        3       1          61  ...   \n",
       "2                  4                        4       1          92  ...   \n",
       "3                  5                        4       0          56  ...   \n",
       "4                  7                        1       1          40  ...   \n",
       "...              ...                      ...     ...         ...  ...   \n",
       "1465            2061                        3       1          41  ...   \n",
       "1466            2062                        4       1          42  ...   \n",
       "1467            2064                        2       1          87  ...   \n",
       "1468            2065                        4       1          63  ...   \n",
       "1469            2068                        2       1          82  ...   \n",
       "\n",
       "      PercentSalaryHike  RelationshipSatisfaction  StockOptionLevel  \\\n",
       "0                    11                         1                 0   \n",
       "1                    23                         4                 1   \n",
       "2                    15                         2                 0   \n",
       "3                    11                         3                 0   \n",
       "4                    12                         4                 1   \n",
       "...                 ...                       ...               ...   \n",
       "1465                 17                         3                 1   \n",
       "1466                 15                         1                 1   \n",
       "1467                 20                         2                 1   \n",
       "1468                 14                         4                 0   \n",
       "1469                 12                         1                 0   \n",
       "\n",
       "      TotalWorkingYears  TrainingTimesLastYear  WorkLifeBalance  \\\n",
       "0                     8                      0                1   \n",
       "1                    10                      3                3   \n",
       "2                     7                      3                3   \n",
       "3                     8                      3                3   \n",
       "4                     6                      3                3   \n",
       "...                 ...                    ...              ...   \n",
       "1465                 17                      3                3   \n",
       "1466                  9                      5                3   \n",
       "1467                  6                      0                3   \n",
       "1468                 17                      3                2   \n",
       "1469                  6                      3                4   \n",
       "\n",
       "      YearsAtCompany  YearsInCurrentRole  YearsSinceLastPromotion  \\\n",
       "0                  6                   4                        0   \n",
       "1                 10                   7                        1   \n",
       "2                  0                   0                        0   \n",
       "3                  8                   7                        3   \n",
       "4                  2                   2                        2   \n",
       "...              ...                 ...                      ...   \n",
       "1465               5                   2                        0   \n",
       "1466               7                   7                        1   \n",
       "1467               6                   2                        0   \n",
       "1468               9                   6                        0   \n",
       "1469               4                   3                        1   \n",
       "\n",
       "      YearsWithCurrManager  \n",
       "0                        5  \n",
       "1                        7  \n",
       "2                        0  \n",
       "3                        0  \n",
       "4                        2  \n",
       "...                    ...  \n",
       "1465                     3  \n",
       "1466                     7  \n",
       "1467                     3  \n",
       "1468                     8  \n",
       "1469                     2  \n",
       "\n",
       "[1470 rows x 29 columns]"
      ]
     },
     "execution_count": 82,
     "metadata": {},
     "output_type": "execute_result"
    }
   ],
   "source": [
    "data_1"
   ]
  },
  {
   "cell_type": "code",
   "execution_count": 83,
   "metadata": {},
   "outputs": [
    {
     "data": {
      "text/plain": [
       "Age                         0.413286\n",
       "Attrition                   1.844366\n",
       "DailyRate                  -0.003519\n",
       "Department                  0.172231\n",
       "DistanceFromHome            0.958118\n",
       "Education                  -0.289681\n",
       "EducationField              0.550371\n",
       "EmployeeNumber              0.016574\n",
       "EnvironmentSatisfaction    -0.321654\n",
       "Gender                     -0.408665\n",
       "HourlyRate                 -0.032311\n",
       "JobInvolvement             -0.498419\n",
       "JobLevel                    1.025401\n",
       "JobRole                    -0.357270\n",
       "JobSatisfaction            -0.329672\n",
       "MaritalStatus              -0.152175\n",
       "MonthlyIncome               1.369817\n",
       "MonthlyRate                 0.018578\n",
       "NumCompaniesWorked          1.026471\n",
       "OverTime                    0.964489\n",
       "PercentSalaryHike           0.821128\n",
       "PerformanceRating           1.921883\n",
       "RelationshipSatisfaction   -0.302828\n",
       "StockOptionLevel            0.968980\n",
       "TotalWorkingYears           1.117172\n",
       "TrainingTimesLastYear       0.553124\n",
       "WorkLifeBalance            -0.552480\n",
       "YearsAtCompany              1.764529\n",
       "YearsInCurrentRole          0.917363\n",
       "YearsSinceLastPromotion     1.984290\n",
       "YearsWithCurrManager        0.833451\n",
       "dtype: float64"
      ]
     },
     "execution_count": 83,
     "metadata": {},
     "output_type": "execute_result"
    }
   ],
   "source": [
    "# Skewness\n",
    "\n",
    "data.skew()"
   ]
  },
  {
   "cell_type": "code",
   "execution_count": 84,
   "metadata": {},
   "outputs": [
    {
     "data": {
      "text/plain": [
       "<AxesSubplot:>"
      ]
     },
     "execution_count": 84,
     "metadata": {},
     "output_type": "execute_result"
    },
    {
     "data": {
      "image/png": "[encoded data removed]",
      "text/plain": [
       "<Figure size 432x288 with 1 Axes>"
      ]
     },
     "metadata": {
      "needs_background": "light"
     },
     "output_type": "display_data"
    }
   ],
   "source": [
    "# there are few which fall outside -0.5 to +0.5\n",
    "\n",
    "data['Age'].plot.box()"
   ]
  },
  {
   "cell_type": "code",
   "execution_count": 86,
   "metadata": {},
   "outputs": [
    {
     "data": {
      "text/plain": [
       "<AxesSubplot:>"
      ]
     },
     "execution_count": 86,
     "metadata": {},
     "output_type": "execute_result"
    },
    {
     "data": {
      "image/png": "[encoded data removed]",
      "text/plain": [
       "<Figure size 432x288 with 1 Axes>"
      ]
     },
     "metadata": {
      "needs_background": "light"
     },
     "output_type": "display_data"
    }
   ],
   "source": [
    "data['MonthlyRate'].plot.box()"
   ]
  },
  {
   "cell_type": "code",
   "execution_count": 88,
   "metadata": {},
   "outputs": [
    {
     "data": {
      "text/plain": [
       "(array([  28,   45,   62,   62,   63,   64,   85,   98,   98,  110,  123,\n",
       "         123,  123,  126,  126,  126,  153,  178,  187,  187,  190,  190,\n",
       "         218,  231,  231,  237,  237,  270,  270,  281,  326,  386,  386,\n",
       "         401,  411,  425,  425,  427,  445,  466,  473,  477,  535,  561,\n",
       "         561,  584,  592,  595,  595,  595,  616,  624,  635,  653,  653,\n",
       "         677,  686,  701,  716,  746,  749,  752,  799,  838,  861,  861,\n",
       "         875,  875,  894,  914,  914,  918,  922,  926,  926,  937,  956,\n",
       "         962,  976,  976, 1008, 1024, 1043, 1078, 1078, 1086, 1086, 1093,\n",
       "        1111, 1116, 1116, 1135, 1138, 1138, 1156, 1184, 1221, 1223, 1242,\n",
       "        1295, 1301, 1301, 1303, 1327, 1331, 1348, 1351, 1401, 1414, 1430],\n",
       "       dtype=int64),\n",
       " array([30, 29, 27, 29, 28, 29, 24, 24, 27, 29, 28, 29, 30, 24, 27, 29, 30,\n",
       "        29, 24, 30, 27, 28, 29, 28, 30, 27, 29, 24, 27, 28, 29, 29, 30, 24,\n",
       "        27, 27, 29, 29, 24, 28, 27, 27, 29, 27, 30, 29, 27, 24, 27, 29, 30,\n",
       "        24, 30, 27, 29, 27, 30, 29, 28, 28, 27, 29, 29, 29, 27, 29, 29, 30,\n",
       "        24, 27, 29, 27, 29, 29, 30, 29, 24, 27, 28, 29, 29, 28, 24, 29, 30,\n",
       "        27, 29, 29, 27, 24, 27, 27, 27, 29, 29, 24, 29, 29, 29, 29, 24, 29,\n",
       "        29, 28, 29, 30, 28, 24, 29, 28], dtype=int64))"
      ]
     },
     "execution_count": 88,
     "metadata": {},
     "output_type": "execute_result"
    }
   ],
   "source": [
    "# Outlier removal\n",
    "\n",
    "from scipy.stats import zscore\n",
    "import numpy as np\n",
    "z=np.abs(zscore(data))\n",
    "threshold=3\n",
    "np.where(z>3)"
   ]
  },
  {
   "cell_type": "code",
   "execution_count": 90,
   "metadata": {},
   "outputs": [
    {
     "data": {
      "text/html": [
       "<div>\n",
       "<style scoped>\n",
       "    .dataframe tbody tr th:only-of-type {\n",
       "        vertical-align: middle;\n",
       "    }\n",
       "\n",
       "    .dataframe tbody tr th {\n",
       "        vertical-align: top;\n",
       "    }\n",
       "\n",
       "    .dataframe thead th {\n",
       "        text-align: right;\n",
       "    }\n",
       "</style>\n",
       "<table border=\"1\" class=\"dataframe\">\n",
       "  <thead>\n",
       "    <tr style=\"text-align: right;\">\n",
       "      <th></th>\n",
       "      <th>Age</th>\n",
       "      <th>Attrition</th>\n",
       "      <th>DailyRate</th>\n",
       "      <th>Department</th>\n",
       "      <th>DistanceFromHome</th>\n",
       "      <th>Education</th>\n",
       "      <th>EducationField</th>\n",
       "      <th>EmployeeNumber</th>\n",
       "      <th>EnvironmentSatisfaction</th>\n",
       "      <th>Gender</th>\n",
       "      <th>...</th>\n",
       "      <th>PerformanceRating</th>\n",
       "      <th>RelationshipSatisfaction</th>\n",
       "      <th>StockOptionLevel</th>\n",
       "      <th>TotalWorkingYears</th>\n",
       "      <th>TrainingTimesLastYear</th>\n",
       "      <th>WorkLifeBalance</th>\n",
       "      <th>YearsAtCompany</th>\n",
       "      <th>YearsInCurrentRole</th>\n",
       "      <th>YearsSinceLastPromotion</th>\n",
       "      <th>YearsWithCurrManager</th>\n",
       "    </tr>\n",
       "  </thead>\n",
       "  <tbody>\n",
       "    <tr>\n",
       "      <th>0</th>\n",
       "      <td>41</td>\n",
       "      <td>1</td>\n",
       "      <td>1102</td>\n",
       "      <td>2</td>\n",
       "      <td>1</td>\n",
       "      <td>2</td>\n",
       "      <td>1</td>\n",
       "      <td>1</td>\n",
       "      <td>2</td>\n",
       "      <td>0</td>\n",
       "      <td>...</td>\n",
       "      <td>3</td>\n",
       "      <td>1</td>\n",
       "      <td>0</td>\n",
       "      <td>8</td>\n",
       "      <td>0</td>\n",
       "      <td>1</td>\n",
       "      <td>6</td>\n",
       "      <td>4</td>\n",
       "      <td>0</td>\n",
       "      <td>5</td>\n",
       "    </tr>\n",
       "    <tr>\n",
       "      <th>1</th>\n",
       "      <td>49</td>\n",
       "      <td>0</td>\n",
       "      <td>279</td>\n",
       "      <td>1</td>\n",
       "      <td>8</td>\n",
       "      <td>1</td>\n",
       "      <td>1</td>\n",
       "      <td>2</td>\n",
       "      <td>3</td>\n",
       "      <td>1</td>\n",
       "      <td>...</td>\n",
       "      <td>4</td>\n",
       "      <td>4</td>\n",
       "      <td>1</td>\n",
       "      <td>10</td>\n",
       "      <td>3</td>\n",
       "      <td>3</td>\n",
       "      <td>10</td>\n",
       "      <td>7</td>\n",
       "      <td>1</td>\n",
       "      <td>7</td>\n",
       "    </tr>\n",
       "    <tr>\n",
       "      <th>2</th>\n",
       "      <td>37</td>\n",
       "      <td>1</td>\n",
       "      <td>1373</td>\n",
       "      <td>1</td>\n",
       "      <td>2</td>\n",
       "      <td>2</td>\n",
       "      <td>4</td>\n",
       "      <td>4</td>\n",
       "      <td>4</td>\n",
       "      <td>1</td>\n",
       "      <td>...</td>\n",
       "      <td>3</td>\n",
       "      <td>2</td>\n",
       "      <td>0</td>\n",
       "      <td>7</td>\n",
       "      <td>3</td>\n",
       "      <td>3</td>\n",
       "      <td>0</td>\n",
       "      <td>0</td>\n",
       "      <td>0</td>\n",
       "      <td>0</td>\n",
       "    </tr>\n",
       "    <tr>\n",
       "      <th>3</th>\n",
       "      <td>33</td>\n",
       "      <td>0</td>\n",
       "      <td>1392</td>\n",
       "      <td>1</td>\n",
       "      <td>3</td>\n",
       "      <td>4</td>\n",
       "      <td>1</td>\n",
       "      <td>5</td>\n",
       "      <td>4</td>\n",
       "      <td>0</td>\n",
       "      <td>...</td>\n",
       "      <td>3</td>\n",
       "      <td>3</td>\n",
       "      <td>0</td>\n",
       "      <td>8</td>\n",
       "      <td>3</td>\n",
       "      <td>3</td>\n",
       "      <td>8</td>\n",
       "      <td>7</td>\n",
       "      <td>3</td>\n",
       "      <td>0</td>\n",
       "    </tr>\n",
       "    <tr>\n",
       "      <th>4</th>\n",
       "      <td>27</td>\n",
       "      <td>0</td>\n",
       "      <td>591</td>\n",
       "      <td>1</td>\n",
       "      <td>2</td>\n",
       "      <td>1</td>\n",
       "      <td>3</td>\n",
       "      <td>7</td>\n",
       "      <td>1</td>\n",
       "      <td>1</td>\n",
       "      <td>...</td>\n",
       "      <td>3</td>\n",
       "      <td>4</td>\n",
       "      <td>1</td>\n",
       "      <td>6</td>\n",
       "      <td>3</td>\n",
       "      <td>3</td>\n",
       "      <td>2</td>\n",
       "      <td>2</td>\n",
       "      <td>2</td>\n",
       "      <td>2</td>\n",
       "    </tr>\n",
       "    <tr>\n",
       "      <th>...</th>\n",
       "      <td>...</td>\n",
       "      <td>...</td>\n",
       "      <td>...</td>\n",
       "      <td>...</td>\n",
       "      <td>...</td>\n",
       "      <td>...</td>\n",
       "      <td>...</td>\n",
       "      <td>...</td>\n",
       "      <td>...</td>\n",
       "      <td>...</td>\n",
       "      <td>...</td>\n",
       "      <td>...</td>\n",
       "      <td>...</td>\n",
       "      <td>...</td>\n",
       "      <td>...</td>\n",
       "      <td>...</td>\n",
       "      <td>...</td>\n",
       "      <td>...</td>\n",
       "      <td>...</td>\n",
       "      <td>...</td>\n",
       "      <td>...</td>\n",
       "    </tr>\n",
       "    <tr>\n",
       "      <th>1465</th>\n",
       "      <td>36</td>\n",
       "      <td>0</td>\n",
       "      <td>884</td>\n",
       "      <td>1</td>\n",
       "      <td>23</td>\n",
       "      <td>2</td>\n",
       "      <td>3</td>\n",
       "      <td>2061</td>\n",
       "      <td>3</td>\n",
       "      <td>1</td>\n",
       "      <td>...</td>\n",
       "      <td>3</td>\n",
       "      <td>3</td>\n",
       "      <td>1</td>\n",
       "      <td>17</td>\n",
       "      <td>3</td>\n",
       "      <td>3</td>\n",
       "      <td>5</td>\n",
       "      <td>2</td>\n",
       "      <td>0</td>\n",
       "      <td>3</td>\n",
       "    </tr>\n",
       "    <tr>\n",
       "      <th>1466</th>\n",
       "      <td>39</td>\n",
       "      <td>0</td>\n",
       "      <td>613</td>\n",
       "      <td>1</td>\n",
       "      <td>6</td>\n",
       "      <td>1</td>\n",
       "      <td>3</td>\n",
       "      <td>2062</td>\n",
       "      <td>4</td>\n",
       "      <td>1</td>\n",
       "      <td>...</td>\n",
       "      <td>3</td>\n",
       "      <td>1</td>\n",
       "      <td>1</td>\n",
       "      <td>9</td>\n",
       "      <td>5</td>\n",
       "      <td>3</td>\n",
       "      <td>7</td>\n",
       "      <td>7</td>\n",
       "      <td>1</td>\n",
       "      <td>7</td>\n",
       "    </tr>\n",
       "    <tr>\n",
       "      <th>1467</th>\n",
       "      <td>27</td>\n",
       "      <td>0</td>\n",
       "      <td>155</td>\n",
       "      <td>1</td>\n",
       "      <td>4</td>\n",
       "      <td>3</td>\n",
       "      <td>1</td>\n",
       "      <td>2064</td>\n",
       "      <td>2</td>\n",
       "      <td>1</td>\n",
       "      <td>...</td>\n",
       "      <td>4</td>\n",
       "      <td>2</td>\n",
       "      <td>1</td>\n",
       "      <td>6</td>\n",
       "      <td>0</td>\n",
       "      <td>3</td>\n",
       "      <td>6</td>\n",
       "      <td>2</td>\n",
       "      <td>0</td>\n",
       "      <td>3</td>\n",
       "    </tr>\n",
       "    <tr>\n",
       "      <th>1468</th>\n",
       "      <td>49</td>\n",
       "      <td>0</td>\n",
       "      <td>1023</td>\n",
       "      <td>2</td>\n",
       "      <td>2</td>\n",
       "      <td>3</td>\n",
       "      <td>3</td>\n",
       "      <td>2065</td>\n",
       "      <td>4</td>\n",
       "      <td>1</td>\n",
       "      <td>...</td>\n",
       "      <td>3</td>\n",
       "      <td>4</td>\n",
       "      <td>0</td>\n",
       "      <td>17</td>\n",
       "      <td>3</td>\n",
       "      <td>2</td>\n",
       "      <td>9</td>\n",
       "      <td>6</td>\n",
       "      <td>0</td>\n",
       "      <td>8</td>\n",
       "    </tr>\n",
       "    <tr>\n",
       "      <th>1469</th>\n",
       "      <td>34</td>\n",
       "      <td>0</td>\n",
       "      <td>628</td>\n",
       "      <td>1</td>\n",
       "      <td>8</td>\n",
       "      <td>3</td>\n",
       "      <td>3</td>\n",
       "      <td>2068</td>\n",
       "      <td>2</td>\n",
       "      <td>1</td>\n",
       "      <td>...</td>\n",
       "      <td>3</td>\n",
       "      <td>1</td>\n",
       "      <td>0</td>\n",
       "      <td>6</td>\n",
       "      <td>3</td>\n",
       "      <td>4</td>\n",
       "      <td>4</td>\n",
       "      <td>3</td>\n",
       "      <td>1</td>\n",
       "      <td>2</td>\n",
       "    </tr>\n",
       "  </tbody>\n",
       "</table>\n",
       "<p>1387 rows × 31 columns</p>\n",
       "</div>"
      ],
      "text/plain": [
       "      Age  Attrition  DailyRate  Department  DistanceFromHome  Education  \\\n",
       "0      41          1       1102           2                 1          2   \n",
       "1      49          0        279           1                 8          1   \n",
       "2      37          1       1373           1                 2          2   \n",
       "3      33          0       1392           1                 3          4   \n",
       "4      27          0        591           1                 2          1   \n",
       "...   ...        ...        ...         ...               ...        ...   \n",
       "1465   36          0        884           1                23          2   \n",
       "1466   39          0        613           1                 6          1   \n",
       "1467   27          0        155           1                 4          3   \n",
       "1468   49          0       1023           2                 2          3   \n",
       "1469   34          0        628           1                 8          3   \n",
       "\n",
       "      EducationField  EmployeeNumber  EnvironmentSatisfaction  Gender  ...  \\\n",
       "0                  1               1                        2       0  ...   \n",
       "1                  1               2                        3       1  ...   \n",
       "2                  4               4                        4       1  ...   \n",
       "3                  1               5                        4       0  ...   \n",
       "4                  3               7                        1       1  ...   \n",
       "...              ...             ...                      ...     ...  ...   \n",
       "1465               3            2061                        3       1  ...   \n",
       "1466               3            2062                        4       1  ...   \n",
       "1467               1            2064                        2       1  ...   \n",
       "1468               3            2065                        4       1  ...   \n",
       "1469               3            2068                        2       1  ...   \n",
       "\n",
       "      PerformanceRating  RelationshipSatisfaction  StockOptionLevel  \\\n",
       "0                     3                         1                 0   \n",
       "1                     4                         4                 1   \n",
       "2                     3                         2                 0   \n",
       "3                     3                         3                 0   \n",
       "4                     3                         4                 1   \n",
       "...                 ...                       ...               ...   \n",
       "1465                  3                         3                 1   \n",
       "1466                  3                         1                 1   \n",
       "1467                  4                         2                 1   \n",
       "1468                  3                         4                 0   \n",
       "1469                  3                         1                 0   \n",
       "\n",
       "      TotalWorkingYears  TrainingTimesLastYear  WorkLifeBalance  \\\n",
       "0                     8                      0                1   \n",
       "1                    10                      3                3   \n",
       "2                     7                      3                3   \n",
       "3                     8                      3                3   \n",
       "4                     6                      3                3   \n",
       "...                 ...                    ...              ...   \n",
       "1465                 17                      3                3   \n",
       "1466                  9                      5                3   \n",
       "1467                  6                      0                3   \n",
       "1468                 17                      3                2   \n",
       "1469                  6                      3                4   \n",
       "\n",
       "      YearsAtCompany  YearsInCurrentRole  YearsSinceLastPromotion  \\\n",
       "0                  6                   4                        0   \n",
       "1                 10                   7                        1   \n",
       "2                  0                   0                        0   \n",
       "3                  8                   7                        3   \n",
       "4                  2                   2                        2   \n",
       "...              ...                 ...                      ...   \n",
       "1465               5                   2                        0   \n",
       "1466               7                   7                        1   \n",
       "1467               6                   2                        0   \n",
       "1468               9                   6                        0   \n",
       "1469               4                   3                        1   \n",
       "\n",
       "      YearsWithCurrManager  \n",
       "0                        5  \n",
       "1                        7  \n",
       "2                        0  \n",
       "3                        0  \n",
       "4                        2  \n",
       "...                    ...  \n",
       "1465                     3  \n",
       "1466                     7  \n",
       "1467                     3  \n",
       "1468                     8  \n",
       "1469                     2  \n",
       "\n",
       "[1387 rows x 31 columns]"
      ]
     },
     "execution_count": 90,
     "metadata": {},
     "output_type": "execute_result"
    }
   ],
   "source": [
    "data_new=data[(z<3).all(axis=1)]\n",
    "data_new"
   ]
  },
  {
   "cell_type": "code",
   "execution_count": 92,
   "metadata": {},
   "outputs": [
    {
     "data": {
      "text/plain": [
       "(1387, 31)"
      ]
     },
     "execution_count": 92,
     "metadata": {},
     "output_type": "execute_result"
    }
   ],
   "source": [
    "data_new.shape"
   ]
  },
  {
   "cell_type": "code",
   "execution_count": 93,
   "metadata": {},
   "outputs": [
    {
     "name": "stdout",
     "output_type": "stream",
     "text": [
      "5.646258503401361\n"
     ]
    }
   ],
   "source": [
    "percentage_loss=((1470-1387)/1470)*100\n",
    "print(percentage_loss)"
   ]
  },
  {
   "cell_type": "code",
   "execution_count": 98,
   "metadata": {},
   "outputs": [
    {
     "data": {
      "text/plain": [
       "Index(['Age', 'DailyRate', 'Department', 'DistanceFromHome', 'Education',\n",
       "       'EducationField', 'EmployeeNumber', 'EnvironmentSatisfaction', 'Gender',\n",
       "       'HourlyRate', 'JobInvolvement', 'JobLevel', 'JobRole',\n",
       "       'JobSatisfaction', 'MaritalStatus', 'MonthlyIncome', 'MonthlyRate',\n",
       "       'NumCompaniesWorked', 'OverTime', 'PercentSalaryHike',\n",
       "       'RelationshipSatisfaction', 'StockOptionLevel', 'TotalWorkingYears',\n",
       "       'TrainingTimesLastYear', 'WorkLifeBalance', 'YearsAtCompany',\n",
       "       'YearsInCurrentRole', 'YearsSinceLastPromotion',\n",
       "       'YearsWithCurrManager'],\n",
       "      dtype='object')"
      ]
     },
     "execution_count": 98,
     "metadata": {},
     "output_type": "execute_result"
    }
   ],
   "source": [
    "data_1.columns"
   ]
  },
  {
   "cell_type": "code",
   "execution_count": 99,
   "metadata": {},
   "outputs": [
    {
     "data": {
      "text/plain": [
       "Index(['Age', 'Attrition', 'DailyRate', 'Department', 'DistanceFromHome',\n",
       "       'Education', 'EducationField', 'EmployeeNumber',\n",
       "       'EnvironmentSatisfaction', 'Gender', 'HourlyRate', 'JobInvolvement',\n",
       "       'JobLevel', 'JobRole', 'JobSatisfaction', 'MaritalStatus',\n",
       "       'MonthlyIncome', 'MonthlyRate', 'NumCompaniesWorked', 'OverTime',\n",
       "       'PercentSalaryHike', 'PerformanceRating', 'RelationshipSatisfaction',\n",
       "       'StockOptionLevel', 'TotalWorkingYears', 'TrainingTimesLastYear',\n",
       "       'WorkLifeBalance', 'YearsAtCompany', 'YearsInCurrentRole',\n",
       "       'YearsSinceLastPromotion', 'YearsWithCurrManager'],\n",
       "      dtype='object')"
      ]
     },
     "execution_count": 99,
     "metadata": {},
     "output_type": "execute_result"
    }
   ],
   "source": [
    "data_new.columns"
   ]
  },
  {
   "cell_type": "code",
   "execution_count": 101,
   "metadata": {},
   "outputs": [],
   "source": [
    "feature=data_new.drop(\"Attrition\",axis=1)\n",
    "target=data_new[\"Attrition\"]"
   ]
  },
  {
   "cell_type": "code",
   "execution_count": 102,
   "metadata": {},
   "outputs": [
    {
     "data": {
      "text/plain": [
       "array([[0.54761905, 0.71633238, 1.        , ..., 0.26666667, 0.        ,\n",
       "        0.35714286],\n",
       "       [0.73809524, 0.12679083, 0.5       , ..., 0.46666667, 0.09090909,\n",
       "        0.5       ],\n",
       "       [0.45238095, 0.91045845, 0.5       , ..., 0.        , 0.        ,\n",
       "        0.        ],\n",
       "       ...,\n",
       "       [0.21428571, 0.03796562, 0.5       , ..., 0.13333333, 0.        ,\n",
       "        0.21428571],\n",
       "       [0.73809524, 0.65974212, 1.        , ..., 0.4       , 0.        ,\n",
       "        0.57142857],\n",
       "       [0.38095238, 0.37679083, 0.5       , ..., 0.2       , 0.09090909,\n",
       "        0.14285714]])"
      ]
     },
     "execution_count": 102,
     "metadata": {},
     "output_type": "execute_result"
    }
   ],
   "source": [
    "from sklearn.preprocessing import MinMaxScaler\n",
    "mms=MinMaxScaler()\n",
    "x = mms.fit_transform(feature)\n",
    "x"
   ]
  },
  {
   "cell_type": "code",
   "execution_count": 104,
   "metadata": {},
   "outputs": [
    {
     "data": {
      "text/plain": [
       "0       1\n",
       "1       0\n",
       "2       1\n",
       "3       0\n",
       "4       0\n",
       "       ..\n",
       "1465    0\n",
       "1466    0\n",
       "1467    0\n",
       "1468    0\n",
       "1469    0\n",
       "Name: Attrition, Length: 1387, dtype: int32"
      ]
     },
     "execution_count": 104,
     "metadata": {},
     "output_type": "execute_result"
    }
   ],
   "source": [
    "y=target\n",
    "y"
   ]
  },
  {
   "cell_type": "code",
   "execution_count": null,
   "metadata": {},
   "outputs": [],
   "source": []
  },
  {
   "cell_type": "code",
   "execution_count": 105,
   "metadata": {},
   "outputs": [
    {
     "name": "stdout",
     "output_type": "stream",
     "text": [
      "At random state 50 The model performs very well\n",
      "At random state:- 50\n",
      "Training r2_score is:- 87.37601442741209\n",
      "Testing r2_score is:- 87.41007194244604\n",
      "At random state 70 The model performs very well\n",
      "At random state:- 70\n",
      "Training r2_score is:- 87.37601442741209\n",
      "Testing r2_score is:- 87.41007194244604\n",
      "At random state 85 The model performs very well\n",
      "At random state:- 85\n",
      "Training r2_score is:- 87.37601442741209\n",
      "Testing r2_score is:- 87.41007194244604\n",
      "At random state 224 The model performs very well\n",
      "At random state:- 224\n",
      "Training r2_score is:- 87.10550045085664\n",
      "Testing r2_score is:- 87.05035971223022\n",
      "At random state 479 The model performs very well\n",
      "At random state:- 479\n",
      "Training r2_score is:- 87.37601442741209\n",
      "Testing r2_score is:- 87.41007194244604\n",
      "At random state 501 The model performs very well\n",
      "At random state:- 501\n",
      "Training r2_score is:- 87.8268710550045\n",
      "Testing r2_score is:- 87.76978417266187\n",
      "At random state 514 The model performs very well\n",
      "At random state:- 514\n",
      "Training r2_score is:- 87.10550045085664\n",
      "Testing r2_score is:- 87.05035971223022\n",
      "At random state 625 The model performs very well\n",
      "At random state:- 625\n",
      "Training r2_score is:- 87.37601442741209\n",
      "Testing r2_score is:- 87.41007194244604\n",
      "At random state 743 The model performs very well\n",
      "At random state:- 743\n",
      "Training r2_score is:- 87.37601442741209\n",
      "Testing r2_score is:- 87.41007194244604\n",
      "At random state 859 The model performs very well\n",
      "At random state:- 859\n",
      "Training r2_score is:- 87.37601442741209\n",
      "Testing r2_score is:- 87.41007194244604\n",
      "At random state 881 The model performs very well\n",
      "At random state:- 881\n",
      "Training r2_score is:- 87.10550045085664\n",
      "Testing r2_score is:- 87.05035971223022\n",
      "At random state 894 The model performs very well\n",
      "At random state:- 894\n",
      "Training r2_score is:- 87.37601442741209\n",
      "Testing r2_score is:- 87.41007194244604\n",
      "At random state 945 The model performs very well\n",
      "At random state:- 945\n",
      "Training r2_score is:- 87.37601442741209\n",
      "Testing r2_score is:- 87.41007194244604\n",
      "At random state 988 The model performs very well\n",
      "At random state:- 988\n",
      "Training r2_score is:- 87.10550045085664\n",
      "Testing r2_score is:- 87.05035971223022\n"
     ]
    }
   ],
   "source": [
    "# Logistic Regression\n",
    "\n",
    "lr=LogisticRegression()\n",
    "for i in range(1,1000):\n",
    "    x_train,x_test,y_train,y_test=train_test_split(x,y,random_state=i,test_size=0.20)\n",
    "    \n",
    "    lr.fit(x_train,y_train)\n",
    "    #mnb.score(x_train,y_train)\n",
    "    pred_train=lr.predict(x_train)\n",
    "    pred_test=lr.predict(x_test)\n",
    "    \n",
    "    if round(accuracy_score(y_train,pred_train)*100,1)==round(accuracy_score(y_test,pred_test)*100,1):\n",
    "        print(\"At random state\",i,\"The model performs very well\")\n",
    "        print(\"At random state:-\",i)\n",
    "        print(\"Training r2_score is:-\",accuracy_score(y_train,pred_train)*100)\n",
    "        print(\"Testing r2_score is:-\",accuracy_score(y_test,pred_test)*100)"
   ]
  },
  {
   "cell_type": "code",
   "execution_count": 106,
   "metadata": {},
   "outputs": [],
   "source": [
    "x_train,x_test,y_train,y_test=train_test_split(x,y,random_state=72,test_size=0.20)"
   ]
  },
  {
   "cell_type": "code",
   "execution_count": 107,
   "metadata": {},
   "outputs": [
    {
     "name": "stdout",
     "output_type": "stream",
     "text": [
      "At cv:- 2\n",
      "Cross validation score is:- 86.6612814019154\n",
      "accuracy_score is :- 88.12949640287769\n",
      "At cv:- 3\n",
      "Cross validation score is:- 86.80541920282741\n",
      "accuracy_score is :- 88.12949640287769\n",
      "At cv:- 4\n",
      "Cross validation score is:- 86.44554480185238\n",
      "accuracy_score is :- 88.12949640287769\n",
      "At cv:- 5\n",
      "Cross validation score is:- 87.02179050983041\n",
      "accuracy_score is :- 88.12949640287769\n",
      "At cv:- 6\n",
      "Cross validation score is:- 86.87677265263471\n",
      "accuracy_score is :- 88.12949640287769\n",
      "At cv:- 7\n",
      "Cross validation score is:- 86.94808820436961\n",
      "accuracy_score is :- 88.12949640287769\n",
      "At cv:- 8\n",
      "Cross validation score is:- 86.73177861936084\n",
      "accuracy_score is :- 88.12949640287769\n",
      "At cv:- 9\n",
      "Cross validation score is:- 86.80351906158357\n",
      "accuracy_score is :- 88.12949640287769\n"
     ]
    }
   ],
   "source": [
    "# Cross validation for logistic regression\n",
    "\n",
    "from sklearn.model_selection import cross_val_score\n",
    "pred_lr = lr.predict(x_test)\n",
    "\n",
    "lrcs= accuracy_score(y_test,pred_lr)\n",
    "for j in range(2,10):\n",
    "    lrscore = cross_val_score(lr,x,y,cv=j)\n",
    "    lrc = lrscore.mean() \n",
    "    print(\"At cv:-\",j)\n",
    "    print(\"Cross validation score is:-\",lrc*100 )\n",
    "    print(\"accuracy_score is :-\",lrcs*100)"
   ]
  },
  {
   "cell_type": "code",
   "execution_count": 108,
   "metadata": {},
   "outputs": [
    {
     "name": "stdout",
     "output_type": "stream",
     "text": [
      "At random state 31 The model performs very well\n",
      "At random state:- 31\n",
      "Training score is:- 83.49864743011722\n",
      "Testing score is:- 83.45323741007195\n",
      "At random state 71 The model performs very well\n",
      "At random state:- 71\n",
      "Training score is:- 83.49864743011722\n",
      "Testing score is:- 83.45323741007195\n",
      "At random state 82 The model performs very well\n",
      "At random state:- 82\n",
      "Training score is:- 83.49864743011722\n",
      "Testing score is:- 83.45323741007195\n",
      "At random state 90 The model performs very well\n",
      "At random state:- 90\n",
      "Training score is:- 83.49864743011722\n",
      "Testing score is:- 83.45323741007195\n",
      "At random state 127 The model performs very well\n",
      "At random state:- 127\n",
      "Training score is:- 83.49864743011722\n",
      "Testing score is:- 83.45323741007195\n",
      "At random state 187 The model performs very well\n",
      "At random state:- 187\n",
      "Training score is:- 83.49864743011722\n",
      "Testing score is:- 83.45323741007195\n",
      "At random state 188 The model performs very well\n",
      "At random state:- 188\n",
      "Training score is:- 83.49864743011722\n",
      "Testing score is:- 83.45323741007195\n",
      "At random state 200 The model performs very well\n",
      "At random state:- 200\n",
      "Training score is:- 83.49864743011722\n",
      "Testing score is:- 83.45323741007195\n",
      "At random state 212 The model performs very well\n",
      "At random state:- 212\n",
      "Training score is:- 83.49864743011722\n",
      "Testing score is:- 83.45323741007195\n",
      "At random state 218 The model performs very well\n",
      "At random state:- 218\n",
      "Training score is:- 83.49864743011722\n",
      "Testing score is:- 83.45323741007195\n",
      "At random state 223 The model performs very well\n",
      "At random state:- 223\n",
      "Training score is:- 83.49864743011722\n",
      "Testing score is:- 83.45323741007195\n",
      "At random state 230 The model performs very well\n",
      "At random state:- 230\n",
      "Training score is:- 83.49864743011722\n",
      "Testing score is:- 83.45323741007195\n",
      "At random state 258 The model performs very well\n",
      "At random state:- 258\n",
      "Training score is:- 83.49864743011722\n",
      "Testing score is:- 83.45323741007195\n",
      "At random state 266 The model performs very well\n",
      "At random state:- 266\n",
      "Training score is:- 83.49864743011722\n",
      "Testing score is:- 83.45323741007195\n",
      "At random state 277 The model performs very well\n",
      "At random state:- 277\n",
      "Training score is:- 83.49864743011722\n",
      "Testing score is:- 83.45323741007195\n",
      "At random state 303 The model performs very well\n",
      "At random state:- 303\n",
      "Training score is:- 83.49864743011722\n",
      "Testing score is:- 83.45323741007195\n",
      "At random state 328 The model performs very well\n",
      "At random state:- 328\n",
      "Training score is:- 83.49864743011722\n",
      "Testing score is:- 83.45323741007195\n",
      "At random state 343 The model performs very well\n",
      "At random state:- 343\n",
      "Training score is:- 83.49864743011722\n",
      "Testing score is:- 83.45323741007195\n",
      "At random state 361 The model performs very well\n",
      "At random state:- 361\n",
      "Training score is:- 83.49864743011722\n",
      "Testing score is:- 83.45323741007195\n",
      "At random state 381 The model performs very well\n",
      "At random state:- 381\n",
      "Training score is:- 83.49864743011722\n",
      "Testing score is:- 83.45323741007195\n",
      "At random state 385 The model performs very well\n",
      "At random state:- 385\n",
      "Training score is:- 83.49864743011722\n",
      "Testing score is:- 83.45323741007195\n",
      "At random state 403 The model performs very well\n",
      "At random state:- 403\n",
      "Training score is:- 83.76916140667268\n",
      "Testing score is:- 83.81294964028777\n",
      "At random state 409 The model performs very well\n",
      "At random state:- 409\n",
      "Training score is:- 83.49864743011722\n",
      "Testing score is:- 83.45323741007195\n",
      "At random state 417 The model performs very well\n",
      "At random state:- 417\n",
      "Training score is:- 83.76916140667268\n",
      "Testing score is:- 83.81294964028777\n",
      "At random state 422 The model performs very well\n",
      "At random state:- 422\n",
      "Training score is:- 83.49864743011722\n",
      "Testing score is:- 83.45323741007195\n",
      "At random state 446 The model performs very well\n",
      "At random state:- 446\n",
      "Training score is:- 83.49864743011722\n",
      "Testing score is:- 83.45323741007195\n",
      "At random state 488 The model performs very well\n",
      "At random state:- 488\n",
      "Training score is:- 83.49864743011722\n",
      "Testing score is:- 83.45323741007195\n",
      "At random state 501 The model performs very well\n",
      "At random state:- 501\n",
      "Training score is:- 83.49864743011722\n",
      "Testing score is:- 83.45323741007195\n",
      "At random state 509 The model performs very well\n",
      "At random state:- 509\n",
      "Training score is:- 83.49864743011722\n",
      "Testing score is:- 83.45323741007195\n",
      "At random state 525 The model performs very well\n",
      "At random state:- 525\n",
      "Training score is:- 83.49864743011722\n",
      "Testing score is:- 83.45323741007195\n",
      "At random state 574 The model performs very well\n",
      "At random state:- 574\n",
      "Training score is:- 83.49864743011722\n",
      "Testing score is:- 83.45323741007195\n",
      "At random state 576 The model performs very well\n",
      "At random state:- 576\n",
      "Training score is:- 83.49864743011722\n",
      "Testing score is:- 83.45323741007195\n",
      "At random state 596 The model performs very well\n",
      "At random state:- 596\n",
      "Training score is:- 83.49864743011722\n",
      "Testing score is:- 83.45323741007195\n",
      "At random state 617 The model performs very well\n",
      "At random state:- 617\n",
      "Training score is:- 83.49864743011722\n",
      "Testing score is:- 83.45323741007195\n",
      "At random state 644 The model performs very well\n",
      "At random state:- 644\n",
      "Training score is:- 83.49864743011722\n",
      "Testing score is:- 83.45323741007195\n",
      "At random state 646 The model performs very well\n",
      "At random state:- 646\n",
      "Training score is:- 83.49864743011722\n",
      "Testing score is:- 83.45323741007195\n",
      "At random state 651 The model performs very well\n",
      "At random state:- 651\n",
      "Training score is:- 83.76916140667268\n",
      "Testing score is:- 83.81294964028777\n",
      "At random state 690 The model performs very well\n",
      "At random state:- 690\n",
      "Training score is:- 83.49864743011722\n",
      "Testing score is:- 83.45323741007195\n",
      "At random state 723 The model performs very well\n",
      "At random state:- 723\n",
      "Training score is:- 83.49864743011722\n",
      "Testing score is:- 83.45323741007195\n",
      "At random state 758 The model performs very well\n",
      "At random state:- 758\n",
      "Training score is:- 83.49864743011722\n",
      "Testing score is:- 83.45323741007195\n",
      "At random state 782 The model performs very well\n",
      "At random state:- 782\n",
      "Training score is:- 83.49864743011722\n",
      "Testing score is:- 83.45323741007195\n",
      "At random state 813 The model performs very well\n",
      "At random state:- 813\n",
      "Training score is:- 83.49864743011722\n",
      "Testing score is:- 83.45323741007195\n",
      "At random state 824 The model performs very well\n",
      "At random state:- 824\n",
      "Training score is:- 83.49864743011722\n",
      "Testing score is:- 83.45323741007195\n",
      "At random state 836 The model performs very well\n",
      "At random state:- 836\n",
      "Training score is:- 83.49864743011722\n",
      "Testing score is:- 83.45323741007195\n",
      "At random state 841 The model performs very well\n",
      "At random state:- 841\n",
      "Training score is:- 83.49864743011722\n",
      "Testing score is:- 83.45323741007195\n",
      "At random state 856 The model performs very well\n",
      "At random state:- 856\n",
      "Training score is:- 83.49864743011722\n",
      "Testing score is:- 83.45323741007195\n",
      "At random state 859 The model performs very well\n",
      "At random state:- 859\n",
      "Training score is:- 83.49864743011722\n",
      "Testing score is:- 83.45323741007195\n",
      "At random state 880 The model performs very well\n",
      "At random state:- 880\n",
      "Training score is:- 83.49864743011722\n",
      "Testing score is:- 83.45323741007195\n",
      "At random state 884 The model performs very well\n",
      "At random state:- 884\n",
      "Training score is:- 83.49864743011722\n",
      "Testing score is:- 83.45323741007195\n",
      "At random state 902 The model performs very well\n",
      "At random state:- 902\n",
      "Training score is:- 83.49864743011722\n",
      "Testing score is:- 83.45323741007195\n",
      "At random state 910 The model performs very well\n",
      "At random state:- 910\n",
      "Training score is:- 83.49864743011722\n",
      "Testing score is:- 83.45323741007195\n",
      "At random state 988 The model performs very well\n",
      "At random state:- 988\n",
      "Training score is:- 83.49864743011722\n",
      "Testing score is:- 83.45323741007195\n"
     ]
    }
   ],
   "source": [
    "mnb=MultinomialNB()\n",
    "for i in range(1,1000):\n",
    "    x_train,x_test,y_train,y_test=train_test_split(x,y,random_state=i,test_size=0.20)\n",
    "    \n",
    "    mnb.fit(x_train,y_train)\n",
    "    #mnb.score(x_train,y_train)\n",
    "    pred_train=mnb.predict(x_train)\n",
    "    pred_test=mnb.predict(x_test)\n",
    "    \n",
    "    if round(accuracy_score(y_train,pred_train)*100,1)==round(accuracy_score(y_test,pred_test)*100,1):\n",
    "        print(\"At random state\",i,\"The model performs very well\")\n",
    "        print(\"At random state:-\",i)\n",
    "        print(\"Training score is:-\",accuracy_score(y_train,pred_train)*100)\n",
    "        print(\"Testing score is:-\",accuracy_score(y_test,pred_test)*100)"
   ]
  },
  {
   "cell_type": "code",
   "execution_count": 109,
   "metadata": {},
   "outputs": [
    {
     "name": "stdout",
     "output_type": "stream",
     "text": [
      "At cv:- 2\n",
      "Cross validation score is:- 83.8503395419822\n",
      "accuracy_score is :- 83.09352517985612\n",
      "\n",
      "\n",
      "At cv:- 3\n",
      "Cross validation score is:- 83.48963251771026\n",
      "accuracy_score is :- 83.09352517985612\n",
      "\n",
      "\n",
      "At cv:- 4\n",
      "Cross validation score is:- 83.48957205443854\n",
      "accuracy_score is :- 83.09352517985612\n",
      "\n",
      "\n",
      "At cv:- 5\n",
      "Cross validation score is:- 83.48959821312626\n",
      "accuracy_score is :- 83.09352517985612\n",
      "\n",
      "\n",
      "At cv:- 6\n",
      "Cross validation score is:- 83.48976215355526\n",
      "accuracy_score is :- 83.09352517985612\n",
      "\n",
      "\n",
      "At cv:- 7\n",
      "Cross validation score is:- 83.48959806246238\n",
      "accuracy_score is :- 83.09352517985612\n",
      "\n",
      "\n",
      "At cv:- 8\n",
      "Cross validation score is:- 83.48988439306359\n",
      "accuracy_score is :- 83.09352517985612\n",
      "\n",
      "\n",
      "At cv:- 9\n",
      "Cross validation score is:- 83.48973607038124\n",
      "accuracy_score is :- 83.09352517985612\n",
      "\n",
      "\n"
     ]
    }
   ],
   "source": [
    "from sklearn.model_selection import cross_val_score\n",
    "pred_mnb = mnb.predict(x_test)\n",
    "\n",
    "mnbcs= accuracy_score(y_test,pred_mnb)\n",
    "for j in range(2,10):\n",
    "    mnbscore = cross_val_score(mnb,x,y,cv=j)\n",
    "    mnbc = mnbscore.mean() \n",
    "    print(\"At cv:-\",j)\n",
    "    print(\"Cross validation score is:-\",mnbc*100 )\n",
    "    print(\"accuracy_score is :-\",mnbcs*100)\n",
    "    print(\"\\n\")"
   ]
  },
  {
   "cell_type": "code",
   "execution_count": 111,
   "metadata": {},
   "outputs": [],
   "source": [
    "dtc=DecisionTreeClassifier()\n",
    "for i in range(1,4000):\n",
    "    x_train,x_test,y_train,y_test=train_test_split(x,y,random_state=i,test_size=0.20)\n",
    "    \n",
    "    dtc.fit(x_train,y_train)\n",
    "    #mnb.score(x_train,y_train)\n",
    "    pred_train=dtc.predict(x_train)\n",
    "    pred_test=dtc.predict(x_test)\n",
    "    \n",
    "    if round(accuracy_score(y_train,pred_train)*100,1)==round(accuracy_score(y_test,pred_test)*100,1):\n",
    "        print(\"At random state\",i,\"The model performs very well\")\n",
    "        print(\"At random state:-\",i)\n",
    "        print(\"Training score is:-\",accuracy_score(y_train,pred_train)*100)\n",
    "        print(\"Testing score is:-\",accuracy_score(y_test,pred_test)*100)"
   ]
  },
  {
   "cell_type": "code",
   "execution_count": 112,
   "metadata": {},
   "outputs": [],
   "source": [
    "x_train,x_test,y_train,y_test=train_test_split(x,y,random_state=51,test_size=0.20)"
   ]
  },
  {
   "cell_type": "code",
   "execution_count": 113,
   "metadata": {},
   "outputs": [
    {
     "name": "stdout",
     "output_type": "stream",
     "text": [
      "0.7733812949640287\n",
      "1.0\n",
      "[[200  37]\n",
      " [ 26  15]]\n",
      "              precision    recall  f1-score   support\n",
      "\n",
      "           0       0.88      0.84      0.86       237\n",
      "           1       0.29      0.37      0.32        41\n",
      "\n",
      "    accuracy                           0.77       278\n",
      "   macro avg       0.59      0.60      0.59       278\n",
      "weighted avg       0.80      0.77      0.78       278\n",
      "\n"
     ]
    }
   ],
   "source": [
    "dtc=DecisionTreeClassifier() \n",
    "dtc.fit(x_train,y_train)\n",
    "\n",
    "dtc.score(x_train,y_train)\n",
    "pred_test=dtc.predict(x_test)\n",
    "pred_train=dtc.predict(x_train)\n",
    "print(accuracy_score(y_test,pred_test))\n",
    "print(accuracy_score(y_train,pred_train))\n",
    "print(confusion_matrix(y_test,pred_test))\n",
    "print(classification_report(y_test,pred_test))"
   ]
  },
  {
   "cell_type": "code",
   "execution_count": 114,
   "metadata": {},
   "outputs": [
    {
     "name": "stdout",
     "output_type": "stream",
     "text": [
      "At cv:- 2\n",
      "Cross validation score is:- 53.87510344282679\n",
      "accuracy_score is :- 77.33812949640287\n",
      "\n",
      "\n",
      "At cv:- 3\n",
      "Cross validation score is:- 78.01043448991614\n",
      "accuracy_score is :- 77.33812949640287\n",
      "\n",
      "\n",
      "At cv:- 4\n",
      "Cross validation score is:- 79.01958987856274\n",
      "accuracy_score is :- 77.33812949640287\n",
      "\n",
      "\n",
      "At cv:- 5\n",
      "Cross validation score is:- 77.6490143625172\n",
      "accuracy_score is :- 77.33812949640287\n",
      "\n",
      "\n",
      "At cv:- 6\n",
      "Cross validation score is:- 78.52135890928994\n",
      "accuracy_score is :- 77.33812949640287\n",
      "\n",
      "\n",
      "At cv:- 7\n",
      "Cross validation score is:- 77.43588070221236\n",
      "accuracy_score is :- 77.33812949640287\n",
      "\n",
      "\n",
      "At cv:- 8\n",
      "Cross validation score is:- 77.43048634642216\n",
      "accuracy_score is :- 77.33812949640287\n",
      "\n",
      "\n",
      "At cv:- 9\n",
      "Cross validation score is:- 76.57031140902109\n",
      "accuracy_score is :- 77.33812949640287\n",
      "\n",
      "\n"
     ]
    }
   ],
   "source": [
    "from sklearn.model_selection import cross_val_score\n",
    "dtc=DecisionTreeClassifier() \n",
    "#pred_dtc = dtc.predict(x_test)\n",
    "dtccs= accuracy_score(y_test,pred_test)\n",
    "for j in range(2,10):\n",
    "    dtcscore = cross_val_score(dtc,x,y,cv=j)\n",
    "    dtcc = dtcscore.mean() \n",
    "    print(\"At cv:-\",j)\n",
    "    print(\"Cross validation score is:-\",dtcc*100 )\n",
    "    print(\"accuracy_score is :-\",dtccs*100)\n",
    "    print(\"\\n\")"
   ]
  },
  {
   "cell_type": "code",
   "execution_count": 115,
   "metadata": {},
   "outputs": [
    {
     "name": "stdout",
     "output_type": "stream",
     "text": [
      "Fitting 4 folds for each of 648 candidates, totalling 2592 fits\n"
     ]
    },
    {
     "name": "stderr",
     "output_type": "stream",
     "text": [
      "[Parallel(n_jobs=-1)]: Using backend LokyBackend with 8 concurrent workers.\n",
      "[Parallel(n_jobs=-1)]: Done  34 tasks      | elapsed:    2.6s\n"
     ]
    },
    {
     "name": "stdout",
     "output_type": "stream",
     "text": [
      "DecisionTreeClassifier(criterion='entropy', max_depth=2)\n",
      "Best parameters are:  {'criterion': 'entropy', 'max_depth': 2, 'min_samples_leaf': 1, 'min_samples_split': 2}\n",
      "Accuracy score:  0.8376782328649716\n"
     ]
    },
    {
     "name": "stderr",
     "output_type": "stream",
     "text": [
      "[Parallel(n_jobs=-1)]: Done 2592 out of 2592 | elapsed:    5.8s finished\n"
     ]
    }
   ],
   "source": [
    "from sklearn.model_selection import GridSearchCV\n",
    "dtc=DecisionTreeClassifier() \n",
    "params ={\"criterion\":['gini','entropy'],\"max_depth\":range(1,10), \"min_samples_split\":range(1,10),\"min_samples_leaf\":range(1,5)}\n",
    "                \n",
    "grid = GridSearchCV(dtc, param_grid = params, cv=4,verbose=1,n_jobs=-1)\n",
    "grid.fit(x_train, y_train)\n",
    "print(grid.best_estimator_)\n",
    "\n",
    "print(\"Best parameters are: \",grid.best_params_)\n",
    "\n",
    "print(\"Accuracy score: \",grid.best_score_)"
   ]
  },
  {
   "cell_type": "code",
   "execution_count": 116,
   "metadata": {},
   "outputs": [
    {
     "name": "stdout",
     "output_type": "stream",
     "text": [
      "At random state 485 The model performs very well\n",
      "At random state:- 485\n",
      "Training score is:- 86.6546438232642\n",
      "Testing score is:- 86.6906474820144\n",
      "At random state 532 The model performs very well\n",
      "At random state:- 532\n",
      "Training score is:- 87.10550045085664\n",
      "Testing score is:- 87.05035971223022\n",
      "At random state 584 The model performs very well\n",
      "At random state:- 584\n",
      "Training score is:- 86.6546438232642\n",
      "Testing score is:- 86.6906474820144\n",
      "At random state 868 The model performs very well\n",
      "At random state:- 868\n",
      "Training score is:- 86.74481514878268\n",
      "Testing score is:- 86.6906474820144\n"
     ]
    }
   ],
   "source": [
    "knn=KNeighborsClassifier(n_neighbors=5)\n",
    "for i in range(1,1000):\n",
    "    x_train,x_test,y_train,y_test=train_test_split(x,y,random_state=i,test_size=0.20)\n",
    "    \n",
    "    knn.fit(x_train,y_train)\n",
    "    #mnb.score(x_train,y_train)\n",
    "    pred_train=knn.predict(x_train)\n",
    "    pred_test=knn.predict(x_test)\n",
    "    \n",
    "    if round(accuracy_score(y_train,pred_train)*100,1)==round(accuracy_score(y_test,pred_test)*100,1):\n",
    "        print(\"At random state\",i,\"The model performs very well\")\n",
    "        print(\"At random state:-\",i)\n",
    "        print(\"Training score is:-\",accuracy_score(y_train,pred_train)*100)\n",
    "        print(\"Testing score is:-\",accuracy_score(y_test,pred_test)*100)"
   ]
  },
  {
   "cell_type": "code",
   "execution_count": 117,
   "metadata": {},
   "outputs": [],
   "source": [
    "x_train,x_test,y_train,y_test=train_test_split(x,y,random_state=221,test_size=0.20)"
   ]
  },
  {
   "cell_type": "code",
   "execution_count": 118,
   "metadata": {},
   "outputs": [
    {
     "name": "stdout",
     "output_type": "stream",
     "text": [
      "0.8776978417266187\n",
      "[[238   4]\n",
      " [ 30   6]]\n",
      "              precision    recall  f1-score   support\n",
      "\n",
      "           0       0.89      0.98      0.93       242\n",
      "           1       0.60      0.17      0.26        36\n",
      "\n",
      "    accuracy                           0.88       278\n",
      "   macro avg       0.74      0.58      0.60       278\n",
      "weighted avg       0.85      0.88      0.85       278\n",
      "\n"
     ]
    }
   ],
   "source": [
    "knn=KNeighborsClassifier(n_neighbors=5)\n",
    "knn.fit(x_train,y_train)\n",
    "knn.score(x_train,y_train)\n",
    "pred_test=knn.predict(x_test)\n",
    "print(accuracy_score(y_test,pred_test))\n",
    "print(confusion_matrix(y_test,pred_test))\n",
    "print(classification_report(y_test,pred_test))"
   ]
  },
  {
   "cell_type": "code",
   "execution_count": 119,
   "metadata": {},
   "outputs": [
    {
     "name": "stdout",
     "output_type": "stream",
     "text": [
      "At cv:- 2\n",
      "Cross validation score is:- 83.1293586336814\n",
      "accuracy_score is :- 87.76978417266187\n",
      "\n",
      "\n",
      "At cv:- 3\n",
      "Cross validation score is:- 83.99499468613939\n",
      "accuracy_score is :- 87.76978417266187\n",
      "\n",
      "\n",
      "At cv:- 4\n",
      "Cross validation score is:- 84.06698205926936\n",
      "accuracy_score is :- 87.76978417266187\n",
      "\n",
      "\n",
      "At cv:- 5\n",
      "Cross validation score is:- 83.99553281562476\n",
      "accuracy_score is :- 87.76978417266187\n",
      "\n",
      "\n",
      "At cv:- 6\n",
      "Cross validation score is:- 83.8495795392347\n",
      "accuracy_score is :- 87.76978417266187\n",
      "\n",
      "\n",
      "At cv:- 7\n",
      "Cross validation score is:- 83.70677340526588\n",
      "accuracy_score is :- 87.76978417266187\n",
      "\n",
      "\n",
      "At cv:- 8\n",
      "Cross validation score is:- 83.8524018337652\n",
      "accuracy_score is :- 87.76978417266187\n",
      "\n",
      "\n",
      "At cv:- 9\n",
      "Cross validation score is:- 83.77926732765442\n",
      "accuracy_score is :- 87.76978417266187\n",
      "\n",
      "\n"
     ]
    }
   ],
   "source": [
    "knn=KNeighborsClassifier(n_neighbors=5) \n",
    "knn.fit(x_train,y_train)\n",
    "pred_knn = knn.predict(x_test)\n",
    "knncs= accuracy_score(y_test,pred_knn)\n",
    "for j in range(2,10):\n",
    "    knnscore = cross_val_score(knn,x,y,cv=j)\n",
    "    knnc = knnscore.mean() \n",
    "    print(\"At cv:-\",j)\n",
    "    print(\"Cross validation score is:-\",knnc*100 )\n",
    "    print(\"accuracy_score is :-\",knncs*100)\n",
    "    print(\"\\n\")"
   ]
  },
  {
   "cell_type": "code",
   "execution_count": 122,
   "metadata": {},
   "outputs": [
    {
     "name": "stdout",
     "output_type": "stream",
     "text": [
      "dtc f1 score 0.8462516942967366\n",
      "knn f1 score 0.8462516942967366\n",
      "mnb f1 score 0.8102379634753736\n"
     ]
    }
   ],
   "source": [
    "y_true = y_test\n",
    "#y_pred = pred_knn\n",
    "dtc_f1=f1_score(y_true, pred_test, average='weighted')\n",
    "knn_f1=f1_score(y_true, pred_knn, average='weighted')\n",
    "\n",
    "mnb_f1=f1_score(y_true, pred_mnb, average='weighted')\n",
    "\n",
    "print(\"dtc f1 score\",dtc_f1)\n",
    "print(\"knn f1 score\",knn_f1)\n",
    "\n",
    "print(\"mnb f1 score\",mnb_f1)"
   ]
  },
  {
   "cell_type": "code",
   "execution_count": null,
   "metadata": {},
   "outputs": [],
   "source": []
  },
  {
   "cell_type": "code",
   "execution_count": null,
   "metadata": {},
   "outputs": [],
   "source": []
  },
  {
   "cell_type": "code",
   "execution_count": null,
   "metadata": {},
   "outputs": [],
   "source": []
  },
  {
   "cell_type": "code",
   "execution_count": null,
   "metadata": {},
   "outputs": [],
   "source": []
  },
  {
   "cell_type": "code",
   "execution_count": null,
   "metadata": {},
   "outputs": [],
   "source": []
  },
  {
   "cell_type": "code",
   "execution_count": null,
   "metadata": {},
   "outputs": [],
   "source": []
  },
  {
   "cell_type": "code",
   "execution_count": null,
   "metadata": {},
   "outputs": [],
   "source": []
  },
  {
   "cell_type": "code",
   "execution_count": null,
   "metadata": {},
   "outputs": [],
   "source": []
  },
  {
   "cell_type": "code",
   "execution_count": null,
   "metadata": {},
   "outputs": [],
   "source": []
  },
  {
   "cell_type": "code",
   "execution_count": null,
   "metadata": {},
   "outputs": [],
   "source": []
  },
  {
   "cell_type": "code",
   "execution_count": null,
   "metadata": {},
   "outputs": [],
   "source": []
  },
  {
   "cell_type": "code",
   "execution_count": null,
   "metadata": {},
   "outputs": [],
   "source": []
  },
  {
   "cell_type": "code",
   "execution_count": null,
   "metadata": {},
   "outputs": [],
   "source": []
  },
  {
   "cell_type": "code",
   "execution_count": null,
   "metadata": {},
   "outputs": [],
   "source": []
  },
  {
   "cell_type": "code",
   "execution_count": null,
   "metadata": {},
   "outputs": [],
   "source": []
  },
  {
   "cell_type": "code",
   "execution_count": null,
   "metadata": {},
   "outputs": [],
   "source": []
  },
  {
   "cell_type": "code",
   "execution_count": null,
   "metadata": {},
   "outputs": [],
   "source": []
  },
  {
   "cell_type": "code",
   "execution_count": null,
   "metadata": {},
   "outputs": [],
   "source": []
  },
  {
   "cell_type": "code",
   "execution_count": null,
   "metadata": {},
   "outputs": [],
   "source": []
  },
  {
   "cell_type": "code",
   "execution_count": null,
   "metadata": {},
   "outputs": [],
   "source": []
  },
  {
   "cell_type": "code",
   "execution_count": null,
   "metadata": {},
   "outputs": [],
   "source": []
  },
  {
   "cell_type": "code",
   "execution_count": null,
   "metadata": {},
   "outputs": [],
   "source": []
  },
  {
   "cell_type": "code",
   "execution_count": null,
   "metadata": {},
   "outputs": [],
   "source": []
  },
  {
   "cell_type": "code",
   "execution_count": null,
   "metadata": {},
   "outputs": [],
   "source": []
  },
  {
   "cell_type": "code",
   "execution_count": null,
   "metadata": {},
   "outputs": [],
   "source": []
  },
  {
   "cell_type": "code",
   "execution_count": null,
   "metadata": {},
   "outputs": [],
   "source": []
  },
  {
   "cell_type": "code",
   "execution_count": null,
   "metadata": {},
   "outputs": [],
   "source": []
  },
  {
   "cell_type": "code",
   "execution_count": null,
   "metadata": {},
   "outputs": [],
   "source": []
  },
  {
   "cell_type": "code",
   "execution_count": null,
   "metadata": {},
   "outputs": [],
   "source": []
  },
  {
   "cell_type": "code",
   "execution_count": null,
   "metadata": {},
   "outputs": [],
   "source": []
  },
  {
   "cell_type": "code",
   "execution_count": null,
   "metadata": {},
   "outputs": [],
   "source": []
  },
  {
   "cell_type": "code",
   "execution_count": null,
   "metadata": {},
   "outputs": [],
   "source": []
  }
 ],
 "metadata": {
  "kernelspec": {
   "display_name": "Python 3",
   "language": "python",
   "name": "python3"
  },
  "language_info": {
   "codemirror_mode": {
    "name": "ipython",
    "version": 3
   },
   "file_extension": ".py",
   "mimetype": "text/x-python",
   "name": "python",
   "nbconvert_exporter": "python",
   "pygments_lexer": "ipython3",
   "version": "3.8.5"
  }
 },
 "nbformat": 4,
 "nbformat_minor": 4
}
